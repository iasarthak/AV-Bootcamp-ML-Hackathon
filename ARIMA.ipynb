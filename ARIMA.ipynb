{
 "cells": [
  {
   "cell_type": "code",
   "execution_count": 1,
   "metadata": {},
   "outputs": [],
   "source": [
    "# Importing the required libraries\n",
    "\n",
    "import pandas as pd\n",
    "import numpy as np\n",
    "import matplotlib.pyplot as plt\n",
    "import seaborn as sns\n",
    "\n",
    "from IPython.display import clear_output,display\n",
    "\n",
    "from sklearn.model_selection import cross_val_score,GridSearchCV,RandomizedSearchCV\n",
    "from sklearn.metrics import mean_squared_log_error,mean_squared_error\n",
    "from sklearn.linear_model import LinearRegression,Lasso,Ridge\n",
    "\n",
    "from sklearn.preprocessing import StandardScaler,MinMaxScaler\n",
    "\n",
    "from sklearn.tree import DecisionTreeRegressor\n",
    "from sklearn.ensemble import RandomForestRegressor,AdaBoostRegressor,BaggingRegressor\n",
    "\n",
    "from xgboost import XGBRegressor\n",
    "from catboost import CatBoostRegressor\n",
    "from lightgbm import LGBMRegressor\n",
    "\n",
    "from sklearn.neighbors import KNeighborsRegressor\n",
    "\n",
    "import warnings\n",
    "warnings.filterwarnings('ignore')"
   ]
  },
  {
   "cell_type": "code",
   "execution_count": 2,
   "metadata": {},
   "outputs": [],
   "source": [
    "# importing the train and test datasets\n",
    "\n",
    "tr=pd.read_csv(\"train.csv\")\n",
    "test=pd.read_csv(\"test.csv\")\n",
    "sample_sub=pd.read_csv(\"sample_submission.csv\")"
   ]
  },
  {
   "cell_type": "code",
   "execution_count": 3,
   "metadata": {},
   "outputs": [
    {
     "data": {
      "text/html": [
       "<div>\n",
       "<style scoped>\n",
       "    .dataframe tbody tr th:only-of-type {\n",
       "        vertical-align: middle;\n",
       "    }\n",
       "\n",
       "    .dataframe tbody tr th {\n",
       "        vertical-align: top;\n",
       "    }\n",
       "\n",
       "    .dataframe thead th {\n",
       "        text-align: right;\n",
       "    }\n",
       "</style>\n",
       "<table border=\"1\" class=\"dataframe\">\n",
       "  <thead>\n",
       "    <tr style=\"text-align: right;\">\n",
       "      <th></th>\n",
       "      <th>ID</th>\n",
       "      <th>Day_No</th>\n",
       "      <th>Sales</th>\n",
       "    </tr>\n",
       "  </thead>\n",
       "  <tbody>\n",
       "    <tr>\n",
       "      <th>0</th>\n",
       "      <td>1</td>\n",
       "      <td>1</td>\n",
       "      <td>81</td>\n",
       "    </tr>\n",
       "    <tr>\n",
       "      <th>1</th>\n",
       "      <td>2</td>\n",
       "      <td>2</td>\n",
       "      <td>79</td>\n",
       "    </tr>\n",
       "    <tr>\n",
       "      <th>2</th>\n",
       "      <td>3</td>\n",
       "      <td>3</td>\n",
       "      <td>75</td>\n",
       "    </tr>\n",
       "    <tr>\n",
       "      <th>3</th>\n",
       "      <td>4</td>\n",
       "      <td>4</td>\n",
       "      <td>80</td>\n",
       "    </tr>\n",
       "    <tr>\n",
       "      <th>4</th>\n",
       "      <td>5</td>\n",
       "      <td>5</td>\n",
       "      <td>41</td>\n",
       "    </tr>\n",
       "    <tr>\n",
       "      <th>...</th>\n",
       "      <td>...</td>\n",
       "      <td>...</td>\n",
       "      <td>...</td>\n",
       "    </tr>\n",
       "    <tr>\n",
       "      <th>512082</th>\n",
       "      <td>548023</td>\n",
       "      <td>878</td>\n",
       "      <td>114</td>\n",
       "    </tr>\n",
       "    <tr>\n",
       "      <th>512083</th>\n",
       "      <td>548024</td>\n",
       "      <td>879</td>\n",
       "      <td>145</td>\n",
       "    </tr>\n",
       "    <tr>\n",
       "      <th>512084</th>\n",
       "      <td>548025</td>\n",
       "      <td>880</td>\n",
       "      <td>167</td>\n",
       "    </tr>\n",
       "    <tr>\n",
       "      <th>512085</th>\n",
       "      <td>548026</td>\n",
       "      <td>881</td>\n",
       "      <td>107</td>\n",
       "    </tr>\n",
       "    <tr>\n",
       "      <th>512086</th>\n",
       "      <td>548027</td>\n",
       "      <td>882</td>\n",
       "      <td>152</td>\n",
       "    </tr>\n",
       "  </tbody>\n",
       "</table>\n",
       "<p>512087 rows × 3 columns</p>\n",
       "</div>"
      ],
      "text/plain": [
       "            ID  Day_No  Sales\n",
       "0            1       1     81\n",
       "1            2       2     79\n",
       "2            3       3     75\n",
       "3            4       4     80\n",
       "4            5       5     41\n",
       "...        ...     ...    ...\n",
       "512082  548023     878    114\n",
       "512083  548024     879    145\n",
       "512084  548025     880    167\n",
       "512085  548026     881    107\n",
       "512086  548027     882    152\n",
       "\n",
       "[512087 rows x 3 columns]"
      ]
     },
     "execution_count": 3,
     "metadata": {},
     "output_type": "execute_result"
    }
   ],
   "source": [
    "tr=tr[[\"ID\",\"Day_No\",\"Sales\"]]\n",
    "tr"
   ]
  },
  {
   "cell_type": "code",
   "execution_count": 4,
   "metadata": {},
   "outputs": [
    {
     "data": {
      "text/plain": [
       "Day_No\n",
       "1       78603\n",
       "2       67389\n",
       "3       61725\n",
       "4       64464\n",
       "5       59094\n",
       "        ...  \n",
       "878     67278\n",
       "879     80955\n",
       "880     74450\n",
       "881     58999\n",
       "882    114140\n",
       "Name: Sales, Length: 882, dtype: int64"
      ]
     },
     "execution_count": 4,
     "metadata": {},
     "output_type": "execute_result"
    }
   ],
   "source": [
    "train=tr.groupby(\"Day_No\").sum()[\"Sales\"]\n",
    "train"
   ]
  },
  {
   "cell_type": "code",
   "execution_count": 5,
   "metadata": {},
   "outputs": [],
   "source": [
    "train,val=train[train.index<=822],train[train.index>822]"
   ]
  },
  {
   "cell_type": "code",
   "execution_count": 23,
   "metadata": {},
   "outputs": [
    {
     "data": {
      "text/plain": [
       "Day_No\n",
       "1       78603\n",
       "2       67389\n",
       "3       61725\n",
       "4       64464\n",
       "5       59094\n",
       "        ...  \n",
       "818     55825\n",
       "819    121131\n",
       "820    109930\n",
       "821    108359\n",
       "822    111420\n",
       "Name: Sales, Length: 822, dtype: int64"
      ]
     },
     "execution_count": 23,
     "metadata": {},
     "output_type": "execute_result"
    }
   ],
   "source": [
    "train"
   ]
  },
  {
   "cell_type": "code",
   "execution_count": 24,
   "metadata": {
    "collapsed": true
   },
   "outputs": [
    {
     "data": {
      "text/plain": [
       "Day_No\n",
       "823     72473\n",
       "824     92689\n",
       "825     86765\n",
       "826     19841\n",
       "827     76109\n",
       "828     65411\n",
       "829     63288\n",
       "830     64181\n",
       "831     63316\n",
       "832     53589\n",
       "833    107470\n",
       "834     88302\n",
       "835     77462\n",
       "836     81115\n",
       "837     84558\n",
       "838     64261\n",
       "839     73982\n",
       "840     63139\n",
       "841     57717\n",
       "842     58373\n",
       "843     59251\n",
       "844     61208\n",
       "845     62124\n",
       "846     53817\n",
       "847    103197\n",
       "848     90322\n",
       "849     92394\n",
       "850    110168\n",
       "851     65563\n",
       "852     86302\n",
       "853     77250\n",
       "854    106799\n",
       "855     84955\n",
       "856     84031\n",
       "857     82790\n",
       "858     83976\n",
       "859     70517\n",
       "860     77046\n",
       "861     64724\n",
       "862     64257\n",
       "863     79071\n",
       "864     56357\n",
       "865     83557\n",
       "866     63641\n",
       "867     54667\n",
       "868    103094\n",
       "869     86248\n",
       "870     80920\n",
       "871     79551\n",
       "872     80478\n",
       "873     66427\n",
       "874     74019\n",
       "875     63190\n",
       "876     75119\n",
       "877     66405\n",
       "878     67278\n",
       "879     80955\n",
       "880     74450\n",
       "881     58999\n",
       "882    114140\n",
       "Name: Sales, dtype: int64"
      ]
     },
     "execution_count": 24,
     "metadata": {},
     "output_type": "execute_result"
    }
   ],
   "source": [
    "val"
   ]
  },
  {
   "cell_type": "markdown",
   "metadata": {},
   "source": [
    "## Stationarity test"
   ]
  },
  {
   "cell_type": "code",
   "execution_count": 25,
   "metadata": {},
   "outputs": [],
   "source": [
    "# dickey fuller, KPSS\n",
    "from statsmodels.tsa.stattools import adfuller, kpss"
   ]
  },
  {
   "cell_type": "code",
   "execution_count": 26,
   "metadata": {},
   "outputs": [],
   "source": [
    "def adf_test(timeseries):\n",
    "    \n",
    "    #Perform Dickey-Fuller test:\n",
    "    print ('Results of Dickey-Fuller Test:')\n",
    "    dftest = adfuller(timeseries, autolag='AIC')\n",
    "    dfoutput=pd.Series(dftest[0:4], index=['Test Statistic','p-value','#Lags Used','Number of Observations Used'])\n",
    "\n",
    "    for key,value in dftest[4].items():\n",
    "        dfoutput['Critical Value (%s)'%key] = value\n",
    "    print (dfoutput)"
   ]
  },
  {
   "cell_type": "code",
   "execution_count": 27,
   "metadata": {},
   "outputs": [
    {
     "name": "stdout",
     "output_type": "stream",
     "text": [
      "Results of Dickey-Fuller Test:\n",
      "Test Statistic                  -4.465763\n",
      "p-value                          0.000227\n",
      "#Lags Used                      20.000000\n",
      "Number of Observations Used    801.000000\n",
      "Critical Value (1%)             -3.438540\n",
      "Critical Value (5%)             -2.865155\n",
      "Critical Value (10%)            -2.568695\n",
      "dtype: float64\n"
     ]
    }
   ],
   "source": [
    "adf_test(train)"
   ]
  },
  {
   "cell_type": "markdown",
   "metadata": {},
   "source": [
    "**Our series is Stationary**"
   ]
  },
  {
   "cell_type": "code",
   "execution_count": 28,
   "metadata": {},
   "outputs": [],
   "source": [
    "def kpss_test(timeseries):\n",
    "    print ('Results of KPSS Test:')\n",
    "    kpsstest = kpss(timeseries, regression='c')\n",
    "    kpss_output = pd.Series(kpsstest[0:3], index=['Test Statistic','p-value','Lags Used'])\n",
    "    for key,value in kpsstest[3].items():\n",
    "        kpss_output['Critical Value (%s)'%key] = value\n",
    "    print (kpss_output)"
   ]
  },
  {
   "cell_type": "code",
   "execution_count": 29,
   "metadata": {},
   "outputs": [
    {
     "name": "stdout",
     "output_type": "stream",
     "text": [
      "Results of KPSS Test:\n",
      "Test Statistic            0.199919\n",
      "p-value                   0.100000\n",
      "Lags Used                21.000000\n",
      "Critical Value (10%)      0.347000\n",
      "Critical Value (5%)       0.463000\n",
      "Critical Value (2.5%)     0.574000\n",
      "Critical Value (1%)       0.739000\n",
      "dtype: float64\n"
     ]
    },
    {
     "name": "stderr",
     "output_type": "stream",
     "text": [
      "C:\\ProgramData\\Anaconda3\\lib\\site-packages\\statsmodels\\tsa\\stattools.py:1843: FutureWarning: The behavior of using nlags=None will change in release 0.13.Currently nlags=None is the same as nlags=\"legacy\", and so a sample-size lag length is used. After the next release, the default will change to be the same as nlags=\"auto\" which uses an automatic lag length selection method. To silence this warning, either use \"auto\" or \"legacy\"\n",
      "  warnings.warn(msg, FutureWarning)\n",
      "C:\\ProgramData\\Anaconda3\\lib\\site-packages\\statsmodels\\tsa\\stattools.py:1876: InterpolationWarning: The test statistic is outside of the range of p-values available in the\n",
      "look-up table. The actual p-value is greater than the p-value returned.\n",
      "\n",
      "  warnings.warn(warn_msg.format(direction=\"greater\"), InterpolationWarning)\n"
     ]
    }
   ],
   "source": [
    "kpss_test(train)"
   ]
  },
  {
   "cell_type": "code",
   "execution_count": null,
   "metadata": {},
   "outputs": [],
   "source": []
  },
  {
   "cell_type": "markdown",
   "metadata": {},
   "source": [
    "## ACF and PACF plot"
   ]
  },
  {
   "cell_type": "code",
   "execution_count": 30,
   "metadata": {},
   "outputs": [],
   "source": [
    "from statsmodels.tsa.stattools import acf, pacf "
   ]
  },
  {
   "cell_type": "code",
   "execution_count": 32,
   "metadata": {},
   "outputs": [
    {
     "name": "stderr",
     "output_type": "stream",
     "text": [
      "C:\\ProgramData\\Anaconda3\\lib\\site-packages\\statsmodels\\tsa\\stattools.py:666: FutureWarning: fft=True will become the default after the release of the 0.12 release of statsmodels. To suppress this warning, explicitly set fft=False.\n",
      "  FutureWarning,\n"
     ]
    }
   ],
   "source": [
    "lag_acf = acf(train, nlags=25) \n",
    "lag_pacf = pacf(train, nlags=25)"
   ]
  },
  {
   "cell_type": "code",
   "execution_count": 33,
   "metadata": {},
   "outputs": [
    {
     "data": {
      "image/png": "[encoded data removed]",
      "text/plain": [
       "<Figure size 432x288 with 1 Axes>"
      ]
     },
     "metadata": {
      "needs_background": "light"
     },
     "output_type": "display_data"
    },
    {
     "data": {
      "image/png": "[encoded data removed]",
      "text/plain": [
       "<Figure size 432x288 with 1 Axes>"
      ]
     },
     "metadata": {
      "needs_background": "light"
     },
     "output_type": "display_data"
    }
   ],
   "source": [
    "plt.plot(lag_acf,  marker='o') \n",
    "plt.axhline(y=0,linestyle='--',color='gray') \n",
    "plt.axhline(y=-1.96/np.sqrt(len(train)),linestyle='--',color='gray') \n",
    "plt.axhline(y=1.96/np.sqrt(len(train)),linestyle='--',color='gray') \n",
    "plt.title('Autocorrelation Function') \n",
    "plt.show() \n",
    "\n",
    "plt.plot(lag_pacf, marker='o') \n",
    "plt.axhline(y=0,linestyle='--',color='gray') \n",
    "plt.axhline(y=-1.96/np.sqrt(len(train)),linestyle='--',color='gray') \n",
    "plt.axhline(y=1.96/np.sqrt(len(train)),linestyle='--',color='gray') \n",
    "plt.title('Partial Autocorrelation Function') \n",
    "plt.show()"
   ]
  },
  {
   "cell_type": "code",
   "execution_count": null,
   "metadata": {},
   "outputs": [],
   "source": []
  },
  {
   "cell_type": "markdown",
   "metadata": {},
   "source": [
    "## AR Model"
   ]
  },
  {
   "cell_type": "code",
   "execution_count": 117,
   "metadata": {},
   "outputs": [],
   "source": [
    "from statsmodels.tsa.arima_model import ARIMA"
   ]
  },
  {
   "cell_type": "code",
   "execution_count": 118,
   "metadata": {},
   "outputs": [],
   "source": [
    "# fit AR model\n",
    "model = ARIMA(train, order=(6,0,10))\n",
    "model_fit= model.fit(disp=0)"
   ]
  },
  {
   "cell_type": "code",
   "execution_count": 119,
   "metadata": {},
   "outputs": [],
   "source": [
    "output = model_fit.forecast(len(val))\n",
    "pred_valid = (pd.DataFrame(output[0])).values"
   ]
  },
  {
   "cell_type": "code",
   "execution_count": 120,
   "metadata": {},
   "outputs": [
    {
     "data": {
      "image/png": "[encoded data removed]",
      "text/plain": [
       "<Figure size 1008x432 with 1 Axes>"
      ]
     },
     "metadata": {
      "needs_background": "light"
     },
     "output_type": "display_data"
    }
   ],
   "source": [
    "plt.figure(figsize=(14,6))\n",
    "\n",
    "plt.plot(train[600:].index, train[600:], label='train_data')\n",
    "plt.plot(val.index, val, label='valid')\n",
    "plt.plot(val.index, pred_valid, label='predicted')\n",
    "\n",
    "plt.legend(loc='best')\n",
    "plt.title(\"AR mode\")\n",
    "plt.show()"
   ]
  },
  {
   "cell_type": "code",
   "execution_count": 121,
   "metadata": {},
   "outputs": [
    {
     "name": "stdout",
     "output_type": "stream",
     "text": [
      "The RMSE value for AR is 16179.368380266495\n"
     ]
    }
   ],
   "source": [
    "# calculating RMSE \n",
    "from math import sqrt\n",
    "rmse = sqrt(mean_squared_error(val, pred_valid))\n",
    "print('The RMSE value for AR is', rmse)"
   ]
  },
  {
   "cell_type": "code",
   "execution_count": 122,
   "metadata": {},
   "outputs": [
    {
     "data": {
      "text/html": [
       "<table class=\"simpletable\">\n",
       "<caption>ARMA Model Results</caption>\n",
       "<tr>\n",
       "  <th>Dep. Variable:</th>       <td>Sales</td>      <th>  No. Observations:  </th>    <td>822</td>   \n",
       "</tr>\n",
       "<tr>\n",
       "  <th>Model:</th>            <td>ARMA(6, 10)</td>   <th>  Log Likelihood     </th> <td>-8962.557</td>\n",
       "</tr>\n",
       "<tr>\n",
       "  <th>Method:</th>             <td>css-mle</td>     <th>  S.D. of innovations</th> <td>13015.404</td>\n",
       "</tr>\n",
       "<tr>\n",
       "  <th>Date:</th>          <td>Mon, 19 Oct 2020</td> <th>  AIC                </th> <td>17961.114</td>\n",
       "</tr>\n",
       "<tr>\n",
       "  <th>Time:</th>              <td>15:24:29</td>     <th>  BIC                </th> <td>18045.926</td>\n",
       "</tr>\n",
       "<tr>\n",
       "  <th>Sample:</th>                <td>0</td>        <th>  HQIC               </th> <td>17993.653</td>\n",
       "</tr>\n",
       "<tr>\n",
       "  <th></th>                       <td> </td>        <th>                     </th>     <td> </td>    \n",
       "</tr>\n",
       "</table>\n",
       "<table class=\"simpletable\">\n",
       "<tr>\n",
       "        <td></td>          <th>coef</th>     <th>std err</th>      <th>z</th>      <th>P>|z|</th>  <th>[0.025</th>    <th>0.975]</th>  \n",
       "</tr>\n",
       "<tr>\n",
       "  <th>const</th>        <td> 6.979e+04</td> <td> 1377.382</td> <td>   50.671</td> <td> 0.000</td> <td> 6.71e+04</td> <td> 7.25e+04</td>\n",
       "</tr>\n",
       "<tr>\n",
       "  <th>ar.L1.Sales</th>  <td>    1.1927</td> <td>  2.5e-05</td> <td> 4.78e+04</td> <td> 0.000</td> <td>    1.193</td> <td>    1.193</td>\n",
       "</tr>\n",
       "<tr>\n",
       "  <th>ar.L2.Sales</th>  <td>   -0.1863</td> <td>      nan</td> <td>      nan</td> <td>   nan</td> <td>      nan</td> <td>      nan</td>\n",
       "</tr>\n",
       "<tr>\n",
       "  <th>ar.L3.Sales</th>  <td>    0.1677</td> <td>      nan</td> <td>      nan</td> <td>   nan</td> <td>      nan</td> <td>      nan</td>\n",
       "</tr>\n",
       "<tr>\n",
       "  <th>ar.L4.Sales</th>  <td>    0.1870</td> <td>    0.001</td> <td>  298.953</td> <td> 0.000</td> <td>    0.186</td> <td>    0.188</td>\n",
       "</tr>\n",
       "<tr>\n",
       "  <th>ar.L5.Sales</th>  <td>   -1.1642</td> <td> 6.86e-06</td> <td> -1.7e+05</td> <td> 0.000</td> <td>   -1.164</td> <td>   -1.164</td>\n",
       "</tr>\n",
       "<tr>\n",
       "  <th>ar.L6.Sales</th>  <td>    0.7723</td> <td> 3.79e-05</td> <td> 2.04e+04</td> <td> 0.000</td> <td>    0.772</td> <td>    0.772</td>\n",
       "</tr>\n",
       "<tr>\n",
       "  <th>ma.L1.Sales</th>  <td>   -0.9501</td> <td>    0.033</td> <td>  -28.552</td> <td> 0.000</td> <td>   -1.015</td> <td>   -0.885</td>\n",
       "</tr>\n",
       "<tr>\n",
       "  <th>ma.L2.Sales</th>  <td>    0.2298</td> <td>    0.045</td> <td>    5.121</td> <td> 0.000</td> <td>    0.142</td> <td>    0.318</td>\n",
       "</tr>\n",
       "<tr>\n",
       "  <th>ma.L3.Sales</th>  <td>   -0.2496</td> <td>    0.044</td> <td>   -5.690</td> <td> 0.000</td> <td>   -0.336</td> <td>   -0.164</td>\n",
       "</tr>\n",
       "<tr>\n",
       "  <th>ma.L4.Sales</th>  <td>   -0.4104</td> <td>    0.047</td> <td>   -8.642</td> <td> 0.000</td> <td>   -0.503</td> <td>   -0.317</td>\n",
       "</tr>\n",
       "<tr>\n",
       "  <th>ma.L5.Sales</th>  <td>    1.2197</td> <td>    0.041</td> <td>   29.442</td> <td> 0.000</td> <td>    1.138</td> <td>    1.301</td>\n",
       "</tr>\n",
       "<tr>\n",
       "  <th>ma.L6.Sales</th>  <td>   -0.6644</td> <td>    0.043</td> <td>  -15.481</td> <td> 0.000</td> <td>   -0.749</td> <td>   -0.580</td>\n",
       "</tr>\n",
       "<tr>\n",
       "  <th>ma.L7.Sales</th>  <td>   -0.0839</td> <td>    0.046</td> <td>   -1.816</td> <td> 0.069</td> <td>   -0.175</td> <td>    0.007</td>\n",
       "</tr>\n",
       "<tr>\n",
       "  <th>ma.L8.Sales</th>  <td>    0.0306</td> <td>    0.044</td> <td>    0.693</td> <td> 0.488</td> <td>   -0.056</td> <td>    0.117</td>\n",
       "</tr>\n",
       "<tr>\n",
       "  <th>ma.L9.Sales</th>  <td>   -0.3282</td> <td>    0.045</td> <td>   -7.276</td> <td> 0.000</td> <td>   -0.417</td> <td>   -0.240</td>\n",
       "</tr>\n",
       "<tr>\n",
       "  <th>ma.L10.Sales</th> <td>    0.3017</td> <td>    0.034</td> <td>    8.977</td> <td> 0.000</td> <td>    0.236</td> <td>    0.368</td>\n",
       "</tr>\n",
       "</table>\n",
       "<table class=\"simpletable\">\n",
       "<caption>Roots</caption>\n",
       "<tr>\n",
       "    <td></td>    <th>            Real</th>  <th>         Imaginary</th> <th>         Modulus</th>  <th>        Frequency</th>\n",
       "</tr>\n",
       "<tr>\n",
       "  <th>AR.1</th>  <td>          -1.0416</td> <td>          -0.0000j</td> <td>           1.0416</td> <td>          -0.5000</td>\n",
       "</tr>\n",
       "<tr>\n",
       "  <th>AR.2</th>  <td>          -0.2224</td> <td>          -0.9750j</td> <td>           1.0000</td> <td>          -0.2857</td>\n",
       "</tr>\n",
       "<tr>\n",
       "  <th>AR.3</th>  <td>          -0.2224</td> <td>          +0.9750j</td> <td>           1.0000</td> <td>           0.2857</td>\n",
       "</tr>\n",
       "<tr>\n",
       "  <th>AR.4</th>  <td>           0.9805</td> <td>          -0.4921j</td> <td>           1.0971</td> <td>          -0.0740</td>\n",
       "</tr>\n",
       "<tr>\n",
       "  <th>AR.5</th>  <td>           0.9805</td> <td>          +0.4921j</td> <td>           1.0971</td> <td>           0.0740</td>\n",
       "</tr>\n",
       "<tr>\n",
       "  <th>AR.6</th>  <td>           1.0328</td> <td>          -0.0000j</td> <td>           1.0328</td> <td>          -0.0000</td>\n",
       "</tr>\n",
       "<tr>\n",
       "  <th>MA.1</th>  <td>          -1.1466</td> <td>          -0.1476j</td> <td>           1.1561</td> <td>          -0.4796</td>\n",
       "</tr>\n",
       "<tr>\n",
       "  <th>MA.2</th>  <td>          -1.1466</td> <td>          +0.1476j</td> <td>           1.1561</td> <td>           0.4796</td>\n",
       "</tr>\n",
       "<tr>\n",
       "  <th>MA.3</th>  <td>          -0.2272</td> <td>          -0.9851j</td> <td>           1.0110</td> <td>          -0.2861</td>\n",
       "</tr>\n",
       "<tr>\n",
       "  <th>MA.4</th>  <td>          -0.2272</td> <td>          +0.9851j</td> <td>           1.0110</td> <td>           0.2861</td>\n",
       "</tr>\n",
       "<tr>\n",
       "  <th>MA.5</th>  <td>          -0.0990</td> <td>          -1.2589j</td> <td>           1.2627</td> <td>          -0.2625</td>\n",
       "</tr>\n",
       "<tr>\n",
       "  <th>MA.6</th>  <td>          -0.0990</td> <td>          +1.2589j</td> <td>           1.2627</td> <td>           0.2625</td>\n",
       "</tr>\n",
       "<tr>\n",
       "  <th>MA.7</th>  <td>           0.8482</td> <td>          -0.6316j</td> <td>           1.0576</td> <td>          -0.1019</td>\n",
       "</tr>\n",
       "<tr>\n",
       "  <th>MA.8</th>  <td>           0.8482</td> <td>          +0.6316j</td> <td>           1.0576</td> <td>           0.1019</td>\n",
       "</tr>\n",
       "<tr>\n",
       "  <th>MA.9</th>  <td>           1.0971</td> <td>          -0.0000j</td> <td>           1.0971</td> <td>          -0.0000</td>\n",
       "</tr>\n",
       "<tr>\n",
       "  <th>MA.10</th> <td>           1.2402</td> <td>          -0.0000j</td> <td>           1.2402</td> <td>          -0.0000</td>\n",
       "</tr>\n",
       "</table>"
      ],
      "text/plain": [
       "<class 'statsmodels.iolib.summary.Summary'>\n",
       "\"\"\"\n",
       "                              ARMA Model Results                              \n",
       "==============================================================================\n",
       "Dep. Variable:                  Sales   No. Observations:                  822\n",
       "Model:                    ARMA(6, 10)   Log Likelihood               -8962.557\n",
       "Method:                       css-mle   S.D. of innovations          13015.404\n",
       "Date:                Mon, 19 Oct 2020   AIC                          17961.114\n",
       "Time:                        15:24:29   BIC                          18045.926\n",
       "Sample:                             0   HQIC                         17993.653\n",
       "                                                                              \n",
       "================================================================================\n",
       "                   coef    std err          z      P>|z|      [0.025      0.975]\n",
       "--------------------------------------------------------------------------------\n",
       "const         6.979e+04   1377.382     50.671      0.000    6.71e+04    7.25e+04\n",
       "ar.L1.Sales      1.1927    2.5e-05   4.78e+04      0.000       1.193       1.193\n",
       "ar.L2.Sales     -0.1863        nan        nan        nan         nan         nan\n",
       "ar.L3.Sales      0.1677        nan        nan        nan         nan         nan\n",
       "ar.L4.Sales      0.1870      0.001    298.953      0.000       0.186       0.188\n",
       "ar.L5.Sales     -1.1642   6.86e-06   -1.7e+05      0.000      -1.164      -1.164\n",
       "ar.L6.Sales      0.7723   3.79e-05   2.04e+04      0.000       0.772       0.772\n",
       "ma.L1.Sales     -0.9501      0.033    -28.552      0.000      -1.015      -0.885\n",
       "ma.L2.Sales      0.2298      0.045      5.121      0.000       0.142       0.318\n",
       "ma.L3.Sales     -0.2496      0.044     -5.690      0.000      -0.336      -0.164\n",
       "ma.L4.Sales     -0.4104      0.047     -8.642      0.000      -0.503      -0.317\n",
       "ma.L5.Sales      1.2197      0.041     29.442      0.000       1.138       1.301\n",
       "ma.L6.Sales     -0.6644      0.043    -15.481      0.000      -0.749      -0.580\n",
       "ma.L7.Sales     -0.0839      0.046     -1.816      0.069      -0.175       0.007\n",
       "ma.L8.Sales      0.0306      0.044      0.693      0.488      -0.056       0.117\n",
       "ma.L9.Sales     -0.3282      0.045     -7.276      0.000      -0.417      -0.240\n",
       "ma.L10.Sales     0.3017      0.034      8.977      0.000       0.236       0.368\n",
       "                                    Roots                                     \n",
       "==============================================================================\n",
       "                   Real          Imaginary           Modulus         Frequency\n",
       "------------------------------------------------------------------------------\n",
       "AR.1            -1.0416           -0.0000j            1.0416           -0.5000\n",
       "AR.2            -0.2224           -0.9750j            1.0000           -0.2857\n",
       "AR.3            -0.2224           +0.9750j            1.0000            0.2857\n",
       "AR.4             0.9805           -0.4921j            1.0971           -0.0740\n",
       "AR.5             0.9805           +0.4921j            1.0971            0.0740\n",
       "AR.6             1.0328           -0.0000j            1.0328           -0.0000\n",
       "MA.1            -1.1466           -0.1476j            1.1561           -0.4796\n",
       "MA.2            -1.1466           +0.1476j            1.1561            0.4796\n",
       "MA.3            -0.2272           -0.9851j            1.0110           -0.2861\n",
       "MA.4            -0.2272           +0.9851j            1.0110            0.2861\n",
       "MA.5            -0.0990           -1.2589j            1.2627           -0.2625\n",
       "MA.6            -0.0990           +1.2589j            1.2627            0.2625\n",
       "MA.7             0.8482           -0.6316j            1.0576           -0.1019\n",
       "MA.8             0.8482           +0.6316j            1.0576            0.1019\n",
       "MA.9             1.0971           -0.0000j            1.0971           -0.0000\n",
       "MA.10            1.2402           -0.0000j            1.2402           -0.0000\n",
       "------------------------------------------------------------------------------\n",
       "\"\"\""
      ]
     },
     "execution_count": 122,
     "metadata": {},
     "output_type": "execute_result"
    }
   ],
   "source": [
    "model_fit.summary()"
   ]
  },
  {
   "cell_type": "code",
   "execution_count": null,
   "metadata": {},
   "outputs": [],
   "source": []
  },
  {
   "cell_type": "code",
   "execution_count": null,
   "metadata": {},
   "outputs": [],
   "source": []
  },
  {
   "cell_type": "markdown",
   "metadata": {},
   "source": []
  },
  {
   "cell_type": "code",
   "execution_count": null,
   "metadata": {},
   "outputs": [],
   "source": []
  },
  {
   "cell_type": "markdown",
   "metadata": {},
   "source": [
    "## Seasonal ACF and PACF plot"
   ]
  },
  {
   "cell_type": "code",
   "execution_count": 30,
   "metadata": {},
   "outputs": [],
   "source": [
    "from statsmodels.tsa.stattools import acf, pacf "
   ]
  },
  {
   "cell_type": "code",
   "execution_count": 105,
   "metadata": {},
   "outputs": [
    {
     "data": {
      "text/plain": [
       "Day_No\n",
       "8       6213.0\n",
       "9       8208.0\n",
       "10     13815.0\n",
       "11     13839.0\n",
       "12       428.0\n",
       "        ...   \n",
       "818   -16315.0\n",
       "819    55632.0\n",
       "820    50211.0\n",
       "821    49903.0\n",
       "822    50101.0\n",
       "Name: Sales, Length: 815, dtype: float64"
      ]
     },
     "execution_count": 105,
     "metadata": {},
     "output_type": "execute_result"
    }
   ],
   "source": [
    "diff_7=train-train.shift(7)\n",
    "diff_7.dropna()"
   ]
  },
  {
   "cell_type": "code",
   "execution_count": 108,
   "metadata": {},
   "outputs": [],
   "source": [
    "lag_acf = acf(diff_7.dropna(), nlags=25) \n",
    "lag_pacf = pacf(diff_7.dropna(), nlags=25)"
   ]
  },
  {
   "cell_type": "code",
   "execution_count": 109,
   "metadata": {},
   "outputs": [
    {
     "data": {
      "image/png": "[encoded data removed]",
      "text/plain": [
       "<Figure size 432x288 with 1 Axes>"
      ]
     },
     "metadata": {
      "needs_background": "light"
     },
     "output_type": "display_data"
    },
    {
     "data": {
      "image/png": "[encoded data removed]",
      "text/plain": [
       "<Figure size 432x288 with 1 Axes>"
      ]
     },
     "metadata": {
      "needs_background": "light"
     },
     "output_type": "display_data"
    }
   ],
   "source": [
    "plt.plot(lag_acf,  marker='o') \n",
    "plt.axhline(y=0,linestyle='--',color='gray') \n",
    "plt.axhline(y=-1.96/np.sqrt(len(diff_7.dropna())),linestyle='--',color='gray') \n",
    "plt.axhline(y=1.96/np.sqrt(len(diff_7.dropna())),linestyle='--',color='gray') \n",
    "plt.title('Autocorrelation Function') \n",
    "plt.show() \n",
    "\n",
    "plt.plot(lag_pacf, marker='o') \n",
    "plt.axhline(y=0,linestyle='--',color='gray') \n",
    "plt.axhline(y=-1.96/np.sqrt(len(diff_7.dropna())),linestyle='--',color='gray') \n",
    "plt.axhline(y=1.96/np.sqrt(len(diff_7.dropna())),linestyle='--',color='gray') \n",
    "plt.title('Partial Autocorrelation Function') \n",
    "plt.show()"
   ]
  },
  {
   "cell_type": "code",
   "execution_count": null,
   "metadata": {},
   "outputs": [],
   "source": []
  },
  {
   "cell_type": "markdown",
   "metadata": {},
   "source": [
    "## SARIMA"
   ]
  },
  {
   "cell_type": "code",
   "execution_count": 93,
   "metadata": {},
   "outputs": [],
   "source": [
    "from statsmodels.tsa.statespace import sarimax"
   ]
  },
  {
   "cell_type": "code",
   "execution_count": 116,
   "metadata": {},
   "outputs": [
    {
     "ename": "ValueError",
     "evalue": "Invalid model: moving average lag(s) {7} are in both the seasonal and non-seasonal moving average components.",
     "output_type": "error",
     "traceback": [
      "\u001b[1;31m---------------------------------------------------------------------------\u001b[0m",
      "\u001b[1;31mValueError\u001b[0m                                Traceback (most recent call last)",
      "\u001b[1;32m<ipython-input-116-62cf66f90fce>\u001b[0m in \u001b[0;36m<module>\u001b[1;34m\u001b[0m\n\u001b[1;32m----> 1\u001b[1;33m \u001b[0mmodel\u001b[0m \u001b[1;33m=\u001b[0m \u001b[0msarimax\u001b[0m\u001b[1;33m.\u001b[0m\u001b[0mSARIMAX\u001b[0m\u001b[1;33m(\u001b[0m\u001b[0mtrain\u001b[0m\u001b[1;33m,\u001b[0m \u001b[0mseasonal_order\u001b[0m\u001b[1;33m=\u001b[0m\u001b[1;33m(\u001b[0m\u001b[1;36m2\u001b[0m\u001b[1;33m,\u001b[0m\u001b[1;36m0\u001b[0m\u001b[1;33m,\u001b[0m\u001b[1;36m4\u001b[0m\u001b[1;33m,\u001b[0m\u001b[1;36m7\u001b[0m\u001b[1;33m)\u001b[0m\u001b[1;33m,\u001b[0m \u001b[0morder\u001b[0m\u001b[1;33m=\u001b[0m\u001b[1;33m(\u001b[0m\u001b[1;36m6\u001b[0m\u001b[1;33m,\u001b[0m\u001b[1;36m0\u001b[0m\u001b[1;33m,\u001b[0m\u001b[1;36m10\u001b[0m\u001b[1;33m)\u001b[0m\u001b[1;33m)\u001b[0m\u001b[1;33m\u001b[0m\u001b[1;33m\u001b[0m\u001b[0m\n\u001b[0m\u001b[0;32m      2\u001b[0m \u001b[0mfit1\u001b[0m \u001b[1;33m=\u001b[0m \u001b[0mmodel\u001b[0m\u001b[1;33m.\u001b[0m\u001b[0mfit\u001b[0m\u001b[1;33m(\u001b[0m\u001b[1;33m)\u001b[0m\u001b[1;33m\u001b[0m\u001b[1;33m\u001b[0m\u001b[0m\n\u001b[0;32m      3\u001b[0m \u001b[1;33m\u001b[0m\u001b[0m\n\u001b[0;32m      4\u001b[0m \u001b[0mvalid_pred\u001b[0m \u001b[1;33m=\u001b[0m \u001b[0mfit1\u001b[0m\u001b[1;33m.\u001b[0m\u001b[0mpredict\u001b[0m\u001b[1;33m(\u001b[0m\u001b[0mstart\u001b[0m\u001b[1;33m=\u001b[0m\u001b[1;36m823\u001b[0m\u001b[1;33m,\u001b[0m \u001b[0mend\u001b[0m\u001b[1;33m=\u001b[0m\u001b[1;36m882\u001b[0m\u001b[1;33m,\u001b[0m \u001b[0mdynamic\u001b[0m\u001b[1;33m=\u001b[0m\u001b[1;32mTrue\u001b[0m\u001b[1;33m)\u001b[0m\u001b[1;33m\u001b[0m\u001b[1;33m\u001b[0m\u001b[0m\n",
      "\u001b[1;32mC:\\ProgramData\\Anaconda3\\lib\\site-packages\\statsmodels\\tsa\\statespace\\sarimax.py\u001b[0m in \u001b[0;36m__init__\u001b[1;34m(self, endog, exog, order, seasonal_order, trend, measurement_error, time_varying_regression, mle_regression, simple_differencing, enforce_stationarity, enforce_invertibility, hamilton_representation, concentrate_scale, trend_offset, use_exact_diffuse, dates, freq, missing, **kwargs)\u001b[0m\n\u001b[0;32m    329\u001b[0m             \u001b[0mtrend\u001b[0m\u001b[1;33m=\u001b[0m\u001b[0mtrend\u001b[0m\u001b[1;33m,\u001b[0m \u001b[0menforce_stationarity\u001b[0m\u001b[1;33m=\u001b[0m\u001b[1;32mNone\u001b[0m\u001b[1;33m,\u001b[0m \u001b[0menforce_invertibility\u001b[0m\u001b[1;33m=\u001b[0m\u001b[1;32mNone\u001b[0m\u001b[1;33m,\u001b[0m\u001b[1;33m\u001b[0m\u001b[1;33m\u001b[0m\u001b[0m\n\u001b[0;32m    330\u001b[0m             \u001b[0mconcentrate_scale\u001b[0m\u001b[1;33m=\u001b[0m\u001b[0mconcentrate_scale\u001b[0m\u001b[1;33m,\u001b[0m \u001b[0mdates\u001b[0m\u001b[1;33m=\u001b[0m\u001b[0mdates\u001b[0m\u001b[1;33m,\u001b[0m \u001b[0mfreq\u001b[0m\u001b[1;33m=\u001b[0m\u001b[0mfreq\u001b[0m\u001b[1;33m,\u001b[0m\u001b[1;33m\u001b[0m\u001b[1;33m\u001b[0m\u001b[0m\n\u001b[1;32m--> 331\u001b[1;33m             missing=missing)\n\u001b[0m\u001b[0;32m    332\u001b[0m         \u001b[0mself\u001b[0m\u001b[1;33m.\u001b[0m\u001b[0m_params\u001b[0m \u001b[1;33m=\u001b[0m \u001b[0mSARIMAXParams\u001b[0m\u001b[1;33m(\u001b[0m\u001b[0mself\u001b[0m\u001b[1;33m.\u001b[0m\u001b[0m_spec\u001b[0m\u001b[1;33m)\u001b[0m\u001b[1;33m\u001b[0m\u001b[1;33m\u001b[0m\u001b[0m\n\u001b[0;32m    333\u001b[0m \u001b[1;33m\u001b[0m\u001b[0m\n",
      "\u001b[1;32mC:\\ProgramData\\Anaconda3\\lib\\site-packages\\statsmodels\\tsa\\arima\\specification.py\u001b[0m in \u001b[0;36m__init__\u001b[1;34m(self, endog, exog, order, seasonal_order, ar_order, diff, ma_order, seasonal_ar_order, seasonal_diff, seasonal_ma_order, seasonal_periods, trend, enforce_stationarity, enforce_invertibility, concentrate_scale, trend_offset, dates, freq, missing)\u001b[0m\n\u001b[0;32m    368\u001b[0m                              \u001b[1;34m' in both the seasonal and non-seasonal'\u001b[0m\u001b[1;33m\u001b[0m\u001b[1;33m\u001b[0m\u001b[0m\n\u001b[0;32m    369\u001b[0m                              \u001b[1;34m' moving average components.'\u001b[0m\u001b[1;33m\u001b[0m\u001b[1;33m\u001b[0m\u001b[0m\n\u001b[1;32m--> 370\u001b[1;33m                              % duplicate_ma_lags)\n\u001b[0m\u001b[0;32m    371\u001b[0m \u001b[1;33m\u001b[0m\u001b[0m\n\u001b[0;32m    372\u001b[0m         \u001b[1;31m# Handle trend\u001b[0m\u001b[1;33m\u001b[0m\u001b[1;33m\u001b[0m\u001b[1;33m\u001b[0m\u001b[0m\n",
      "\u001b[1;31mValueError\u001b[0m: Invalid model: moving average lag(s) {7} are in both the seasonal and non-seasonal moving average components."
     ]
    }
   ],
   "source": [
    "model = sarimax.SARIMAX(train, seasonal_order=(3,0,4,7), order=(6,0,10))\n",
    "fit1 = model.fit()\n",
    "\n",
    "valid_pred = fit1.predict(start=823, end=882, dynamic=True)"
   ]
  },
  {
   "cell_type": "code",
   "execution_count": null,
   "metadata": {},
   "outputs": [],
   "source": []
  },
  {
   "cell_type": "code",
   "execution_count": null,
   "metadata": {},
   "outputs": [],
   "source": []
  },
  {
   "cell_type": "code",
   "execution_count": null,
   "metadata": {},
   "outputs": [],
   "source": []
  },
  {
   "cell_type": "code",
   "execution_count": null,
   "metadata": {},
   "outputs": [],
   "source": []
  },
  {
   "cell_type": "code",
   "execution_count": null,
   "metadata": {},
   "outputs": [],
   "source": []
  },
  {
   "cell_type": "code",
   "execution_count": 123,
   "metadata": {},
   "outputs": [],
   "source": [
    "# val_User_Traffic_MA=[]\n",
    "\n",
    "# for i in range(1,601):\n",
    "    \n",
    "# #     tr,valid=train[(train.Day_No<=822)&(train.Course_ID==i)],train[(train.Day_No>822)&(train.Course_ID==i)]\n",
    "#     tr=train[train.Course_ID==i]\n",
    "    \n",
    "#     for j in range(823,883):\n",
    "#         df=tr.loc[(tr.Day_No>=j-14)&(tr.Day_No<j)]\n",
    "#         val_User_Traffic_MA.append(df[\"User_Traffic\"].mean())"
   ]
  },
  {
   "cell_type": "code",
   "execution_count": 126,
   "metadata": {},
   "outputs": [
    {
     "name": "stderr",
     "output_type": "stream",
     "text": [
      "C:\\ProgramData\\Anaconda3\\lib\\site-packages\\pandas\\core\\indexing.py:965: SettingWithCopyWarning: \n",
      "A value is trying to be set on a copy of a slice from a DataFrame.\n",
      "Try using .loc[row_indexer,col_indexer] = value instead\n",
      "\n",
      "See the caveats in the documentation: https://pandas.pydata.org/pandas-docs/stable/user_guide/indexing.html#returning-a-view-versus-a-copy\n",
      "  self.obj[item] = s\n"
     ]
    }
   ],
   "source": [
    "val.loc[:,'User_Traffic']=val_User_Traffic_MA"
   ]
  },
  {
   "cell_type": "code",
   "execution_count": 128,
   "metadata": {},
   "outputs": [],
   "source": [
    "# mean_UT=train.groupby([\"Course_ID\",\"Week_No\",\"Short_Promotion\",\"Day_of_2_Weeks\"])[\"User_Traffic\"].mean().to_frame()\n",
    "# mean_UT.reset_index(inplace=True)\n",
    "# mean_UT[\"Group_Traffic\"]=mean_UT[\"User_Traffic\"]\n",
    "# mean_UT.drop(columns=\"User_Traffic\",inplace=True)\n",
    "# mean_UT"
   ]
  },
  {
   "cell_type": "code",
   "execution_count": 129,
   "metadata": {},
   "outputs": [],
   "source": [
    "# train=train.merge(mean_UT,how=\"left\")\n",
    "# test=test.merge(mean_UT,how=\"left\")"
   ]
  },
  {
   "cell_type": "code",
   "execution_count": 130,
   "metadata": {},
   "outputs": [],
   "source": [
    "# train.drop(columns=[\"ID\",\"User_Traffic\",\"Day_No\"],inplace=True)\n",
    "# test.drop(columns=[\"ID\",\"Day_No\"],inplace=True)"
   ]
  },
  {
   "cell_type": "code",
   "execution_count": 131,
   "metadata": {},
   "outputs": [
    {
     "name": "stderr",
     "output_type": "stream",
     "text": [
      "C:\\ProgramData\\Anaconda3\\lib\\site-packages\\ipykernel_launcher.py:3: SettingWithCopyWarning: \n",
      "A value is trying to be set on a copy of a slice from a DataFrame.\n",
      "Try using .loc[row_indexer,col_indexer] = value instead\n",
      "\n",
      "See the caveats in the documentation: https://pandas.pydata.org/pandas-docs/stable/user_guide/indexing.html#returning-a-view-versus-a-copy\n",
      "  This is separate from the ipykernel package so we can avoid doing imports until\n",
      "C:\\ProgramData\\Anaconda3\\lib\\site-packages\\ipykernel_launcher.py:4: SettingWithCopyWarning: \n",
      "A value is trying to be set on a copy of a slice from a DataFrame.\n",
      "Try using .loc[row_indexer,col_indexer] = value instead\n",
      "\n",
      "See the caveats in the documentation: https://pandas.pydata.org/pandas-docs/stable/user_guide/indexing.html#returning-a-view-versus-a-copy\n",
      "  after removing the cwd from sys.path.\n",
      "C:\\ProgramData\\Anaconda3\\lib\\site-packages\\ipykernel_launcher.py:7: SettingWithCopyWarning: \n",
      "A value is trying to be set on a copy of a slice from a DataFrame.\n",
      "Try using .loc[row_indexer,col_indexer] = value instead\n",
      "\n",
      "See the caveats in the documentation: https://pandas.pydata.org/pandas-docs/stable/user_guide/indexing.html#returning-a-view-versus-a-copy\n",
      "  import sys\n",
      "C:\\ProgramData\\Anaconda3\\lib\\site-packages\\ipykernel_launcher.py:8: SettingWithCopyWarning: \n",
      "A value is trying to be set on a copy of a slice from a DataFrame.\n",
      "Try using .loc[row_indexer,col_indexer] = value instead\n",
      "\n",
      "See the caveats in the documentation: https://pandas.pydata.org/pandas-docs/stable/user_guide/indexing.html#returning-a-view-versus-a-copy\n",
      "  \n"
     ]
    }
   ],
   "source": [
    "# train[\"Sales\"]=np.log1p(train[\"Sales\"])\n",
    "\n",
    "traaiin[\"Sales\"]=np.log1p(traaiin[\"Sales\"])\n",
    "traaiin[\"User_Traffic\"]=np.log1p(traaiin[\"User_Traffic\"])\n",
    "\n",
    "\n",
    "val[\"Sales\"]=np.log1p(val[\"Sales\"])\n",
    "val[\"User_Traffic\"]=np.log1p(val[\"User_Traffic\"])"
   ]
  },
  {
   "cell_type": "code",
   "execution_count": 132,
   "metadata": {},
   "outputs": [],
   "source": [
    "def export_submission(predictions,filename=\"Sample.csv\"):\n",
    "    \n",
    "    ss=sample_sub.copy()\n",
    "    ss[\"Sales\"]=np.expm1(predictions)\n",
    "    ss.to_csv(f\"{filename}.csv\",index=False)"
   ]
  },
  {
   "cell_type": "code",
   "execution_count": 133,
   "metadata": {},
   "outputs": [
    {
     "data": {
      "text/plain": [
       "ID                      int64\n",
       "Day_No                  int64\n",
       "Course_ID               int64\n",
       "Course_Domain          object\n",
       "Course_Type            object\n",
       "Short_Promotion         int64\n",
       "Public_Holiday          int64\n",
       "Long_Promotion          int64\n",
       "User_Traffic            int64\n",
       "Competition_Metric    float64\n",
       "Sales                   int64\n",
       "Day_of_2_Weeks          int64\n",
       "Week_No                 int64\n",
       "Year_No                 int32\n",
       "dtype: object"
      ]
     },
     "execution_count": 133,
     "metadata": {},
     "output_type": "execute_result"
    }
   ],
   "source": [
    "train.dtypes"
   ]
  },
  {
   "cell_type": "code",
   "execution_count": 134,
   "metadata": {},
   "outputs": [
    {
     "data": {
      "text/plain": [
       "Course_Domain\n",
       "Business                186.592971\n",
       "Development             120.016391\n",
       "Finance & Accounting    124.520231\n",
       "Software Marketing      118.654665\n",
       "Name: Sales, dtype: float64"
      ]
     },
     "execution_count": 134,
     "metadata": {},
     "output_type": "execute_result"
    }
   ],
   "source": [
    "train.groupby(\"Course_Domain\").mean()[\"Sales\"]"
   ]
  },
  {
   "cell_type": "code",
   "execution_count": 135,
   "metadata": {},
   "outputs": [
    {
     "data": {
      "text/plain": [
       "Course_Type\n",
       "Course     113.411236\n",
       "Degree     184.061224\n",
       "Program    128.246482\n",
       "Name: Sales, dtype: float64"
      ]
     },
     "execution_count": 135,
     "metadata": {},
     "output_type": "execute_result"
    }
   ],
   "source": [
    "train.groupby(\"Course_Type\").mean()[\"Sales\"]"
   ]
  },
  {
   "cell_type": "code",
   "execution_count": 136,
   "metadata": {},
   "outputs": [
    {
     "name": "stderr",
     "output_type": "stream",
     "text": [
      "C:\\ProgramData\\Anaconda3\\lib\\site-packages\\ipykernel_launcher.py:1: SettingWithCopyWarning: \n",
      "A value is trying to be set on a copy of a slice from a DataFrame.\n",
      "Try using .loc[row_indexer,col_indexer] = value instead\n",
      "\n",
      "See the caveats in the documentation: https://pandas.pydata.org/pandas-docs/stable/user_guide/indexing.html#returning-a-view-versus-a-copy\n",
      "  \"\"\"Entry point for launching an IPython kernel.\n",
      "C:\\ProgramData\\Anaconda3\\lib\\site-packages\\ipykernel_launcher.py:2: SettingWithCopyWarning: \n",
      "A value is trying to be set on a copy of a slice from a DataFrame.\n",
      "Try using .loc[row_indexer,col_indexer] = value instead\n",
      "\n",
      "See the caveats in the documentation: https://pandas.pydata.org/pandas-docs/stable/user_guide/indexing.html#returning-a-view-versus-a-copy\n",
      "  \n"
     ]
    }
   ],
   "source": [
    "traaiin[\"Course_Domain\"]=traaiin[\"Course_Domain\"].map({'Business':0,\"Development\":1,\"Finance & Accounting\":2,\"Software Marketing\":3})\n",
    "val[\"Course_Domain\"]=val[\"Course_Domain\"].map({'Business':0,\"Development\":1,\"Finance & Accounting\":2,\"Software Marketing\":3})"
   ]
  },
  {
   "cell_type": "code",
   "execution_count": 137,
   "metadata": {},
   "outputs": [
    {
     "name": "stderr",
     "output_type": "stream",
     "text": [
      "C:\\ProgramData\\Anaconda3\\lib\\site-packages\\ipykernel_launcher.py:1: SettingWithCopyWarning: \n",
      "A value is trying to be set on a copy of a slice from a DataFrame.\n",
      "Try using .loc[row_indexer,col_indexer] = value instead\n",
      "\n",
      "See the caveats in the documentation: https://pandas.pydata.org/pandas-docs/stable/user_guide/indexing.html#returning-a-view-versus-a-copy\n",
      "  \"\"\"Entry point for launching an IPython kernel.\n",
      "C:\\ProgramData\\Anaconda3\\lib\\site-packages\\ipykernel_launcher.py:2: SettingWithCopyWarning: \n",
      "A value is trying to be set on a copy of a slice from a DataFrame.\n",
      "Try using .loc[row_indexer,col_indexer] = value instead\n",
      "\n",
      "See the caveats in the documentation: https://pandas.pydata.org/pandas-docs/stable/user_guide/indexing.html#returning-a-view-versus-a-copy\n",
      "  \n"
     ]
    }
   ],
   "source": [
    "traaiin[\"Course_Type\"]=traaiin[\"Course_Type\"].map({'Course':0,\"Degree\":1,\"Program\":2})\n",
    "val[\"Course_Type\"]=val[\"Course_Type\"].map({'Course':0,\"Degree\":1,\"Program\":2})"
   ]
  },
  {
   "cell_type": "code",
   "execution_count": 138,
   "metadata": {},
   "outputs": [
    {
     "data": {
      "text/html": [
       "<div>\n",
       "<style scoped>\n",
       "    .dataframe tbody tr th:only-of-type {\n",
       "        vertical-align: middle;\n",
       "    }\n",
       "\n",
       "    .dataframe tbody tr th {\n",
       "        vertical-align: top;\n",
       "    }\n",
       "\n",
       "    .dataframe thead th {\n",
       "        text-align: right;\n",
       "    }\n",
       "</style>\n",
       "<table border=\"1\" class=\"dataframe\">\n",
       "  <thead>\n",
       "    <tr style=\"text-align: right;\">\n",
       "      <th></th>\n",
       "      <th>ID</th>\n",
       "      <th>Day_No</th>\n",
       "      <th>Course_ID</th>\n",
       "      <th>Course_Domain</th>\n",
       "      <th>Course_Type</th>\n",
       "      <th>Short_Promotion</th>\n",
       "      <th>Public_Holiday</th>\n",
       "      <th>Long_Promotion</th>\n",
       "      <th>User_Traffic</th>\n",
       "      <th>Competition_Metric</th>\n",
       "      <th>Sales</th>\n",
       "      <th>Day_of_2_Weeks</th>\n",
       "      <th>Week_No</th>\n",
       "      <th>Year_No</th>\n",
       "    </tr>\n",
       "  </thead>\n",
       "  <tbody>\n",
       "    <tr>\n",
       "      <th>0</th>\n",
       "      <td>1</td>\n",
       "      <td>1</td>\n",
       "      <td>1</td>\n",
       "      <td>1</td>\n",
       "      <td>0</td>\n",
       "      <td>0</td>\n",
       "      <td>1</td>\n",
       "      <td>1</td>\n",
       "      <td>9.306105</td>\n",
       "      <td>0.007</td>\n",
       "      <td>4.406719</td>\n",
       "      <td>1</td>\n",
       "      <td>1</td>\n",
       "      <td>1</td>\n",
       "    </tr>\n",
       "    <tr>\n",
       "      <th>1</th>\n",
       "      <td>2</td>\n",
       "      <td>2</td>\n",
       "      <td>1</td>\n",
       "      <td>1</td>\n",
       "      <td>0</td>\n",
       "      <td>0</td>\n",
       "      <td>0</td>\n",
       "      <td>1</td>\n",
       "      <td>9.521568</td>\n",
       "      <td>0.007</td>\n",
       "      <td>4.382027</td>\n",
       "      <td>2</td>\n",
       "      <td>1</td>\n",
       "      <td>1</td>\n",
       "    </tr>\n",
       "    <tr>\n",
       "      <th>2</th>\n",
       "      <td>3</td>\n",
       "      <td>3</td>\n",
       "      <td>1</td>\n",
       "      <td>1</td>\n",
       "      <td>0</td>\n",
       "      <td>0</td>\n",
       "      <td>0</td>\n",
       "      <td>1</td>\n",
       "      <td>9.363576</td>\n",
       "      <td>0.007</td>\n",
       "      <td>4.330733</td>\n",
       "      <td>3</td>\n",
       "      <td>1</td>\n",
       "      <td>1</td>\n",
       "    </tr>\n",
       "    <tr>\n",
       "      <th>3</th>\n",
       "      <td>4</td>\n",
       "      <td>4</td>\n",
       "      <td>1</td>\n",
       "      <td>1</td>\n",
       "      <td>0</td>\n",
       "      <td>0</td>\n",
       "      <td>0</td>\n",
       "      <td>1</td>\n",
       "      <td>9.397235</td>\n",
       "      <td>0.007</td>\n",
       "      <td>4.394449</td>\n",
       "      <td>4</td>\n",
       "      <td>1</td>\n",
       "      <td>1</td>\n",
       "    </tr>\n",
       "    <tr>\n",
       "      <th>4</th>\n",
       "      <td>5</td>\n",
       "      <td>5</td>\n",
       "      <td>1</td>\n",
       "      <td>1</td>\n",
       "      <td>0</td>\n",
       "      <td>0</td>\n",
       "      <td>0</td>\n",
       "      <td>1</td>\n",
       "      <td>8.825413</td>\n",
       "      <td>0.007</td>\n",
       "      <td>3.737670</td>\n",
       "      <td>5</td>\n",
       "      <td>1</td>\n",
       "      <td>1</td>\n",
       "    </tr>\n",
       "    <tr>\n",
       "      <th>...</th>\n",
       "      <td>...</td>\n",
       "      <td>...</td>\n",
       "      <td>...</td>\n",
       "      <td>...</td>\n",
       "      <td>...</td>\n",
       "      <td>...</td>\n",
       "      <td>...</td>\n",
       "      <td>...</td>\n",
       "      <td>...</td>\n",
       "      <td>...</td>\n",
       "      <td>...</td>\n",
       "      <td>...</td>\n",
       "      <td>...</td>\n",
       "      <td>...</td>\n",
       "    </tr>\n",
       "    <tr>\n",
       "      <th>512022</th>\n",
       "      <td>547963</td>\n",
       "      <td>818</td>\n",
       "      <td>600</td>\n",
       "      <td>3</td>\n",
       "      <td>2</td>\n",
       "      <td>0</td>\n",
       "      <td>0</td>\n",
       "      <td>1</td>\n",
       "      <td>8.941807</td>\n",
       "      <td>0.070</td>\n",
       "      <td>4.418841</td>\n",
       "      <td>6</td>\n",
       "      <td>13</td>\n",
       "      <td>3</td>\n",
       "    </tr>\n",
       "    <tr>\n",
       "      <th>512023</th>\n",
       "      <td>547964</td>\n",
       "      <td>819</td>\n",
       "      <td>600</td>\n",
       "      <td>3</td>\n",
       "      <td>2</td>\n",
       "      <td>1</td>\n",
       "      <td>0</td>\n",
       "      <td>1</td>\n",
       "      <td>9.538348</td>\n",
       "      <td>0.070</td>\n",
       "      <td>5.351858</td>\n",
       "      <td>7</td>\n",
       "      <td>13</td>\n",
       "      <td>3</td>\n",
       "    </tr>\n",
       "    <tr>\n",
       "      <th>512024</th>\n",
       "      <td>547965</td>\n",
       "      <td>820</td>\n",
       "      <td>600</td>\n",
       "      <td>3</td>\n",
       "      <td>2</td>\n",
       "      <td>1</td>\n",
       "      <td>0</td>\n",
       "      <td>1</td>\n",
       "      <td>9.367173</td>\n",
       "      <td>0.070</td>\n",
       "      <td>5.099866</td>\n",
       "      <td>8</td>\n",
       "      <td>14</td>\n",
       "      <td>3</td>\n",
       "    </tr>\n",
       "    <tr>\n",
       "      <th>512025</th>\n",
       "      <td>547966</td>\n",
       "      <td>821</td>\n",
       "      <td>600</td>\n",
       "      <td>3</td>\n",
       "      <td>2</td>\n",
       "      <td>1</td>\n",
       "      <td>0</td>\n",
       "      <td>1</td>\n",
       "      <td>9.438193</td>\n",
       "      <td>0.070</td>\n",
       "      <td>5.252273</td>\n",
       "      <td>9</td>\n",
       "      <td>14</td>\n",
       "      <td>3</td>\n",
       "    </tr>\n",
       "    <tr>\n",
       "      <th>512026</th>\n",
       "      <td>547967</td>\n",
       "      <td>822</td>\n",
       "      <td>600</td>\n",
       "      <td>3</td>\n",
       "      <td>2</td>\n",
       "      <td>1</td>\n",
       "      <td>0</td>\n",
       "      <td>1</td>\n",
       "      <td>9.602788</td>\n",
       "      <td>0.070</td>\n",
       "      <td>5.303305</td>\n",
       "      <td>10</td>\n",
       "      <td>14</td>\n",
       "      <td>3</td>\n",
       "    </tr>\n",
       "  </tbody>\n",
       "</table>\n",
       "<p>476087 rows × 14 columns</p>\n",
       "</div>"
      ],
      "text/plain": [
       "            ID  Day_No  Course_ID  Course_Domain  Course_Type  \\\n",
       "0            1       1          1              1            0   \n",
       "1            2       2          1              1            0   \n",
       "2            3       3          1              1            0   \n",
       "3            4       4          1              1            0   \n",
       "4            5       5          1              1            0   \n",
       "...        ...     ...        ...            ...          ...   \n",
       "512022  547963     818        600              3            2   \n",
       "512023  547964     819        600              3            2   \n",
       "512024  547965     820        600              3            2   \n",
       "512025  547966     821        600              3            2   \n",
       "512026  547967     822        600              3            2   \n",
       "\n",
       "        Short_Promotion  Public_Holiday  Long_Promotion  User_Traffic  \\\n",
       "0                     0               1               1      9.306105   \n",
       "1                     0               0               1      9.521568   \n",
       "2                     0               0               1      9.363576   \n",
       "3                     0               0               1      9.397235   \n",
       "4                     0               0               1      8.825413   \n",
       "...                 ...             ...             ...           ...   \n",
       "512022                0               0               1      8.941807   \n",
       "512023                1               0               1      9.538348   \n",
       "512024                1               0               1      9.367173   \n",
       "512025                1               0               1      9.438193   \n",
       "512026                1               0               1      9.602788   \n",
       "\n",
       "        Competition_Metric     Sales  Day_of_2_Weeks  Week_No  Year_No  \n",
       "0                    0.007  4.406719               1        1        1  \n",
       "1                    0.007  4.382027               2        1        1  \n",
       "2                    0.007  4.330733               3        1        1  \n",
       "3                    0.007  4.394449               4        1        1  \n",
       "4                    0.007  3.737670               5        1        1  \n",
       "...                    ...       ...             ...      ...      ...  \n",
       "512022               0.070  4.418841               6       13        3  \n",
       "512023               0.070  5.351858               7       13        3  \n",
       "512024               0.070  5.099866               8       14        3  \n",
       "512025               0.070  5.252273               9       14        3  \n",
       "512026               0.070  5.303305              10       14        3  \n",
       "\n",
       "[476087 rows x 14 columns]"
      ]
     },
     "execution_count": 138,
     "metadata": {},
     "output_type": "execute_result"
    }
   ],
   "source": [
    "traaiin"
   ]
  },
  {
   "cell_type": "code",
   "execution_count": 139,
   "metadata": {},
   "outputs": [
    {
     "data": {
      "text/html": [
       "<div>\n",
       "<style scoped>\n",
       "    .dataframe tbody tr th:only-of-type {\n",
       "        vertical-align: middle;\n",
       "    }\n",
       "\n",
       "    .dataframe tbody tr th {\n",
       "        vertical-align: top;\n",
       "    }\n",
       "\n",
       "    .dataframe thead th {\n",
       "        text-align: right;\n",
       "    }\n",
       "</style>\n",
       "<table border=\"1\" class=\"dataframe\">\n",
       "  <thead>\n",
       "    <tr style=\"text-align: right;\">\n",
       "      <th></th>\n",
       "      <th>ID</th>\n",
       "      <th>Day_No</th>\n",
       "      <th>Course_ID</th>\n",
       "      <th>Course_Domain</th>\n",
       "      <th>Course_Type</th>\n",
       "      <th>Short_Promotion</th>\n",
       "      <th>Public_Holiday</th>\n",
       "      <th>Long_Promotion</th>\n",
       "      <th>User_Traffic</th>\n",
       "      <th>Competition_Metric</th>\n",
       "      <th>Sales</th>\n",
       "      <th>Day_of_2_Weeks</th>\n",
       "      <th>Week_No</th>\n",
       "      <th>Year_No</th>\n",
       "    </tr>\n",
       "  </thead>\n",
       "  <tbody>\n",
       "    <tr>\n",
       "      <th>822</th>\n",
       "      <td>823</td>\n",
       "      <td>823</td>\n",
       "      <td>1</td>\n",
       "      <td>1</td>\n",
       "      <td>0</td>\n",
       "      <td>1</td>\n",
       "      <td>1</td>\n",
       "      <td>1</td>\n",
       "      <td>9.384336</td>\n",
       "      <td>0.007</td>\n",
       "      <td>4.143135</td>\n",
       "      <td>11</td>\n",
       "      <td>14</td>\n",
       "      <td>3</td>\n",
       "    </tr>\n",
       "    <tr>\n",
       "      <th>823</th>\n",
       "      <td>824</td>\n",
       "      <td>824</td>\n",
       "      <td>1</td>\n",
       "      <td>1</td>\n",
       "      <td>0</td>\n",
       "      <td>0</td>\n",
       "      <td>0</td>\n",
       "      <td>1</td>\n",
       "      <td>9.370118</td>\n",
       "      <td>0.007</td>\n",
       "      <td>4.394449</td>\n",
       "      <td>12</td>\n",
       "      <td>14</td>\n",
       "      <td>3</td>\n",
       "    </tr>\n",
       "    <tr>\n",
       "      <th>824</th>\n",
       "      <td>825</td>\n",
       "      <td>825</td>\n",
       "      <td>1</td>\n",
       "      <td>1</td>\n",
       "      <td>0</td>\n",
       "      <td>0</td>\n",
       "      <td>0</td>\n",
       "      <td>1</td>\n",
       "      <td>9.387733</td>\n",
       "      <td>0.007</td>\n",
       "      <td>4.418841</td>\n",
       "      <td>13</td>\n",
       "      <td>14</td>\n",
       "      <td>3</td>\n",
       "    </tr>\n",
       "    <tr>\n",
       "      <th>825</th>\n",
       "      <td>826</td>\n",
       "      <td>826</td>\n",
       "      <td>1</td>\n",
       "      <td>1</td>\n",
       "      <td>0</td>\n",
       "      <td>0</td>\n",
       "      <td>1</td>\n",
       "      <td>1</td>\n",
       "      <td>9.385595</td>\n",
       "      <td>0.007</td>\n",
       "      <td>2.772589</td>\n",
       "      <td>14</td>\n",
       "      <td>14</td>\n",
       "      <td>3</td>\n",
       "    </tr>\n",
       "    <tr>\n",
       "      <th>826</th>\n",
       "      <td>827</td>\n",
       "      <td>827</td>\n",
       "      <td>1</td>\n",
       "      <td>1</td>\n",
       "      <td>0</td>\n",
       "      <td>0</td>\n",
       "      <td>0</td>\n",
       "      <td>1</td>\n",
       "      <td>9.334724</td>\n",
       "      <td>0.007</td>\n",
       "      <td>4.418841</td>\n",
       "      <td>1</td>\n",
       "      <td>15</td>\n",
       "      <td>3</td>\n",
       "    </tr>\n",
       "    <tr>\n",
       "      <th>...</th>\n",
       "      <td>...</td>\n",
       "      <td>...</td>\n",
       "      <td>...</td>\n",
       "      <td>...</td>\n",
       "      <td>...</td>\n",
       "      <td>...</td>\n",
       "      <td>...</td>\n",
       "      <td>...</td>\n",
       "      <td>...</td>\n",
       "      <td>...</td>\n",
       "      <td>...</td>\n",
       "      <td>...</td>\n",
       "      <td>...</td>\n",
       "      <td>...</td>\n",
       "    </tr>\n",
       "    <tr>\n",
       "      <th>512082</th>\n",
       "      <td>548023</td>\n",
       "      <td>878</td>\n",
       "      <td>600</td>\n",
       "      <td>3</td>\n",
       "      <td>2</td>\n",
       "      <td>0</td>\n",
       "      <td>0</td>\n",
       "      <td>1</td>\n",
       "      <td>9.229211</td>\n",
       "      <td>0.070</td>\n",
       "      <td>4.744932</td>\n",
       "      <td>10</td>\n",
       "      <td>22</td>\n",
       "      <td>3</td>\n",
       "    </tr>\n",
       "    <tr>\n",
       "      <th>512083</th>\n",
       "      <td>548024</td>\n",
       "      <td>879</td>\n",
       "      <td>600</td>\n",
       "      <td>3</td>\n",
       "      <td>2</td>\n",
       "      <td>0</td>\n",
       "      <td>0</td>\n",
       "      <td>1</td>\n",
       "      <td>9.234789</td>\n",
       "      <td>0.070</td>\n",
       "      <td>4.983607</td>\n",
       "      <td>11</td>\n",
       "      <td>22</td>\n",
       "      <td>3</td>\n",
       "    </tr>\n",
       "    <tr>\n",
       "      <th>512084</th>\n",
       "      <td>548025</td>\n",
       "      <td>880</td>\n",
       "      <td>600</td>\n",
       "      <td>3</td>\n",
       "      <td>2</td>\n",
       "      <td>0</td>\n",
       "      <td>0</td>\n",
       "      <td>1</td>\n",
       "      <td>9.228033</td>\n",
       "      <td>0.070</td>\n",
       "      <td>5.123964</td>\n",
       "      <td>12</td>\n",
       "      <td>22</td>\n",
       "      <td>3</td>\n",
       "    </tr>\n",
       "    <tr>\n",
       "      <th>512085</th>\n",
       "      <td>548026</td>\n",
       "      <td>881</td>\n",
       "      <td>600</td>\n",
       "      <td>3</td>\n",
       "      <td>2</td>\n",
       "      <td>0</td>\n",
       "      <td>0</td>\n",
       "      <td>1</td>\n",
       "      <td>9.243098</td>\n",
       "      <td>0.070</td>\n",
       "      <td>4.682131</td>\n",
       "      <td>13</td>\n",
       "      <td>22</td>\n",
       "      <td>3</td>\n",
       "    </tr>\n",
       "    <tr>\n",
       "      <th>512086</th>\n",
       "      <td>548027</td>\n",
       "      <td>882</td>\n",
       "      <td>600</td>\n",
       "      <td>3</td>\n",
       "      <td>2</td>\n",
       "      <td>1</td>\n",
       "      <td>0</td>\n",
       "      <td>1</td>\n",
       "      <td>9.248166</td>\n",
       "      <td>0.070</td>\n",
       "      <td>5.030438</td>\n",
       "      <td>14</td>\n",
       "      <td>22</td>\n",
       "      <td>3</td>\n",
       "    </tr>\n",
       "  </tbody>\n",
       "</table>\n",
       "<p>36000 rows × 14 columns</p>\n",
       "</div>"
      ],
      "text/plain": [
       "            ID  Day_No  Course_ID  Course_Domain  Course_Type  \\\n",
       "822        823     823          1              1            0   \n",
       "823        824     824          1              1            0   \n",
       "824        825     825          1              1            0   \n",
       "825        826     826          1              1            0   \n",
       "826        827     827          1              1            0   \n",
       "...        ...     ...        ...            ...          ...   \n",
       "512082  548023     878        600              3            2   \n",
       "512083  548024     879        600              3            2   \n",
       "512084  548025     880        600              3            2   \n",
       "512085  548026     881        600              3            2   \n",
       "512086  548027     882        600              3            2   \n",
       "\n",
       "        Short_Promotion  Public_Holiday  Long_Promotion  User_Traffic  \\\n",
       "822                   1               1               1      9.384336   \n",
       "823                   0               0               1      9.370118   \n",
       "824                   0               0               1      9.387733   \n",
       "825                   0               1               1      9.385595   \n",
       "826                   0               0               1      9.334724   \n",
       "...                 ...             ...             ...           ...   \n",
       "512082                0               0               1      9.229211   \n",
       "512083                0               0               1      9.234789   \n",
       "512084                0               0               1      9.228033   \n",
       "512085                0               0               1      9.243098   \n",
       "512086                1               0               1      9.248166   \n",
       "\n",
       "        Competition_Metric     Sales  Day_of_2_Weeks  Week_No  Year_No  \n",
       "822                  0.007  4.143135              11       14        3  \n",
       "823                  0.007  4.394449              12       14        3  \n",
       "824                  0.007  4.418841              13       14        3  \n",
       "825                  0.007  2.772589              14       14        3  \n",
       "826                  0.007  4.418841               1       15        3  \n",
       "...                    ...       ...             ...      ...      ...  \n",
       "512082               0.070  4.744932              10       22        3  \n",
       "512083               0.070  4.983607              11       22        3  \n",
       "512084               0.070  5.123964              12       22        3  \n",
       "512085               0.070  4.682131              13       22        3  \n",
       "512086               0.070  5.030438              14       22        3  \n",
       "\n",
       "[36000 rows x 14 columns]"
      ]
     },
     "execution_count": 139,
     "metadata": {},
     "output_type": "execute_result"
    }
   ],
   "source": [
    "val"
   ]
  },
  {
   "cell_type": "code",
   "execution_count": null,
   "metadata": {},
   "outputs": [],
   "source": []
  },
  {
   "cell_type": "code",
   "execution_count": 140,
   "metadata": {},
   "outputs": [],
   "source": [
    "X_train,y_train,X_val,y_val=traaiin.drop(columns=\"Sales\"),traaiin[\"Sales\"],val.drop(columns=\"Sales\"),val[\"Sales\"]"
   ]
  },
  {
   "cell_type": "code",
   "execution_count": 105,
   "metadata": {},
   "outputs": [
    {
     "data": {
      "text/html": [
       "<div>\n",
       "<style scoped>\n",
       "    .dataframe tbody tr th:only-of-type {\n",
       "        vertical-align: middle;\n",
       "    }\n",
       "\n",
       "    .dataframe tbody tr th {\n",
       "        vertical-align: top;\n",
       "    }\n",
       "\n",
       "    .dataframe thead th {\n",
       "        text-align: right;\n",
       "    }\n",
       "</style>\n",
       "<table border=\"1\" class=\"dataframe\">\n",
       "  <thead>\n",
       "    <tr style=\"text-align: right;\">\n",
       "      <th></th>\n",
       "      <th>ID</th>\n",
       "      <th>Day_No</th>\n",
       "      <th>Course_ID</th>\n",
       "      <th>Course_Domain</th>\n",
       "      <th>Course_Type</th>\n",
       "      <th>Short_Promotion</th>\n",
       "      <th>Public_Holiday</th>\n",
       "      <th>Long_Promotion</th>\n",
       "      <th>User_Traffic</th>\n",
       "      <th>Competition_Metric</th>\n",
       "      <th>Day_of_2_Weeks</th>\n",
       "      <th>Week_No</th>\n",
       "      <th>Year_No</th>\n",
       "    </tr>\n",
       "  </thead>\n",
       "  <tbody>\n",
       "    <tr>\n",
       "      <th>0</th>\n",
       "      <td>1</td>\n",
       "      <td>1</td>\n",
       "      <td>1</td>\n",
       "      <td>1</td>\n",
       "      <td>0</td>\n",
       "      <td>0</td>\n",
       "      <td>1</td>\n",
       "      <td>1</td>\n",
       "      <td>11004</td>\n",
       "      <td>0.007</td>\n",
       "      <td>1</td>\n",
       "      <td>1</td>\n",
       "      <td>1</td>\n",
       "    </tr>\n",
       "    <tr>\n",
       "      <th>1</th>\n",
       "      <td>2</td>\n",
       "      <td>2</td>\n",
       "      <td>1</td>\n",
       "      <td>1</td>\n",
       "      <td>0</td>\n",
       "      <td>0</td>\n",
       "      <td>0</td>\n",
       "      <td>1</td>\n",
       "      <td>13650</td>\n",
       "      <td>0.007</td>\n",
       "      <td>2</td>\n",
       "      <td>1</td>\n",
       "      <td>1</td>\n",
       "    </tr>\n",
       "    <tr>\n",
       "      <th>2</th>\n",
       "      <td>3</td>\n",
       "      <td>3</td>\n",
       "      <td>1</td>\n",
       "      <td>1</td>\n",
       "      <td>0</td>\n",
       "      <td>0</td>\n",
       "      <td>0</td>\n",
       "      <td>1</td>\n",
       "      <td>11655</td>\n",
       "      <td>0.007</td>\n",
       "      <td>3</td>\n",
       "      <td>1</td>\n",
       "      <td>1</td>\n",
       "    </tr>\n",
       "    <tr>\n",
       "      <th>3</th>\n",
       "      <td>4</td>\n",
       "      <td>4</td>\n",
       "      <td>1</td>\n",
       "      <td>1</td>\n",
       "      <td>0</td>\n",
       "      <td>0</td>\n",
       "      <td>0</td>\n",
       "      <td>1</td>\n",
       "      <td>12054</td>\n",
       "      <td>0.007</td>\n",
       "      <td>4</td>\n",
       "      <td>1</td>\n",
       "      <td>1</td>\n",
       "    </tr>\n",
       "    <tr>\n",
       "      <th>4</th>\n",
       "      <td>5</td>\n",
       "      <td>5</td>\n",
       "      <td>1</td>\n",
       "      <td>1</td>\n",
       "      <td>0</td>\n",
       "      <td>0</td>\n",
       "      <td>0</td>\n",
       "      <td>1</td>\n",
       "      <td>6804</td>\n",
       "      <td>0.007</td>\n",
       "      <td>5</td>\n",
       "      <td>1</td>\n",
       "      <td>1</td>\n",
       "    </tr>\n",
       "    <tr>\n",
       "      <th>...</th>\n",
       "      <td>...</td>\n",
       "      <td>...</td>\n",
       "      <td>...</td>\n",
       "      <td>...</td>\n",
       "      <td>...</td>\n",
       "      <td>...</td>\n",
       "      <td>...</td>\n",
       "      <td>...</td>\n",
       "      <td>...</td>\n",
       "      <td>...</td>\n",
       "      <td>...</td>\n",
       "      <td>...</td>\n",
       "      <td>...</td>\n",
       "    </tr>\n",
       "    <tr>\n",
       "      <th>512022</th>\n",
       "      <td>547963</td>\n",
       "      <td>818</td>\n",
       "      <td>600</td>\n",
       "      <td>3</td>\n",
       "      <td>2</td>\n",
       "      <td>0</td>\n",
       "      <td>0</td>\n",
       "      <td>1</td>\n",
       "      <td>7644</td>\n",
       "      <td>0.070</td>\n",
       "      <td>6</td>\n",
       "      <td>13</td>\n",
       "      <td>3</td>\n",
       "    </tr>\n",
       "    <tr>\n",
       "      <th>512023</th>\n",
       "      <td>547964</td>\n",
       "      <td>819</td>\n",
       "      <td>600</td>\n",
       "      <td>3</td>\n",
       "      <td>2</td>\n",
       "      <td>1</td>\n",
       "      <td>0</td>\n",
       "      <td>1</td>\n",
       "      <td>13881</td>\n",
       "      <td>0.070</td>\n",
       "      <td>7</td>\n",
       "      <td>13</td>\n",
       "      <td>3</td>\n",
       "    </tr>\n",
       "    <tr>\n",
       "      <th>512024</th>\n",
       "      <td>547965</td>\n",
       "      <td>820</td>\n",
       "      <td>600</td>\n",
       "      <td>3</td>\n",
       "      <td>2</td>\n",
       "      <td>1</td>\n",
       "      <td>0</td>\n",
       "      <td>1</td>\n",
       "      <td>11697</td>\n",
       "      <td>0.070</td>\n",
       "      <td>8</td>\n",
       "      <td>14</td>\n",
       "      <td>3</td>\n",
       "    </tr>\n",
       "    <tr>\n",
       "      <th>512025</th>\n",
       "      <td>547966</td>\n",
       "      <td>821</td>\n",
       "      <td>600</td>\n",
       "      <td>3</td>\n",
       "      <td>2</td>\n",
       "      <td>1</td>\n",
       "      <td>0</td>\n",
       "      <td>1</td>\n",
       "      <td>12558</td>\n",
       "      <td>0.070</td>\n",
       "      <td>9</td>\n",
       "      <td>14</td>\n",
       "      <td>3</td>\n",
       "    </tr>\n",
       "    <tr>\n",
       "      <th>512026</th>\n",
       "      <td>547967</td>\n",
       "      <td>822</td>\n",
       "      <td>600</td>\n",
       "      <td>3</td>\n",
       "      <td>2</td>\n",
       "      <td>1</td>\n",
       "      <td>0</td>\n",
       "      <td>1</td>\n",
       "      <td>14805</td>\n",
       "      <td>0.070</td>\n",
       "      <td>10</td>\n",
       "      <td>14</td>\n",
       "      <td>3</td>\n",
       "    </tr>\n",
       "  </tbody>\n",
       "</table>\n",
       "<p>476087 rows × 13 columns</p>\n",
       "</div>"
      ],
      "text/plain": [
       "            ID  Day_No  Course_ID  Course_Domain  Course_Type  \\\n",
       "0            1       1          1              1            0   \n",
       "1            2       2          1              1            0   \n",
       "2            3       3          1              1            0   \n",
       "3            4       4          1              1            0   \n",
       "4            5       5          1              1            0   \n",
       "...        ...     ...        ...            ...          ...   \n",
       "512022  547963     818        600              3            2   \n",
       "512023  547964     819        600              3            2   \n",
       "512024  547965     820        600              3            2   \n",
       "512025  547966     821        600              3            2   \n",
       "512026  547967     822        600              3            2   \n",
       "\n",
       "        Short_Promotion  Public_Holiday  Long_Promotion  User_Traffic  \\\n",
       "0                     0               1               1         11004   \n",
       "1                     0               0               1         13650   \n",
       "2                     0               0               1         11655   \n",
       "3                     0               0               1         12054   \n",
       "4                     0               0               1          6804   \n",
       "...                 ...             ...             ...           ...   \n",
       "512022                0               0               1          7644   \n",
       "512023                1               0               1         13881   \n",
       "512024                1               0               1         11697   \n",
       "512025                1               0               1         12558   \n",
       "512026                1               0               1         14805   \n",
       "\n",
       "        Competition_Metric  Day_of_2_Weeks  Week_No  Year_No  \n",
       "0                    0.007               1        1        1  \n",
       "1                    0.007               2        1        1  \n",
       "2                    0.007               3        1        1  \n",
       "3                    0.007               4        1        1  \n",
       "4                    0.007               5        1        1  \n",
       "...                    ...             ...      ...      ...  \n",
       "512022               0.070               6       13        3  \n",
       "512023               0.070               7       13        3  \n",
       "512024               0.070               8       14        3  \n",
       "512025               0.070               9       14        3  \n",
       "512026               0.070              10       14        3  \n",
       "\n",
       "[476087 rows x 13 columns]"
      ]
     },
     "execution_count": 105,
     "metadata": {},
     "output_type": "execute_result"
    }
   ],
   "source": [
    "X_train"
   ]
  },
  {
   "cell_type": "code",
   "execution_count": 106,
   "metadata": {},
   "outputs": [
    {
     "data": {
      "text/html": [
       "<div>\n",
       "<style scoped>\n",
       "    .dataframe tbody tr th:only-of-type {\n",
       "        vertical-align: middle;\n",
       "    }\n",
       "\n",
       "    .dataframe tbody tr th {\n",
       "        vertical-align: top;\n",
       "    }\n",
       "\n",
       "    .dataframe thead th {\n",
       "        text-align: right;\n",
       "    }\n",
       "</style>\n",
       "<table border=\"1\" class=\"dataframe\">\n",
       "  <thead>\n",
       "    <tr style=\"text-align: right;\">\n",
       "      <th></th>\n",
       "      <th>ID</th>\n",
       "      <th>Day_No</th>\n",
       "      <th>Course_ID</th>\n",
       "      <th>Course_Domain</th>\n",
       "      <th>Course_Type</th>\n",
       "      <th>Short_Promotion</th>\n",
       "      <th>Public_Holiday</th>\n",
       "      <th>Long_Promotion</th>\n",
       "      <th>User_Traffic</th>\n",
       "      <th>Competition_Metric</th>\n",
       "      <th>Day_of_2_Weeks</th>\n",
       "      <th>Week_No</th>\n",
       "      <th>Year_No</th>\n",
       "    </tr>\n",
       "  </thead>\n",
       "  <tbody>\n",
       "    <tr>\n",
       "      <th>822</th>\n",
       "      <td>823</td>\n",
       "      <td>823</td>\n",
       "      <td>1</td>\n",
       "      <td>1</td>\n",
       "      <td>0</td>\n",
       "      <td>1</td>\n",
       "      <td>1</td>\n",
       "      <td>1</td>\n",
       "      <td>9.384336</td>\n",
       "      <td>0.007</td>\n",
       "      <td>11</td>\n",
       "      <td>14</td>\n",
       "      <td>3</td>\n",
       "    </tr>\n",
       "    <tr>\n",
       "      <th>823</th>\n",
       "      <td>824</td>\n",
       "      <td>824</td>\n",
       "      <td>1</td>\n",
       "      <td>1</td>\n",
       "      <td>0</td>\n",
       "      <td>0</td>\n",
       "      <td>0</td>\n",
       "      <td>1</td>\n",
       "      <td>9.370118</td>\n",
       "      <td>0.007</td>\n",
       "      <td>12</td>\n",
       "      <td>14</td>\n",
       "      <td>3</td>\n",
       "    </tr>\n",
       "    <tr>\n",
       "      <th>824</th>\n",
       "      <td>825</td>\n",
       "      <td>825</td>\n",
       "      <td>1</td>\n",
       "      <td>1</td>\n",
       "      <td>0</td>\n",
       "      <td>0</td>\n",
       "      <td>0</td>\n",
       "      <td>1</td>\n",
       "      <td>9.387733</td>\n",
       "      <td>0.007</td>\n",
       "      <td>13</td>\n",
       "      <td>14</td>\n",
       "      <td>3</td>\n",
       "    </tr>\n",
       "    <tr>\n",
       "      <th>825</th>\n",
       "      <td>826</td>\n",
       "      <td>826</td>\n",
       "      <td>1</td>\n",
       "      <td>1</td>\n",
       "      <td>0</td>\n",
       "      <td>0</td>\n",
       "      <td>1</td>\n",
       "      <td>1</td>\n",
       "      <td>9.385595</td>\n",
       "      <td>0.007</td>\n",
       "      <td>14</td>\n",
       "      <td>14</td>\n",
       "      <td>3</td>\n",
       "    </tr>\n",
       "    <tr>\n",
       "      <th>826</th>\n",
       "      <td>827</td>\n",
       "      <td>827</td>\n",
       "      <td>1</td>\n",
       "      <td>1</td>\n",
       "      <td>0</td>\n",
       "      <td>0</td>\n",
       "      <td>0</td>\n",
       "      <td>1</td>\n",
       "      <td>9.334724</td>\n",
       "      <td>0.007</td>\n",
       "      <td>1</td>\n",
       "      <td>15</td>\n",
       "      <td>3</td>\n",
       "    </tr>\n",
       "    <tr>\n",
       "      <th>...</th>\n",
       "      <td>...</td>\n",
       "      <td>...</td>\n",
       "      <td>...</td>\n",
       "      <td>...</td>\n",
       "      <td>...</td>\n",
       "      <td>...</td>\n",
       "      <td>...</td>\n",
       "      <td>...</td>\n",
       "      <td>...</td>\n",
       "      <td>...</td>\n",
       "      <td>...</td>\n",
       "      <td>...</td>\n",
       "      <td>...</td>\n",
       "    </tr>\n",
       "    <tr>\n",
       "      <th>512082</th>\n",
       "      <td>548023</td>\n",
       "      <td>878</td>\n",
       "      <td>600</td>\n",
       "      <td>3</td>\n",
       "      <td>2</td>\n",
       "      <td>0</td>\n",
       "      <td>0</td>\n",
       "      <td>1</td>\n",
       "      <td>9.229211</td>\n",
       "      <td>0.070</td>\n",
       "      <td>10</td>\n",
       "      <td>22</td>\n",
       "      <td>3</td>\n",
       "    </tr>\n",
       "    <tr>\n",
       "      <th>512083</th>\n",
       "      <td>548024</td>\n",
       "      <td>879</td>\n",
       "      <td>600</td>\n",
       "      <td>3</td>\n",
       "      <td>2</td>\n",
       "      <td>0</td>\n",
       "      <td>0</td>\n",
       "      <td>1</td>\n",
       "      <td>9.234789</td>\n",
       "      <td>0.070</td>\n",
       "      <td>11</td>\n",
       "      <td>22</td>\n",
       "      <td>3</td>\n",
       "    </tr>\n",
       "    <tr>\n",
       "      <th>512084</th>\n",
       "      <td>548025</td>\n",
       "      <td>880</td>\n",
       "      <td>600</td>\n",
       "      <td>3</td>\n",
       "      <td>2</td>\n",
       "      <td>0</td>\n",
       "      <td>0</td>\n",
       "      <td>1</td>\n",
       "      <td>9.228033</td>\n",
       "      <td>0.070</td>\n",
       "      <td>12</td>\n",
       "      <td>22</td>\n",
       "      <td>3</td>\n",
       "    </tr>\n",
       "    <tr>\n",
       "      <th>512085</th>\n",
       "      <td>548026</td>\n",
       "      <td>881</td>\n",
       "      <td>600</td>\n",
       "      <td>3</td>\n",
       "      <td>2</td>\n",
       "      <td>0</td>\n",
       "      <td>0</td>\n",
       "      <td>1</td>\n",
       "      <td>9.243098</td>\n",
       "      <td>0.070</td>\n",
       "      <td>13</td>\n",
       "      <td>22</td>\n",
       "      <td>3</td>\n",
       "    </tr>\n",
       "    <tr>\n",
       "      <th>512086</th>\n",
       "      <td>548027</td>\n",
       "      <td>882</td>\n",
       "      <td>600</td>\n",
       "      <td>3</td>\n",
       "      <td>2</td>\n",
       "      <td>1</td>\n",
       "      <td>0</td>\n",
       "      <td>1</td>\n",
       "      <td>9.248166</td>\n",
       "      <td>0.070</td>\n",
       "      <td>14</td>\n",
       "      <td>22</td>\n",
       "      <td>3</td>\n",
       "    </tr>\n",
       "  </tbody>\n",
       "</table>\n",
       "<p>36000 rows × 13 columns</p>\n",
       "</div>"
      ],
      "text/plain": [
       "            ID  Day_No  Course_ID  Course_Domain  Course_Type  \\\n",
       "822        823     823          1              1            0   \n",
       "823        824     824          1              1            0   \n",
       "824        825     825          1              1            0   \n",
       "825        826     826          1              1            0   \n",
       "826        827     827          1              1            0   \n",
       "...        ...     ...        ...            ...          ...   \n",
       "512082  548023     878        600              3            2   \n",
       "512083  548024     879        600              3            2   \n",
       "512084  548025     880        600              3            2   \n",
       "512085  548026     881        600              3            2   \n",
       "512086  548027     882        600              3            2   \n",
       "\n",
       "        Short_Promotion  Public_Holiday  Long_Promotion  User_Traffic  \\\n",
       "822                   1               1               1      9.384336   \n",
       "823                   0               0               1      9.370118   \n",
       "824                   0               0               1      9.387733   \n",
       "825                   0               1               1      9.385595   \n",
       "826                   0               0               1      9.334724   \n",
       "...                 ...             ...             ...           ...   \n",
       "512082                0               0               1      9.229211   \n",
       "512083                0               0               1      9.234789   \n",
       "512084                0               0               1      9.228033   \n",
       "512085                0               0               1      9.243098   \n",
       "512086                1               0               1      9.248166   \n",
       "\n",
       "        Competition_Metric  Day_of_2_Weeks  Week_No  Year_No  \n",
       "822                  0.007              11       14        3  \n",
       "823                  0.007              12       14        3  \n",
       "824                  0.007              13       14        3  \n",
       "825                  0.007              14       14        3  \n",
       "826                  0.007               1       15        3  \n",
       "...                    ...             ...      ...      ...  \n",
       "512082               0.070              10       22        3  \n",
       "512083               0.070              11       22        3  \n",
       "512084               0.070              12       22        3  \n",
       "512085               0.070              13       22        3  \n",
       "512086               0.070              14       22        3  \n",
       "\n",
       "[36000 rows x 13 columns]"
      ]
     },
     "execution_count": 106,
     "metadata": {},
     "output_type": "execute_result"
    }
   ],
   "source": [
    "X_val"
   ]
  },
  {
   "cell_type": "code",
   "execution_count": 203,
   "metadata": {},
   "outputs": [
    {
     "data": {
      "text/html": [
       "<div>\n",
       "<style scoped>\n",
       "    .dataframe tbody tr th:only-of-type {\n",
       "        vertical-align: middle;\n",
       "    }\n",
       "\n",
       "    .dataframe tbody tr th {\n",
       "        vertical-align: top;\n",
       "    }\n",
       "\n",
       "    .dataframe thead th {\n",
       "        text-align: right;\n",
       "    }\n",
       "</style>\n",
       "<table border=\"1\" class=\"dataframe\">\n",
       "  <thead>\n",
       "    <tr style=\"text-align: right;\">\n",
       "      <th></th>\n",
       "      <th>Day_No</th>\n",
       "      <th>Course_ID</th>\n",
       "      <th>Course_Domain</th>\n",
       "      <th>Course_Type</th>\n",
       "      <th>Short_Promotion</th>\n",
       "      <th>Public_Holiday</th>\n",
       "      <th>Long_Promotion</th>\n",
       "      <th>Competition_Metric</th>\n",
       "      <th>Sales</th>\n",
       "      <th>Day_of_2_Weeks</th>\n",
       "      <th>Week_No</th>\n",
       "      <th>Year_No</th>\n",
       "      <th>Target_Course_ID</th>\n",
       "      <th>Group_Traffic</th>\n",
       "    </tr>\n",
       "  </thead>\n",
       "  <tbody>\n",
       "    <tr>\n",
       "      <th>Day_No</th>\n",
       "      <td>1.000000</td>\n",
       "      <td>-0.000506</td>\n",
       "      <td>-0.007710</td>\n",
       "      <td>0.005606</td>\n",
       "      <td>0.014645</td>\n",
       "      <td>0.019112</td>\n",
       "      <td>-0.020204</td>\n",
       "      <td>0.003223</td>\n",
       "      <td>0.051783</td>\n",
       "      <td>0.016370</td>\n",
       "      <td>0.077342</td>\n",
       "      <td>0.921999</td>\n",
       "      <td>0.038702</td>\n",
       "      <td>0.023682</td>\n",
       "    </tr>\n",
       "    <tr>\n",
       "      <th>Course_ID</th>\n",
       "      <td>-0.000506</td>\n",
       "      <td>1.000000</td>\n",
       "      <td>0.028393</td>\n",
       "      <td>0.041155</td>\n",
       "      <td>-0.000027</td>\n",
       "      <td>0.001242</td>\n",
       "      <td>-0.039605</td>\n",
       "      <td>-0.007379</td>\n",
       "      <td>0.019872</td>\n",
       "      <td>0.000015</td>\n",
       "      <td>-0.000672</td>\n",
       "      <td>-0.000221</td>\n",
       "      <td>0.017519</td>\n",
       "      <td>0.034256</td>\n",
       "    </tr>\n",
       "    <tr>\n",
       "      <th>Course_Domain</th>\n",
       "      <td>-0.007710</td>\n",
       "      <td>0.028393</td>\n",
       "      <td>1.000000</td>\n",
       "      <td>0.207093</td>\n",
       "      <td>-0.000439</td>\n",
       "      <td>0.002895</td>\n",
       "      <td>0.147668</td>\n",
       "      <td>0.116191</td>\n",
       "      <td>0.007674</td>\n",
       "      <td>0.000159</td>\n",
       "      <td>-0.010210</td>\n",
       "      <td>-0.003377</td>\n",
       "      <td>-0.029696</td>\n",
       "      <td>-0.276193</td>\n",
       "    </tr>\n",
       "    <tr>\n",
       "      <th>Course_Type</th>\n",
       "      <td>0.005606</td>\n",
       "      <td>0.041155</td>\n",
       "      <td>0.207093</td>\n",
       "      <td>1.000000</td>\n",
       "      <td>0.000317</td>\n",
       "      <td>-0.002437</td>\n",
       "      <td>0.020147</td>\n",
       "      <td>0.138144</td>\n",
       "      <td>0.139948</td>\n",
       "      <td>-0.000121</td>\n",
       "      <td>0.007425</td>\n",
       "      <td>0.002455</td>\n",
       "      <td>0.141331</td>\n",
       "      <td>0.036488</td>\n",
       "    </tr>\n",
       "    <tr>\n",
       "      <th>Short_Promotion</th>\n",
       "      <td>0.014645</td>\n",
       "      <td>-0.000027</td>\n",
       "      <td>-0.000439</td>\n",
       "      <td>0.000317</td>\n",
       "      <td>1.000000</td>\n",
       "      <td>-0.018770</td>\n",
       "      <td>-0.001149</td>\n",
       "      <td>0.000182</td>\n",
       "      <td>0.372352</td>\n",
       "      <td>-0.117440</td>\n",
       "      <td>-0.009894</td>\n",
       "      <td>0.019498</td>\n",
       "      <td>0.381366</td>\n",
       "      <td>0.203155</td>\n",
       "    </tr>\n",
       "    <tr>\n",
       "      <th>Public_Holiday</th>\n",
       "      <td>0.019112</td>\n",
       "      <td>0.001242</td>\n",
       "      <td>0.002895</td>\n",
       "      <td>-0.002437</td>\n",
       "      <td>-0.018770</td>\n",
       "      <td>1.000000</td>\n",
       "      <td>0.008319</td>\n",
       "      <td>-0.000491</td>\n",
       "      <td>-0.233028</td>\n",
       "      <td>0.047473</td>\n",
       "      <td>-0.002278</td>\n",
       "      <td>0.019078</td>\n",
       "      <td>-0.081046</td>\n",
       "      <td>-0.063492</td>\n",
       "    </tr>\n",
       "    <tr>\n",
       "      <th>Long_Promotion</th>\n",
       "      <td>-0.020204</td>\n",
       "      <td>-0.039605</td>\n",
       "      <td>0.147668</td>\n",
       "      <td>0.020147</td>\n",
       "      <td>-0.001149</td>\n",
       "      <td>0.008319</td>\n",
       "      <td>1.000000</td>\n",
       "      <td>-0.119171</td>\n",
       "      <td>-0.093620</td>\n",
       "      <td>0.000422</td>\n",
       "      <td>-0.026756</td>\n",
       "      <td>-0.008849</td>\n",
       "      <td>-0.113504</td>\n",
       "      <td>-0.208779</td>\n",
       "    </tr>\n",
       "    <tr>\n",
       "      <th>Competition_Metric</th>\n",
       "      <td>0.003223</td>\n",
       "      <td>-0.007379</td>\n",
       "      <td>0.116191</td>\n",
       "      <td>0.138144</td>\n",
       "      <td>0.000182</td>\n",
       "      <td>-0.000491</td>\n",
       "      <td>-0.119171</td>\n",
       "      <td>1.000000</td>\n",
       "      <td>-0.017942</td>\n",
       "      <td>-0.000070</td>\n",
       "      <td>0.004269</td>\n",
       "      <td>0.001411</td>\n",
       "      <td>-0.022864</td>\n",
       "      <td>-0.151883</td>\n",
       "    </tr>\n",
       "    <tr>\n",
       "      <th>Sales</th>\n",
       "      <td>0.051783</td>\n",
       "      <td>0.019872</td>\n",
       "      <td>0.007674</td>\n",
       "      <td>0.139948</td>\n",
       "      <td>0.372352</td>\n",
       "      <td>-0.233028</td>\n",
       "      <td>-0.093620</td>\n",
       "      <td>-0.017942</td>\n",
       "      <td>1.000000</td>\n",
       "      <td>-0.017544</td>\n",
       "      <td>0.061220</td>\n",
       "      <td>0.025625</td>\n",
       "      <td>0.875030</td>\n",
       "      <td>0.711351</td>\n",
       "    </tr>\n",
       "    <tr>\n",
       "      <th>Day_of_2_Weeks</th>\n",
       "      <td>0.016370</td>\n",
       "      <td>0.000015</td>\n",
       "      <td>0.000159</td>\n",
       "      <td>-0.000121</td>\n",
       "      <td>-0.117440</td>\n",
       "      <td>0.047473</td>\n",
       "      <td>0.000422</td>\n",
       "      <td>-0.000070</td>\n",
       "      <td>-0.017544</td>\n",
       "      <td>1.000000</td>\n",
       "      <td>0.028303</td>\n",
       "      <td>0.000909</td>\n",
       "      <td>0.003095</td>\n",
       "      <td>-0.000686</td>\n",
       "    </tr>\n",
       "    <tr>\n",
       "      <th>Week_No</th>\n",
       "      <td>0.077342</td>\n",
       "      <td>-0.000672</td>\n",
       "      <td>-0.010210</td>\n",
       "      <td>0.007425</td>\n",
       "      <td>-0.009894</td>\n",
       "      <td>-0.002278</td>\n",
       "      <td>-0.026756</td>\n",
       "      <td>0.004269</td>\n",
       "      <td>0.061220</td>\n",
       "      <td>0.028303</td>\n",
       "      <td>1.000000</td>\n",
       "      <td>-0.314653</td>\n",
       "      <td>0.079132</td>\n",
       "      <td>0.060720</td>\n",
       "    </tr>\n",
       "    <tr>\n",
       "      <th>Year_No</th>\n",
       "      <td>0.921999</td>\n",
       "      <td>-0.000221</td>\n",
       "      <td>-0.003377</td>\n",
       "      <td>0.002455</td>\n",
       "      <td>0.019498</td>\n",
       "      <td>0.019078</td>\n",
       "      <td>-0.008849</td>\n",
       "      <td>0.001411</td>\n",
       "      <td>0.025625</td>\n",
       "      <td>0.000909</td>\n",
       "      <td>-0.314653</td>\n",
       "      <td>1.000000</td>\n",
       "      <td>0.005960</td>\n",
       "      <td>-0.001114</td>\n",
       "    </tr>\n",
       "    <tr>\n",
       "      <th>Target_Course_ID</th>\n",
       "      <td>0.038702</td>\n",
       "      <td>0.017519</td>\n",
       "      <td>-0.029696</td>\n",
       "      <td>0.141331</td>\n",
       "      <td>0.381366</td>\n",
       "      <td>-0.081046</td>\n",
       "      <td>-0.113504</td>\n",
       "      <td>-0.022864</td>\n",
       "      <td>0.875030</td>\n",
       "      <td>0.003095</td>\n",
       "      <td>0.079132</td>\n",
       "      <td>0.005960</td>\n",
       "      <td>1.000000</td>\n",
       "      <td>0.826938</td>\n",
       "    </tr>\n",
       "    <tr>\n",
       "      <th>Group_Traffic</th>\n",
       "      <td>0.023682</td>\n",
       "      <td>0.034256</td>\n",
       "      <td>-0.276193</td>\n",
       "      <td>0.036488</td>\n",
       "      <td>0.203155</td>\n",
       "      <td>-0.063492</td>\n",
       "      <td>-0.208779</td>\n",
       "      <td>-0.151883</td>\n",
       "      <td>0.711351</td>\n",
       "      <td>-0.000686</td>\n",
       "      <td>0.060720</td>\n",
       "      <td>-0.001114</td>\n",
       "      <td>0.826938</td>\n",
       "      <td>1.000000</td>\n",
       "    </tr>\n",
       "  </tbody>\n",
       "</table>\n",
       "</div>"
      ],
      "text/plain": [
       "                      Day_No  Course_ID  Course_Domain  Course_Type  \\\n",
       "Day_No              1.000000  -0.000506      -0.007710     0.005606   \n",
       "Course_ID          -0.000506   1.000000       0.028393     0.041155   \n",
       "Course_Domain      -0.007710   0.028393       1.000000     0.207093   \n",
       "Course_Type         0.005606   0.041155       0.207093     1.000000   \n",
       "Short_Promotion     0.014645  -0.000027      -0.000439     0.000317   \n",
       "Public_Holiday      0.019112   0.001242       0.002895    -0.002437   \n",
       "Long_Promotion     -0.020204  -0.039605       0.147668     0.020147   \n",
       "Competition_Metric  0.003223  -0.007379       0.116191     0.138144   \n",
       "Sales               0.051783   0.019872       0.007674     0.139948   \n",
       "Day_of_2_Weeks      0.016370   0.000015       0.000159    -0.000121   \n",
       "Week_No             0.077342  -0.000672      -0.010210     0.007425   \n",
       "Year_No             0.921999  -0.000221      -0.003377     0.002455   \n",
       "Target_Course_ID    0.038702   0.017519      -0.029696     0.141331   \n",
       "Group_Traffic       0.023682   0.034256      -0.276193     0.036488   \n",
       "\n",
       "                    Short_Promotion  Public_Holiday  Long_Promotion  \\\n",
       "Day_No                     0.014645        0.019112       -0.020204   \n",
       "Course_ID                 -0.000027        0.001242       -0.039605   \n",
       "Course_Domain             -0.000439        0.002895        0.147668   \n",
       "Course_Type                0.000317       -0.002437        0.020147   \n",
       "Short_Promotion            1.000000       -0.018770       -0.001149   \n",
       "Public_Holiday            -0.018770        1.000000        0.008319   \n",
       "Long_Promotion            -0.001149        0.008319        1.000000   \n",
       "Competition_Metric         0.000182       -0.000491       -0.119171   \n",
       "Sales                      0.372352       -0.233028       -0.093620   \n",
       "Day_of_2_Weeks            -0.117440        0.047473        0.000422   \n",
       "Week_No                   -0.009894       -0.002278       -0.026756   \n",
       "Year_No                    0.019498        0.019078       -0.008849   \n",
       "Target_Course_ID           0.381366       -0.081046       -0.113504   \n",
       "Group_Traffic              0.203155       -0.063492       -0.208779   \n",
       "\n",
       "                    Competition_Metric     Sales  Day_of_2_Weeks   Week_No  \\\n",
       "Day_No                        0.003223  0.051783        0.016370  0.077342   \n",
       "Course_ID                    -0.007379  0.019872        0.000015 -0.000672   \n",
       "Course_Domain                 0.116191  0.007674        0.000159 -0.010210   \n",
       "Course_Type                   0.138144  0.139948       -0.000121  0.007425   \n",
       "Short_Promotion               0.000182  0.372352       -0.117440 -0.009894   \n",
       "Public_Holiday               -0.000491 -0.233028        0.047473 -0.002278   \n",
       "Long_Promotion               -0.119171 -0.093620        0.000422 -0.026756   \n",
       "Competition_Metric            1.000000 -0.017942       -0.000070  0.004269   \n",
       "Sales                        -0.017942  1.000000       -0.017544  0.061220   \n",
       "Day_of_2_Weeks               -0.000070 -0.017544        1.000000  0.028303   \n",
       "Week_No                       0.004269  0.061220        0.028303  1.000000   \n",
       "Year_No                       0.001411  0.025625        0.000909 -0.314653   \n",
       "Target_Course_ID             -0.022864  0.875030        0.003095  0.079132   \n",
       "Group_Traffic                -0.151883  0.711351       -0.000686  0.060720   \n",
       "\n",
       "                     Year_No  Target_Course_ID  Group_Traffic  \n",
       "Day_No              0.921999          0.038702       0.023682  \n",
       "Course_ID          -0.000221          0.017519       0.034256  \n",
       "Course_Domain      -0.003377         -0.029696      -0.276193  \n",
       "Course_Type         0.002455          0.141331       0.036488  \n",
       "Short_Promotion     0.019498          0.381366       0.203155  \n",
       "Public_Holiday      0.019078         -0.081046      -0.063492  \n",
       "Long_Promotion     -0.008849         -0.113504      -0.208779  \n",
       "Competition_Metric  0.001411         -0.022864      -0.151883  \n",
       "Sales               0.025625          0.875030       0.711351  \n",
       "Day_of_2_Weeks      0.000909          0.003095      -0.000686  \n",
       "Week_No            -0.314653          0.079132       0.060720  \n",
       "Year_No             1.000000          0.005960      -0.001114  \n",
       "Target_Course_ID    0.005960          1.000000       0.826938  \n",
       "Group_Traffic      -0.001114          0.826938       1.000000  "
      ]
     },
     "execution_count": 203,
     "metadata": {},
     "output_type": "execute_result"
    }
   ],
   "source": [
    "train.corr()"
   ]
  },
  {
   "cell_type": "code",
   "execution_count": 204,
   "metadata": {},
   "outputs": [
    {
     "data": {
      "text/plain": [
       "Day_No                  int64\n",
       "Course_ID               int64\n",
       "Course_Domain           int64\n",
       "Course_Type             int64\n",
       "Short_Promotion         int64\n",
       "Public_Holiday          int64\n",
       "Long_Promotion          int64\n",
       "Competition_Metric    float64\n",
       "Sales                 float64\n",
       "Day_of_2_Weeks          int64\n",
       "Week_No                 int64\n",
       "Year_No                 int32\n",
       "Target_Course_ID      float64\n",
       "Group_Traffic         float64\n",
       "dtype: object"
      ]
     },
     "execution_count": 204,
     "metadata": {},
     "output_type": "execute_result"
    }
   ],
   "source": [
    "train.dtypes"
   ]
  },
  {
   "cell_type": "markdown",
   "metadata": {},
   "source": [
    "## ACF and PACF plots"
   ]
  },
  {
   "cell_type": "code",
   "execution_count": 1,
   "metadata": {},
   "outputs": [],
   "source": [
    "from statsmodels.tsa.stattools import acf,pacf"
   ]
  },
  {
   "cell_type": "code",
   "execution_count": 18,
   "metadata": {},
   "outputs": [
    {
     "data": {
      "text/html": [
       "<div>\n",
       "<style scoped>\n",
       "    .dataframe tbody tr th:only-of-type {\n",
       "        vertical-align: middle;\n",
       "    }\n",
       "\n",
       "    .dataframe tbody tr th {\n",
       "        vertical-align: top;\n",
       "    }\n",
       "\n",
       "    .dataframe thead th {\n",
       "        text-align: right;\n",
       "    }\n",
       "</style>\n",
       "<table border=\"1\" class=\"dataframe\">\n",
       "  <thead>\n",
       "    <tr style=\"text-align: right;\">\n",
       "      <th></th>\n",
       "      <th>ID</th>\n",
       "      <th>Day_No</th>\n",
       "      <th>Course_ID</th>\n",
       "      <th>Course_Domain</th>\n",
       "      <th>Course_Type</th>\n",
       "      <th>Short_Promotion</th>\n",
       "      <th>Public_Holiday</th>\n",
       "      <th>Long_Promotion</th>\n",
       "      <th>User_Traffic</th>\n",
       "      <th>Competition_Metric</th>\n",
       "      <th>Sales</th>\n",
       "    </tr>\n",
       "  </thead>\n",
       "  <tbody>\n",
       "    <tr>\n",
       "      <th>0</th>\n",
       "      <td>1</td>\n",
       "      <td>1</td>\n",
       "      <td>1</td>\n",
       "      <td>Development</td>\n",
       "      <td>Course</td>\n",
       "      <td>0</td>\n",
       "      <td>1</td>\n",
       "      <td>1</td>\n",
       "      <td>11004</td>\n",
       "      <td>0.007</td>\n",
       "      <td>81</td>\n",
       "    </tr>\n",
       "    <tr>\n",
       "      <th>1</th>\n",
       "      <td>2</td>\n",
       "      <td>2</td>\n",
       "      <td>1</td>\n",
       "      <td>Development</td>\n",
       "      <td>Course</td>\n",
       "      <td>0</td>\n",
       "      <td>0</td>\n",
       "      <td>1</td>\n",
       "      <td>13650</td>\n",
       "      <td>0.007</td>\n",
       "      <td>79</td>\n",
       "    </tr>\n",
       "    <tr>\n",
       "      <th>2</th>\n",
       "      <td>3</td>\n",
       "      <td>3</td>\n",
       "      <td>1</td>\n",
       "      <td>Development</td>\n",
       "      <td>Course</td>\n",
       "      <td>0</td>\n",
       "      <td>0</td>\n",
       "      <td>1</td>\n",
       "      <td>11655</td>\n",
       "      <td>0.007</td>\n",
       "      <td>75</td>\n",
       "    </tr>\n",
       "    <tr>\n",
       "      <th>3</th>\n",
       "      <td>4</td>\n",
       "      <td>4</td>\n",
       "      <td>1</td>\n",
       "      <td>Development</td>\n",
       "      <td>Course</td>\n",
       "      <td>0</td>\n",
       "      <td>0</td>\n",
       "      <td>1</td>\n",
       "      <td>12054</td>\n",
       "      <td>0.007</td>\n",
       "      <td>80</td>\n",
       "    </tr>\n",
       "    <tr>\n",
       "      <th>4</th>\n",
       "      <td>5</td>\n",
       "      <td>5</td>\n",
       "      <td>1</td>\n",
       "      <td>Development</td>\n",
       "      <td>Course</td>\n",
       "      <td>0</td>\n",
       "      <td>0</td>\n",
       "      <td>1</td>\n",
       "      <td>6804</td>\n",
       "      <td>0.007</td>\n",
       "      <td>41</td>\n",
       "    </tr>\n",
       "    <tr>\n",
       "      <th>...</th>\n",
       "      <td>...</td>\n",
       "      <td>...</td>\n",
       "      <td>...</td>\n",
       "      <td>...</td>\n",
       "      <td>...</td>\n",
       "      <td>...</td>\n",
       "      <td>...</td>\n",
       "      <td>...</td>\n",
       "      <td>...</td>\n",
       "      <td>...</td>\n",
       "      <td>...</td>\n",
       "    </tr>\n",
       "    <tr>\n",
       "      <th>877</th>\n",
       "      <td>878</td>\n",
       "      <td>878</td>\n",
       "      <td>1</td>\n",
       "      <td>Development</td>\n",
       "      <td>Course</td>\n",
       "      <td>0</td>\n",
       "      <td>0</td>\n",
       "      <td>1</td>\n",
       "      <td>10878</td>\n",
       "      <td>0.007</td>\n",
       "      <td>73</td>\n",
       "    </tr>\n",
       "    <tr>\n",
       "      <th>878</th>\n",
       "      <td>879</td>\n",
       "      <td>879</td>\n",
       "      <td>1</td>\n",
       "      <td>Development</td>\n",
       "      <td>Course</td>\n",
       "      <td>0</td>\n",
       "      <td>0</td>\n",
       "      <td>1</td>\n",
       "      <td>12096</td>\n",
       "      <td>0.007</td>\n",
       "      <td>81</td>\n",
       "    </tr>\n",
       "    <tr>\n",
       "      <th>879</th>\n",
       "      <td>880</td>\n",
       "      <td>880</td>\n",
       "      <td>1</td>\n",
       "      <td>Development</td>\n",
       "      <td>Course</td>\n",
       "      <td>0</td>\n",
       "      <td>0</td>\n",
       "      <td>1</td>\n",
       "      <td>10773</td>\n",
       "      <td>0.007</td>\n",
       "      <td>61</td>\n",
       "    </tr>\n",
       "    <tr>\n",
       "      <th>880</th>\n",
       "      <td>881</td>\n",
       "      <td>881</td>\n",
       "      <td>1</td>\n",
       "      <td>Development</td>\n",
       "      <td>Course</td>\n",
       "      <td>0</td>\n",
       "      <td>0</td>\n",
       "      <td>1</td>\n",
       "      <td>10773</td>\n",
       "      <td>0.007</td>\n",
       "      <td>60</td>\n",
       "    </tr>\n",
       "    <tr>\n",
       "      <th>881</th>\n",
       "      <td>882</td>\n",
       "      <td>882</td>\n",
       "      <td>1</td>\n",
       "      <td>Development</td>\n",
       "      <td>Course</td>\n",
       "      <td>1</td>\n",
       "      <td>0</td>\n",
       "      <td>1</td>\n",
       "      <td>14133</td>\n",
       "      <td>0.007</td>\n",
       "      <td>120</td>\n",
       "    </tr>\n",
       "  </tbody>\n",
       "</table>\n",
       "<p>882 rows × 11 columns</p>\n",
       "</div>"
      ],
      "text/plain": [
       "      ID  Day_No  Course_ID Course_Domain Course_Type  Short_Promotion  \\\n",
       "0      1       1          1   Development      Course                0   \n",
       "1      2       2          1   Development      Course                0   \n",
       "2      3       3          1   Development      Course                0   \n",
       "3      4       4          1   Development      Course                0   \n",
       "4      5       5          1   Development      Course                0   \n",
       "..   ...     ...        ...           ...         ...              ...   \n",
       "877  878     878          1   Development      Course                0   \n",
       "878  879     879          1   Development      Course                0   \n",
       "879  880     880          1   Development      Course                0   \n",
       "880  881     881          1   Development      Course                0   \n",
       "881  882     882          1   Development      Course                1   \n",
       "\n",
       "     Public_Holiday  Long_Promotion  User_Traffic  Competition_Metric  Sales  \n",
       "0                 1               1         11004               0.007     81  \n",
       "1                 0               1         13650               0.007     79  \n",
       "2                 0               1         11655               0.007     75  \n",
       "3                 0               1         12054               0.007     80  \n",
       "4                 0               1          6804               0.007     41  \n",
       "..              ...             ...           ...                 ...    ...  \n",
       "877               0               1         10878               0.007     73  \n",
       "878               0               1         12096               0.007     81  \n",
       "879               0               1         10773               0.007     61  \n",
       "880               0               1         10773               0.007     60  \n",
       "881               0               1         14133               0.007    120  \n",
       "\n",
       "[882 rows x 11 columns]"
      ]
     },
     "execution_count": 18,
     "metadata": {},
     "output_type": "execute_result"
    }
   ],
   "source": [
    "train[train.Course_ID==1]"
   ]
  },
  {
   "cell_type": "code",
   "execution_count": 17,
   "metadata": {
    "scrolled": true
   },
   "outputs": [
    {
     "data": {
      "text/plain": [
       "Day_No\n",
       "1      15628.136895\n",
       "2      15572.165000\n",
       "3      14241.430000\n",
       "4      14644.700000\n",
       "5      13198.465000\n",
       "           ...     \n",
       "878    14442.330000\n",
       "879    16397.360000\n",
       "880    14763.735000\n",
       "881    12974.010000\n",
       "882    19959.100000\n",
       "Name: User_Traffic, Length: 882, dtype: float64"
      ]
     },
     "execution_count": 17,
     "metadata": {},
     "output_type": "execute_result"
    }
   ],
   "source": [
    "bydates=train[train.Course_ID==1].groupby(\"Day_No\")[\"User_Traffic\"].mean()\n",
    "bydates"
   ]
  },
  {
   "cell_type": "code",
   "execution_count": 25,
   "metadata": {},
   "outputs": [
    {
     "name": "stderr",
     "output_type": "stream",
     "text": [
      "C:\\ProgramData\\Anaconda3\\lib\\site-packages\\statsmodels\\tsa\\stattools.py:666: FutureWarning: fft=True will become the default after the release of the 0.12 release of statsmodels. To suppress this warning, explicitly set fft=False.\n",
      "  FutureWarning,\n"
     ]
    }
   ],
   "source": [
    "autocorrfunc=acf(train[train.Course_ID==1][\"User_Traffic\"],nlags=50)"
   ]
  },
  {
   "cell_type": "code",
   "execution_count": 26,
   "metadata": {},
   "outputs": [
    {
     "data": {
      "text/plain": [
       "51"
      ]
     },
     "execution_count": 26,
     "metadata": {},
     "output_type": "execute_result"
    }
   ],
   "source": [
    "len(autocorrfunc)"
   ]
  },
  {
   "cell_type": "code",
   "execution_count": 28,
   "metadata": {},
   "outputs": [
    {
     "data": {
      "text/plain": [
       "<AxesSubplot:>"
      ]
     },
     "execution_count": 28,
     "metadata": {},
     "output_type": "execute_result"
    },
    {
     "data": {
      "image/png": "[encoded data removed]",
      "text/plain": [
       "<Figure size 1008x504 with 1 Axes>"
      ]
     },
     "metadata": {
      "needs_background": "light"
     },
     "output_type": "display_data"
    }
   ],
   "source": [
    "plt.figure(figsize=(14,7))\n",
    "sns.barplot(x=list(range(0,51)),y=autocorrfunc,color='lightblue')"
   ]
  },
  {
   "cell_type": "code",
   "execution_count": 30,
   "metadata": {},
   "outputs": [
    {
     "data": {
      "image/png": "[encoded data removed]",
      "text/plain": [
       "<Figure size 1008x504 with 1 Axes>"
      ]
     },
     "metadata": {
      "needs_background": "light"
     },
     "output_type": "display_data"
    }
   ],
   "source": [
    "plt.figure(figsize=(14,7))\n",
    "plt.plot(autocorrfunc,  marker='o') \n",
    "plt.axhline(y=0,linestyle='--',color='gray') \n",
    "plt.axhline(y=-1.96/np.sqrt(882),linestyle='--',color='gray') \n",
    "plt.axhline(y=1.96/np.sqrt(882),linestyle='--',color='gray') \n",
    "plt.title('Autocorrelation Function') \n",
    "plt.show() "
   ]
  },
  {
   "cell_type": "code",
   "execution_count": null,
   "metadata": {},
   "outputs": [],
   "source": []
  },
  {
   "cell_type": "code",
   "execution_count": 31,
   "metadata": {},
   "outputs": [],
   "source": [
    "# dickey fuller, KPSS\n",
    "from statsmodels.tsa.stattools import adfuller, kpss"
   ]
  },
  {
   "cell_type": "code",
   "execution_count": 32,
   "metadata": {},
   "outputs": [],
   "source": [
    "def adf_test(timeseries):\n",
    "    \n",
    "    #Perform Dickey-Fuller test:\n",
    "    print ('Results of Dickey-Fuller Test:')\n",
    "    dftest = adfuller(timeseries, autolag='AIC')\n",
    "    dfoutput=pd.Series(dftest[0:4], index=['Test Statistic','p-value','#Lags Used','Number of Observations Used'])\n",
    "\n",
    "    for key,value in dftest[4].items():\n",
    "        dfoutput['Critical Value (%s)'%key] = value\n",
    "    print (dfoutput)"
   ]
  },
  {
   "cell_type": "code",
   "execution_count": 33,
   "metadata": {},
   "outputs": [
    {
     "name": "stdout",
     "output_type": "stream",
     "text": [
      "Results of Dickey-Fuller Test:\n",
      "Test Statistic                -6.814058e+00\n",
      "p-value                        2.080814e-09\n",
      "#Lags Used                     2.100000e+01\n",
      "Number of Observations Used    8.600000e+02\n",
      "Critical Value (1%)           -3.437977e+00\n",
      "Critical Value (5%)           -2.864907e+00\n",
      "Critical Value (10%)          -2.568563e+00\n",
      "dtype: float64\n"
     ]
    }
   ],
   "source": [
    "adf_test(train[train.Course_ID==1][\"User_Traffic\"])"
   ]
  },
  {
   "cell_type": "code",
   "execution_count": 34,
   "metadata": {},
   "outputs": [],
   "source": [
    "def kpss_test(timeseries):\n",
    "    print ('Results of KPSS Test:')\n",
    "    kpsstest = kpss(timeseries, regression='c')\n",
    "    kpss_output = pd.Series(kpsstest[0:3], index=['Test Statistic','p-value','Lags Used'])\n",
    "    for key,value in kpsstest[3].items():\n",
    "        kpss_output['Critical Value (%s)'%key] = value\n",
    "    print (kpss_output)"
   ]
  },
  {
   "cell_type": "code",
   "execution_count": 35,
   "metadata": {},
   "outputs": [
    {
     "name": "stdout",
     "output_type": "stream",
     "text": [
      "Results of KPSS Test:\n",
      "Test Statistic            0.072358\n",
      "p-value                   0.100000\n",
      "Lags Used                21.000000\n",
      "Critical Value (10%)      0.347000\n",
      "Critical Value (5%)       0.463000\n",
      "Critical Value (2.5%)     0.574000\n",
      "Critical Value (1%)       0.739000\n",
      "dtype: float64\n"
     ]
    },
    {
     "name": "stderr",
     "output_type": "stream",
     "text": [
      "C:\\ProgramData\\Anaconda3\\lib\\site-packages\\statsmodels\\tsa\\stattools.py:1843: FutureWarning: The behavior of using nlags=None will change in release 0.13.Currently nlags=None is the same as nlags=\"legacy\", and so a sample-size lag length is used. After the next release, the default will change to be the same as nlags=\"auto\" which uses an automatic lag length selection method. To silence this warning, either use \"auto\" or \"legacy\"\n",
      "  warnings.warn(msg, FutureWarning)\n",
      "C:\\ProgramData\\Anaconda3\\lib\\site-packages\\statsmodels\\tsa\\stattools.py:1876: InterpolationWarning: The test statistic is outside of the range of p-values available in the\n",
      "look-up table. The actual p-value is greater than the p-value returned.\n",
      "\n",
      "  warnings.warn(warn_msg.format(direction=\"greater\"), InterpolationWarning)\n"
     ]
    }
   ],
   "source": [
    "kpss_test(train[train.Course_ID==1][\"User_Traffic\"])"
   ]
  },
  {
   "cell_type": "markdown",
   "metadata": {},
   "source": [
    "## Fitting Linear Model"
   ]
  },
  {
   "cell_type": "code",
   "execution_count": 141,
   "metadata": {},
   "outputs": [
    {
     "data": {
      "text/plain": [
       "LinearRegression(copy_X=True, fit_intercept=True, n_jobs=None, normalize=True)"
      ]
     },
     "execution_count": 141,
     "metadata": {},
     "output_type": "execute_result"
    }
   ],
   "source": [
    "lr=LinearRegression(normalize=True)\n",
    "lr.fit(X_train,y_train)"
   ]
  },
  {
   "cell_type": "code",
   "execution_count": 143,
   "metadata": {},
   "outputs": [],
   "source": [
    "y_train_pred=lr.predict(X_train)\n",
    "y_val_pred=lr.predict(X_val)"
   ]
  },
  {
   "cell_type": "code",
   "execution_count": 144,
   "metadata": {},
   "outputs": [
    {
     "data": {
      "text/plain": [
       "174.6139972801859"
      ]
     },
     "execution_count": 144,
     "metadata": {},
     "output_type": "execute_result"
    }
   ],
   "source": [
    "1000*np.sqrt(mean_squared_error(y_train,y_train_pred))"
   ]
  },
  {
   "cell_type": "code",
   "execution_count": 145,
   "metadata": {},
   "outputs": [
    {
     "data": {
      "text/plain": [
       "309.2379920358871"
      ]
     },
     "execution_count": 145,
     "metadata": {},
     "output_type": "execute_result"
    }
   ],
   "source": [
    "1000*np.sqrt(mean_squared_error(y_val,y_val_pred))"
   ]
  },
  {
   "cell_type": "code",
   "execution_count": 146,
   "metadata": {},
   "outputs": [
    {
     "data": {
      "text/plain": [
       "array([ 7.54603922e-06,  7.17176282e-03, -6.91828625e-03,  9.63880514e-02,\n",
       "        2.31193095e-02,  1.53933669e-01, -1.42143108e-01,  7.48556237e-02,\n",
       "        9.05218287e-01,  3.84867986e-01, -4.26562134e-04, -4.94774843e-02,\n",
       "       -2.59676153e+00])"
      ]
     },
     "execution_count": 146,
     "metadata": {},
     "output_type": "execute_result"
    }
   ],
   "source": [
    "lr.coef_"
   ]
  },
  {
   "cell_type": "code",
   "execution_count": 197,
   "metadata": {},
   "outputs": [],
   "source": [
    "export_submission(y_test_pred,\"Linear Regression Featuress\")"
   ]
  },
  {
   "cell_type": "code",
   "execution_count": null,
   "metadata": {},
   "outputs": [],
   "source": []
  },
  {
   "cell_type": "code",
   "execution_count": null,
   "metadata": {},
   "outputs": [],
   "source": []
  },
  {
   "cell_type": "markdown",
   "metadata": {},
   "source": [
    "## Grid Search For Linear Model"
   ]
  },
  {
   "cell_type": "code",
   "execution_count": 147,
   "metadata": {},
   "outputs": [],
   "source": [
    "parameters={\"normalize\":[\"True\",\"False\"]}"
   ]
  },
  {
   "cell_type": "code",
   "execution_count": 171,
   "metadata": {},
   "outputs": [],
   "source": [
    "search=GridSearchCV(LinearRegression(),param_grid=parameters,scoring='neg_mean_squared_error',cv=5)"
   ]
  },
  {
   "cell_type": "code",
   "execution_count": 172,
   "metadata": {},
   "outputs": [
    {
     "data": {
      "text/plain": [
       "GridSearchCV(cv=5, error_score=nan,\n",
       "             estimator=LinearRegression(copy_X=True, fit_intercept=True,\n",
       "                                        n_jobs=None, normalize=False),\n",
       "             iid='deprecated', n_jobs=None,\n",
       "             param_grid={'normalize': ['True', 'False']},\n",
       "             pre_dispatch='2*n_jobs', refit=True, return_train_score=False,\n",
       "             scoring='neg_mean_squared_error', verbose=0)"
      ]
     },
     "execution_count": 172,
     "metadata": {},
     "output_type": "execute_result"
    }
   ],
   "source": [
    "search.fit(X_train,y_train)"
   ]
  },
  {
   "cell_type": "code",
   "execution_count": 173,
   "metadata": {},
   "outputs": [
    {
     "data": {
      "text/plain": [
       "{'normalize': 'True'}"
      ]
     },
     "execution_count": 173,
     "metadata": {},
     "output_type": "execute_result"
    }
   ],
   "source": [
    "search.best_params_"
   ]
  },
  {
   "cell_type": "code",
   "execution_count": 174,
   "metadata": {},
   "outputs": [
    {
     "data": {
      "text/plain": [
       "-0.06520298933937438"
      ]
     },
     "execution_count": 174,
     "metadata": {},
     "output_type": "execute_result"
    }
   ],
   "source": [
    "search.best_score_"
   ]
  },
  {
   "cell_type": "markdown",
   "metadata": {},
   "source": [
    "## Grid Search For Lasso Model"
   ]
  },
  {
   "cell_type": "code",
   "execution_count": 148,
   "metadata": {},
   "outputs": [],
   "source": [
    "parameters={\"normalize\":[\"True\",\"False\"],\n",
    "           \"alpha\":[0.0000001,0.000001,0.00001,0.0001,0.001,0.01,0.1]}"
   ]
  },
  {
   "cell_type": "code",
   "execution_count": 149,
   "metadata": {},
   "outputs": [],
   "source": [
    "search=GridSearchCV(Lasso(random_state=10),parameters,scoring='neg_mean_squared_error',cv=5,n_jobs=-1,verbose=2)"
   ]
  },
  {
   "cell_type": "code",
   "execution_count": 150,
   "metadata": {},
   "outputs": [
    {
     "name": "stdout",
     "output_type": "stream",
     "text": [
      "Fitting 5 folds for each of 14 candidates, totalling 70 fits\n"
     ]
    },
    {
     "name": "stderr",
     "output_type": "stream",
     "text": [
      "[Parallel(n_jobs=-1)]: Using backend LokyBackend with 12 concurrent workers.\n",
      "[Parallel(n_jobs=-1)]: Done  17 tasks      | elapsed:   50.9s\n",
      "[Parallel(n_jobs=-1)]: Done  70 out of  70 | elapsed:  4.3min finished\n"
     ]
    },
    {
     "data": {
      "text/plain": [
       "GridSearchCV(cv=5, error_score=nan,\n",
       "             estimator=Lasso(alpha=1.0, copy_X=True, fit_intercept=True,\n",
       "                             max_iter=1000, normalize=False, positive=False,\n",
       "                             precompute=False, random_state=10,\n",
       "                             selection='cyclic', tol=0.0001, warm_start=False),\n",
       "             iid='deprecated', n_jobs=-1,\n",
       "             param_grid={'alpha': [1e-07, 1e-06, 1e-05, 0.0001, 0.001, 0.01,\n",
       "                                   0.1],\n",
       "                         'normalize': ['True', 'False']},\n",
       "             pre_dispatch='2*n_jobs', refit=True, return_train_score=False,\n",
       "             scoring='neg_mean_squared_error', verbose=2)"
      ]
     },
     "execution_count": 150,
     "metadata": {},
     "output_type": "execute_result"
    }
   ],
   "source": [
    "search.fit(X_train,y_train)"
   ]
  },
  {
   "cell_type": "code",
   "execution_count": 151,
   "metadata": {},
   "outputs": [
    {
     "data": {
      "text/plain": [
       "{'alpha': 1e-07, 'normalize': 'True'}"
      ]
     },
     "execution_count": 151,
     "metadata": {},
     "output_type": "execute_result"
    }
   ],
   "source": [
    "search.best_params_"
   ]
  },
  {
   "cell_type": "code",
   "execution_count": 152,
   "metadata": {},
   "outputs": [
    {
     "data": {
      "text/plain": [
       "0.17638559246615532"
      ]
     },
     "execution_count": 152,
     "metadata": {},
     "output_type": "execute_result"
    }
   ],
   "source": [
    "np.sqrt(-1*search.best_score_)"
   ]
  },
  {
   "cell_type": "code",
   "execution_count": 154,
   "metadata": {},
   "outputs": [
    {
     "data": {
      "text/plain": [
       "Lasso(alpha=1e-07, copy_X=True, fit_intercept=True, max_iter=1000,\n",
       "      normalize=True, positive=False, precompute=False, random_state=None,\n",
       "      selection='cyclic', tol=0.0001, warm_start=False)"
      ]
     },
     "execution_count": 154,
     "metadata": {},
     "output_type": "execute_result"
    }
   ],
   "source": [
    "lasso=Lasso(alpha=1e-07,normalize=True)\n",
    "lasso.fit(X_train,y_train)"
   ]
  },
  {
   "cell_type": "code",
   "execution_count": 155,
   "metadata": {},
   "outputs": [],
   "source": [
    "y_train_pred=lasso.predict(X_train)\n",
    "y_val_pred=lasso.predict(X_val)"
   ]
  },
  {
   "cell_type": "code",
   "execution_count": 156,
   "metadata": {},
   "outputs": [
    {
     "data": {
      "text/plain": [
       "175.05504922579527"
      ]
     },
     "execution_count": 156,
     "metadata": {},
     "output_type": "execute_result"
    }
   ],
   "source": [
    "1000*np.sqrt(mean_squared_error(y_train,y_train_pred))"
   ]
  },
  {
   "cell_type": "code",
   "execution_count": 157,
   "metadata": {},
   "outputs": [
    {
     "data": {
      "text/plain": [
       "308.6264962712279"
      ]
     },
     "execution_count": 157,
     "metadata": {},
     "output_type": "execute_result"
    }
   ],
   "source": [
    "1000*np.sqrt(mean_squared_error(y_val,y_val_pred))"
   ]
  },
  {
   "cell_type": "code",
   "execution_count": 158,
   "metadata": {},
   "outputs": [
    {
     "data": {
      "text/plain": [
       "array([-1.48947301e-08,  4.51244553e-05, -1.72221193e-05,  9.65075669e-02,\n",
       "        2.30145994e-02,  1.48223720e-01, -1.43841918e-01,  7.51544379e-02,\n",
       "        9.06740729e-01,  3.84702035e-01,  1.22983786e-03,  4.40325648e-04,\n",
       "       -0.00000000e+00])"
      ]
     },
     "execution_count": 158,
     "metadata": {},
     "output_type": "execute_result"
    }
   ],
   "source": [
    "lasso.coef_"
   ]
  },
  {
   "cell_type": "code",
   "execution_count": 582,
   "metadata": {},
   "outputs": [
    {
     "data": {
      "text/html": [
       "<div>\n",
       "<style scoped>\n",
       "    .dataframe tbody tr th:only-of-type {\n",
       "        vertical-align: middle;\n",
       "    }\n",
       "\n",
       "    .dataframe tbody tr th {\n",
       "        vertical-align: top;\n",
       "    }\n",
       "\n",
       "    .dataframe thead th {\n",
       "        text-align: right;\n",
       "    }\n",
       "</style>\n",
       "<table border=\"1\" class=\"dataframe\">\n",
       "  <thead>\n",
       "    <tr style=\"text-align: right;\">\n",
       "      <th></th>\n",
       "      <th>Course_ID</th>\n",
       "      <th>Course_Domain</th>\n",
       "      <th>Course_Type</th>\n",
       "      <th>Short_Promotion</th>\n",
       "      <th>Public_Holiday</th>\n",
       "      <th>Long_Promotion</th>\n",
       "      <th>Competition_Metric</th>\n",
       "      <th>Day_of_2_Weeks</th>\n",
       "      <th>Week_No</th>\n",
       "      <th>Year_No</th>\n",
       "      <th>Target_Course_ID</th>\n",
       "      <th>Group_Traffic</th>\n",
       "    </tr>\n",
       "  </thead>\n",
       "  <tbody>\n",
       "    <tr>\n",
       "      <th>0</th>\n",
       "      <td>1</td>\n",
       "      <td>1</td>\n",
       "      <td>0</td>\n",
       "      <td>0</td>\n",
       "      <td>1</td>\n",
       "      <td>1</td>\n",
       "      <td>0.007</td>\n",
       "      <td>1</td>\n",
       "      <td>1</td>\n",
       "      <td>1</td>\n",
       "      <td>72.666667</td>\n",
       "      <td>9968.0</td>\n",
       "    </tr>\n",
       "    <tr>\n",
       "      <th>1</th>\n",
       "      <td>1</td>\n",
       "      <td>1</td>\n",
       "      <td>0</td>\n",
       "      <td>0</td>\n",
       "      <td>0</td>\n",
       "      <td>1</td>\n",
       "      <td>0.007</td>\n",
       "      <td>1</td>\n",
       "      <td>1</td>\n",
       "      <td>2</td>\n",
       "      <td>72.666667</td>\n",
       "      <td>9968.0</td>\n",
       "    </tr>\n",
       "    <tr>\n",
       "      <th>2</th>\n",
       "      <td>1</td>\n",
       "      <td>1</td>\n",
       "      <td>0</td>\n",
       "      <td>0</td>\n",
       "      <td>0</td>\n",
       "      <td>1</td>\n",
       "      <td>0.007</td>\n",
       "      <td>1</td>\n",
       "      <td>1</td>\n",
       "      <td>3</td>\n",
       "      <td>72.666667</td>\n",
       "      <td>9968.0</td>\n",
       "    </tr>\n",
       "    <tr>\n",
       "      <th>3</th>\n",
       "      <td>1</td>\n",
       "      <td>1</td>\n",
       "      <td>0</td>\n",
       "      <td>0</td>\n",
       "      <td>0</td>\n",
       "      <td>1</td>\n",
       "      <td>0.007</td>\n",
       "      <td>2</td>\n",
       "      <td>1</td>\n",
       "      <td>1</td>\n",
       "      <td>41.000000</td>\n",
       "      <td>6755.0</td>\n",
       "    </tr>\n",
       "    <tr>\n",
       "      <th>4</th>\n",
       "      <td>1</td>\n",
       "      <td>1</td>\n",
       "      <td>0</td>\n",
       "      <td>0</td>\n",
       "      <td>1</td>\n",
       "      <td>1</td>\n",
       "      <td>0.007</td>\n",
       "      <td>2</td>\n",
       "      <td>1</td>\n",
       "      <td>2</td>\n",
       "      <td>41.000000</td>\n",
       "      <td>6755.0</td>\n",
       "    </tr>\n",
       "    <tr>\n",
       "      <th>...</th>\n",
       "      <td>...</td>\n",
       "      <td>...</td>\n",
       "      <td>...</td>\n",
       "      <td>...</td>\n",
       "      <td>...</td>\n",
       "      <td>...</td>\n",
       "      <td>...</td>\n",
       "      <td>...</td>\n",
       "      <td>...</td>\n",
       "      <td>...</td>\n",
       "      <td>...</td>\n",
       "      <td>...</td>\n",
       "    </tr>\n",
       "    <tr>\n",
       "      <th>512082</th>\n",
       "      <td>600</td>\n",
       "      <td>3</td>\n",
       "      <td>2</td>\n",
       "      <td>1</td>\n",
       "      <td>0</td>\n",
       "      <td>1</td>\n",
       "      <td>0.070</td>\n",
       "      <td>14</td>\n",
       "      <td>4</td>\n",
       "      <td>3</td>\n",
       "      <td>144.000000</td>\n",
       "      <td>10164.0</td>\n",
       "    </tr>\n",
       "    <tr>\n",
       "      <th>512083</th>\n",
       "      <td>600</td>\n",
       "      <td>3</td>\n",
       "      <td>2</td>\n",
       "      <td>1</td>\n",
       "      <td>0</td>\n",
       "      <td>1</td>\n",
       "      <td>0.070</td>\n",
       "      <td>1</td>\n",
       "      <td>5</td>\n",
       "      <td>3</td>\n",
       "      <td>134.000000</td>\n",
       "      <td>9618.0</td>\n",
       "    </tr>\n",
       "    <tr>\n",
       "      <th>512084</th>\n",
       "      <td>600</td>\n",
       "      <td>3</td>\n",
       "      <td>2</td>\n",
       "      <td>1</td>\n",
       "      <td>0</td>\n",
       "      <td>1</td>\n",
       "      <td>0.070</td>\n",
       "      <td>2</td>\n",
       "      <td>5</td>\n",
       "      <td>3</td>\n",
       "      <td>130.000000</td>\n",
       "      <td>9807.0</td>\n",
       "    </tr>\n",
       "    <tr>\n",
       "      <th>512085</th>\n",
       "      <td>600</td>\n",
       "      <td>3</td>\n",
       "      <td>2</td>\n",
       "      <td>1</td>\n",
       "      <td>0</td>\n",
       "      <td>1</td>\n",
       "      <td>0.070</td>\n",
       "      <td>3</td>\n",
       "      <td>5</td>\n",
       "      <td>3</td>\n",
       "      <td>121.000000</td>\n",
       "      <td>9219.0</td>\n",
       "    </tr>\n",
       "    <tr>\n",
       "      <th>512086</th>\n",
       "      <td>600</td>\n",
       "      <td>3</td>\n",
       "      <td>2</td>\n",
       "      <td>1</td>\n",
       "      <td>0</td>\n",
       "      <td>1</td>\n",
       "      <td>0.070</td>\n",
       "      <td>4</td>\n",
       "      <td>5</td>\n",
       "      <td>3</td>\n",
       "      <td>171.000000</td>\n",
       "      <td>12180.0</td>\n",
       "    </tr>\n",
       "  </tbody>\n",
       "</table>\n",
       "<p>512087 rows × 12 columns</p>\n",
       "</div>"
      ],
      "text/plain": [
       "        Course_ID  Course_Domain  Course_Type  Short_Promotion  \\\n",
       "0               1              1            0                0   \n",
       "1               1              1            0                0   \n",
       "2               1              1            0                0   \n",
       "3               1              1            0                0   \n",
       "4               1              1            0                0   \n",
       "...           ...            ...          ...              ...   \n",
       "512082        600              3            2                1   \n",
       "512083        600              3            2                1   \n",
       "512084        600              3            2                1   \n",
       "512085        600              3            2                1   \n",
       "512086        600              3            2                1   \n",
       "\n",
       "        Public_Holiday  Long_Promotion  Competition_Metric  Day_of_2_Weeks  \\\n",
       "0                    1               1               0.007               1   \n",
       "1                    0               1               0.007               1   \n",
       "2                    0               1               0.007               1   \n",
       "3                    0               1               0.007               2   \n",
       "4                    1               1               0.007               2   \n",
       "...                ...             ...                 ...             ...   \n",
       "512082               0               1               0.070              14   \n",
       "512083               0               1               0.070               1   \n",
       "512084               0               1               0.070               2   \n",
       "512085               0               1               0.070               3   \n",
       "512086               0               1               0.070               4   \n",
       "\n",
       "        Week_No  Year_No  Target_Course_ID  Group_Traffic  \n",
       "0             1        1         72.666667         9968.0  \n",
       "1             1        2         72.666667         9968.0  \n",
       "2             1        3         72.666667         9968.0  \n",
       "3             1        1         41.000000         6755.0  \n",
       "4             1        2         41.000000         6755.0  \n",
       "...         ...      ...               ...            ...  \n",
       "512082        4        3        144.000000        10164.0  \n",
       "512083        5        3        134.000000         9618.0  \n",
       "512084        5        3        130.000000         9807.0  \n",
       "512085        5        3        121.000000         9219.0  \n",
       "512086        5        3        171.000000        12180.0  \n",
       "\n",
       "[512087 rows x 12 columns]"
      ]
     },
     "execution_count": 582,
     "metadata": {},
     "output_type": "execute_result"
    }
   ],
   "source": [
    "X_train"
   ]
  },
  {
   "cell_type": "code",
   "execution_count": 91,
   "metadata": {},
   "outputs": [],
   "source": [
    "export_submission(y_test_pred,\"Lasso Regression Engineered Features\")"
   ]
  },
  {
   "cell_type": "code",
   "execution_count": null,
   "metadata": {},
   "outputs": [],
   "source": []
  },
  {
   "cell_type": "code",
   "execution_count": null,
   "metadata": {},
   "outputs": [],
   "source": []
  },
  {
   "cell_type": "code",
   "execution_count": null,
   "metadata": {},
   "outputs": [],
   "source": []
  },
  {
   "cell_type": "code",
   "execution_count": null,
   "metadata": {},
   "outputs": [],
   "source": []
  },
  {
   "cell_type": "markdown",
   "metadata": {},
   "source": [
    "## Grid Search For Tree Model"
   ]
  },
  {
   "cell_type": "code",
   "execution_count": 159,
   "metadata": {},
   "outputs": [],
   "source": [
    "tree=DecisionTreeRegressor()"
   ]
  },
  {
   "cell_type": "code",
   "execution_count": 160,
   "metadata": {},
   "outputs": [
    {
     "data": {
      "text/plain": [
       "DecisionTreeRegressor(ccp_alpha=0.0, criterion='mse', max_depth=None,\n",
       "                      max_features=None, max_leaf_nodes=None,\n",
       "                      min_impurity_decrease=0.0, min_impurity_split=None,\n",
       "                      min_samples_leaf=1, min_samples_split=2,\n",
       "                      min_weight_fraction_leaf=0.0, presort='deprecated',\n",
       "                      random_state=None, splitter='best')"
      ]
     },
     "execution_count": 160,
     "metadata": {},
     "output_type": "execute_result"
    }
   ],
   "source": [
    "tree.fit(X_train,y_train)"
   ]
  },
  {
   "cell_type": "code",
   "execution_count": 162,
   "metadata": {},
   "outputs": [],
   "source": [
    "y_train_pred=tree.predict(X_train)\n",
    "y_val_pred=tree.predict(X_val)"
   ]
  },
  {
   "cell_type": "code",
   "execution_count": 163,
   "metadata": {},
   "outputs": [
    {
     "data": {
      "text/plain": [
       "1.830350265476785e-14"
      ]
     },
     "execution_count": 163,
     "metadata": {},
     "output_type": "execute_result"
    }
   ],
   "source": [
    "1000*np.sqrt(mean_squared_error(y_train,y_train_pred))"
   ]
  },
  {
   "cell_type": "code",
   "execution_count": 164,
   "metadata": {},
   "outputs": [
    {
     "data": {
      "text/plain": [
       "304.4192083946222"
      ]
     },
     "execution_count": 164,
     "metadata": {},
     "output_type": "execute_result"
    }
   ],
   "source": [
    "1000*np.sqrt(mean_squared_error(y_val,y_val_pred))"
   ]
  },
  {
   "cell_type": "code",
   "execution_count": 587,
   "metadata": {},
   "outputs": [],
   "source": [
    "export_submission(y_test_pred,\"Tree Engineered Features\")"
   ]
  },
  {
   "cell_type": "code",
   "execution_count": 165,
   "metadata": {},
   "outputs": [
    {
     "data": {
      "text/plain": [
       "44"
      ]
     },
     "execution_count": 165,
     "metadata": {},
     "output_type": "execute_result"
    }
   ],
   "source": [
    "tree.get_depth()"
   ]
  },
  {
   "cell_type": "code",
   "execution_count": null,
   "metadata": {},
   "outputs": [],
   "source": [
    "path=tree.cost_complexity_pruning_path(X_train,y_train)"
   ]
  },
  {
   "cell_type": "code",
   "execution_count": null,
   "metadata": {},
   "outputs": [],
   "source": []
  },
  {
   "cell_type": "code",
   "execution_count": 166,
   "metadata": {},
   "outputs": [],
   "source": [
    "parameters={\"max_depth\":range(7,25)}"
   ]
  },
  {
   "cell_type": "code",
   "execution_count": 167,
   "metadata": {},
   "outputs": [],
   "source": [
    "search=GridSearchCV(DecisionTreeRegressor(random_state=10),parameters,scoring='neg_mean_squared_error',cv=5,verbose=100)"
   ]
  },
  {
   "cell_type": "code",
   "execution_count": null,
   "metadata": {},
   "outputs": [
    {
     "name": "stdout",
     "output_type": "stream",
     "text": [
      "Fitting 5 folds for each of 18 candidates, totalling 90 fits\n",
      "[Parallel(n_jobs=1)]: Using backend SequentialBackend with 1 concurrent workers.\n",
      "[CV] max_depth=7 .....................................................\n",
      "[CV] ........................ max_depth=7, score=-0.024, total=   2.6s\n",
      "[Parallel(n_jobs=1)]: Done   1 out of   1 | elapsed:    2.5s remaining:    0.0s\n",
      "[CV] max_depth=7 .....................................................\n",
      "[CV] ........................ max_depth=7, score=-0.028, total=   2.4s\n",
      "[Parallel(n_jobs=1)]: Done   2 out of   2 | elapsed:    4.8s remaining:    0.0s\n",
      "[CV] max_depth=7 .....................................................\n",
      "[CV] ........................ max_depth=7, score=-0.035, total=   2.4s\n",
      "[Parallel(n_jobs=1)]: Done   3 out of   3 | elapsed:    7.3s remaining:    0.0s\n",
      "[CV] max_depth=7 .....................................................\n",
      "[CV] ........................ max_depth=7, score=-0.037, total=   2.3s\n",
      "[Parallel(n_jobs=1)]: Done   4 out of   4 | elapsed:    9.6s remaining:    0.0s\n",
      "[CV] max_depth=7 .....................................................\n",
      "[CV] ........................ max_depth=7, score=-0.031, total=   2.4s\n",
      "[Parallel(n_jobs=1)]: Done   5 out of   5 | elapsed:   12.0s remaining:    0.0s\n",
      "[CV] max_depth=8 .....................................................\n",
      "[CV] ........................ max_depth=8, score=-0.026, total=   2.7s\n",
      "[Parallel(n_jobs=1)]: Done   6 out of   6 | elapsed:   14.6s remaining:    0.0s\n",
      "[CV] max_depth=8 .....................................................\n",
      "[CV] ........................ max_depth=8, score=-0.028, total=   2.7s\n",
      "[Parallel(n_jobs=1)]: Done   7 out of   7 | elapsed:   17.3s remaining:    0.0s\n",
      "[CV] max_depth=8 .....................................................\n",
      "[CV] ........................ max_depth=8, score=-0.035, total=   2.6s\n",
      "[Parallel(n_jobs=1)]: Done   8 out of   8 | elapsed:   19.9s remaining:    0.0s\n",
      "[CV] max_depth=8 .....................................................\n",
      "[CV] ........................ max_depth=8, score=-0.039, total=   2.7s\n",
      "[Parallel(n_jobs=1)]: Done   9 out of   9 | elapsed:   22.6s remaining:    0.0s\n",
      "[CV] max_depth=8 .....................................................\n",
      "[CV] ........................ max_depth=8, score=-0.036, total=   2.7s\n",
      "[Parallel(n_jobs=1)]: Done  10 out of  10 | elapsed:   25.3s remaining:    0.0s\n",
      "[CV] max_depth=9 .....................................................\n",
      "[CV] ........................ max_depth=9, score=-0.028, total=   2.9s\n",
      "[Parallel(n_jobs=1)]: Done  11 out of  11 | elapsed:   28.2s remaining:    0.0s\n",
      "[CV] max_depth=9 .....................................................\n",
      "[CV] ........................ max_depth=9, score=-0.028, total=   3.0s\n",
      "[Parallel(n_jobs=1)]: Done  12 out of  12 | elapsed:   31.2s remaining:    0.0s\n",
      "[CV] max_depth=9 .....................................................\n",
      "[CV] ........................ max_depth=9, score=-0.036, total=   2.9s\n",
      "[Parallel(n_jobs=1)]: Done  13 out of  13 | elapsed:   34.2s remaining:    0.0s\n",
      "[CV] max_depth=9 .....................................................\n",
      "[CV] ........................ max_depth=9, score=-0.039, total=   2.8s\n",
      "[Parallel(n_jobs=1)]: Done  14 out of  14 | elapsed:   37.0s remaining:    0.0s\n",
      "[CV] max_depth=9 .....................................................\n",
      "[CV] ........................ max_depth=9, score=-0.038, total=   3.1s\n",
      "[Parallel(n_jobs=1)]: Done  15 out of  15 | elapsed:   40.1s remaining:    0.0s\n",
      "[CV] max_depth=10 ....................................................\n",
      "[CV] ....................... max_depth=10, score=-0.030, total=   3.2s\n",
      "[Parallel(n_jobs=1)]: Done  16 out of  16 | elapsed:   43.3s remaining:    0.0s\n",
      "[CV] max_depth=10 ....................................................\n",
      "[CV] ....................... max_depth=10, score=-0.029, total=   3.1s\n",
      "[Parallel(n_jobs=1)]: Done  17 out of  17 | elapsed:   46.5s remaining:    0.0s\n",
      "[CV] max_depth=10 ....................................................\n",
      "[CV] ....................... max_depth=10, score=-0.037, total=   3.1s\n",
      "[Parallel(n_jobs=1)]: Done  18 out of  18 | elapsed:   49.6s remaining:    0.0s\n",
      "[CV] max_depth=10 ....................................................\n",
      "[CV] ....................... max_depth=10, score=-0.041, total=   3.1s\n",
      "[Parallel(n_jobs=1)]: Done  19 out of  19 | elapsed:   52.7s remaining:    0.0s\n",
      "[CV] max_depth=10 ....................................................\n",
      "[CV] ....................... max_depth=10, score=-0.043, total=   3.1s\n",
      "[Parallel(n_jobs=1)]: Done  20 out of  20 | elapsed:   55.9s remaining:    0.0s\n",
      "[CV] max_depth=11 ....................................................\n",
      "[CV] ....................... max_depth=11, score=-0.032, total=   3.2s\n",
      "[Parallel(n_jobs=1)]: Done  21 out of  21 | elapsed:   59.1s remaining:    0.0s\n",
      "[CV] max_depth=11 ....................................................\n",
      "[CV] ....................... max_depth=11, score=-0.032, total=   3.4s\n",
      "[Parallel(n_jobs=1)]: Done  22 out of  22 | elapsed:  1.0min remaining:    0.0s\n",
      "[CV] max_depth=11 ....................................................\n",
      "[CV] ....................... max_depth=11, score=-0.038, total=   3.3s\n",
      "[Parallel(n_jobs=1)]: Done  23 out of  23 | elapsed:  1.1min remaining:    0.0s\n",
      "[CV] max_depth=11 ....................................................\n",
      "[CV] ....................... max_depth=11, score=-0.041, total=   3.2s\n",
      "[Parallel(n_jobs=1)]: Done  24 out of  24 | elapsed:  1.2min remaining:    0.0s\n",
      "[CV] max_depth=11 ....................................................\n",
      "[CV] ....................... max_depth=11, score=-0.050, total=   3.4s\n",
      "[Parallel(n_jobs=1)]: Done  25 out of  25 | elapsed:  1.2min remaining:    0.0s\n",
      "[CV] max_depth=12 ....................................................\n",
      "[CV] ....................... max_depth=12, score=-0.036, total=   3.4s\n",
      "[Parallel(n_jobs=1)]: Done  26 out of  26 | elapsed:  1.3min remaining:    0.0s\n",
      "[CV] max_depth=12 ....................................................\n",
      "[CV] ....................... max_depth=12, score=-0.035, total=   3.6s\n",
      "[Parallel(n_jobs=1)]: Done  27 out of  27 | elapsed:  1.3min remaining:    0.0s\n",
      "[CV] max_depth=12 ....................................................\n",
      "[CV] ....................... max_depth=12, score=-0.040, total=   3.6s\n",
      "[Parallel(n_jobs=1)]: Done  28 out of  28 | elapsed:  1.4min remaining:    0.0s\n",
      "[CV] max_depth=12 ....................................................\n",
      "[CV] ....................... max_depth=12, score=-0.042, total=   3.5s\n",
      "[Parallel(n_jobs=1)]: Done  29 out of  29 | elapsed:  1.4min remaining:    0.0s\n",
      "[CV] max_depth=12 ....................................................\n",
      "[CV] ....................... max_depth=12, score=-0.053, total=   3.5s\n",
      "[Parallel(n_jobs=1)]: Done  30 out of  30 | elapsed:  1.5min remaining:    0.0s\n",
      "[CV] max_depth=13 ....................................................\n",
      "[CV] ....................... max_depth=13, score=-0.039, total=   3.7s\n",
      "[Parallel(n_jobs=1)]: Done  31 out of  31 | elapsed:  1.6min remaining:    0.0s\n",
      "[CV] max_depth=13 ....................................................\n",
      "[CV] ....................... max_depth=13, score=-0.037, total=   3.8s\n",
      "[Parallel(n_jobs=1)]: Done  32 out of  32 | elapsed:  1.6min remaining:    0.0s\n",
      "[CV] max_depth=13 ....................................................\n",
      "[CV] ....................... max_depth=13, score=-0.041, total=   3.7s\n",
      "[Parallel(n_jobs=1)]: Done  33 out of  33 | elapsed:  1.7min remaining:    0.0s\n",
      "[CV] max_depth=13 ....................................................\n",
      "[CV] ....................... max_depth=13, score=-0.043, total=   3.8s\n",
      "[Parallel(n_jobs=1)]: Done  34 out of  34 | elapsed:  1.8min remaining:    0.0s\n",
      "[CV] max_depth=13 ....................................................\n",
      "[CV] ....................... max_depth=13, score=-0.057, total=   3.7s\n",
      "[Parallel(n_jobs=1)]: Done  35 out of  35 | elapsed:  1.8min remaining:    0.0s\n",
      "[CV] max_depth=14 ....................................................\n",
      "[CV] ....................... max_depth=14, score=-0.042, total=   3.8s\n",
      "[Parallel(n_jobs=1)]: Done  36 out of  36 | elapsed:  1.9min remaining:    0.0s\n",
      "[CV] max_depth=14 ....................................................\n"
     ]
    },
    {
     "name": "stdout",
     "output_type": "stream",
     "text": [
      "[CV] ....................... max_depth=14, score=-0.038, total=   4.3s\n",
      "[Parallel(n_jobs=1)]: Done  37 out of  37 | elapsed:  1.9min remaining:    0.0s\n",
      "[CV] max_depth=14 ....................................................\n",
      "[CV] ....................... max_depth=14, score=-0.043, total=   4.0s\n",
      "[Parallel(n_jobs=1)]: Done  38 out of  38 | elapsed:  2.0min remaining:    0.0s\n",
      "[CV] max_depth=14 ....................................................\n",
      "[CV] ....................... max_depth=14, score=-0.044, total=   4.0s\n",
      "[Parallel(n_jobs=1)]: Done  39 out of  39 | elapsed:  2.1min remaining:    0.0s\n",
      "[CV] max_depth=14 ....................................................\n",
      "[CV] ....................... max_depth=14, score=-0.059, total=   3.9s\n",
      "[Parallel(n_jobs=1)]: Done  40 out of  40 | elapsed:  2.1min remaining:    0.0s\n",
      "[CV] max_depth=15 ....................................................\n",
      "[CV] ....................... max_depth=15, score=-0.044, total=   4.2s\n",
      "[Parallel(n_jobs=1)]: Done  41 out of  41 | elapsed:  2.2min remaining:    0.0s\n",
      "[CV] max_depth=15 ....................................................\n",
      "[CV] ....................... max_depth=15, score=-0.040, total=   4.1s\n",
      "[Parallel(n_jobs=1)]: Done  42 out of  42 | elapsed:  2.3min remaining:    0.0s\n",
      "[CV] max_depth=15 ....................................................\n",
      "[CV] ....................... max_depth=15, score=-0.045, total=   4.1s\n",
      "[Parallel(n_jobs=1)]: Done  43 out of  43 | elapsed:  2.4min remaining:    0.0s\n",
      "[CV] max_depth=15 ....................................................\n",
      "[CV] ....................... max_depth=15, score=-0.046, total=   4.2s\n",
      "[Parallel(n_jobs=1)]: Done  44 out of  44 | elapsed:  2.4min remaining:    0.0s\n",
      "[CV] max_depth=15 ....................................................\n",
      "[CV] ....................... max_depth=15, score=-0.062, total=   4.1s\n",
      "[Parallel(n_jobs=1)]: Done  45 out of  45 | elapsed:  2.5min remaining:    0.0s\n",
      "[CV] max_depth=16 ....................................................\n",
      "[CV] ....................... max_depth=16, score=-0.046, total=   4.1s\n",
      "[Parallel(n_jobs=1)]: Done  46 out of  46 | elapsed:  2.6min remaining:    0.0s\n",
      "[CV] max_depth=16 ....................................................\n",
      "[CV] ....................... max_depth=16, score=-0.042, total=   4.2s\n",
      "[Parallel(n_jobs=1)]: Done  47 out of  47 | elapsed:  2.6min remaining:    0.0s\n",
      "[CV] max_depth=16 ....................................................\n",
      "[CV] ....................... max_depth=16, score=-0.046, total=   4.3s\n",
      "[Parallel(n_jobs=1)]: Done  48 out of  48 | elapsed:  2.7min remaining:    0.0s\n",
      "[CV] max_depth=16 ....................................................\n",
      "[CV] ....................... max_depth=16, score=-0.048, total=   4.4s\n",
      "[Parallel(n_jobs=1)]: Done  49 out of  49 | elapsed:  2.8min remaining:    0.0s\n",
      "[CV] max_depth=16 ....................................................\n",
      "[CV] ....................... max_depth=16, score=-0.066, total=   4.2s\n",
      "[Parallel(n_jobs=1)]: Done  50 out of  50 | elapsed:  2.8min remaining:    0.0s\n",
      "[CV] max_depth=17 ....................................................\n",
      "[CV] ....................... max_depth=17, score=-0.047, total=   4.4s\n",
      "[Parallel(n_jobs=1)]: Done  51 out of  51 | elapsed:  2.9min remaining:    0.0s\n",
      "[CV] max_depth=17 ....................................................\n",
      "[CV] ....................... max_depth=17, score=-0.044, total=   4.5s\n",
      "[Parallel(n_jobs=1)]: Done  52 out of  52 | elapsed:  3.0min remaining:    0.0s\n",
      "[CV] max_depth=17 ....................................................\n",
      "[CV] ....................... max_depth=17, score=-0.048, total=   4.4s\n",
      "[Parallel(n_jobs=1)]: Done  53 out of  53 | elapsed:  3.1min remaining:    0.0s\n",
      "[CV] max_depth=17 ....................................................\n",
      "[CV] ....................... max_depth=17, score=-0.049, total=   4.4s\n",
      "[Parallel(n_jobs=1)]: Done  54 out of  54 | elapsed:  3.1min remaining:    0.0s\n",
      "[CV] max_depth=17 ....................................................\n",
      "[CV] ....................... max_depth=17, score=-0.065, total=   4.3s\n",
      "[Parallel(n_jobs=1)]: Done  55 out of  55 | elapsed:  3.2min remaining:    0.0s\n",
      "[CV] max_depth=18 ....................................................\n",
      "[CV] ....................... max_depth=18, score=-0.047, total=   4.5s\n",
      "[Parallel(n_jobs=1)]: Done  56 out of  56 | elapsed:  3.3min remaining:    0.0s\n",
      "[CV] max_depth=18 ....................................................\n",
      "[CV] ....................... max_depth=18, score=-0.044, total=   4.8s\n",
      "[Parallel(n_jobs=1)]: Done  57 out of  57 | elapsed:  3.4min remaining:    0.0s\n",
      "[CV] max_depth=18 ....................................................\n",
      "[CV] ....................... max_depth=18, score=-0.052, total=   4.7s\n",
      "[Parallel(n_jobs=1)]: Done  58 out of  58 | elapsed:  3.4min remaining:    0.0s\n",
      "[CV] max_depth=18 ....................................................\n",
      "[CV] ....................... max_depth=18, score=-0.051, total=   4.6s\n",
      "[Parallel(n_jobs=1)]: Done  59 out of  59 | elapsed:  3.5min remaining:    0.0s\n",
      "[CV] max_depth=18 ....................................................\n",
      "[CV] ....................... max_depth=18, score=-0.066, total=   4.5s\n",
      "[Parallel(n_jobs=1)]: Done  60 out of  60 | elapsed:  3.6min remaining:    0.0s\n",
      "[CV] max_depth=19 ....................................................\n",
      "[CV] ....................... max_depth=19, score=-0.050, total=   4.7s\n",
      "[Parallel(n_jobs=1)]: Done  61 out of  61 | elapsed:  3.7min remaining:    0.0s\n",
      "[CV] max_depth=19 ....................................................\n",
      "[CV] ....................... max_depth=19, score=-0.046, total=   4.8s\n",
      "[Parallel(n_jobs=1)]: Done  62 out of  62 | elapsed:  3.8min remaining:    0.0s\n",
      "[CV] max_depth=19 ....................................................\n",
      "[CV] ....................... max_depth=19, score=-0.050, total=   4.6s\n",
      "[Parallel(n_jobs=1)]: Done  63 out of  63 | elapsed:  3.8min remaining:    0.0s\n",
      "[CV] max_depth=19 ....................................................\n",
      "[CV] ....................... max_depth=19, score=-0.051, total=   4.8s\n",
      "[Parallel(n_jobs=1)]: Done  64 out of  64 | elapsed:  3.9min remaining:    0.0s\n",
      "[CV] max_depth=19 ....................................................\n",
      "[CV] ....................... max_depth=19, score=-0.066, total=   4.7s\n",
      "[Parallel(n_jobs=1)]: Done  65 out of  65 | elapsed:  4.0min remaining:    0.0s\n",
      "[CV] max_depth=20 ....................................................\n",
      "[CV] ....................... max_depth=20, score=-0.049, total=   4.9s\n",
      "[Parallel(n_jobs=1)]: Done  66 out of  66 | elapsed:  4.1min remaining:    0.0s\n",
      "[CV] max_depth=20 ....................................................\n",
      "[CV] ....................... max_depth=20, score=-0.047, total=   5.0s\n",
      "[Parallel(n_jobs=1)]: Done  67 out of  67 | elapsed:  4.2min remaining:    0.0s\n",
      "[CV] max_depth=20 ....................................................\n",
      "[CV] ....................... max_depth=20, score=-0.053, total=   5.0s\n",
      "[Parallel(n_jobs=1)]: Done  68 out of  68 | elapsed:  4.2min remaining:    0.0s\n",
      "[CV] max_depth=20 ....................................................\n",
      "[CV] ....................... max_depth=20, score=-0.052, total=   5.0s\n",
      "[Parallel(n_jobs=1)]: Done  69 out of  69 | elapsed:  4.3min remaining:    0.0s\n",
      "[CV] max_depth=20 ....................................................\n",
      "[CV] ....................... max_depth=20, score=-0.069, total=   4.9s\n",
      "[Parallel(n_jobs=1)]: Done  70 out of  70 | elapsed:  4.4min remaining:    0.0s\n",
      "[CV] max_depth=21 ....................................................\n",
      "[CV] ....................... max_depth=21, score=-0.048, total=   4.9s\n",
      "[Parallel(n_jobs=1)]: Done  71 out of  71 | elapsed:  4.5min remaining:    0.0s\n",
      "[CV] max_depth=21 ....................................................\n",
      "[CV] ....................... max_depth=21, score=-0.048, total=   5.1s\n",
      "[Parallel(n_jobs=1)]: Done  72 out of  72 | elapsed:  4.6min remaining:    0.0s\n",
      "[CV] max_depth=21 ....................................................\n",
      "[CV] ....................... max_depth=21, score=-0.053, total=   5.1s\n",
      "[Parallel(n_jobs=1)]: Done  73 out of  73 | elapsed:  4.7min remaining:    0.0s\n",
      "[CV] max_depth=21 ....................................................\n"
     ]
    },
    {
     "name": "stdout",
     "output_type": "stream",
     "text": [
      "[CV] ....................... max_depth=21, score=-0.053, total=   5.1s\n",
      "[Parallel(n_jobs=1)]: Done  74 out of  74 | elapsed:  4.7min remaining:    0.0s\n",
      "[CV] max_depth=21 ....................................................\n",
      "[CV] ....................... max_depth=21, score=-0.069, total=   5.0s\n",
      "[Parallel(n_jobs=1)]: Done  75 out of  75 | elapsed:  4.8min remaining:    0.0s\n",
      "[CV] max_depth=22 ....................................................\n",
      "[CV] ....................... max_depth=22, score=-0.050, total=   5.1s\n",
      "[Parallel(n_jobs=1)]: Done  76 out of  76 | elapsed:  4.9min remaining:    0.0s\n",
      "[CV] max_depth=22 ....................................................\n",
      "[CV] ....................... max_depth=22, score=-0.048, total=   5.1s\n",
      "[Parallel(n_jobs=1)]: Done  77 out of  77 | elapsed:  5.0min remaining:    0.0s\n",
      "[CV] max_depth=22 ....................................................\n",
      "[CV] ....................... max_depth=22, score=-0.053, total=   5.1s\n",
      "[Parallel(n_jobs=1)]: Done  78 out of  78 | elapsed:  5.1min remaining:    0.0s\n",
      "[CV] max_depth=22 ....................................................\n",
      "[CV] ....................... max_depth=22, score=-0.052, total=   5.3s\n",
      "[Parallel(n_jobs=1)]: Done  79 out of  79 | elapsed:  5.2min remaining:    0.0s\n",
      "[CV] max_depth=22 ....................................................\n",
      "[CV] ....................... max_depth=22, score=-0.068, total=   5.0s\n",
      "[Parallel(n_jobs=1)]: Done  80 out of  80 | elapsed:  5.3min remaining:    0.0s\n",
      "[CV] max_depth=23 ....................................................\n",
      "[CV] ....................... max_depth=23, score=-0.051, total=   5.2s\n",
      "[Parallel(n_jobs=1)]: Done  81 out of  81 | elapsed:  5.3min remaining:    0.0s\n",
      "[CV] max_depth=23 ....................................................\n",
      "[CV] ....................... max_depth=23, score=-0.049, total=   5.2s\n",
      "[Parallel(n_jobs=1)]: Done  82 out of  82 | elapsed:  5.4min remaining:    0.0s\n",
      "[CV] max_depth=23 ....................................................\n",
      "[CV] ....................... max_depth=23, score=-0.053, total=   5.3s\n",
      "[Parallel(n_jobs=1)]: Done  83 out of  83 | elapsed:  5.5min remaining:    0.0s\n",
      "[CV] max_depth=23 ....................................................\n",
      "[CV] ....................... max_depth=23, score=-0.054, total=   5.2s\n",
      "[Parallel(n_jobs=1)]: Done  84 out of  84 | elapsed:  5.6min remaining:    0.0s\n",
      "[CV] max_depth=23 ....................................................\n",
      "[CV] ....................... max_depth=23, score=-0.068, total=   5.2s\n",
      "[Parallel(n_jobs=1)]: Done  85 out of  85 | elapsed:  5.7min remaining:    0.0s\n",
      "[CV] max_depth=24 ....................................................\n",
      "[CV] ....................... max_depth=24, score=-0.051, total=   5.4s\n",
      "[Parallel(n_jobs=1)]: Done  86 out of  86 | elapsed:  5.8min remaining:    0.0s\n",
      "[CV] max_depth=24 ....................................................\n",
      "[CV] ....................... max_depth=24, score=-0.052, total=   5.4s\n",
      "[Parallel(n_jobs=1)]: Done  87 out of  87 | elapsed:  5.9min remaining:    0.0s\n",
      "[CV] max_depth=24 ....................................................\n"
     ]
    }
   ],
   "source": [
    "search.fit(X_train,y_train)"
   ]
  },
  {
   "cell_type": "code",
   "execution_count": null,
   "metadata": {},
   "outputs": [],
   "source": [
    "search.best_params_"
   ]
  },
  {
   "cell_type": "code",
   "execution_count": 224,
   "metadata": {},
   "outputs": [
    {
     "data": {
      "text/plain": [
       "-0.013210302124428008"
      ]
     },
     "execution_count": 224,
     "metadata": {},
     "output_type": "execute_result"
    }
   ],
   "source": [
    "search.best_score_"
   ]
  },
  {
   "cell_type": "code",
   "execution_count": null,
   "metadata": {},
   "outputs": [],
   "source": []
  },
  {
   "cell_type": "code",
   "execution_count": null,
   "metadata": {},
   "outputs": [],
   "source": []
  },
  {
   "cell_type": "code",
   "execution_count": null,
   "metadata": {},
   "outputs": [],
   "source": []
  },
  {
   "cell_type": "code",
   "execution_count": 225,
   "metadata": {},
   "outputs": [],
   "source": [
    "tree=DecisionTreeRegressor(max_depth= 12)"
   ]
  },
  {
   "cell_type": "code",
   "execution_count": 226,
   "metadata": {},
   "outputs": [
    {
     "data": {
      "text/plain": [
       "DecisionTreeRegressor(ccp_alpha=0.0, criterion='mse', max_depth=12,\n",
       "                      max_features=None, max_leaf_nodes=None,\n",
       "                      min_impurity_decrease=0.0, min_impurity_split=None,\n",
       "                      min_samples_leaf=1, min_samples_split=2,\n",
       "                      min_weight_fraction_leaf=0.0, presort='deprecated',\n",
       "                      random_state=None, splitter='best')"
      ]
     },
     "execution_count": 226,
     "metadata": {},
     "output_type": "execute_result"
    }
   ],
   "source": [
    "tree.fit(X_train,y_train)"
   ]
  },
  {
   "cell_type": "code",
   "execution_count": 227,
   "metadata": {},
   "outputs": [
    {
     "data": {
      "text/plain": [
       "(2.4849066497880004, 6.1779441140506)"
      ]
     },
     "execution_count": 227,
     "metadata": {},
     "output_type": "execute_result"
    }
   ],
   "source": [
    "y_test_pred.min(),y_test_pred.max()"
   ]
  },
  {
   "cell_type": "code",
   "execution_count": 228,
   "metadata": {
    "scrolled": true
   },
   "outputs": [
    {
     "data": {
      "text/plain": [
       "1.3277473750014732e-12"
      ]
     },
     "execution_count": 228,
     "metadata": {},
     "output_type": "execute_result"
    }
   ],
   "source": [
    "1000*np.sqrt(mean_squared_error(y_train,y_train_pred))"
   ]
  },
  {
   "cell_type": "code",
   "execution_count": 229,
   "metadata": {},
   "outputs": [],
   "source": [
    "export_submission(y_test_pred,\"Tree Max Depth Engineered Features\")"
   ]
  },
  {
   "cell_type": "code",
   "execution_count": null,
   "metadata": {},
   "outputs": [],
   "source": []
  },
  {
   "cell_type": "code",
   "execution_count": null,
   "metadata": {},
   "outputs": [],
   "source": []
  },
  {
   "cell_type": "markdown",
   "metadata": {},
   "source": [
    "## Random Forests"
   ]
  },
  {
   "cell_type": "code",
   "execution_count": 405,
   "metadata": {},
   "outputs": [],
   "source": [
    "forest=RandomForestRegressor(max_features=None,n_estimators=400,n_jobs=8)"
   ]
  },
  {
   "cell_type": "code",
   "execution_count": 406,
   "metadata": {},
   "outputs": [
    {
     "data": {
      "text/plain": [
       "RandomForestRegressor(bootstrap=True, ccp_alpha=0.0, criterion='mse',\n",
       "                      max_depth=None, max_features=None, max_leaf_nodes=None,\n",
       "                      max_samples=None, min_impurity_decrease=0.0,\n",
       "                      min_impurity_split=None, min_samples_leaf=1,\n",
       "                      min_samples_split=2, min_weight_fraction_leaf=0.0,\n",
       "                      n_estimators=400, n_jobs=8, oob_score=False,\n",
       "                      random_state=None, verbose=0, warm_start=False)"
      ]
     },
     "execution_count": 406,
     "metadata": {},
     "output_type": "execute_result"
    }
   ],
   "source": [
    "forest.fit(X_train,y_train)"
   ]
  },
  {
   "cell_type": "code",
   "execution_count": 407,
   "metadata": {},
   "outputs": [],
   "source": [
    "y_train_pred=forest.predict(X_train)\n",
    "y_test_pred=forest.predict(test)"
   ]
  },
  {
   "cell_type": "code",
   "execution_count": 408,
   "metadata": {},
   "outputs": [
    {
     "data": {
      "text/plain": [
       "107.22308899248416"
      ]
     },
     "execution_count": 408,
     "metadata": {},
     "output_type": "execute_result"
    }
   ],
   "source": [
    "1000*np.sqrt(mean_squared_error(y_train,y_train_pred))"
   ]
  },
  {
   "cell_type": "code",
   "execution_count": 409,
   "metadata": {},
   "outputs": [],
   "source": [
    "export_submission(y_test_pred,\"Forest Engineered Features\")"
   ]
  },
  {
   "cell_type": "code",
   "execution_count": null,
   "metadata": {},
   "outputs": [],
   "source": []
  },
  {
   "cell_type": "code",
   "execution_count": null,
   "metadata": {},
   "outputs": [],
   "source": []
  },
  {
   "cell_type": "code",
   "execution_count": 114,
   "metadata": {},
   "outputs": [],
   "source": [
    "parameters={\"max_depth\":range(2,20),'max_samples':[0.5,0.6,0.7,0.8]}"
   ]
  },
  {
   "cell_type": "code",
   "execution_count": 115,
   "metadata": {},
   "outputs": [],
   "source": [
    "search=RandomizedSearchCV(RandomForestRegressor(random_state=10,max_features=None,verbose=2,n_estimators=150,n_jobs=-1),parameters,scoring='neg_mean_squared_error',cv=5,verbose=2,n_iter=20)"
   ]
  },
  {
   "cell_type": "code",
   "execution_count": 116,
   "metadata": {},
   "outputs": [
    {
     "name": "stdout",
     "output_type": "stream",
     "text": [
      "Fitting 5 folds for each of 20 candidates, totalling 100 fits\n"
     ]
    },
    {
     "name": "stderr",
     "output_type": "stream",
     "text": [
      "[Parallel(n_jobs=6)]: Using backend LokyBackend with 6 concurrent workers.\n",
      "[Parallel(n_jobs=6)]: Done  29 tasks      | elapsed: 17.2min\n",
      "[Parallel(n_jobs=6)]: Done 100 out of 100 | elapsed: 77.8min finished\n"
     ]
    },
    {
     "data": {
      "text/plain": [
       "RandomizedSearchCV(cv=5, error_score=nan,\n",
       "                   estimator=RandomForestRegressor(bootstrap=True,\n",
       "                                                   ccp_alpha=0.0,\n",
       "                                                   criterion='mse',\n",
       "                                                   max_depth=None,\n",
       "                                                   max_features=None,\n",
       "                                                   max_leaf_nodes=None,\n",
       "                                                   max_samples=None,\n",
       "                                                   min_impurity_decrease=0.0,\n",
       "                                                   min_impurity_split=None,\n",
       "                                                   min_samples_leaf=1,\n",
       "                                                   min_samples_split=2,\n",
       "                                                   min_weight_fraction_leaf=0.0,\n",
       "                                                   n_estimators=200, n_jobs=6,\n",
       "                                                   oob_score=False,\n",
       "                                                   random_state=10, verbose=0,\n",
       "                                                   warm_start=False),\n",
       "                   iid='deprecated', n_iter=20, n_jobs=6,\n",
       "                   param_distributions={'max_depth': range(2, 20),\n",
       "                                        'max_samples': [0.5, 0.6, 0.7, 0.8]},\n",
       "                   pre_dispatch='2*n_jobs', random_state=None, refit=True,\n",
       "                   return_train_score=False, scoring='neg_mean_squared_error',\n",
       "                   verbose=2)"
      ]
     },
     "execution_count": 116,
     "metadata": {},
     "output_type": "execute_result"
    }
   ],
   "source": [
    "search.fit(X_train,y_train)"
   ]
  },
  {
   "cell_type": "code",
   "execution_count": 117,
   "metadata": {},
   "outputs": [
    {
     "data": {
      "text/plain": [
       "{'max_samples': 0.8, 'max_depth': 7}"
      ]
     },
     "execution_count": 117,
     "metadata": {},
     "output_type": "execute_result"
    }
   ],
   "source": [
    "search.best_params_"
   ]
  },
  {
   "cell_type": "code",
   "execution_count": 38,
   "metadata": {},
   "outputs": [
    {
     "data": {
      "text/plain": [
       "-0.03500106369665605"
      ]
     },
     "execution_count": 38,
     "metadata": {},
     "output_type": "execute_result"
    }
   ],
   "source": [
    "search.best_score_"
   ]
  },
  {
   "cell_type": "code",
   "execution_count": null,
   "metadata": {},
   "outputs": [],
   "source": []
  },
  {
   "cell_type": "code",
   "execution_count": null,
   "metadata": {},
   "outputs": [],
   "source": []
  },
  {
   "cell_type": "code",
   "execution_count": null,
   "metadata": {},
   "outputs": [],
   "source": []
  },
  {
   "cell_type": "code",
   "execution_count": 412,
   "metadata": {},
   "outputs": [],
   "source": [
    "tree=RandomForestRegressor(max_depth= 7, max_samples=0.8, verbose=2, n_jobs=-1)"
   ]
  },
  {
   "cell_type": "code",
   "execution_count": 413,
   "metadata": {},
   "outputs": [
    {
     "name": "stderr",
     "output_type": "stream",
     "text": [
      "[Parallel(n_jobs=-1)]: Using backend ThreadingBackend with 12 concurrent workers.\n"
     ]
    },
    {
     "name": "stdout",
     "output_type": "stream",
     "text": [
      "building tree 1 of 100\n",
      "building tree 2 of 100\n",
      "building tree 3 of 100\n",
      "building tree 4 of 100\n",
      "building tree 5 of 100\n",
      "building tree 6 of 100\n",
      "building tree 7 of 100\n",
      "building tree 8 of 100\n",
      "building tree 9 of 100\n",
      "building tree 10 of 100\n",
      "building tree 11 of 100\n",
      "building tree 12 of 100\n",
      "building tree 13 of 100\n",
      "building tree 14 of 100\n",
      "building tree 15 of 100\n",
      "building tree 16 of 100\n",
      "building tree 17 of 100\n",
      "building tree 18 of 100\n",
      "building tree 19 of 100\n",
      "building tree 20 of 100\n",
      "building tree 21 of 100\n",
      "building tree 22 of 100\n",
      "building tree 23 of 100\n",
      "building tree 24 of 100\n",
      "building tree 25 of 100building tree 26 of 100\n",
      "\n",
      "building tree 27 of 100\n",
      "building tree 28 of 100\n"
     ]
    },
    {
     "name": "stderr",
     "output_type": "stream",
     "text": [
      "[Parallel(n_jobs=-1)]: Done  17 tasks      | elapsed:    6.4s\n"
     ]
    },
    {
     "name": "stdout",
     "output_type": "stream",
     "text": [
      "building tree 29 of 100\n",
      "building tree 30 of 100\n",
      "building tree 31 of 100\n",
      "building tree 32 of 100\n",
      "building tree 33 of 100\n",
      "building tree 34 of 100\n",
      "building tree 35 of 100\n",
      "building tree 36 of 100\n",
      "building tree 37 of 100\n",
      "building tree 38 of 100\n",
      "building tree 39 of 100\n",
      "building tree 40 of 100\n",
      "building tree 41 of 100\n",
      "building tree 42 of 100\n",
      "building tree 43 of 100\n",
      "building tree 44 of 100\n",
      "building tree 45 of 100\n",
      "building tree 46 of 100building tree 47 of 100\n",
      "\n",
      "building tree 48 of 100\n",
      "building tree 49 of 100\n",
      "building tree 50 of 100\n",
      "building tree 51 of 100\n",
      "building tree 52 of 100\n",
      "building tree 53 of 100\n",
      "building tree 54 of 100\n",
      "building tree 55 of 100\n",
      "building tree 56 of 100\n",
      "building tree 57 of 100\n",
      "building tree 58 of 100\n",
      "building tree 59 of 100\n",
      "building tree 60 of 100\n",
      "building tree 61 of 100\n",
      "building tree 62 of 100\n",
      "building tree 63 of 100\n",
      "building tree 64 of 100\n",
      "building tree 65 of 100\n",
      "building tree 66 of 100\n",
      "building tree 67 of 100\n",
      "building tree 68 of 100\n",
      "building tree 69 of 100\n",
      "building tree 70 of 100\n",
      "building tree 71 of 100\n",
      "building tree 72 of 100\n",
      "building tree 73 of 100\n",
      "building tree 74 of 100\n",
      "building tree 75 of 100\n",
      "building tree 76 of 100\n",
      "building tree 77 of 100\n",
      "building tree 78 of 100\n",
      "building tree 79 of 100\n",
      "building tree 80 of 100\n",
      "building tree 81 of 100\n",
      "building tree 82 of 100\n",
      "building tree 83 of 100\n",
      "building tree 84 of 100\n",
      "building tree 85 of 100\n",
      "building tree 86 of 100\n",
      "building tree 87 of 100\n",
      "building tree 88 of 100\n",
      "building tree 89 of 100\n",
      "building tree 90 of 100\n",
      "building tree 91 of 100\n",
      "building tree 92 of 100\n",
      "building tree 93 of 100\n",
      "building tree 94 of 100\n",
      "building tree 95 of 100\n",
      "building tree 96 of 100\n",
      "building tree 97 of 100\n",
      "building tree 98 of 100\n",
      "building tree 99 of 100\n",
      "building tree 100 of 100\n"
     ]
    },
    {
     "name": "stderr",
     "output_type": "stream",
     "text": [
      "[Parallel(n_jobs=-1)]: Done 100 out of 100 | elapsed:   26.6s finished\n"
     ]
    },
    {
     "data": {
      "text/plain": [
       "RandomForestRegressor(bootstrap=True, ccp_alpha=0.0, criterion='mse',\n",
       "                      max_depth=7, max_features='auto', max_leaf_nodes=None,\n",
       "                      max_samples=0.8, min_impurity_decrease=0.0,\n",
       "                      min_impurity_split=None, min_samples_leaf=1,\n",
       "                      min_samples_split=2, min_weight_fraction_leaf=0.0,\n",
       "                      n_estimators=100, n_jobs=-1, oob_score=False,\n",
       "                      random_state=None, verbose=2, warm_start=False)"
      ]
     },
     "execution_count": 413,
     "metadata": {},
     "output_type": "execute_result"
    }
   ],
   "source": [
    "tree.fit(X_train,y_train)"
   ]
  },
  {
   "cell_type": "code",
   "execution_count": 414,
   "metadata": {},
   "outputs": [
    {
     "name": "stderr",
     "output_type": "stream",
     "text": [
      "[Parallel(n_jobs=12)]: Using backend ThreadingBackend with 12 concurrent workers.\n",
      "[Parallel(n_jobs=12)]: Done  17 tasks      | elapsed:    0.0s\n",
      "[Parallel(n_jobs=12)]: Done 100 out of 100 | elapsed:    0.4s finished\n",
      "[Parallel(n_jobs=12)]: Using backend ThreadingBackend with 12 concurrent workers.\n",
      "[Parallel(n_jobs=12)]: Done  17 tasks      | elapsed:    0.0s\n",
      "[Parallel(n_jobs=12)]: Done 100 out of 100 | elapsed:    0.0s finished\n"
     ]
    }
   ],
   "source": [
    "y_train_pred=tree.predict(X_train)\n",
    "y_test_pred=tree.predict(test)"
   ]
  },
  {
   "cell_type": "code",
   "execution_count": 415,
   "metadata": {},
   "outputs": [
    {
     "data": {
      "text/plain": [
       "131.3696498980016"
      ]
     },
     "execution_count": 415,
     "metadata": {},
     "output_type": "execute_result"
    }
   ],
   "source": [
    "1000*np.sqrt(mean_squared_error(y_train,y_train_pred))"
   ]
  },
  {
   "cell_type": "code",
   "execution_count": 416,
   "metadata": {},
   "outputs": [],
   "source": [
    "export_submission(y_test_pred,\"Random Forest Tuned Engineered Features\")"
   ]
  },
  {
   "cell_type": "code",
   "execution_count": null,
   "metadata": {},
   "outputs": [],
   "source": []
  },
  {
   "cell_type": "markdown",
   "metadata": {},
   "source": [
    "## LightGBM"
   ]
  },
  {
   "cell_type": "code",
   "execution_count": null,
   "metadata": {},
   "outputs": [],
   "source": []
  },
  {
   "cell_type": "code",
   "execution_count": 430,
   "metadata": {},
   "outputs": [],
   "source": [
    "regressor=LGBMRegressor()"
   ]
  },
  {
   "cell_type": "code",
   "execution_count": 431,
   "metadata": {},
   "outputs": [
    {
     "data": {
      "text/plain": [
       "LGBMRegressor(boosting_type='gbdt', class_weight=None, colsample_bytree=1.0,\n",
       "              importance_type='split', learning_rate=0.1, max_depth=-1,\n",
       "              min_child_samples=20, min_child_weight=0.001, min_split_gain=0.0,\n",
       "              n_estimators=100, n_jobs=-1, num_leaves=31, objective=None,\n",
       "              random_state=None, reg_alpha=0.0, reg_lambda=0.0, silent=True,\n",
       "              subsample=1.0, subsample_for_bin=200000, subsample_freq=0)"
      ]
     },
     "execution_count": 431,
     "metadata": {},
     "output_type": "execute_result"
    }
   ],
   "source": [
    "regressor.fit(X_train,y_train)"
   ]
  },
  {
   "cell_type": "code",
   "execution_count": 434,
   "metadata": {},
   "outputs": [
    {
     "ename": "AttributeError",
     "evalue": "'LGBMRegressor' object has no attribute 'max_bin'",
     "output_type": "error",
     "traceback": [
      "\u001b[1;31m---------------------------------------------------------------------------\u001b[0m",
      "\u001b[1;31mAttributeError\u001b[0m                            Traceback (most recent call last)",
      "\u001b[1;32m<ipython-input-434-46da86873b75>\u001b[0m in \u001b[0;36m<module>\u001b[1;34m\u001b[0m\n\u001b[1;32m----> 1\u001b[1;33m \u001b[0mregressor\u001b[0m\u001b[1;33m.\u001b[0m\u001b[0mmax_bin\u001b[0m\u001b[1;33m\u001b[0m\u001b[1;33m\u001b[0m\u001b[0m\n\u001b[0m",
      "\u001b[1;31mAttributeError\u001b[0m: 'LGBMRegressor' object has no attribute 'max_bin'"
     ]
    }
   ],
   "source": [
    "regressor.max_bin"
   ]
  },
  {
   "cell_type": "code",
   "execution_count": 419,
   "metadata": {},
   "outputs": [],
   "source": [
    "y_train_pred=regressor.predict(X_train)\n",
    "y_test_pred=regressor.predict(test)"
   ]
  },
  {
   "cell_type": "code",
   "execution_count": 420,
   "metadata": {},
   "outputs": [
    {
     "data": {
      "text/plain": [
       "117.33328243727972"
      ]
     },
     "execution_count": 420,
     "metadata": {},
     "output_type": "execute_result"
    }
   ],
   "source": [
    "1000*np.sqrt(mean_squared_error(y_train,y_train_pred))"
   ]
  },
  {
   "cell_type": "code",
   "execution_count": 421,
   "metadata": {},
   "outputs": [],
   "source": [
    "export_submission(y_test_pred,\"LGBM Default Engineered Features\")"
   ]
  },
  {
   "cell_type": "code",
   "execution_count": null,
   "metadata": {},
   "outputs": [],
   "source": []
  },
  {
   "cell_type": "code",
   "execution_count": null,
   "metadata": {},
   "outputs": [],
   "source": []
  },
  {
   "cell_type": "code",
   "execution_count": 427,
   "metadata": {},
   "outputs": [],
   "source": [
    "parameters={'max_depth':range(2,10),\n",
    "           }"
   ]
  },
  {
   "cell_type": "code",
   "execution_count": 428,
   "metadata": {},
   "outputs": [],
   "source": [
    "search=RandomizedSearchCV(LGBMRegressor(n_estimators=200,random_state=10),parameters,scoring='neg_mean_squared_error',n_jobs=-1,cv=5,verbose=2,n_iter=10)"
   ]
  },
  {
   "cell_type": "code",
   "execution_count": 429,
   "metadata": {
    "scrolled": true
   },
   "outputs": [
    {
     "name": "stdout",
     "output_type": "stream",
     "text": [
      "Fitting 5 folds for each of 10 candidates, totalling 50 fits\n"
     ]
    },
    {
     "name": "stderr",
     "output_type": "stream",
     "text": [
      "[Parallel(n_jobs=-1)]: Using backend LokyBackend with 12 concurrent workers.\n",
      "[Parallel(n_jobs=-1)]: Done  17 tasks      | elapsed:   39.3s\n",
      "[Parallel(n_jobs=-1)]: Done  18 tasks      | elapsed:   39.3s\n",
      "[Parallel(n_jobs=-1)]: Done  19 tasks      | elapsed:   39.3s\n",
      "[Parallel(n_jobs=-1)]: Done  20 tasks      | elapsed:   39.3s\n",
      "[Parallel(n_jobs=-1)]: Done  21 tasks      | elapsed:   39.3s\n",
      "[Parallel(n_jobs=-1)]: Done  22 tasks      | elapsed:   39.3s\n",
      "[Parallel(n_jobs=-1)]: Done  23 tasks      | elapsed:   39.3s\n",
      "[Parallel(n_jobs=-1)]: Done  24 tasks      | elapsed:   39.3s\n",
      "[Parallel(n_jobs=-1)]: Done  25 tasks      | elapsed:   39.3s\n",
      "[Parallel(n_jobs=-1)]: Done  26 tasks      | elapsed:   39.3s\n",
      "[Parallel(n_jobs=-1)]: Done  27 tasks      | elapsed:   39.3s\n",
      "[Parallel(n_jobs=-1)]: Done  38 out of  40 | elapsed:   39.3s remaining:    2.0s\n"
     ]
    },
    {
     "ename": "KeyboardInterrupt",
     "evalue": "",
     "output_type": "error",
     "traceback": [
      "\u001b[1;31m---------------------------------------------------------------------------\u001b[0m",
      "\u001b[1;31mKeyboardInterrupt\u001b[0m                         Traceback (most recent call last)",
      "\u001b[1;32m<ipython-input-429-c04fc3a23fe8>\u001b[0m in \u001b[0;36m<module>\u001b[1;34m\u001b[0m\n\u001b[1;32m----> 1\u001b[1;33m \u001b[0msearch\u001b[0m\u001b[1;33m.\u001b[0m\u001b[0mfit\u001b[0m\u001b[1;33m(\u001b[0m\u001b[0mX_train\u001b[0m\u001b[1;33m,\u001b[0m\u001b[0my_train\u001b[0m\u001b[1;33m)\u001b[0m\u001b[1;33m\u001b[0m\u001b[1;33m\u001b[0m\u001b[0m\n\u001b[0m",
      "\u001b[1;32mC:\\ProgramData\\Anaconda3\\lib\\site-packages\\sklearn\\model_selection\\_search.py\u001b[0m in \u001b[0;36mfit\u001b[1;34m(self, X, y, groups, **fit_params)\u001b[0m\n\u001b[0;32m    708\u001b[0m                 \u001b[1;32mreturn\u001b[0m \u001b[0mresults\u001b[0m\u001b[1;33m\u001b[0m\u001b[1;33m\u001b[0m\u001b[0m\n\u001b[0;32m    709\u001b[0m \u001b[1;33m\u001b[0m\u001b[0m\n\u001b[1;32m--> 710\u001b[1;33m             \u001b[0mself\u001b[0m\u001b[1;33m.\u001b[0m\u001b[0m_run_search\u001b[0m\u001b[1;33m(\u001b[0m\u001b[0mevaluate_candidates\u001b[0m\u001b[1;33m)\u001b[0m\u001b[1;33m\u001b[0m\u001b[1;33m\u001b[0m\u001b[0m\n\u001b[0m\u001b[0;32m    711\u001b[0m \u001b[1;33m\u001b[0m\u001b[0m\n\u001b[0;32m    712\u001b[0m         \u001b[1;31m# For multi-metric evaluation, store the best_index_, best_params_ and\u001b[0m\u001b[1;33m\u001b[0m\u001b[1;33m\u001b[0m\u001b[1;33m\u001b[0m\u001b[0m\n",
      "\u001b[1;32mC:\\ProgramData\\Anaconda3\\lib\\site-packages\\sklearn\\model_selection\\_search.py\u001b[0m in \u001b[0;36m_run_search\u001b[1;34m(self, evaluate_candidates)\u001b[0m\n\u001b[0;32m   1482\u001b[0m         evaluate_candidates(ParameterSampler(\n\u001b[0;32m   1483\u001b[0m             \u001b[0mself\u001b[0m\u001b[1;33m.\u001b[0m\u001b[0mparam_distributions\u001b[0m\u001b[1;33m,\u001b[0m \u001b[0mself\u001b[0m\u001b[1;33m.\u001b[0m\u001b[0mn_iter\u001b[0m\u001b[1;33m,\u001b[0m\u001b[1;33m\u001b[0m\u001b[1;33m\u001b[0m\u001b[0m\n\u001b[1;32m-> 1484\u001b[1;33m             random_state=self.random_state))\n\u001b[0m",
      "\u001b[1;32mC:\\ProgramData\\Anaconda3\\lib\\site-packages\\sklearn\\model_selection\\_search.py\u001b[0m in \u001b[0;36mevaluate_candidates\u001b[1;34m(candidate_params)\u001b[0m\n\u001b[0;32m    687\u001b[0m                                \u001b[1;32mfor\u001b[0m \u001b[0mparameters\u001b[0m\u001b[1;33m,\u001b[0m \u001b[1;33m(\u001b[0m\u001b[0mtrain\u001b[0m\u001b[1;33m,\u001b[0m \u001b[0mtest\u001b[0m\u001b[1;33m)\u001b[0m\u001b[1;33m\u001b[0m\u001b[1;33m\u001b[0m\u001b[0m\n\u001b[0;32m    688\u001b[0m                                in product(candidate_params,\n\u001b[1;32m--> 689\u001b[1;33m                                           cv.split(X, y, groups)))\n\u001b[0m\u001b[0;32m    690\u001b[0m \u001b[1;33m\u001b[0m\u001b[0m\n\u001b[0;32m    691\u001b[0m                 \u001b[1;32mif\u001b[0m \u001b[0mlen\u001b[0m\u001b[1;33m(\u001b[0m\u001b[0mout\u001b[0m\u001b[1;33m)\u001b[0m \u001b[1;33m<\u001b[0m \u001b[1;36m1\u001b[0m\u001b[1;33m:\u001b[0m\u001b[1;33m\u001b[0m\u001b[1;33m\u001b[0m\u001b[0m\n",
      "\u001b[1;32mC:\\ProgramData\\Anaconda3\\lib\\site-packages\\joblib\\parallel.py\u001b[0m in \u001b[0;36m__call__\u001b[1;34m(self, iterable)\u001b[0m\n\u001b[0;32m   1015\u001b[0m \u001b[1;33m\u001b[0m\u001b[0m\n\u001b[0;32m   1016\u001b[0m             \u001b[1;32mwith\u001b[0m \u001b[0mself\u001b[0m\u001b[1;33m.\u001b[0m\u001b[0m_backend\u001b[0m\u001b[1;33m.\u001b[0m\u001b[0mretrieval_context\u001b[0m\u001b[1;33m(\u001b[0m\u001b[1;33m)\u001b[0m\u001b[1;33m:\u001b[0m\u001b[1;33m\u001b[0m\u001b[1;33m\u001b[0m\u001b[0m\n\u001b[1;32m-> 1017\u001b[1;33m                 \u001b[0mself\u001b[0m\u001b[1;33m.\u001b[0m\u001b[0mretrieve\u001b[0m\u001b[1;33m(\u001b[0m\u001b[1;33m)\u001b[0m\u001b[1;33m\u001b[0m\u001b[1;33m\u001b[0m\u001b[0m\n\u001b[0m\u001b[0;32m   1018\u001b[0m             \u001b[1;31m# Make sure that we get a last message telling us we are done\u001b[0m\u001b[1;33m\u001b[0m\u001b[1;33m\u001b[0m\u001b[1;33m\u001b[0m\u001b[0m\n\u001b[0;32m   1019\u001b[0m             \u001b[0melapsed_time\u001b[0m \u001b[1;33m=\u001b[0m \u001b[0mtime\u001b[0m\u001b[1;33m.\u001b[0m\u001b[0mtime\u001b[0m\u001b[1;33m(\u001b[0m\u001b[1;33m)\u001b[0m \u001b[1;33m-\u001b[0m \u001b[0mself\u001b[0m\u001b[1;33m.\u001b[0m\u001b[0m_start_time\u001b[0m\u001b[1;33m\u001b[0m\u001b[1;33m\u001b[0m\u001b[0m\n",
      "\u001b[1;32mC:\\ProgramData\\Anaconda3\\lib\\site-packages\\joblib\\parallel.py\u001b[0m in \u001b[0;36mretrieve\u001b[1;34m(self)\u001b[0m\n\u001b[0;32m    907\u001b[0m             \u001b[1;32mtry\u001b[0m\u001b[1;33m:\u001b[0m\u001b[1;33m\u001b[0m\u001b[1;33m\u001b[0m\u001b[0m\n\u001b[0;32m    908\u001b[0m                 \u001b[1;32mif\u001b[0m \u001b[0mgetattr\u001b[0m\u001b[1;33m(\u001b[0m\u001b[0mself\u001b[0m\u001b[1;33m.\u001b[0m\u001b[0m_backend\u001b[0m\u001b[1;33m,\u001b[0m \u001b[1;34m'supports_timeout'\u001b[0m\u001b[1;33m,\u001b[0m \u001b[1;32mFalse\u001b[0m\u001b[1;33m)\u001b[0m\u001b[1;33m:\u001b[0m\u001b[1;33m\u001b[0m\u001b[1;33m\u001b[0m\u001b[0m\n\u001b[1;32m--> 909\u001b[1;33m                     \u001b[0mself\u001b[0m\u001b[1;33m.\u001b[0m\u001b[0m_output\u001b[0m\u001b[1;33m.\u001b[0m\u001b[0mextend\u001b[0m\u001b[1;33m(\u001b[0m\u001b[0mjob\u001b[0m\u001b[1;33m.\u001b[0m\u001b[0mget\u001b[0m\u001b[1;33m(\u001b[0m\u001b[0mtimeout\u001b[0m\u001b[1;33m=\u001b[0m\u001b[0mself\u001b[0m\u001b[1;33m.\u001b[0m\u001b[0mtimeout\u001b[0m\u001b[1;33m)\u001b[0m\u001b[1;33m)\u001b[0m\u001b[1;33m\u001b[0m\u001b[1;33m\u001b[0m\u001b[0m\n\u001b[0m\u001b[0;32m    910\u001b[0m                 \u001b[1;32melse\u001b[0m\u001b[1;33m:\u001b[0m\u001b[1;33m\u001b[0m\u001b[1;33m\u001b[0m\u001b[0m\n\u001b[0;32m    911\u001b[0m                     \u001b[0mself\u001b[0m\u001b[1;33m.\u001b[0m\u001b[0m_output\u001b[0m\u001b[1;33m.\u001b[0m\u001b[0mextend\u001b[0m\u001b[1;33m(\u001b[0m\u001b[0mjob\u001b[0m\u001b[1;33m.\u001b[0m\u001b[0mget\u001b[0m\u001b[1;33m(\u001b[0m\u001b[1;33m)\u001b[0m\u001b[1;33m)\u001b[0m\u001b[1;33m\u001b[0m\u001b[1;33m\u001b[0m\u001b[0m\n",
      "\u001b[1;32mC:\\ProgramData\\Anaconda3\\lib\\site-packages\\joblib\\_parallel_backends.py\u001b[0m in \u001b[0;36mwrap_future_result\u001b[1;34m(future, timeout)\u001b[0m\n\u001b[0;32m    560\u001b[0m         AsyncResults.get from multiprocessing.\"\"\"\n\u001b[0;32m    561\u001b[0m         \u001b[1;32mtry\u001b[0m\u001b[1;33m:\u001b[0m\u001b[1;33m\u001b[0m\u001b[1;33m\u001b[0m\u001b[0m\n\u001b[1;32m--> 562\u001b[1;33m             \u001b[1;32mreturn\u001b[0m \u001b[0mfuture\u001b[0m\u001b[1;33m.\u001b[0m\u001b[0mresult\u001b[0m\u001b[1;33m(\u001b[0m\u001b[0mtimeout\u001b[0m\u001b[1;33m=\u001b[0m\u001b[0mtimeout\u001b[0m\u001b[1;33m)\u001b[0m\u001b[1;33m\u001b[0m\u001b[1;33m\u001b[0m\u001b[0m\n\u001b[0m\u001b[0;32m    563\u001b[0m         \u001b[1;32mexcept\u001b[0m \u001b[0mLokyTimeoutError\u001b[0m\u001b[1;33m:\u001b[0m\u001b[1;33m\u001b[0m\u001b[1;33m\u001b[0m\u001b[0m\n\u001b[0;32m    564\u001b[0m             \u001b[1;32mraise\u001b[0m \u001b[0mTimeoutError\u001b[0m\u001b[1;33m(\u001b[0m\u001b[1;33m)\u001b[0m\u001b[1;33m\u001b[0m\u001b[1;33m\u001b[0m\u001b[0m\n",
      "\u001b[1;32mC:\\ProgramData\\Anaconda3\\lib\\concurrent\\futures\\_base.py\u001b[0m in \u001b[0;36mresult\u001b[1;34m(self, timeout)\u001b[0m\n\u001b[0;32m    428\u001b[0m                 \u001b[1;32mreturn\u001b[0m \u001b[0mself\u001b[0m\u001b[1;33m.\u001b[0m\u001b[0m__get_result\u001b[0m\u001b[1;33m(\u001b[0m\u001b[1;33m)\u001b[0m\u001b[1;33m\u001b[0m\u001b[1;33m\u001b[0m\u001b[0m\n\u001b[0;32m    429\u001b[0m \u001b[1;33m\u001b[0m\u001b[0m\n\u001b[1;32m--> 430\u001b[1;33m             \u001b[0mself\u001b[0m\u001b[1;33m.\u001b[0m\u001b[0m_condition\u001b[0m\u001b[1;33m.\u001b[0m\u001b[0mwait\u001b[0m\u001b[1;33m(\u001b[0m\u001b[0mtimeout\u001b[0m\u001b[1;33m)\u001b[0m\u001b[1;33m\u001b[0m\u001b[1;33m\u001b[0m\u001b[0m\n\u001b[0m\u001b[0;32m    431\u001b[0m \u001b[1;33m\u001b[0m\u001b[0m\n\u001b[0;32m    432\u001b[0m             \u001b[1;32mif\u001b[0m \u001b[0mself\u001b[0m\u001b[1;33m.\u001b[0m\u001b[0m_state\u001b[0m \u001b[1;32min\u001b[0m \u001b[1;33m[\u001b[0m\u001b[0mCANCELLED\u001b[0m\u001b[1;33m,\u001b[0m \u001b[0mCANCELLED_AND_NOTIFIED\u001b[0m\u001b[1;33m]\u001b[0m\u001b[1;33m:\u001b[0m\u001b[1;33m\u001b[0m\u001b[1;33m\u001b[0m\u001b[0m\n",
      "\u001b[1;32mC:\\ProgramData\\Anaconda3\\lib\\threading.py\u001b[0m in \u001b[0;36mwait\u001b[1;34m(self, timeout)\u001b[0m\n\u001b[0;32m    294\u001b[0m         \u001b[1;32mtry\u001b[0m\u001b[1;33m:\u001b[0m    \u001b[1;31m# restore state no matter what (e.g., KeyboardInterrupt)\u001b[0m\u001b[1;33m\u001b[0m\u001b[1;33m\u001b[0m\u001b[0m\n\u001b[0;32m    295\u001b[0m             \u001b[1;32mif\u001b[0m \u001b[0mtimeout\u001b[0m \u001b[1;32mis\u001b[0m \u001b[1;32mNone\u001b[0m\u001b[1;33m:\u001b[0m\u001b[1;33m\u001b[0m\u001b[1;33m\u001b[0m\u001b[0m\n\u001b[1;32m--> 296\u001b[1;33m                 \u001b[0mwaiter\u001b[0m\u001b[1;33m.\u001b[0m\u001b[0macquire\u001b[0m\u001b[1;33m(\u001b[0m\u001b[1;33m)\u001b[0m\u001b[1;33m\u001b[0m\u001b[1;33m\u001b[0m\u001b[0m\n\u001b[0m\u001b[0;32m    297\u001b[0m                 \u001b[0mgotit\u001b[0m \u001b[1;33m=\u001b[0m \u001b[1;32mTrue\u001b[0m\u001b[1;33m\u001b[0m\u001b[1;33m\u001b[0m\u001b[0m\n\u001b[0;32m    298\u001b[0m             \u001b[1;32melse\u001b[0m\u001b[1;33m:\u001b[0m\u001b[1;33m\u001b[0m\u001b[1;33m\u001b[0m\u001b[0m\n",
      "\u001b[1;31mKeyboardInterrupt\u001b[0m: "
     ]
    }
   ],
   "source": [
    "search.fit(X_train,y_train)"
   ]
  },
  {
   "cell_type": "code",
   "execution_count": 174,
   "metadata": {},
   "outputs": [
    {
     "data": {
      "text/plain": [
       "{'learning_rate': 0.017}"
      ]
     },
     "execution_count": 174,
     "metadata": {},
     "output_type": "execute_result"
    }
   ],
   "source": [
    "search.best_params_"
   ]
  },
  {
   "cell_type": "code",
   "execution_count": 175,
   "metadata": {},
   "outputs": [
    {
     "data": {
      "text/plain": [
       "-0.05427853762690869"
      ]
     },
     "execution_count": 175,
     "metadata": {},
     "output_type": "execute_result"
    }
   ],
   "source": [
    "search.best_score_"
   ]
  },
  {
   "cell_type": "code",
   "execution_count": 170,
   "metadata": {},
   "outputs": [
    {
     "ename": "AttributeError",
     "evalue": "'RandomizedSearchCV' object has no attribute 'cv_results_'",
     "output_type": "error",
     "traceback": [
      "\u001b[1;31m---------------------------------------------------------------------------\u001b[0m",
      "\u001b[1;31mAttributeError\u001b[0m                            Traceback (most recent call last)",
      "\u001b[1;32m<ipython-input-170-caa5ef9be8fb>\u001b[0m in \u001b[0;36m<module>\u001b[1;34m\u001b[0m\n\u001b[1;32m----> 1\u001b[1;33m \u001b[0msearch\u001b[0m\u001b[1;33m.\u001b[0m\u001b[0mcv_results_\u001b[0m\u001b[1;33m\u001b[0m\u001b[1;33m\u001b[0m\u001b[0m\n\u001b[0m",
      "\u001b[1;31mAttributeError\u001b[0m: 'RandomizedSearchCV' object has no attribute 'cv_results_'"
     ]
    }
   ],
   "source": [
    "search.cv_results_"
   ]
  },
  {
   "cell_type": "code",
   "execution_count": null,
   "metadata": {},
   "outputs": [],
   "source": []
  },
  {
   "cell_type": "code",
   "execution_count": 437,
   "metadata": {},
   "outputs": [],
   "source": [
    "lightgbm = LGBMRegressor( task= 'train',\n",
    "          boosting_type= 'gbdt',\n",
    "          objective= 'regression',\n",
    "          metric= 'l2',\n",
    "          num_leaves= 300,\n",
    "          learning_rate= 0.32,\n",
    "          feature_fraction= 0.9,\n",
    "          bagging_fraction= .9,\n",
    "          bagging_freq= 70,\n",
    "          verbose= 100)"
   ]
  },
  {
   "cell_type": "code",
   "execution_count": 453,
   "metadata": {},
   "outputs": [],
   "source": [
    "booster=LGBMRegressor( task= 'train',\n",
    "          boosting_type= 'gbdt',\n",
    "          objective= 'regression',\n",
    "          metric= 'l1',\n",
    "          num_leaves= 300,\n",
    "          learning_rate= 0.32,  \n",
    "          bagging_fraction= .9,\n",
    "          bagging_freq= 70,\n",
    "          verbose= 100)"
   ]
  },
  {
   "cell_type": "code",
   "execution_count": 454,
   "metadata": {},
   "outputs": [
    {
     "name": "stdout",
     "output_type": "stream",
     "text": [
      "[LightGBM] [Warning] bagging_fraction is set=0.9, subsample=1.0 will be ignored. Current value: bagging_fraction=0.9\n",
      "[LightGBM] [Warning] bagging_freq is set=70, subsample_freq=0 will be ignored. Current value: bagging_freq=70\n",
      "[LightGBM] [Warning] bagging_fraction is set=0.9, subsample=1.0 will be ignored. Current value: bagging_fraction=0.9\n",
      "[LightGBM] [Warning] bagging_freq is set=70, subsample_freq=0 will be ignored. Current value: bagging_freq=70\n",
      "[LightGBM] [Debug] Dataset::GetMultiBinFromSparseFeatures: sparse rate 0.793997\n",
      "[LightGBM] [Debug] Dataset::GetMultiBinFromAllFeatures: sparse rate 0.239815\n",
      "[LightGBM] [Debug] init for col-wise cost 0.022439 seconds, init for row-wise cost 0.042293 seconds\n",
      "[LightGBM] [Debug] col-wise cost 0.009825 seconds, row-wise cost 0.003463 seconds\n",
      "[LightGBM] [Warning] Auto-choosing row-wise multi-threading, the overhead of testing was 0.035727 seconds.\n",
      "You can set `force_row_wise=true` to remove the overhead.\n",
      "And if memory is not enough, you can set `force_col_wise=true`.\n",
      "[LightGBM] [Debug] Using Dense Multi-Val Bin\n",
      "[LightGBM] [Info] Total Bins 1042\n",
      "[LightGBM] [Info] Number of data points in the train set: 512087, number of used features: 11\n",
      "[LightGBM] [Debug] Use subset for bagging\n",
      "[LightGBM] [Info] Start training from score 4.705091\n",
      "[LightGBM] [Debug] Re-bagging, using 460970 data to train\n",
      "[LightGBM] [Debug] Trained a tree with leaves = 300 and max_depth = 12\n",
      "[LightGBM] [Debug] Trained a tree with leaves = 300 and max_depth = 13\n",
      "[LightGBM] [Debug] Trained a tree with leaves = 300 and max_depth = 16\n",
      "[LightGBM] [Debug] Trained a tree with leaves = 300 and max_depth = 15\n",
      "[LightGBM] [Debug] Trained a tree with leaves = 300 and max_depth = 16\n",
      "[LightGBM] [Debug] Trained a tree with leaves = 300 and max_depth = 18\n",
      "[LightGBM] [Debug] Trained a tree with leaves = 300 and max_depth = 21\n",
      "[LightGBM] [Debug] Trained a tree with leaves = 300 and max_depth = 16\n",
      "[LightGBM] [Debug] Trained a tree with leaves = 300 and max_depth = 17\n",
      "[LightGBM] [Debug] Trained a tree with leaves = 300 and max_depth = 19\n",
      "[LightGBM] [Debug] Trained a tree with leaves = 300 and max_depth = 18\n",
      "[LightGBM] [Debug] Trained a tree with leaves = 300 and max_depth = 22\n",
      "[LightGBM] [Debug] Trained a tree with leaves = 300 and max_depth = 18\n",
      "[LightGBM] [Debug] Trained a tree with leaves = 300 and max_depth = 21\n",
      "[LightGBM] [Debug] Trained a tree with leaves = 300 and max_depth = 21\n",
      "[LightGBM] [Debug] Trained a tree with leaves = 300 and max_depth = 20\n",
      "[LightGBM] [Debug] Trained a tree with leaves = 300 and max_depth = 21\n",
      "[LightGBM] [Debug] Trained a tree with leaves = 300 and max_depth = 27\n",
      "[LightGBM] [Debug] Trained a tree with leaves = 300 and max_depth = 32\n",
      "[LightGBM] [Debug] Trained a tree with leaves = 300 and max_depth = 22\n",
      "[LightGBM] [Debug] Trained a tree with leaves = 300 and max_depth = 22\n",
      "[LightGBM] [Debug] Trained a tree with leaves = 300 and max_depth = 30\n",
      "[LightGBM] [Debug] Trained a tree with leaves = 300 and max_depth = 20\n",
      "[LightGBM] [Debug] Trained a tree with leaves = 300 and max_depth = 27\n",
      "[LightGBM] [Debug] Trained a tree with leaves = 300 and max_depth = 34\n",
      "[LightGBM] [Debug] Trained a tree with leaves = 300 and max_depth = 21\n",
      "[LightGBM] [Debug] Trained a tree with leaves = 300 and max_depth = 27\n",
      "[LightGBM] [Debug] Trained a tree with leaves = 300 and max_depth = 24\n",
      "[LightGBM] [Debug] Trained a tree with leaves = 300 and max_depth = 30\n",
      "[LightGBM] [Debug] Trained a tree with leaves = 300 and max_depth = 33\n",
      "[LightGBM] [Debug] Trained a tree with leaves = 300 and max_depth = 25\n",
      "[LightGBM] [Debug] Trained a tree with leaves = 300 and max_depth = 23\n",
      "[LightGBM] [Debug] Trained a tree with leaves = 300 and max_depth = 24\n",
      "[LightGBM] [Debug] Trained a tree with leaves = 300 and max_depth = 22\n",
      "[LightGBM] [Debug] Trained a tree with leaves = 300 and max_depth = 26\n",
      "[LightGBM] [Debug] Trained a tree with leaves = 300 and max_depth = 28\n",
      "[LightGBM] [Debug] Trained a tree with leaves = 300 and max_depth = 24\n",
      "[LightGBM] [Debug] Trained a tree with leaves = 300 and max_depth = 29\n",
      "[LightGBM] [Debug] Trained a tree with leaves = 300 and max_depth = 25\n",
      "[LightGBM] [Debug] Trained a tree with leaves = 300 and max_depth = 17\n",
      "[LightGBM] [Debug] Trained a tree with leaves = 300 and max_depth = 23\n",
      "[LightGBM] [Debug] Trained a tree with leaves = 300 and max_depth = 28\n",
      "[LightGBM] [Debug] Trained a tree with leaves = 300 and max_depth = 26\n",
      "[LightGBM] [Debug] Trained a tree with leaves = 300 and max_depth = 27\n",
      "[LightGBM] [Debug] Trained a tree with leaves = 300 and max_depth = 37\n",
      "[LightGBM] [Debug] Trained a tree with leaves = 300 and max_depth = 31\n",
      "[LightGBM] [Debug] Trained a tree with leaves = 300 and max_depth = 31\n",
      "[LightGBM] [Debug] Trained a tree with leaves = 300 and max_depth = 26\n",
      "[LightGBM] [Debug] Trained a tree with leaves = 300 and max_depth = 30\n",
      "[LightGBM] [Debug] Trained a tree with leaves = 300 and max_depth = 28\n",
      "[LightGBM] [Debug] Trained a tree with leaves = 300 and max_depth = 35\n",
      "[LightGBM] [Debug] Trained a tree with leaves = 300 and max_depth = 26\n",
      "[LightGBM] [Debug] Trained a tree with leaves = 300 and max_depth = 21\n",
      "[LightGBM] [Debug] Trained a tree with leaves = 300 and max_depth = 20\n",
      "[LightGBM] [Debug] Trained a tree with leaves = 300 and max_depth = 26\n",
      "[LightGBM] [Debug] Trained a tree with leaves = 300 and max_depth = 26\n",
      "[LightGBM] [Debug] Trained a tree with leaves = 300 and max_depth = 24\n",
      "[LightGBM] [Debug] Trained a tree with leaves = 300 and max_depth = 39\n",
      "[LightGBM] [Debug] Trained a tree with leaves = 300 and max_depth = 26\n",
      "[LightGBM] [Debug] Trained a tree with leaves = 300 and max_depth = 22\n",
      "[LightGBM] [Debug] Trained a tree with leaves = 300 and max_depth = 29\n",
      "[LightGBM] [Debug] Trained a tree with leaves = 300 and max_depth = 19\n",
      "[LightGBM] [Debug] Trained a tree with leaves = 300 and max_depth = 27\n",
      "[LightGBM] [Debug] Trained a tree with leaves = 300 and max_depth = 22\n",
      "[LightGBM] [Debug] Trained a tree with leaves = 300 and max_depth = 29\n",
      "[LightGBM] [Debug] Trained a tree with leaves = 300 and max_depth = 25\n",
      "[LightGBM] [Debug] Trained a tree with leaves = 300 and max_depth = 25\n",
      "[LightGBM] [Debug] Trained a tree with leaves = 300 and max_depth = 24\n",
      "[LightGBM] [Debug] Trained a tree with leaves = 300 and max_depth = 22\n",
      "[LightGBM] [Debug] Trained a tree with leaves = 300 and max_depth = 22\n",
      "[LightGBM] [Debug] Re-bagging, using 460653 data to train\n",
      "[LightGBM] [Debug] Trained a tree with leaves = 300 and max_depth = 19\n",
      "[LightGBM] [Debug] Trained a tree with leaves = 300 and max_depth = 20\n",
      "[LightGBM] [Debug] Trained a tree with leaves = 300 and max_depth = 24\n",
      "[LightGBM] [Debug] Trained a tree with leaves = 300 and max_depth = 23\n",
      "[LightGBM] [Debug] Trained a tree with leaves = 300 and max_depth = 25\n",
      "[LightGBM] [Debug] Trained a tree with leaves = 300 and max_depth = 25\n",
      "[LightGBM] [Debug] Trained a tree with leaves = 300 and max_depth = 27\n",
      "[LightGBM] [Debug] Trained a tree with leaves = 300 and max_depth = 25\n",
      "[LightGBM] [Debug] Trained a tree with leaves = 300 and max_depth = 23\n",
      "[LightGBM] [Debug] Trained a tree with leaves = 300 and max_depth = 28\n",
      "[LightGBM] [Debug] Trained a tree with leaves = 300 and max_depth = 24\n",
      "[LightGBM] [Debug] Trained a tree with leaves = 300 and max_depth = 23\n",
      "[LightGBM] [Debug] Trained a tree with leaves = 300 and max_depth = 22\n",
      "[LightGBM] [Debug] Trained a tree with leaves = 300 and max_depth = 26\n",
      "[LightGBM] [Debug] Trained a tree with leaves = 300 and max_depth = 25\n",
      "[LightGBM] [Debug] Trained a tree with leaves = 300 and max_depth = 22\n",
      "[LightGBM] [Debug] Trained a tree with leaves = 300 and max_depth = 23\n",
      "[LightGBM] [Debug] Trained a tree with leaves = 300 and max_depth = 26\n",
      "[LightGBM] [Debug] Trained a tree with leaves = 300 and max_depth = 24\n",
      "[LightGBM] [Debug] Trained a tree with leaves = 300 and max_depth = 38\n",
      "[LightGBM] [Debug] Trained a tree with leaves = 300 and max_depth = 41\n",
      "[LightGBM] [Debug] Trained a tree with leaves = 300 and max_depth = 23\n",
      "[LightGBM] [Debug] Trained a tree with leaves = 300 and max_depth = 22\n",
      "[LightGBM] [Debug] Trained a tree with leaves = 300 and max_depth = 29\n",
      "[LightGBM] [Debug] Trained a tree with leaves = 300 and max_depth = 20\n",
      "[LightGBM] [Debug] Trained a tree with leaves = 300 and max_depth = 21\n",
      "[LightGBM] [Debug] Trained a tree with leaves = 300 and max_depth = 21\n",
      "[LightGBM] [Debug] Trained a tree with leaves = 300 and max_depth = 19\n"
     ]
    },
    {
     "name": "stdout",
     "output_type": "stream",
     "text": [
      "[LightGBM] [Debug] Trained a tree with leaves = 300 and max_depth = 24\n",
      "[LightGBM] [Debug] Trained a tree with leaves = 300 and max_depth = 24\n"
     ]
    },
    {
     "data": {
      "text/plain": [
       "LGBMRegressor(bagging_fraction=0.9, bagging_freq=70, boosting_type='gbdt',\n",
       "              class_weight=None, colsample_bytree=1.0, importance_type='split',\n",
       "              learning_rate=0.32, max_depth=-1, metric='l1',\n",
       "              min_child_samples=20, min_child_weight=0.001, min_split_gain=0.0,\n",
       "              n_estimators=100, n_jobs=-1, num_leaves=300,\n",
       "              objective='regression', random_state=None, reg_alpha=0.0,\n",
       "              reg_lambda=0.0, silent=True, subsample=1.0,\n",
       "              subsample_for_bin=200000, subsample_freq=0, task='train',\n",
       "              verbose=100)"
      ]
     },
     "execution_count": 454,
     "metadata": {},
     "output_type": "execute_result"
    }
   ],
   "source": [
    "booster.fit(X_train,y_train)"
   ]
  },
  {
   "cell_type": "code",
   "execution_count": 455,
   "metadata": {},
   "outputs": [],
   "source": [
    "y_train_pred=booster.predict(X_train)\n",
    "y_test_pred=booster.predict(test)"
   ]
  },
  {
   "cell_type": "code",
   "execution_count": 456,
   "metadata": {},
   "outputs": [
    {
     "data": {
      "text/plain": [
       "109.82900129001581"
      ]
     },
     "execution_count": 456,
     "metadata": {},
     "output_type": "execute_result"
    }
   ],
   "source": [
    "1000*np.sqrt(mean_squared_error(y_train,y_train_pred))"
   ]
  },
  {
   "cell_type": "code",
   "execution_count": 458,
   "metadata": {},
   "outputs": [],
   "source": [
    "export_submission(y_test_pred,\"LGBM Optimized Engineered Features\")"
   ]
  },
  {
   "cell_type": "code",
   "execution_count": null,
   "metadata": {},
   "outputs": [],
   "source": []
  },
  {
   "cell_type": "code",
   "execution_count": null,
   "metadata": {},
   "outputs": [],
   "source": []
  },
  {
   "cell_type": "markdown",
   "metadata": {},
   "source": [
    "## KNN"
   ]
  },
  {
   "cell_type": "code",
   "execution_count": null,
   "metadata": {},
   "outputs": [],
   "source": [
    "scaler=MinMaxScaler()\n",
    "X_train=scaler.fit_transform(X_train)\n"
   ]
  },
  {
   "cell_type": "code",
   "execution_count": 25,
   "metadata": {},
   "outputs": [],
   "source": [
    "knn=KNeighborsRegressor(n_neighbors= 17,n_jobs=-1)"
   ]
  },
  {
   "cell_type": "code",
   "execution_count": null,
   "metadata": {},
   "outputs": [],
   "source": [
    "knn.fit(X_train,y_train)"
   ]
  },
  {
   "cell_type": "code",
   "execution_count": 138,
   "metadata": {},
   "outputs": [],
   "source": [
    "y_train_pred=forest.predict(X_train)\n",
    "y_test_pred=forest.predict(test)"
   ]
  },
  {
   "cell_type": "code",
   "execution_count": 139,
   "metadata": {},
   "outputs": [
    {
     "data": {
      "text/plain": [
       "216.13655175210727"
      ]
     },
     "execution_count": 139,
     "metadata": {},
     "output_type": "execute_result"
    }
   ],
   "source": [
    "1000*np.sqrt(mean_squared_error(y_train,y_train_pred))"
   ]
  },
  {
   "cell_type": "code",
   "execution_count": 140,
   "metadata": {},
   "outputs": [],
   "source": [
    "export_submission(y_test_pred,\"KNN 17 Engineered Features\")"
   ]
  },
  {
   "cell_type": "code",
   "execution_count": null,
   "metadata": {},
   "outputs": [],
   "source": []
  },
  {
   "cell_type": "code",
   "execution_count": null,
   "metadata": {},
   "outputs": [],
   "source": []
  },
  {
   "cell_type": "code",
   "execution_count": 131,
   "metadata": {},
   "outputs": [],
   "source": [
    "parameters={'n_neighbors':range(1,50,1)}"
   ]
  },
  {
   "cell_type": "code",
   "execution_count": 132,
   "metadata": {},
   "outputs": [],
   "source": [
    "search=GridSearchCV(KNeighborsRegressor(n_jobs=6),parameters,scoring='neg_mean_squared_error',cv=5,verbose=2,n_jobs=6)"
   ]
  },
  {
   "cell_type": "code",
   "execution_count": 133,
   "metadata": {},
   "outputs": [
    {
     "name": "stdout",
     "output_type": "stream",
     "text": [
      "Fitting 5 folds for each of 49 candidates, totalling 245 fits\n"
     ]
    },
    {
     "name": "stderr",
     "output_type": "stream",
     "text": [
      "[Parallel(n_jobs=10)]: Using backend LokyBackend with 10 concurrent workers.\n",
      "[Parallel(n_jobs=10)]: Done  21 tasks      | elapsed:   30.4s\n",
      "[Parallel(n_jobs=10)]: Done 142 tasks      | elapsed:  3.2min\n",
      "[Parallel(n_jobs=10)]: Done 245 out of 245 | elapsed:  5.7min finished\n"
     ]
    },
    {
     "data": {
      "text/plain": [
       "GridSearchCV(cv=5, error_score=nan,\n",
       "             estimator=KNeighborsRegressor(algorithm='auto', leaf_size=30,\n",
       "                                           metric='minkowski',\n",
       "                                           metric_params=None, n_jobs=None,\n",
       "                                           n_neighbors=5, p=2,\n",
       "                                           weights='uniform'),\n",
       "             iid='deprecated', n_jobs=10,\n",
       "             param_grid={'n_neighbors': range(1, 50)}, pre_dispatch='2*n_jobs',\n",
       "             refit=True, return_train_score=False,\n",
       "             scoring='neg_mean_squared_error', verbose=2)"
      ]
     },
     "execution_count": 133,
     "metadata": {},
     "output_type": "execute_result"
    }
   ],
   "source": [
    "search.fit(X_train,y_train)"
   ]
  },
  {
   "cell_type": "code",
   "execution_count": 134,
   "metadata": {},
   "outputs": [
    {
     "data": {
      "text/plain": [
       "{'n_neighbors': 17}"
      ]
     },
     "execution_count": 134,
     "metadata": {},
     "output_type": "execute_result"
    }
   ],
   "source": [
    "search.best_params_"
   ]
  },
  {
   "cell_type": "code",
   "execution_count": 135,
   "metadata": {},
   "outputs": [
    {
     "data": {
      "text/plain": [
       "-0.06775012845127092"
      ]
     },
     "execution_count": 135,
     "metadata": {},
     "output_type": "execute_result"
    }
   ],
   "source": [
    "search.best_score_"
   ]
  },
  {
   "cell_type": "code",
   "execution_count": null,
   "metadata": {},
   "outputs": [],
   "source": []
  },
  {
   "cell_type": "markdown",
   "metadata": {},
   "source": [
    "## Catboost"
   ]
  },
  {
   "cell_type": "code",
   "execution_count": 124,
   "metadata": {},
   "outputs": [],
   "source": []
  },
  {
   "cell_type": "code",
   "execution_count": 164,
   "metadata": {},
   "outputs": [],
   "source": [
    "boost=CatBoostRegressor(learning_rate=0.01)"
   ]
  },
  {
   "cell_type": "code",
   "execution_count": 165,
   "metadata": {},
   "outputs": [
    {
     "name": "stdout",
     "output_type": "stream",
     "text": [
      "0:\tlearn: 0.4576319\ttotal: 47.7ms\tremaining: 47.6s\n",
      "1:\tlearn: 0.4539557\ttotal: 92.2ms\tremaining: 46s\n",
      "2:\tlearn: 0.4503334\ttotal: 140ms\tremaining: 46.6s\n",
      "3:\tlearn: 0.4467243\ttotal: 192ms\tremaining: 47.7s\n",
      "4:\tlearn: 0.4431456\ttotal: 247ms\tremaining: 49.2s\n",
      "5:\tlearn: 0.4395896\ttotal: 308ms\tremaining: 51s\n",
      "6:\tlearn: 0.4360925\ttotal: 358ms\tremaining: 50.8s\n",
      "7:\tlearn: 0.4326444\ttotal: 409ms\tremaining: 50.7s\n",
      "8:\tlearn: 0.4292267\ttotal: 462ms\tremaining: 50.8s\n",
      "9:\tlearn: 0.4258651\ttotal: 512ms\tremaining: 50.7s\n",
      "10:\tlearn: 0.4225387\ttotal: 563ms\tremaining: 50.6s\n",
      "11:\tlearn: 0.4192125\ttotal: 614ms\tremaining: 50.5s\n",
      "12:\tlearn: 0.4159608\ttotal: 662ms\tremaining: 50.3s\n",
      "13:\tlearn: 0.4127267\ttotal: 710ms\tremaining: 50s\n",
      "14:\tlearn: 0.4095260\ttotal: 761ms\tremaining: 50s\n",
      "15:\tlearn: 0.4063475\ttotal: 813ms\tremaining: 50s\n",
      "16:\tlearn: 0.4032326\ttotal: 858ms\tremaining: 49.6s\n",
      "17:\tlearn: 0.4001225\ttotal: 906ms\tremaining: 49.4s\n",
      "18:\tlearn: 0.3970596\ttotal: 952ms\tremaining: 49.1s\n",
      "19:\tlearn: 0.3940225\ttotal: 1s\tremaining: 49.2s\n",
      "20:\tlearn: 0.3910309\ttotal: 1.05s\tremaining: 48.9s\n",
      "21:\tlearn: 0.3880544\ttotal: 1.09s\tremaining: 48.7s\n",
      "22:\tlearn: 0.3851025\ttotal: 1.14s\tremaining: 48.5s\n",
      "23:\tlearn: 0.3821643\ttotal: 1.19s\tremaining: 48.5s\n",
      "24:\tlearn: 0.3792916\ttotal: 1.24s\tremaining: 48.2s\n",
      "25:\tlearn: 0.3764522\ttotal: 1.29s\tremaining: 48.3s\n",
      "26:\tlearn: 0.3736548\ttotal: 1.34s\tremaining: 48.2s\n",
      "27:\tlearn: 0.3708520\ttotal: 1.39s\tremaining: 48.1s\n",
      "28:\tlearn: 0.3681167\ttotal: 1.44s\tremaining: 48.1s\n",
      "29:\tlearn: 0.3653685\ttotal: 1.49s\tremaining: 48.1s\n",
      "30:\tlearn: 0.3626623\ttotal: 1.53s\tremaining: 48s\n",
      "31:\tlearn: 0.3600155\ttotal: 1.58s\tremaining: 48s\n",
      "32:\tlearn: 0.3574092\ttotal: 1.63s\tremaining: 47.9s\n",
      "33:\tlearn: 0.3548097\ttotal: 1.68s\tremaining: 47.8s\n",
      "34:\tlearn: 0.3522468\ttotal: 1.73s\tremaining: 47.6s\n",
      "35:\tlearn: 0.3496808\ttotal: 1.78s\tremaining: 47.6s\n",
      "36:\tlearn: 0.3471447\ttotal: 1.82s\tremaining: 47.4s\n",
      "37:\tlearn: 0.3446378\ttotal: 1.87s\tremaining: 47.4s\n",
      "38:\tlearn: 0.3421839\ttotal: 1.92s\tremaining: 47.3s\n",
      "39:\tlearn: 0.3397438\ttotal: 1.97s\tremaining: 47.2s\n",
      "40:\tlearn: 0.3373404\ttotal: 2.01s\tremaining: 47s\n",
      "41:\tlearn: 0.3349551\ttotal: 2.06s\tremaining: 47s\n",
      "42:\tlearn: 0.3325942\ttotal: 2.11s\tremaining: 46.9s\n",
      "43:\tlearn: 0.3302550\ttotal: 2.16s\tremaining: 46.9s\n",
      "44:\tlearn: 0.3279541\ttotal: 2.2s\tremaining: 46.8s\n",
      "45:\tlearn: 0.3256462\ttotal: 2.25s\tremaining: 46.6s\n",
      "46:\tlearn: 0.3233862\ttotal: 2.29s\tremaining: 46.5s\n",
      "47:\tlearn: 0.3211370\ttotal: 2.35s\tremaining: 46.7s\n",
      "48:\tlearn: 0.3189201\ttotal: 2.41s\tremaining: 46.7s\n",
      "49:\tlearn: 0.3167450\ttotal: 2.46s\tremaining: 46.7s\n",
      "50:\tlearn: 0.3145761\ttotal: 2.51s\tremaining: 46.8s\n",
      "51:\tlearn: 0.3124506\ttotal: 2.57s\tremaining: 46.9s\n",
      "52:\tlearn: 0.3103684\ttotal: 2.62s\tremaining: 46.9s\n",
      "53:\tlearn: 0.3083047\ttotal: 2.67s\tremaining: 46.8s\n",
      "54:\tlearn: 0.3062283\ttotal: 2.72s\tremaining: 46.8s\n",
      "55:\tlearn: 0.3042073\ttotal: 2.78s\tremaining: 46.9s\n",
      "56:\tlearn: 0.3021799\ttotal: 2.83s\tremaining: 46.8s\n",
      "57:\tlearn: 0.3001864\ttotal: 2.88s\tremaining: 46.8s\n",
      "58:\tlearn: 0.2982232\ttotal: 2.93s\tremaining: 46.8s\n",
      "59:\tlearn: 0.2962416\ttotal: 2.98s\tremaining: 46.7s\n",
      "60:\tlearn: 0.2942884\ttotal: 3.03s\tremaining: 46.6s\n",
      "61:\tlearn: 0.2924070\ttotal: 3.07s\tremaining: 46.5s\n",
      "62:\tlearn: 0.2905272\ttotal: 3.12s\tremaining: 46.4s\n",
      "63:\tlearn: 0.2886250\ttotal: 3.17s\tremaining: 46.3s\n",
      "64:\tlearn: 0.2867986\ttotal: 3.21s\tremaining: 46.2s\n",
      "65:\tlearn: 0.2849957\ttotal: 3.26s\tremaining: 46.1s\n",
      "66:\tlearn: 0.2831605\ttotal: 3.31s\tremaining: 46s\n",
      "67:\tlearn: 0.2813629\ttotal: 3.36s\tremaining: 46.1s\n",
      "68:\tlearn: 0.2796206\ttotal: 3.41s\tremaining: 46s\n",
      "69:\tlearn: 0.2779112\ttotal: 3.45s\tremaining: 45.9s\n",
      "70:\tlearn: 0.2761789\ttotal: 3.5s\tremaining: 45.8s\n",
      "71:\tlearn: 0.2744484\ttotal: 3.55s\tremaining: 45.7s\n",
      "72:\tlearn: 0.2727479\ttotal: 3.6s\tremaining: 45.7s\n",
      "73:\tlearn: 0.2710926\ttotal: 3.65s\tremaining: 45.6s\n",
      "74:\tlearn: 0.2694506\ttotal: 3.69s\tremaining: 45.5s\n",
      "75:\tlearn: 0.2678444\ttotal: 3.74s\tremaining: 45.4s\n",
      "76:\tlearn: 0.2662649\ttotal: 3.78s\tremaining: 45.3s\n",
      "77:\tlearn: 0.2647017\ttotal: 3.83s\tremaining: 45.2s\n",
      "78:\tlearn: 0.2631180\ttotal: 3.87s\tremaining: 45.2s\n",
      "79:\tlearn: 0.2615446\ttotal: 3.92s\tremaining: 45.1s\n",
      "80:\tlearn: 0.2600051\ttotal: 3.97s\tremaining: 45s\n",
      "81:\tlearn: 0.2585160\ttotal: 4.01s\tremaining: 45s\n",
      "82:\tlearn: 0.2570013\ttotal: 4.06s\tremaining: 44.9s\n",
      "83:\tlearn: 0.2555603\ttotal: 4.11s\tremaining: 44.8s\n",
      "84:\tlearn: 0.2540943\ttotal: 4.16s\tremaining: 44.8s\n",
      "85:\tlearn: 0.2526591\ttotal: 4.21s\tremaining: 44.7s\n",
      "86:\tlearn: 0.2512597\ttotal: 4.26s\tremaining: 44.7s\n",
      "87:\tlearn: 0.2498527\ttotal: 4.3s\tremaining: 44.6s\n",
      "88:\tlearn: 0.2484848\ttotal: 4.35s\tremaining: 44.5s\n",
      "89:\tlearn: 0.2470866\ttotal: 4.4s\tremaining: 44.5s\n",
      "90:\tlearn: 0.2457105\ttotal: 4.45s\tremaining: 44.4s\n",
      "91:\tlearn: 0.2443567\ttotal: 4.5s\tremaining: 44.4s\n",
      "92:\tlearn: 0.2430531\ttotal: 4.54s\tremaining: 44.3s\n",
      "93:\tlearn: 0.2417476\ttotal: 4.59s\tremaining: 44.2s\n",
      "94:\tlearn: 0.2404844\ttotal: 4.63s\tremaining: 44.2s\n",
      "95:\tlearn: 0.2392350\ttotal: 4.68s\tremaining: 44.1s\n",
      "96:\tlearn: 0.2380047\ttotal: 4.73s\tremaining: 44.1s\n",
      "97:\tlearn: 0.2367583\ttotal: 4.78s\tremaining: 44s\n",
      "98:\tlearn: 0.2355524\ttotal: 4.83s\tremaining: 43.9s\n",
      "99:\tlearn: 0.2343289\ttotal: 4.87s\tremaining: 43.9s\n",
      "100:\tlearn: 0.2331280\ttotal: 4.92s\tremaining: 43.8s\n",
      "101:\tlearn: 0.2319811\ttotal: 4.97s\tremaining: 43.7s\n",
      "102:\tlearn: 0.2308034\ttotal: 5.01s\tremaining: 43.7s\n",
      "103:\tlearn: 0.2296655\ttotal: 5.06s\tremaining: 43.6s\n",
      "104:\tlearn: 0.2285548\ttotal: 5.11s\tremaining: 43.5s\n",
      "105:\tlearn: 0.2274603\ttotal: 5.15s\tremaining: 43.5s\n",
      "106:\tlearn: 0.2263828\ttotal: 5.2s\tremaining: 43.4s\n",
      "107:\tlearn: 0.2252936\ttotal: 5.24s\tremaining: 43.3s\n",
      "108:\tlearn: 0.2242273\ttotal: 5.29s\tremaining: 43.2s\n",
      "109:\tlearn: 0.2231462\ttotal: 5.34s\tremaining: 43.2s\n",
      "110:\tlearn: 0.2220969\ttotal: 5.38s\tremaining: 43.1s\n",
      "111:\tlearn: 0.2210813\ttotal: 5.43s\tremaining: 43.1s\n",
      "112:\tlearn: 0.2200735\ttotal: 5.48s\tremaining: 43s\n",
      "113:\tlearn: 0.2190638\ttotal: 5.53s\tremaining: 43s\n",
      "114:\tlearn: 0.2180873\ttotal: 5.58s\tremaining: 42.9s\n",
      "115:\tlearn: 0.2171155\ttotal: 5.63s\tremaining: 42.9s\n",
      "116:\tlearn: 0.2161626\ttotal: 5.68s\tremaining: 42.8s\n",
      "117:\tlearn: 0.2152315\ttotal: 5.73s\tremaining: 42.8s\n",
      "118:\tlearn: 0.2142845\ttotal: 5.78s\tremaining: 42.8s\n",
      "119:\tlearn: 0.2133158\ttotal: 5.84s\tremaining: 42.8s\n",
      "120:\tlearn: 0.2123661\ttotal: 5.89s\tremaining: 42.8s\n",
      "121:\tlearn: 0.2114318\ttotal: 5.93s\tremaining: 42.7s\n",
      "122:\tlearn: 0.2105185\ttotal: 5.98s\tremaining: 42.6s\n",
      "123:\tlearn: 0.2096429\ttotal: 6.03s\tremaining: 42.6s\n",
      "124:\tlearn: 0.2087945\ttotal: 6.1s\tremaining: 42.7s\n",
      "125:\tlearn: 0.2079610\ttotal: 6.15s\tremaining: 42.7s\n",
      "126:\tlearn: 0.2071160\ttotal: 6.2s\tremaining: 42.6s\n",
      "127:\tlearn: 0.2062719\ttotal: 6.25s\tremaining: 42.6s\n",
      "128:\tlearn: 0.2054319\ttotal: 6.3s\tremaining: 42.6s\n",
      "129:\tlearn: 0.2046430\ttotal: 6.35s\tremaining: 42.5s\n",
      "130:\tlearn: 0.2038154\ttotal: 6.4s\tremaining: 42.5s\n",
      "131:\tlearn: 0.2030321\ttotal: 6.46s\tremaining: 42.5s\n",
      "132:\tlearn: 0.2022743\ttotal: 6.52s\tremaining: 42.5s\n",
      "133:\tlearn: 0.2015416\ttotal: 6.57s\tremaining: 42.4s\n",
      "134:\tlearn: 0.2007974\ttotal: 6.61s\tremaining: 42.4s\n",
      "135:\tlearn: 0.2000155\ttotal: 6.66s\tremaining: 42.3s\n",
      "136:\tlearn: 0.1992823\ttotal: 6.71s\tremaining: 42.3s\n",
      "137:\tlearn: 0.1985693\ttotal: 6.76s\tremaining: 42.2s\n",
      "138:\tlearn: 0.1978545\ttotal: 6.8s\tremaining: 42.1s\n",
      "139:\tlearn: 0.1971134\ttotal: 6.86s\tremaining: 42.1s\n",
      "140:\tlearn: 0.1963923\ttotal: 6.91s\tremaining: 42.1s\n",
      "141:\tlearn: 0.1957213\ttotal: 6.96s\tremaining: 42s\n",
      "142:\tlearn: 0.1950594\ttotal: 7s\tremaining: 42s\n",
      "143:\tlearn: 0.1944192\ttotal: 7.05s\tremaining: 41.9s\n",
      "144:\tlearn: 0.1937797\ttotal: 7.09s\tremaining: 41.8s\n",
      "145:\tlearn: 0.1931343\ttotal: 7.14s\tremaining: 41.8s\n",
      "146:\tlearn: 0.1925058\ttotal: 7.19s\tremaining: 41.7s\n",
      "147:\tlearn: 0.1918836\ttotal: 7.23s\tremaining: 41.6s\n",
      "148:\tlearn: 0.1912843\ttotal: 7.28s\tremaining: 41.6s\n",
      "149:\tlearn: 0.1906852\ttotal: 7.33s\tremaining: 41.5s\n",
      "150:\tlearn: 0.1900568\ttotal: 7.37s\tremaining: 41.4s\n",
      "151:\tlearn: 0.1894840\ttotal: 7.42s\tremaining: 41.4s\n",
      "152:\tlearn: 0.1888976\ttotal: 7.46s\tremaining: 41.3s\n",
      "153:\tlearn: 0.1883280\ttotal: 7.51s\tremaining: 41.3s\n",
      "154:\tlearn: 0.1877690\ttotal: 7.56s\tremaining: 41.2s\n",
      "155:\tlearn: 0.1872177\ttotal: 7.6s\tremaining: 41.1s\n",
      "156:\tlearn: 0.1866428\ttotal: 7.65s\tremaining: 41.1s\n",
      "157:\tlearn: 0.1860773\ttotal: 7.69s\tremaining: 41s\n",
      "158:\tlearn: 0.1855111\ttotal: 7.74s\tremaining: 40.9s\n",
      "159:\tlearn: 0.1849928\ttotal: 7.78s\tremaining: 40.9s\n",
      "160:\tlearn: 0.1844831\ttotal: 7.83s\tremaining: 40.8s\n",
      "161:\tlearn: 0.1839904\ttotal: 7.87s\tremaining: 40.7s\n",
      "162:\tlearn: 0.1834552\ttotal: 7.92s\tremaining: 40.7s\n",
      "163:\tlearn: 0.1827794\ttotal: 7.98s\tremaining: 40.7s\n"
     ]
    },
    {
     "name": "stdout",
     "output_type": "stream",
     "text": [
      "164:\tlearn: 0.1822514\ttotal: 8.04s\tremaining: 40.7s\n",
      "165:\tlearn: 0.1817667\ttotal: 8.09s\tremaining: 40.6s\n",
      "166:\tlearn: 0.1812595\ttotal: 8.14s\tremaining: 40.6s\n",
      "167:\tlearn: 0.1807526\ttotal: 8.19s\tremaining: 40.5s\n",
      "168:\tlearn: 0.1803009\ttotal: 8.24s\tremaining: 40.5s\n",
      "169:\tlearn: 0.1798649\ttotal: 8.29s\tremaining: 40.5s\n",
      "170:\tlearn: 0.1794144\ttotal: 8.34s\tremaining: 40.4s\n",
      "171:\tlearn: 0.1789758\ttotal: 8.38s\tremaining: 40.4s\n",
      "172:\tlearn: 0.1785404\ttotal: 8.43s\tremaining: 40.3s\n",
      "173:\tlearn: 0.1781191\ttotal: 8.48s\tremaining: 40.3s\n",
      "174:\tlearn: 0.1777024\ttotal: 8.54s\tremaining: 40.2s\n",
      "175:\tlearn: 0.1772936\ttotal: 8.58s\tremaining: 40.2s\n",
      "176:\tlearn: 0.1768856\ttotal: 8.63s\tremaining: 40.1s\n",
      "177:\tlearn: 0.1764968\ttotal: 8.68s\tremaining: 40.1s\n",
      "178:\tlearn: 0.1760992\ttotal: 8.72s\tremaining: 40s\n",
      "179:\tlearn: 0.1757170\ttotal: 8.77s\tremaining: 39.9s\n",
      "180:\tlearn: 0.1753414\ttotal: 8.81s\tremaining: 39.9s\n",
      "181:\tlearn: 0.1749706\ttotal: 8.86s\tremaining: 39.8s\n",
      "182:\tlearn: 0.1746019\ttotal: 8.91s\tremaining: 39.8s\n",
      "183:\tlearn: 0.1742488\ttotal: 8.96s\tremaining: 39.7s\n",
      "184:\tlearn: 0.1738486\ttotal: 9.01s\tremaining: 39.7s\n",
      "185:\tlearn: 0.1735020\ttotal: 9.06s\tremaining: 39.7s\n",
      "186:\tlearn: 0.1731624\ttotal: 9.11s\tremaining: 39.6s\n",
      "187:\tlearn: 0.1727755\ttotal: 9.16s\tremaining: 39.5s\n",
      "188:\tlearn: 0.1724454\ttotal: 9.2s\tremaining: 39.5s\n",
      "189:\tlearn: 0.1721103\ttotal: 9.25s\tremaining: 39.4s\n",
      "190:\tlearn: 0.1717930\ttotal: 9.3s\tremaining: 39.4s\n",
      "191:\tlearn: 0.1714771\ttotal: 9.36s\tremaining: 39.4s\n",
      "192:\tlearn: 0.1711604\ttotal: 9.41s\tremaining: 39.3s\n",
      "193:\tlearn: 0.1708434\ttotal: 9.46s\tremaining: 39.3s\n",
      "194:\tlearn: 0.1703283\ttotal: 9.51s\tremaining: 39.2s\n",
      "195:\tlearn: 0.1700319\ttotal: 9.56s\tremaining: 39.2s\n",
      "196:\tlearn: 0.1697359\ttotal: 9.61s\tremaining: 39.2s\n",
      "197:\tlearn: 0.1694473\ttotal: 9.66s\tremaining: 39.1s\n",
      "198:\tlearn: 0.1691508\ttotal: 9.71s\tremaining: 39.1s\n",
      "199:\tlearn: 0.1688596\ttotal: 9.75s\tremaining: 39s\n",
      "200:\tlearn: 0.1685803\ttotal: 9.8s\tremaining: 39s\n",
      "201:\tlearn: 0.1683144\ttotal: 9.85s\tremaining: 38.9s\n",
      "202:\tlearn: 0.1680469\ttotal: 9.89s\tremaining: 38.8s\n",
      "203:\tlearn: 0.1677791\ttotal: 9.93s\tremaining: 38.8s\n",
      "204:\tlearn: 0.1674194\ttotal: 9.98s\tremaining: 38.7s\n",
      "205:\tlearn: 0.1671157\ttotal: 10s\tremaining: 38.7s\n",
      "206:\tlearn: 0.1668702\ttotal: 10.1s\tremaining: 38.6s\n",
      "207:\tlearn: 0.1666204\ttotal: 10.1s\tremaining: 38.5s\n",
      "208:\tlearn: 0.1663787\ttotal: 10.2s\tremaining: 38.5s\n",
      "209:\tlearn: 0.1661411\ttotal: 10.2s\tremaining: 38.4s\n",
      "210:\tlearn: 0.1659006\ttotal: 10.3s\tremaining: 38.4s\n",
      "211:\tlearn: 0.1656135\ttotal: 10.3s\tremaining: 38.3s\n",
      "212:\tlearn: 0.1653840\ttotal: 10.3s\tremaining: 38.2s\n",
      "213:\tlearn: 0.1651594\ttotal: 10.4s\tremaining: 38.2s\n",
      "214:\tlearn: 0.1649352\ttotal: 10.4s\tremaining: 38.1s\n",
      "215:\tlearn: 0.1647108\ttotal: 10.5s\tremaining: 38s\n",
      "216:\tlearn: 0.1644969\ttotal: 10.5s\tremaining: 38s\n",
      "217:\tlearn: 0.1642827\ttotal: 10.6s\tremaining: 37.9s\n",
      "218:\tlearn: 0.1640715\ttotal: 10.6s\tremaining: 37.9s\n",
      "219:\tlearn: 0.1638649\ttotal: 10.7s\tremaining: 37.8s\n",
      "220:\tlearn: 0.1636665\ttotal: 10.7s\tremaining: 37.7s\n",
      "221:\tlearn: 0.1634661\ttotal: 10.8s\tremaining: 37.7s\n",
      "222:\tlearn: 0.1632734\ttotal: 10.8s\tremaining: 37.6s\n",
      "223:\tlearn: 0.1630773\ttotal: 10.8s\tremaining: 37.6s\n",
      "224:\tlearn: 0.1628881\ttotal: 10.9s\tremaining: 37.5s\n",
      "225:\tlearn: 0.1626041\ttotal: 10.9s\tremaining: 37.4s\n",
      "226:\tlearn: 0.1624298\ttotal: 11s\tremaining: 37.4s\n",
      "227:\tlearn: 0.1622411\ttotal: 11s\tremaining: 37.3s\n",
      "228:\tlearn: 0.1620580\ttotal: 11.1s\tremaining: 37.3s\n",
      "229:\tlearn: 0.1618843\ttotal: 11.1s\tremaining: 37.2s\n",
      "230:\tlearn: 0.1617072\ttotal: 11.2s\tremaining: 37.1s\n",
      "231:\tlearn: 0.1615317\ttotal: 11.2s\tremaining: 37.1s\n",
      "232:\tlearn: 0.1613672\ttotal: 11.2s\tremaining: 37s\n",
      "233:\tlearn: 0.1612053\ttotal: 11.3s\tremaining: 37s\n",
      "234:\tlearn: 0.1610452\ttotal: 11.3s\tremaining: 36.9s\n",
      "235:\tlearn: 0.1608277\ttotal: 11.4s\tremaining: 36.9s\n",
      "236:\tlearn: 0.1604328\ttotal: 11.4s\tremaining: 36.8s\n",
      "237:\tlearn: 0.1602799\ttotal: 11.5s\tremaining: 36.7s\n",
      "238:\tlearn: 0.1601272\ttotal: 11.5s\tremaining: 36.7s\n",
      "239:\tlearn: 0.1599812\ttotal: 11.6s\tremaining: 36.6s\n",
      "240:\tlearn: 0.1598341\ttotal: 11.6s\tremaining: 36.6s\n",
      "241:\tlearn: 0.1596932\ttotal: 11.7s\tremaining: 36.5s\n",
      "242:\tlearn: 0.1594455\ttotal: 11.7s\tremaining: 36.5s\n",
      "243:\tlearn: 0.1592550\ttotal: 11.8s\tremaining: 36.4s\n",
      "244:\tlearn: 0.1590574\ttotal: 11.8s\tremaining: 36.4s\n",
      "245:\tlearn: 0.1589184\ttotal: 11.9s\tremaining: 36.3s\n",
      "246:\tlearn: 0.1587785\ttotal: 11.9s\tremaining: 36.3s\n",
      "247:\tlearn: 0.1586493\ttotal: 11.9s\tremaining: 36.2s\n",
      "248:\tlearn: 0.1582860\ttotal: 12s\tremaining: 36.2s\n",
      "249:\tlearn: 0.1581567\ttotal: 12s\tremaining: 36.1s\n",
      "250:\tlearn: 0.1580309\ttotal: 12.1s\tremaining: 36.1s\n",
      "251:\tlearn: 0.1579055\ttotal: 12.1s\tremaining: 36s\n",
      "252:\tlearn: 0.1577825\ttotal: 12.2s\tremaining: 36s\n",
      "253:\tlearn: 0.1576664\ttotal: 12.2s\tremaining: 35.9s\n",
      "254:\tlearn: 0.1575523\ttotal: 12.3s\tremaining: 35.9s\n",
      "255:\tlearn: 0.1574334\ttotal: 12.3s\tremaining: 35.8s\n",
      "256:\tlearn: 0.1572646\ttotal: 12.4s\tremaining: 35.8s\n",
      "257:\tlearn: 0.1571511\ttotal: 12.4s\tremaining: 35.7s\n",
      "258:\tlearn: 0.1570244\ttotal: 12.5s\tremaining: 35.7s\n",
      "259:\tlearn: 0.1569115\ttotal: 12.5s\tremaining: 35.6s\n",
      "260:\tlearn: 0.1568022\ttotal: 12.6s\tremaining: 35.6s\n",
      "261:\tlearn: 0.1566938\ttotal: 12.6s\tremaining: 35.5s\n",
      "262:\tlearn: 0.1565308\ttotal: 12.7s\tremaining: 35.5s\n",
      "263:\tlearn: 0.1564300\ttotal: 12.7s\tremaining: 35.4s\n",
      "264:\tlearn: 0.1563276\ttotal: 12.7s\tremaining: 35.3s\n",
      "265:\tlearn: 0.1562256\ttotal: 12.8s\tremaining: 35.3s\n",
      "266:\tlearn: 0.1561267\ttotal: 12.8s\tremaining: 35.2s\n",
      "267:\tlearn: 0.1560320\ttotal: 12.9s\tremaining: 35.2s\n",
      "268:\tlearn: 0.1559362\ttotal: 12.9s\tremaining: 35.1s\n",
      "269:\tlearn: 0.1558450\ttotal: 13s\tremaining: 35s\n",
      "270:\tlearn: 0.1557453\ttotal: 13s\tremaining: 35s\n",
      "271:\tlearn: 0.1556568\ttotal: 13s\tremaining: 34.9s\n",
      "272:\tlearn: 0.1555702\ttotal: 13.1s\tremaining: 34.9s\n",
      "273:\tlearn: 0.1554713\ttotal: 13.1s\tremaining: 34.8s\n",
      "274:\tlearn: 0.1553820\ttotal: 13.2s\tremaining: 34.8s\n",
      "275:\tlearn: 0.1552986\ttotal: 13.2s\tremaining: 34.7s\n",
      "276:\tlearn: 0.1552181\ttotal: 13.3s\tremaining: 34.6s\n",
      "277:\tlearn: 0.1551395\ttotal: 13.3s\tremaining: 34.6s\n",
      "278:\tlearn: 0.1550610\ttotal: 13.4s\tremaining: 34.5s\n",
      "279:\tlearn: 0.1549644\ttotal: 13.4s\tremaining: 34.5s\n",
      "280:\tlearn: 0.1548823\ttotal: 13.5s\tremaining: 34.5s\n",
      "281:\tlearn: 0.1547874\ttotal: 13.5s\tremaining: 34.4s\n",
      "282:\tlearn: 0.1546548\ttotal: 13.6s\tremaining: 34.4s\n",
      "283:\tlearn: 0.1543469\ttotal: 13.6s\tremaining: 34.3s\n",
      "284:\tlearn: 0.1542554\ttotal: 13.7s\tremaining: 34.3s\n",
      "285:\tlearn: 0.1541802\ttotal: 13.7s\tremaining: 34.2s\n",
      "286:\tlearn: 0.1540934\ttotal: 13.8s\tremaining: 34.2s\n",
      "287:\tlearn: 0.1540197\ttotal: 13.8s\tremaining: 34.2s\n",
      "288:\tlearn: 0.1538733\ttotal: 13.9s\tremaining: 34.1s\n",
      "289:\tlearn: 0.1537101\ttotal: 13.9s\tremaining: 34.1s\n",
      "290:\tlearn: 0.1536435\ttotal: 14s\tremaining: 34s\n",
      "291:\tlearn: 0.1535604\ttotal: 14s\tremaining: 34s\n",
      "292:\tlearn: 0.1534799\ttotal: 14.1s\tremaining: 33.9s\n",
      "293:\tlearn: 0.1534143\ttotal: 14.1s\tremaining: 33.9s\n",
      "294:\tlearn: 0.1533355\ttotal: 14.2s\tremaining: 33.8s\n",
      "295:\tlearn: 0.1532715\ttotal: 14.2s\tremaining: 33.8s\n",
      "296:\tlearn: 0.1531586\ttotal: 14.2s\tremaining: 33.7s\n",
      "297:\tlearn: 0.1530948\ttotal: 14.3s\tremaining: 33.7s\n",
      "298:\tlearn: 0.1530198\ttotal: 14.3s\tremaining: 33.6s\n",
      "299:\tlearn: 0.1529612\ttotal: 14.4s\tremaining: 33.6s\n",
      "300:\tlearn: 0.1528961\ttotal: 14.4s\tremaining: 33.5s\n",
      "301:\tlearn: 0.1527709\ttotal: 14.5s\tremaining: 33.5s\n",
      "302:\tlearn: 0.1527041\ttotal: 14.5s\tremaining: 33.4s\n",
      "303:\tlearn: 0.1526448\ttotal: 14.6s\tremaining: 33.4s\n",
      "304:\tlearn: 0.1525430\ttotal: 14.6s\tremaining: 33.3s\n",
      "305:\tlearn: 0.1524833\ttotal: 14.7s\tremaining: 33.3s\n",
      "306:\tlearn: 0.1523388\ttotal: 14.7s\tremaining: 33.2s\n",
      "307:\tlearn: 0.1522839\ttotal: 14.8s\tremaining: 33.1s\n",
      "308:\tlearn: 0.1522341\ttotal: 14.8s\tremaining: 33.1s\n",
      "309:\tlearn: 0.1521682\ttotal: 14.8s\tremaining: 33s\n",
      "310:\tlearn: 0.1520093\ttotal: 14.9s\tremaining: 33s\n",
      "311:\tlearn: 0.1519076\ttotal: 14.9s\tremaining: 32.9s\n",
      "312:\tlearn: 0.1516302\ttotal: 15s\tremaining: 32.9s\n",
      "313:\tlearn: 0.1515673\ttotal: 15s\tremaining: 32.8s\n",
      "314:\tlearn: 0.1514313\ttotal: 15.1s\tremaining: 32.8s\n",
      "315:\tlearn: 0.1513825\ttotal: 15.1s\tremaining: 32.7s\n",
      "316:\tlearn: 0.1513386\ttotal: 15.2s\tremaining: 32.6s\n",
      "317:\tlearn: 0.1512489\ttotal: 15.2s\tremaining: 32.6s\n",
      "318:\tlearn: 0.1511544\ttotal: 15.2s\tremaining: 32.5s\n",
      "319:\tlearn: 0.1510442\ttotal: 15.3s\tremaining: 32.5s\n",
      "320:\tlearn: 0.1509881\ttotal: 15.3s\tremaining: 32.4s\n",
      "321:\tlearn: 0.1508969\ttotal: 15.4s\tremaining: 32.4s\n",
      "322:\tlearn: 0.1508430\ttotal: 15.4s\tremaining: 32.3s\n",
      "323:\tlearn: 0.1507167\ttotal: 15.5s\tremaining: 32.3s\n",
      "324:\tlearn: 0.1506703\ttotal: 15.5s\tremaining: 32.2s\n",
      "325:\tlearn: 0.1505433\ttotal: 15.6s\tremaining: 32.2s\n",
      "326:\tlearn: 0.1504023\ttotal: 15.6s\tremaining: 32.1s\n"
     ]
    },
    {
     "name": "stdout",
     "output_type": "stream",
     "text": [
      "327:\tlearn: 0.1503545\ttotal: 15.7s\tremaining: 32.1s\n",
      "328:\tlearn: 0.1503109\ttotal: 15.7s\tremaining: 32.1s\n",
      "329:\tlearn: 0.1502683\ttotal: 15.8s\tremaining: 32s\n",
      "330:\tlearn: 0.1501448\ttotal: 15.8s\tremaining: 31.9s\n",
      "331:\tlearn: 0.1498822\ttotal: 15.9s\tremaining: 31.9s\n",
      "332:\tlearn: 0.1497633\ttotal: 15.9s\tremaining: 31.9s\n",
      "333:\tlearn: 0.1497168\ttotal: 15.9s\tremaining: 31.8s\n",
      "334:\tlearn: 0.1496026\ttotal: 16s\tremaining: 31.7s\n",
      "335:\tlearn: 0.1495647\ttotal: 16s\tremaining: 31.7s\n",
      "336:\tlearn: 0.1494886\ttotal: 16.1s\tremaining: 31.6s\n",
      "337:\tlearn: 0.1494545\ttotal: 16.1s\tremaining: 31.6s\n",
      "338:\tlearn: 0.1493424\ttotal: 16.2s\tremaining: 31.5s\n",
      "339:\tlearn: 0.1492453\ttotal: 16.2s\tremaining: 31.5s\n",
      "340:\tlearn: 0.1491364\ttotal: 16.3s\tremaining: 31.4s\n",
      "341:\tlearn: 0.1491015\ttotal: 16.3s\tremaining: 31.4s\n",
      "342:\tlearn: 0.1488331\ttotal: 16.4s\tremaining: 31.3s\n",
      "343:\tlearn: 0.1486446\ttotal: 16.4s\tremaining: 31.3s\n",
      "344:\tlearn: 0.1486044\ttotal: 16.5s\tremaining: 31.2s\n",
      "345:\tlearn: 0.1484741\ttotal: 16.5s\tremaining: 31.2s\n",
      "346:\tlearn: 0.1482333\ttotal: 16.5s\tremaining: 31.1s\n",
      "347:\tlearn: 0.1481330\ttotal: 16.6s\tremaining: 31.1s\n",
      "348:\tlearn: 0.1480309\ttotal: 16.6s\tremaining: 31s\n",
      "349:\tlearn: 0.1479638\ttotal: 16.7s\tremaining: 31s\n",
      "350:\tlearn: 0.1479302\ttotal: 16.7s\tremaining: 30.9s\n",
      "351:\tlearn: 0.1478914\ttotal: 16.8s\tremaining: 30.9s\n",
      "352:\tlearn: 0.1478517\ttotal: 16.8s\tremaining: 30.9s\n",
      "353:\tlearn: 0.1478126\ttotal: 16.9s\tremaining: 30.8s\n",
      "354:\tlearn: 0.1477165\ttotal: 16.9s\tremaining: 30.7s\n",
      "355:\tlearn: 0.1476230\ttotal: 17s\tremaining: 30.7s\n",
      "356:\tlearn: 0.1475976\ttotal: 17s\tremaining: 30.6s\n",
      "357:\tlearn: 0.1475692\ttotal: 17.1s\tremaining: 30.6s\n",
      "358:\tlearn: 0.1474497\ttotal: 17.1s\tremaining: 30.5s\n",
      "359:\tlearn: 0.1474203\ttotal: 17.1s\tremaining: 30.5s\n",
      "360:\tlearn: 0.1472074\ttotal: 17.2s\tremaining: 30.4s\n",
      "361:\tlearn: 0.1470958\ttotal: 17.2s\tremaining: 30.4s\n",
      "362:\tlearn: 0.1470067\ttotal: 17.3s\tremaining: 30.3s\n",
      "363:\tlearn: 0.1468448\ttotal: 17.3s\tremaining: 30.3s\n",
      "364:\tlearn: 0.1467933\ttotal: 17.4s\tremaining: 30.3s\n",
      "365:\tlearn: 0.1467072\ttotal: 17.4s\tremaining: 30.2s\n",
      "366:\tlearn: 0.1466529\ttotal: 17.5s\tremaining: 30.2s\n",
      "367:\tlearn: 0.1465722\ttotal: 17.5s\tremaining: 30.1s\n",
      "368:\tlearn: 0.1465419\ttotal: 17.6s\tremaining: 30.1s\n",
      "369:\tlearn: 0.1463160\ttotal: 17.6s\tremaining: 30s\n",
      "370:\tlearn: 0.1461138\ttotal: 17.7s\tremaining: 30s\n",
      "371:\tlearn: 0.1460311\ttotal: 17.7s\tremaining: 29.9s\n",
      "372:\tlearn: 0.1459325\ttotal: 17.8s\tremaining: 29.9s\n",
      "373:\tlearn: 0.1458828\ttotal: 17.8s\tremaining: 29.9s\n",
      "374:\tlearn: 0.1458633\ttotal: 17.9s\tremaining: 29.8s\n",
      "375:\tlearn: 0.1457547\ttotal: 17.9s\tremaining: 29.7s\n",
      "376:\tlearn: 0.1456793\ttotal: 18s\tremaining: 29.7s\n",
      "377:\tlearn: 0.1454073\ttotal: 18s\tremaining: 29.6s\n",
      "378:\tlearn: 0.1452198\ttotal: 18.1s\tremaining: 29.6s\n",
      "379:\tlearn: 0.1449965\ttotal: 18.1s\tremaining: 29.5s\n",
      "380:\tlearn: 0.1447620\ttotal: 18.2s\tremaining: 29.5s\n",
      "381:\tlearn: 0.1446679\ttotal: 18.2s\tremaining: 29.5s\n",
      "382:\tlearn: 0.1446457\ttotal: 18.3s\tremaining: 29.4s\n",
      "383:\tlearn: 0.1444603\ttotal: 18.3s\tremaining: 29.4s\n",
      "384:\tlearn: 0.1444384\ttotal: 18.3s\tremaining: 29.3s\n",
      "385:\tlearn: 0.1442564\ttotal: 18.4s\tremaining: 29.3s\n",
      "386:\tlearn: 0.1442112\ttotal: 18.4s\tremaining: 29.2s\n",
      "387:\tlearn: 0.1441842\ttotal: 18.5s\tremaining: 29.1s\n",
      "388:\tlearn: 0.1440916\ttotal: 18.5s\tremaining: 29.1s\n",
      "389:\tlearn: 0.1439962\ttotal: 18.6s\tremaining: 29s\n",
      "390:\tlearn: 0.1439224\ttotal: 18.6s\tremaining: 29s\n",
      "391:\tlearn: 0.1438949\ttotal: 18.7s\tremaining: 28.9s\n",
      "392:\tlearn: 0.1437134\ttotal: 18.7s\tremaining: 28.9s\n",
      "393:\tlearn: 0.1436464\ttotal: 18.7s\tremaining: 28.8s\n",
      "394:\tlearn: 0.1435184\ttotal: 18.8s\tremaining: 28.8s\n",
      "395:\tlearn: 0.1432799\ttotal: 18.8s\tremaining: 28.7s\n",
      "396:\tlearn: 0.1431645\ttotal: 18.9s\tremaining: 28.7s\n",
      "397:\tlearn: 0.1431018\ttotal: 18.9s\tremaining: 28.6s\n",
      "398:\tlearn: 0.1430844\ttotal: 19s\tremaining: 28.6s\n",
      "399:\tlearn: 0.1430226\ttotal: 19s\tremaining: 28.6s\n",
      "400:\tlearn: 0.1428091\ttotal: 19.1s\tremaining: 28.5s\n",
      "401:\tlearn: 0.1427450\ttotal: 19.1s\tremaining: 28.5s\n",
      "402:\tlearn: 0.1425847\ttotal: 19.2s\tremaining: 28.4s\n",
      "403:\tlearn: 0.1425604\ttotal: 19.2s\tremaining: 28.4s\n",
      "404:\tlearn: 0.1422351\ttotal: 19.3s\tremaining: 28.3s\n",
      "405:\tlearn: 0.1420806\ttotal: 19.3s\tremaining: 28.3s\n",
      "406:\tlearn: 0.1420243\ttotal: 19.4s\tremaining: 28.3s\n",
      "407:\tlearn: 0.1418095\ttotal: 19.4s\tremaining: 28.2s\n",
      "408:\tlearn: 0.1416448\ttotal: 19.5s\tremaining: 28.2s\n",
      "409:\tlearn: 0.1415521\ttotal: 19.5s\tremaining: 28.1s\n",
      "410:\tlearn: 0.1413911\ttotal: 19.6s\tremaining: 28.1s\n",
      "411:\tlearn: 0.1412421\ttotal: 19.6s\tremaining: 28s\n",
      "412:\tlearn: 0.1412232\ttotal: 19.7s\tremaining: 28s\n",
      "413:\tlearn: 0.1410728\ttotal: 19.7s\tremaining: 27.9s\n",
      "414:\tlearn: 0.1408720\ttotal: 19.8s\tremaining: 27.9s\n",
      "415:\tlearn: 0.1407529\ttotal: 19.8s\tremaining: 27.8s\n",
      "416:\tlearn: 0.1406629\ttotal: 19.9s\tremaining: 27.8s\n",
      "417:\tlearn: 0.1406087\ttotal: 19.9s\tremaining: 27.7s\n",
      "418:\tlearn: 0.1404711\ttotal: 20s\tremaining: 27.7s\n",
      "419:\tlearn: 0.1403840\ttotal: 20s\tremaining: 27.6s\n",
      "420:\tlearn: 0.1401798\ttotal: 20.1s\tremaining: 27.6s\n",
      "421:\tlearn: 0.1399825\ttotal: 20.1s\tremaining: 27.5s\n",
      "422:\tlearn: 0.1398381\ttotal: 20.1s\tremaining: 27.5s\n",
      "423:\tlearn: 0.1397930\ttotal: 20.2s\tremaining: 27.4s\n",
      "424:\tlearn: 0.1394942\ttotal: 20.2s\tremaining: 27.4s\n",
      "425:\tlearn: 0.1393549\ttotal: 20.3s\tremaining: 27.3s\n",
      "426:\tlearn: 0.1391229\ttotal: 20.3s\tremaining: 27.3s\n",
      "427:\tlearn: 0.1389429\ttotal: 20.4s\tremaining: 27.2s\n",
      "428:\tlearn: 0.1388238\ttotal: 20.4s\tremaining: 27.2s\n",
      "429:\tlearn: 0.1385433\ttotal: 20.5s\tremaining: 27.1s\n",
      "430:\tlearn: 0.1383625\ttotal: 20.5s\tremaining: 27.1s\n",
      "431:\tlearn: 0.1381367\ttotal: 20.6s\tremaining: 27.1s\n",
      "432:\tlearn: 0.1380855\ttotal: 20.6s\tremaining: 27s\n",
      "433:\tlearn: 0.1379742\ttotal: 20.7s\tremaining: 27s\n",
      "434:\tlearn: 0.1377930\ttotal: 20.7s\tremaining: 26.9s\n",
      "435:\tlearn: 0.1375400\ttotal: 20.8s\tremaining: 26.9s\n",
      "436:\tlearn: 0.1374382\ttotal: 20.8s\tremaining: 26.8s\n",
      "437:\tlearn: 0.1373897\ttotal: 20.9s\tremaining: 26.8s\n",
      "438:\tlearn: 0.1373385\ttotal: 20.9s\tremaining: 26.8s\n",
      "439:\tlearn: 0.1373088\ttotal: 21s\tremaining: 26.7s\n",
      "440:\tlearn: 0.1372944\ttotal: 21s\tremaining: 26.7s\n",
      "441:\tlearn: 0.1371835\ttotal: 21.1s\tremaining: 26.6s\n",
      "442:\tlearn: 0.1371098\ttotal: 21.1s\tremaining: 26.6s\n",
      "443:\tlearn: 0.1369390\ttotal: 21.2s\tremaining: 26.5s\n",
      "444:\tlearn: 0.1369030\ttotal: 21.2s\tremaining: 26.5s\n",
      "445:\tlearn: 0.1367439\ttotal: 21.3s\tremaining: 26.4s\n",
      "446:\tlearn: 0.1365917\ttotal: 21.3s\tremaining: 26.4s\n",
      "447:\tlearn: 0.1364481\ttotal: 21.4s\tremaining: 26.3s\n",
      "448:\tlearn: 0.1362868\ttotal: 21.4s\tremaining: 26.3s\n",
      "449:\tlearn: 0.1361944\ttotal: 21.5s\tremaining: 26.3s\n",
      "450:\tlearn: 0.1360937\ttotal: 21.5s\tremaining: 26.2s\n",
      "451:\tlearn: 0.1359937\ttotal: 21.6s\tremaining: 26.2s\n",
      "452:\tlearn: 0.1358447\ttotal: 21.6s\tremaining: 26.1s\n",
      "453:\tlearn: 0.1356870\ttotal: 21.7s\tremaining: 26.1s\n",
      "454:\tlearn: 0.1355891\ttotal: 21.7s\tremaining: 26s\n",
      "455:\tlearn: 0.1355070\ttotal: 21.8s\tremaining: 26s\n",
      "456:\tlearn: 0.1353719\ttotal: 21.8s\tremaining: 25.9s\n",
      "457:\tlearn: 0.1353394\ttotal: 21.9s\tremaining: 25.9s\n",
      "458:\tlearn: 0.1352465\ttotal: 21.9s\tremaining: 25.9s\n",
      "459:\tlearn: 0.1351040\ttotal: 22s\tremaining: 25.8s\n",
      "460:\tlearn: 0.1350369\ttotal: 22.1s\tremaining: 25.8s\n",
      "461:\tlearn: 0.1348879\ttotal: 22.1s\tremaining: 25.7s\n",
      "462:\tlearn: 0.1347359\ttotal: 22.2s\tremaining: 25.7s\n",
      "463:\tlearn: 0.1346557\ttotal: 22.2s\tremaining: 25.7s\n",
      "464:\tlearn: 0.1346404\ttotal: 22.3s\tremaining: 25.6s\n",
      "465:\tlearn: 0.1346133\ttotal: 22.3s\tremaining: 25.6s\n",
      "466:\tlearn: 0.1345061\ttotal: 22.4s\tremaining: 25.5s\n",
      "467:\tlearn: 0.1343764\ttotal: 22.4s\tremaining: 25.5s\n",
      "468:\tlearn: 0.1342694\ttotal: 22.5s\tremaining: 25.4s\n",
      "469:\tlearn: 0.1341664\ttotal: 22.5s\tremaining: 25.4s\n",
      "470:\tlearn: 0.1340798\ttotal: 22.6s\tremaining: 25.3s\n",
      "471:\tlearn: 0.1339384\ttotal: 22.6s\tremaining: 25.3s\n",
      "472:\tlearn: 0.1338653\ttotal: 22.7s\tremaining: 25.2s\n",
      "473:\tlearn: 0.1336658\ttotal: 22.7s\tremaining: 25.2s\n",
      "474:\tlearn: 0.1334609\ttotal: 22.8s\tremaining: 25.2s\n",
      "475:\tlearn: 0.1333264\ttotal: 22.8s\tremaining: 25.1s\n",
      "476:\tlearn: 0.1332910\ttotal: 22.9s\tremaining: 25.1s\n",
      "477:\tlearn: 0.1332755\ttotal: 22.9s\tremaining: 25s\n",
      "478:\tlearn: 0.1330865\ttotal: 23s\tremaining: 25s\n",
      "479:\tlearn: 0.1330716\ttotal: 23s\tremaining: 24.9s\n",
      "480:\tlearn: 0.1330370\ttotal: 23.1s\tremaining: 24.9s\n",
      "481:\tlearn: 0.1329130\ttotal: 23.1s\tremaining: 24.9s\n",
      "482:\tlearn: 0.1328379\ttotal: 23.2s\tremaining: 24.8s\n",
      "483:\tlearn: 0.1327254\ttotal: 23.2s\tremaining: 24.8s\n",
      "484:\tlearn: 0.1325356\ttotal: 23.3s\tremaining: 24.7s\n",
      "485:\tlearn: 0.1324008\ttotal: 23.3s\tremaining: 24.7s\n"
     ]
    },
    {
     "name": "stdout",
     "output_type": "stream",
     "text": [
      "486:\tlearn: 0.1323613\ttotal: 23.4s\tremaining: 24.6s\n",
      "487:\tlearn: 0.1322527\ttotal: 23.4s\tremaining: 24.6s\n",
      "488:\tlearn: 0.1321548\ttotal: 23.5s\tremaining: 24.5s\n",
      "489:\tlearn: 0.1320376\ttotal: 23.5s\tremaining: 24.5s\n",
      "490:\tlearn: 0.1318594\ttotal: 23.6s\tremaining: 24.4s\n",
      "491:\tlearn: 0.1317876\ttotal: 23.6s\tremaining: 24.4s\n",
      "492:\tlearn: 0.1316942\ttotal: 23.7s\tremaining: 24.3s\n",
      "493:\tlearn: 0.1316843\ttotal: 23.7s\tremaining: 24.3s\n",
      "494:\tlearn: 0.1315194\ttotal: 23.7s\tremaining: 24.2s\n",
      "495:\tlearn: 0.1314596\ttotal: 23.8s\tremaining: 24.2s\n",
      "496:\tlearn: 0.1312742\ttotal: 23.8s\tremaining: 24.1s\n",
      "497:\tlearn: 0.1312206\ttotal: 23.9s\tremaining: 24.1s\n",
      "498:\tlearn: 0.1311571\ttotal: 23.9s\tremaining: 24s\n",
      "499:\tlearn: 0.1310546\ttotal: 24s\tremaining: 24s\n",
      "500:\tlearn: 0.1308477\ttotal: 24s\tremaining: 23.9s\n",
      "501:\tlearn: 0.1307316\ttotal: 24.1s\tremaining: 23.9s\n",
      "502:\tlearn: 0.1306793\ttotal: 24.1s\tremaining: 23.8s\n",
      "503:\tlearn: 0.1305269\ttotal: 24.2s\tremaining: 23.8s\n",
      "504:\tlearn: 0.1304144\ttotal: 24.2s\tremaining: 23.8s\n",
      "505:\tlearn: 0.1302686\ttotal: 24.3s\tremaining: 23.7s\n",
      "506:\tlearn: 0.1302089\ttotal: 24.3s\tremaining: 23.7s\n",
      "507:\tlearn: 0.1301856\ttotal: 24.4s\tremaining: 23.6s\n",
      "508:\tlearn: 0.1301405\ttotal: 24.4s\tremaining: 23.6s\n",
      "509:\tlearn: 0.1300410\ttotal: 24.5s\tremaining: 23.5s\n",
      "510:\tlearn: 0.1299573\ttotal: 24.5s\tremaining: 23.5s\n",
      "511:\tlearn: 0.1298758\ttotal: 24.6s\tremaining: 23.4s\n",
      "512:\tlearn: 0.1298273\ttotal: 24.6s\tremaining: 23.4s\n",
      "513:\tlearn: 0.1297773\ttotal: 24.7s\tremaining: 23.3s\n",
      "514:\tlearn: 0.1297632\ttotal: 24.7s\tremaining: 23.3s\n",
      "515:\tlearn: 0.1297156\ttotal: 24.8s\tremaining: 23.3s\n",
      "516:\tlearn: 0.1296082\ttotal: 24.8s\tremaining: 23.2s\n",
      "517:\tlearn: 0.1295894\ttotal: 24.9s\tremaining: 23.2s\n",
      "518:\tlearn: 0.1295433\ttotal: 24.9s\tremaining: 23.1s\n",
      "519:\tlearn: 0.1294505\ttotal: 25s\tremaining: 23.1s\n",
      "520:\tlearn: 0.1293339\ttotal: 25.1s\tremaining: 23s\n",
      "521:\tlearn: 0.1292617\ttotal: 25.1s\tremaining: 23s\n",
      "522:\tlearn: 0.1290791\ttotal: 25.2s\tremaining: 22.9s\n",
      "523:\tlearn: 0.1290051\ttotal: 25.2s\tremaining: 22.9s\n",
      "524:\tlearn: 0.1289360\ttotal: 25.3s\tremaining: 22.9s\n",
      "525:\tlearn: 0.1288640\ttotal: 25.3s\tremaining: 22.8s\n",
      "526:\tlearn: 0.1288061\ttotal: 25.4s\tremaining: 22.8s\n",
      "527:\tlearn: 0.1287235\ttotal: 25.4s\tremaining: 22.7s\n",
      "528:\tlearn: 0.1286228\ttotal: 25.4s\tremaining: 22.7s\n",
      "529:\tlearn: 0.1285968\ttotal: 25.5s\tremaining: 22.6s\n",
      "530:\tlearn: 0.1285595\ttotal: 25.6s\tremaining: 22.6s\n",
      "531:\tlearn: 0.1285012\ttotal: 25.6s\tremaining: 22.5s\n",
      "532:\tlearn: 0.1284046\ttotal: 25.6s\tremaining: 22.5s\n",
      "533:\tlearn: 0.1282822\ttotal: 25.7s\tremaining: 22.4s\n",
      "534:\tlearn: 0.1281050\ttotal: 25.7s\tremaining: 22.4s\n",
      "535:\tlearn: 0.1280916\ttotal: 25.8s\tremaining: 22.3s\n",
      "536:\tlearn: 0.1280509\ttotal: 25.8s\tremaining: 22.3s\n",
      "537:\tlearn: 0.1280097\ttotal: 25.9s\tremaining: 22.2s\n",
      "538:\tlearn: 0.1279432\ttotal: 25.9s\tremaining: 22.2s\n",
      "539:\tlearn: 0.1278868\ttotal: 26s\tremaining: 22.1s\n",
      "540:\tlearn: 0.1278633\ttotal: 26s\tremaining: 22.1s\n",
      "541:\tlearn: 0.1276979\ttotal: 26.1s\tremaining: 22s\n",
      "542:\tlearn: 0.1275616\ttotal: 26.1s\tremaining: 22s\n",
      "543:\tlearn: 0.1274699\ttotal: 26.2s\tremaining: 21.9s\n",
      "544:\tlearn: 0.1273971\ttotal: 26.2s\tremaining: 21.9s\n",
      "545:\tlearn: 0.1273525\ttotal: 26.3s\tremaining: 21.8s\n",
      "546:\tlearn: 0.1273155\ttotal: 26.3s\tremaining: 21.8s\n",
      "547:\tlearn: 0.1272806\ttotal: 26.4s\tremaining: 21.7s\n",
      "548:\tlearn: 0.1271546\ttotal: 26.4s\tremaining: 21.7s\n",
      "549:\tlearn: 0.1271409\ttotal: 26.4s\tremaining: 21.6s\n",
      "550:\tlearn: 0.1270683\ttotal: 26.5s\tremaining: 21.6s\n",
      "551:\tlearn: 0.1269776\ttotal: 26.5s\tremaining: 21.5s\n",
      "552:\tlearn: 0.1268678\ttotal: 26.6s\tremaining: 21.5s\n",
      "553:\tlearn: 0.1267832\ttotal: 26.6s\tremaining: 21.4s\n",
      "554:\tlearn: 0.1267251\ttotal: 26.7s\tremaining: 21.4s\n",
      "555:\tlearn: 0.1266411\ttotal: 26.7s\tremaining: 21.3s\n",
      "556:\tlearn: 0.1266245\ttotal: 26.8s\tremaining: 21.3s\n",
      "557:\tlearn: 0.1265697\ttotal: 26.8s\tremaining: 21.2s\n",
      "558:\tlearn: 0.1265533\ttotal: 26.9s\tremaining: 21.2s\n",
      "559:\tlearn: 0.1265139\ttotal: 26.9s\tremaining: 21.1s\n",
      "560:\tlearn: 0.1264843\ttotal: 27s\tremaining: 21.1s\n",
      "561:\tlearn: 0.1264037\ttotal: 27s\tremaining: 21s\n",
      "562:\tlearn: 0.1262981\ttotal: 27.1s\tremaining: 21s\n",
      "563:\tlearn: 0.1261903\ttotal: 27.1s\tremaining: 21s\n",
      "564:\tlearn: 0.1261501\ttotal: 27.2s\tremaining: 20.9s\n",
      "565:\tlearn: 0.1261205\ttotal: 27.2s\tremaining: 20.9s\n",
      "566:\tlearn: 0.1261032\ttotal: 27.2s\tremaining: 20.8s\n",
      "567:\tlearn: 0.1260347\ttotal: 27.3s\tremaining: 20.8s\n",
      "568:\tlearn: 0.1260164\ttotal: 27.3s\tremaining: 20.7s\n",
      "569:\tlearn: 0.1258931\ttotal: 27.4s\tremaining: 20.7s\n",
      "570:\tlearn: 0.1258755\ttotal: 27.4s\tremaining: 20.6s\n",
      "571:\tlearn: 0.1258085\ttotal: 27.5s\tremaining: 20.6s\n",
      "572:\tlearn: 0.1257507\ttotal: 27.5s\tremaining: 20.5s\n",
      "573:\tlearn: 0.1257203\ttotal: 27.6s\tremaining: 20.5s\n",
      "574:\tlearn: 0.1256901\ttotal: 27.6s\tremaining: 20.4s\n",
      "575:\tlearn: 0.1256179\ttotal: 27.7s\tremaining: 20.4s\n",
      "576:\tlearn: 0.1255472\ttotal: 27.7s\tremaining: 20.3s\n",
      "577:\tlearn: 0.1254928\ttotal: 27.8s\tremaining: 20.3s\n",
      "578:\tlearn: 0.1254650\ttotal: 27.8s\tremaining: 20.2s\n",
      "579:\tlearn: 0.1254367\ttotal: 27.9s\tremaining: 20.2s\n",
      "580:\tlearn: 0.1253601\ttotal: 27.9s\tremaining: 20.1s\n",
      "581:\tlearn: 0.1252846\ttotal: 27.9s\tremaining: 20.1s\n",
      "582:\tlearn: 0.1252416\ttotal: 28s\tremaining: 20s\n",
      "583:\tlearn: 0.1251665\ttotal: 28s\tremaining: 20s\n",
      "584:\tlearn: 0.1250451\ttotal: 28.1s\tremaining: 19.9s\n",
      "585:\tlearn: 0.1249507\ttotal: 28.1s\tremaining: 19.9s\n",
      "586:\tlearn: 0.1249168\ttotal: 28.2s\tremaining: 19.8s\n",
      "587:\tlearn: 0.1248378\ttotal: 28.2s\tremaining: 19.8s\n",
      "588:\tlearn: 0.1247984\ttotal: 28.3s\tremaining: 19.7s\n",
      "589:\tlearn: 0.1247882\ttotal: 28.3s\tremaining: 19.7s\n",
      "590:\tlearn: 0.1247120\ttotal: 28.4s\tremaining: 19.6s\n",
      "591:\tlearn: 0.1246261\ttotal: 28.4s\tremaining: 19.6s\n",
      "592:\tlearn: 0.1246103\ttotal: 28.5s\tremaining: 19.5s\n",
      "593:\tlearn: 0.1245850\ttotal: 28.5s\tremaining: 19.5s\n",
      "594:\tlearn: 0.1245590\ttotal: 28.6s\tremaining: 19.4s\n",
      "595:\tlearn: 0.1244818\ttotal: 28.6s\tremaining: 19.4s\n",
      "596:\tlearn: 0.1244313\ttotal: 28.7s\tremaining: 19.4s\n",
      "597:\tlearn: 0.1243621\ttotal: 28.7s\tremaining: 19.3s\n",
      "598:\tlearn: 0.1242736\ttotal: 28.8s\tremaining: 19.3s\n",
      "599:\tlearn: 0.1242119\ttotal: 28.8s\tremaining: 19.2s\n",
      "600:\tlearn: 0.1241865\ttotal: 28.9s\tremaining: 19.2s\n",
      "601:\tlearn: 0.1241713\ttotal: 28.9s\tremaining: 19.1s\n",
      "602:\tlearn: 0.1241238\ttotal: 29s\tremaining: 19.1s\n",
      "603:\tlearn: 0.1240926\ttotal: 29s\tremaining: 19s\n",
      "604:\tlearn: 0.1240294\ttotal: 29.1s\tremaining: 19s\n",
      "605:\tlearn: 0.1240062\ttotal: 29.1s\tremaining: 18.9s\n",
      "606:\tlearn: 0.1239754\ttotal: 29.2s\tremaining: 18.9s\n",
      "607:\tlearn: 0.1238412\ttotal: 29.2s\tremaining: 18.8s\n",
      "608:\tlearn: 0.1237562\ttotal: 29.3s\tremaining: 18.8s\n",
      "609:\tlearn: 0.1237322\ttotal: 29.3s\tremaining: 18.7s\n",
      "610:\tlearn: 0.1236766\ttotal: 29.4s\tremaining: 18.7s\n",
      "611:\tlearn: 0.1235585\ttotal: 29.4s\tremaining: 18.6s\n",
      "612:\tlearn: 0.1235125\ttotal: 29.4s\tremaining: 18.6s\n",
      "613:\tlearn: 0.1234543\ttotal: 29.5s\tremaining: 18.5s\n",
      "614:\tlearn: 0.1234315\ttotal: 29.5s\tremaining: 18.5s\n",
      "615:\tlearn: 0.1234184\ttotal: 29.6s\tremaining: 18.4s\n",
      "616:\tlearn: 0.1233380\ttotal: 29.6s\tremaining: 18.4s\n",
      "617:\tlearn: 0.1233209\ttotal: 29.7s\tremaining: 18.3s\n",
      "618:\tlearn: 0.1232881\ttotal: 29.7s\tremaining: 18.3s\n",
      "619:\tlearn: 0.1232744\ttotal: 29.8s\tremaining: 18.2s\n",
      "620:\tlearn: 0.1232301\ttotal: 29.8s\tremaining: 18.2s\n",
      "621:\tlearn: 0.1232182\ttotal: 29.9s\tremaining: 18.1s\n",
      "622:\tlearn: 0.1231723\ttotal: 29.9s\tremaining: 18.1s\n",
      "623:\tlearn: 0.1230438\ttotal: 30s\tremaining: 18.1s\n",
      "624:\tlearn: 0.1229654\ttotal: 30s\tremaining: 18s\n",
      "625:\tlearn: 0.1229062\ttotal: 30.1s\tremaining: 18s\n",
      "626:\tlearn: 0.1227986\ttotal: 30.1s\tremaining: 17.9s\n",
      "627:\tlearn: 0.1227379\ttotal: 30.2s\tremaining: 17.9s\n",
      "628:\tlearn: 0.1227234\ttotal: 30.2s\tremaining: 17.8s\n",
      "629:\tlearn: 0.1226769\ttotal: 30.2s\tremaining: 17.8s\n",
      "630:\tlearn: 0.1226036\ttotal: 30.3s\tremaining: 17.7s\n",
      "631:\tlearn: 0.1225956\ttotal: 30.4s\tremaining: 17.7s\n",
      "632:\tlearn: 0.1225028\ttotal: 30.4s\tremaining: 17.6s\n",
      "633:\tlearn: 0.1224405\ttotal: 30.4s\tremaining: 17.6s\n",
      "634:\tlearn: 0.1223687\ttotal: 30.5s\tremaining: 17.5s\n",
      "635:\tlearn: 0.1223034\ttotal: 30.6s\tremaining: 17.5s\n",
      "636:\tlearn: 0.1222720\ttotal: 30.6s\tremaining: 17.4s\n",
      "637:\tlearn: 0.1222085\ttotal: 30.7s\tremaining: 17.4s\n",
      "638:\tlearn: 0.1221655\ttotal: 30.7s\tremaining: 17.3s\n",
      "639:\tlearn: 0.1221458\ttotal: 30.8s\tremaining: 17.3s\n",
      "640:\tlearn: 0.1220947\ttotal: 30.8s\tremaining: 17.3s\n",
      "641:\tlearn: 0.1220392\ttotal: 30.9s\tremaining: 17.2s\n",
      "642:\tlearn: 0.1220254\ttotal: 30.9s\tremaining: 17.2s\n",
      "643:\tlearn: 0.1219957\ttotal: 30.9s\tremaining: 17.1s\n",
      "644:\tlearn: 0.1219616\ttotal: 31s\tremaining: 17.1s\n",
      "645:\tlearn: 0.1219406\ttotal: 31s\tremaining: 17s\n",
      "646:\tlearn: 0.1218943\ttotal: 31.1s\tremaining: 17s\n"
     ]
    },
    {
     "name": "stdout",
     "output_type": "stream",
     "text": [
      "647:\tlearn: 0.1218521\ttotal: 31.1s\tremaining: 16.9s\n",
      "648:\tlearn: 0.1217810\ttotal: 31.2s\tremaining: 16.9s\n",
      "649:\tlearn: 0.1217686\ttotal: 31.2s\tremaining: 16.8s\n",
      "650:\tlearn: 0.1217404\ttotal: 31.3s\tremaining: 16.8s\n",
      "651:\tlearn: 0.1216440\ttotal: 31.3s\tremaining: 16.7s\n",
      "652:\tlearn: 0.1216048\ttotal: 31.4s\tremaining: 16.7s\n",
      "653:\tlearn: 0.1215621\ttotal: 31.4s\tremaining: 16.6s\n",
      "654:\tlearn: 0.1215537\ttotal: 31.5s\tremaining: 16.6s\n",
      "655:\tlearn: 0.1215241\ttotal: 31.5s\tremaining: 16.5s\n",
      "656:\tlearn: 0.1214678\ttotal: 31.6s\tremaining: 16.5s\n",
      "657:\tlearn: 0.1214454\ttotal: 31.6s\tremaining: 16.4s\n",
      "658:\tlearn: 0.1214067\ttotal: 31.6s\tremaining: 16.4s\n",
      "659:\tlearn: 0.1213583\ttotal: 31.7s\tremaining: 16.3s\n",
      "660:\tlearn: 0.1212655\ttotal: 31.7s\tremaining: 16.3s\n",
      "661:\tlearn: 0.1211959\ttotal: 31.8s\tremaining: 16.2s\n",
      "662:\tlearn: 0.1211763\ttotal: 31.8s\tremaining: 16.2s\n",
      "663:\tlearn: 0.1211336\ttotal: 31.9s\tremaining: 16.1s\n",
      "664:\tlearn: 0.1211217\ttotal: 31.9s\tremaining: 16.1s\n",
      "665:\tlearn: 0.1210817\ttotal: 32s\tremaining: 16s\n",
      "666:\tlearn: 0.1210423\ttotal: 32s\tremaining: 16s\n",
      "667:\tlearn: 0.1210336\ttotal: 32.1s\tremaining: 15.9s\n",
      "668:\tlearn: 0.1210254\ttotal: 32.1s\tremaining: 15.9s\n",
      "669:\tlearn: 0.1209810\ttotal: 32.2s\tremaining: 15.8s\n",
      "670:\tlearn: 0.1209320\ttotal: 32.2s\tremaining: 15.8s\n",
      "671:\tlearn: 0.1209138\ttotal: 32.3s\tremaining: 15.7s\n",
      "672:\tlearn: 0.1208612\ttotal: 32.3s\tremaining: 15.7s\n",
      "673:\tlearn: 0.1207514\ttotal: 32.4s\tremaining: 15.6s\n",
      "674:\tlearn: 0.1207153\ttotal: 32.4s\tremaining: 15.6s\n",
      "675:\tlearn: 0.1206802\ttotal: 32.4s\tremaining: 15.6s\n",
      "676:\tlearn: 0.1206395\ttotal: 32.5s\tremaining: 15.5s\n",
      "677:\tlearn: 0.1206002\ttotal: 32.5s\tremaining: 15.5s\n",
      "678:\tlearn: 0.1205657\ttotal: 32.6s\tremaining: 15.4s\n",
      "679:\tlearn: 0.1205291\ttotal: 32.6s\tremaining: 15.4s\n",
      "680:\tlearn: 0.1204821\ttotal: 32.7s\tremaining: 15.3s\n",
      "681:\tlearn: 0.1204371\ttotal: 32.7s\tremaining: 15.3s\n",
      "682:\tlearn: 0.1203992\ttotal: 32.8s\tremaining: 15.2s\n",
      "683:\tlearn: 0.1202928\ttotal: 32.8s\tremaining: 15.2s\n",
      "684:\tlearn: 0.1202742\ttotal: 32.9s\tremaining: 15.1s\n",
      "685:\tlearn: 0.1202134\ttotal: 32.9s\tremaining: 15.1s\n",
      "686:\tlearn: 0.1201790\ttotal: 33s\tremaining: 15s\n",
      "687:\tlearn: 0.1201432\ttotal: 33s\tremaining: 15s\n",
      "688:\tlearn: 0.1200391\ttotal: 33.1s\tremaining: 14.9s\n",
      "689:\tlearn: 0.1200289\ttotal: 33.1s\tremaining: 14.9s\n",
      "690:\tlearn: 0.1199937\ttotal: 33.2s\tremaining: 14.8s\n",
      "691:\tlearn: 0.1199783\ttotal: 33.2s\tremaining: 14.8s\n",
      "692:\tlearn: 0.1199703\ttotal: 33.3s\tremaining: 14.7s\n",
      "693:\tlearn: 0.1199429\ttotal: 33.3s\tremaining: 14.7s\n",
      "694:\tlearn: 0.1199165\ttotal: 33.4s\tremaining: 14.6s\n",
      "695:\tlearn: 0.1199052\ttotal: 33.4s\tremaining: 14.6s\n",
      "696:\tlearn: 0.1198899\ttotal: 33.4s\tremaining: 14.5s\n",
      "697:\tlearn: 0.1198814\ttotal: 33.5s\tremaining: 14.5s\n",
      "698:\tlearn: 0.1198183\ttotal: 33.5s\tremaining: 14.4s\n",
      "699:\tlearn: 0.1197176\ttotal: 33.6s\tremaining: 14.4s\n",
      "700:\tlearn: 0.1196191\ttotal: 33.6s\tremaining: 14.3s\n",
      "701:\tlearn: 0.1195219\ttotal: 33.7s\tremaining: 14.3s\n",
      "702:\tlearn: 0.1194834\ttotal: 33.7s\tremaining: 14.3s\n",
      "703:\tlearn: 0.1194722\ttotal: 33.8s\tremaining: 14.2s\n",
      "704:\tlearn: 0.1194345\ttotal: 33.8s\tremaining: 14.2s\n",
      "705:\tlearn: 0.1193981\ttotal: 33.9s\tremaining: 14.1s\n",
      "706:\tlearn: 0.1193027\ttotal: 33.9s\tremaining: 14.1s\n",
      "707:\tlearn: 0.1192699\ttotal: 34s\tremaining: 14s\n",
      "708:\tlearn: 0.1192603\ttotal: 34s\tremaining: 14s\n",
      "709:\tlearn: 0.1192248\ttotal: 34.1s\tremaining: 13.9s\n",
      "710:\tlearn: 0.1191926\ttotal: 34.1s\tremaining: 13.9s\n",
      "711:\tlearn: 0.1190994\ttotal: 34.2s\tremaining: 13.8s\n",
      "712:\tlearn: 0.1190870\ttotal: 34.3s\tremaining: 13.8s\n",
      "713:\tlearn: 0.1190329\ttotal: 34.3s\tremaining: 13.7s\n",
      "714:\tlearn: 0.1189864\ttotal: 34.3s\tremaining: 13.7s\n",
      "715:\tlearn: 0.1189598\ttotal: 34.4s\tremaining: 13.6s\n",
      "716:\tlearn: 0.1189316\ttotal: 34.4s\tremaining: 13.6s\n",
      "717:\tlearn: 0.1189254\ttotal: 34.5s\tremaining: 13.5s\n",
      "718:\tlearn: 0.1188952\ttotal: 34.5s\tremaining: 13.5s\n",
      "719:\tlearn: 0.1188547\ttotal: 34.6s\tremaining: 13.4s\n",
      "720:\tlearn: 0.1187980\ttotal: 34.6s\tremaining: 13.4s\n",
      "721:\tlearn: 0.1187867\ttotal: 34.7s\tremaining: 13.4s\n",
      "722:\tlearn: 0.1187707\ttotal: 34.7s\tremaining: 13.3s\n",
      "723:\tlearn: 0.1187415\ttotal: 34.8s\tremaining: 13.3s\n",
      "724:\tlearn: 0.1187319\ttotal: 34.8s\tremaining: 13.2s\n",
      "725:\tlearn: 0.1187259\ttotal: 34.9s\tremaining: 13.2s\n",
      "726:\tlearn: 0.1186738\ttotal: 34.9s\tremaining: 13.1s\n",
      "727:\tlearn: 0.1186625\ttotal: 35s\tremaining: 13.1s\n",
      "728:\tlearn: 0.1186266\ttotal: 35s\tremaining: 13s\n",
      "729:\tlearn: 0.1185975\ttotal: 35.1s\tremaining: 13s\n",
      "730:\tlearn: 0.1185302\ttotal: 35.1s\tremaining: 12.9s\n",
      "731:\tlearn: 0.1184960\ttotal: 35.2s\tremaining: 12.9s\n",
      "732:\tlearn: 0.1184692\ttotal: 35.2s\tremaining: 12.8s\n",
      "733:\tlearn: 0.1184148\ttotal: 35.3s\tremaining: 12.8s\n",
      "734:\tlearn: 0.1183866\ttotal: 35.3s\tremaining: 12.7s\n",
      "735:\tlearn: 0.1183526\ttotal: 35.4s\tremaining: 12.7s\n",
      "736:\tlearn: 0.1183345\ttotal: 35.4s\tremaining: 12.6s\n",
      "737:\tlearn: 0.1182457\ttotal: 35.5s\tremaining: 12.6s\n",
      "738:\tlearn: 0.1181930\ttotal: 35.5s\tremaining: 12.5s\n",
      "739:\tlearn: 0.1181414\ttotal: 35.6s\tremaining: 12.5s\n",
      "740:\tlearn: 0.1181117\ttotal: 35.6s\tremaining: 12.4s\n",
      "741:\tlearn: 0.1181030\ttotal: 35.6s\tremaining: 12.4s\n",
      "742:\tlearn: 0.1180757\ttotal: 35.7s\tremaining: 12.3s\n",
      "743:\tlearn: 0.1180481\ttotal: 35.7s\tremaining: 12.3s\n",
      "744:\tlearn: 0.1180211\ttotal: 35.8s\tremaining: 12.3s\n",
      "745:\tlearn: 0.1179906\ttotal: 35.9s\tremaining: 12.2s\n",
      "746:\tlearn: 0.1179046\ttotal: 35.9s\tremaining: 12.2s\n",
      "747:\tlearn: 0.1178787\ttotal: 36s\tremaining: 12.1s\n",
      "748:\tlearn: 0.1178531\ttotal: 36s\tremaining: 12.1s\n",
      "749:\tlearn: 0.1178071\ttotal: 36.1s\tremaining: 12s\n",
      "750:\tlearn: 0.1177916\ttotal: 36.1s\tremaining: 12s\n",
      "751:\tlearn: 0.1177471\ttotal: 36.2s\tremaining: 11.9s\n",
      "752:\tlearn: 0.1177404\ttotal: 36.2s\tremaining: 11.9s\n",
      "753:\tlearn: 0.1177281\ttotal: 36.3s\tremaining: 11.8s\n",
      "754:\tlearn: 0.1177064\ttotal: 36.3s\tremaining: 11.8s\n",
      "755:\tlearn: 0.1176790\ttotal: 36.4s\tremaining: 11.7s\n",
      "756:\tlearn: 0.1176526\ttotal: 36.4s\tremaining: 11.7s\n",
      "757:\tlearn: 0.1176331\ttotal: 36.5s\tremaining: 11.6s\n",
      "758:\tlearn: 0.1176217\ttotal: 36.5s\tremaining: 11.6s\n",
      "759:\tlearn: 0.1176030\ttotal: 36.6s\tremaining: 11.5s\n",
      "760:\tlearn: 0.1175686\ttotal: 36.6s\tremaining: 11.5s\n",
      "761:\tlearn: 0.1174854\ttotal: 36.6s\tremaining: 11.4s\n",
      "762:\tlearn: 0.1174739\ttotal: 36.7s\tremaining: 11.4s\n",
      "763:\tlearn: 0.1174208\ttotal: 36.7s\tremaining: 11.3s\n",
      "764:\tlearn: 0.1173946\ttotal: 36.8s\tremaining: 11.3s\n",
      "765:\tlearn: 0.1173695\ttotal: 36.8s\tremaining: 11.3s\n",
      "766:\tlearn: 0.1173320\ttotal: 36.9s\tremaining: 11.2s\n",
      "767:\tlearn: 0.1173001\ttotal: 36.9s\tremaining: 11.2s\n",
      "768:\tlearn: 0.1172737\ttotal: 37s\tremaining: 11.1s\n",
      "769:\tlearn: 0.1172385\ttotal: 37s\tremaining: 11.1s\n",
      "770:\tlearn: 0.1172119\ttotal: 37.1s\tremaining: 11s\n",
      "771:\tlearn: 0.1171892\ttotal: 37.1s\tremaining: 11s\n",
      "772:\tlearn: 0.1171800\ttotal: 37.2s\tremaining: 10.9s\n",
      "773:\tlearn: 0.1171451\ttotal: 37.2s\tremaining: 10.9s\n",
      "774:\tlearn: 0.1170946\ttotal: 37.3s\tremaining: 10.8s\n",
      "775:\tlearn: 0.1170630\ttotal: 37.3s\tremaining: 10.8s\n",
      "776:\tlearn: 0.1170407\ttotal: 37.4s\tremaining: 10.7s\n",
      "777:\tlearn: 0.1170107\ttotal: 37.4s\tremaining: 10.7s\n",
      "778:\tlearn: 0.1169952\ttotal: 37.5s\tremaining: 10.6s\n",
      "779:\tlearn: 0.1169540\ttotal: 37.5s\tremaining: 10.6s\n",
      "780:\tlearn: 0.1169487\ttotal: 37.5s\tremaining: 10.5s\n",
      "781:\tlearn: 0.1169183\ttotal: 37.6s\tremaining: 10.5s\n",
      "782:\tlearn: 0.1168995\ttotal: 37.6s\tremaining: 10.4s\n",
      "783:\tlearn: 0.1168271\ttotal: 37.7s\tremaining: 10.4s\n",
      "784:\tlearn: 0.1168063\ttotal: 37.7s\tremaining: 10.3s\n",
      "785:\tlearn: 0.1167860\ttotal: 37.8s\tremaining: 10.3s\n",
      "786:\tlearn: 0.1167583\ttotal: 37.8s\tremaining: 10.2s\n",
      "787:\tlearn: 0.1167098\ttotal: 37.9s\tremaining: 10.2s\n",
      "788:\tlearn: 0.1166443\ttotal: 37.9s\tremaining: 10.1s\n",
      "789:\tlearn: 0.1165670\ttotal: 38s\tremaining: 10.1s\n",
      "790:\tlearn: 0.1165532\ttotal: 38s\tremaining: 10s\n",
      "791:\tlearn: 0.1165056\ttotal: 38.1s\tremaining: 9.99s\n",
      "792:\tlearn: 0.1164671\ttotal: 38.1s\tremaining: 9.95s\n",
      "793:\tlearn: 0.1164214\ttotal: 38.2s\tremaining: 9.9s\n",
      "794:\tlearn: 0.1163459\ttotal: 38.2s\tremaining: 9.85s\n",
      "795:\tlearn: 0.1163260\ttotal: 38.3s\tremaining: 9.8s\n",
      "796:\tlearn: 0.1162632\ttotal: 38.3s\tremaining: 9.76s\n",
      "797:\tlearn: 0.1162261\ttotal: 38.4s\tremaining: 9.71s\n",
      "798:\tlearn: 0.1162141\ttotal: 38.4s\tremaining: 9.66s\n",
      "799:\tlearn: 0.1161772\ttotal: 38.5s\tremaining: 9.62s\n",
      "800:\tlearn: 0.1161586\ttotal: 38.5s\tremaining: 9.57s\n",
      "801:\tlearn: 0.1161481\ttotal: 38.6s\tremaining: 9.52s\n",
      "802:\tlearn: 0.1161283\ttotal: 38.6s\tremaining: 9.47s\n",
      "803:\tlearn: 0.1160952\ttotal: 38.7s\tremaining: 9.42s\n",
      "804:\tlearn: 0.1160762\ttotal: 38.7s\tremaining: 9.38s\n",
      "805:\tlearn: 0.1160601\ttotal: 38.8s\tremaining: 9.33s\n",
      "806:\tlearn: 0.1160455\ttotal: 38.8s\tremaining: 9.28s\n",
      "807:\tlearn: 0.1160376\ttotal: 38.9s\tremaining: 9.23s\n",
      "808:\tlearn: 0.1159994\ttotal: 38.9s\tremaining: 9.19s\n"
     ]
    },
    {
     "name": "stdout",
     "output_type": "stream",
     "text": [
      "809:\tlearn: 0.1159663\ttotal: 39s\tremaining: 9.14s\n",
      "810:\tlearn: 0.1159227\ttotal: 39s\tremaining: 9.09s\n",
      "811:\tlearn: 0.1158907\ttotal: 39.1s\tremaining: 9.04s\n",
      "812:\tlearn: 0.1158696\ttotal: 39.1s\tremaining: 8.99s\n",
      "813:\tlearn: 0.1158394\ttotal: 39.2s\tremaining: 8.95s\n",
      "814:\tlearn: 0.1158055\ttotal: 39.2s\tremaining: 8.9s\n",
      "815:\tlearn: 0.1157850\ttotal: 39.3s\tremaining: 8.85s\n",
      "816:\tlearn: 0.1157539\ttotal: 39.3s\tremaining: 8.81s\n",
      "817:\tlearn: 0.1157124\ttotal: 39.4s\tremaining: 8.76s\n",
      "818:\tlearn: 0.1156405\ttotal: 39.4s\tremaining: 8.71s\n",
      "819:\tlearn: 0.1156260\ttotal: 39.5s\tremaining: 8.66s\n",
      "820:\tlearn: 0.1155959\ttotal: 39.5s\tremaining: 8.62s\n",
      "821:\tlearn: 0.1155875\ttotal: 39.6s\tremaining: 8.57s\n",
      "822:\tlearn: 0.1155578\ttotal: 39.6s\tremaining: 8.52s\n",
      "823:\tlearn: 0.1155322\ttotal: 39.7s\tremaining: 8.48s\n",
      "824:\tlearn: 0.1154955\ttotal: 39.7s\tremaining: 8.43s\n",
      "825:\tlearn: 0.1154749\ttotal: 39.8s\tremaining: 8.38s\n",
      "826:\tlearn: 0.1154105\ttotal: 39.8s\tremaining: 8.33s\n",
      "827:\tlearn: 0.1153872\ttotal: 39.9s\tremaining: 8.29s\n",
      "828:\tlearn: 0.1153421\ttotal: 39.9s\tremaining: 8.24s\n",
      "829:\tlearn: 0.1152816\ttotal: 40s\tremaining: 8.19s\n",
      "830:\tlearn: 0.1152644\ttotal: 40s\tremaining: 8.14s\n",
      "831:\tlearn: 0.1152280\ttotal: 40.1s\tremaining: 8.1s\n",
      "832:\tlearn: 0.1151885\ttotal: 40.1s\tremaining: 8.05s\n",
      "833:\tlearn: 0.1151640\ttotal: 40.2s\tremaining: 8s\n",
      "834:\tlearn: 0.1151535\ttotal: 40.3s\tremaining: 7.96s\n",
      "835:\tlearn: 0.1151450\ttotal: 40.3s\tremaining: 7.91s\n",
      "836:\tlearn: 0.1151100\ttotal: 40.4s\tremaining: 7.86s\n",
      "837:\tlearn: 0.1150915\ttotal: 40.4s\tremaining: 7.81s\n",
      "838:\tlearn: 0.1150636\ttotal: 40.4s\tremaining: 7.76s\n",
      "839:\tlearn: 0.1150365\ttotal: 40.5s\tremaining: 7.71s\n",
      "840:\tlearn: 0.1150015\ttotal: 40.5s\tremaining: 7.67s\n",
      "841:\tlearn: 0.1149931\ttotal: 40.6s\tremaining: 7.62s\n",
      "842:\tlearn: 0.1149773\ttotal: 40.6s\tremaining: 7.57s\n",
      "843:\tlearn: 0.1149075\ttotal: 40.7s\tremaining: 7.52s\n",
      "844:\tlearn: 0.1148842\ttotal: 40.8s\tremaining: 7.48s\n",
      "845:\tlearn: 0.1148633\ttotal: 40.8s\tremaining: 7.43s\n",
      "846:\tlearn: 0.1148530\ttotal: 40.9s\tremaining: 7.38s\n",
      "847:\tlearn: 0.1148228\ttotal: 40.9s\tremaining: 7.33s\n",
      "848:\tlearn: 0.1147851\ttotal: 41s\tremaining: 7.29s\n",
      "849:\tlearn: 0.1147613\ttotal: 41s\tremaining: 7.24s\n",
      "850:\tlearn: 0.1147509\ttotal: 41.1s\tremaining: 7.19s\n",
      "851:\tlearn: 0.1147177\ttotal: 41.1s\tremaining: 7.14s\n",
      "852:\tlearn: 0.1147069\ttotal: 41.2s\tremaining: 7.09s\n",
      "853:\tlearn: 0.1146998\ttotal: 41.2s\tremaining: 7.05s\n",
      "854:\tlearn: 0.1146657\ttotal: 41.3s\tremaining: 7s\n",
      "855:\tlearn: 0.1146549\ttotal: 41.3s\tremaining: 6.95s\n",
      "856:\tlearn: 0.1146458\ttotal: 41.4s\tremaining: 6.9s\n",
      "857:\tlearn: 0.1146149\ttotal: 41.4s\tremaining: 6.86s\n",
      "858:\tlearn: 0.1145783\ttotal: 41.5s\tremaining: 6.81s\n",
      "859:\tlearn: 0.1145627\ttotal: 41.5s\tremaining: 6.76s\n",
      "860:\tlearn: 0.1144978\ttotal: 41.6s\tremaining: 6.72s\n",
      "861:\tlearn: 0.1144634\ttotal: 41.7s\tremaining: 6.67s\n",
      "862:\tlearn: 0.1144378\ttotal: 41.7s\tremaining: 6.62s\n",
      "863:\tlearn: 0.1144130\ttotal: 41.8s\tremaining: 6.58s\n",
      "864:\tlearn: 0.1143967\ttotal: 41.8s\tremaining: 6.53s\n",
      "865:\tlearn: 0.1143497\ttotal: 41.9s\tremaining: 6.48s\n",
      "866:\tlearn: 0.1143256\ttotal: 41.9s\tremaining: 6.43s\n",
      "867:\tlearn: 0.1143087\ttotal: 42s\tremaining: 6.38s\n",
      "868:\tlearn: 0.1142745\ttotal: 42s\tremaining: 6.33s\n",
      "869:\tlearn: 0.1142589\ttotal: 42.1s\tremaining: 6.29s\n",
      "870:\tlearn: 0.1142499\ttotal: 42.1s\tremaining: 6.24s\n",
      "871:\tlearn: 0.1142300\ttotal: 42.2s\tremaining: 6.19s\n",
      "872:\tlearn: 0.1142129\ttotal: 42.2s\tremaining: 6.14s\n",
      "873:\tlearn: 0.1141569\ttotal: 42.3s\tremaining: 6.09s\n",
      "874:\tlearn: 0.1141410\ttotal: 42.3s\tremaining: 6.05s\n",
      "875:\tlearn: 0.1141216\ttotal: 42.4s\tremaining: 6s\n",
      "876:\tlearn: 0.1140801\ttotal: 42.4s\tremaining: 5.95s\n",
      "877:\tlearn: 0.1140648\ttotal: 42.5s\tremaining: 5.9s\n",
      "878:\tlearn: 0.1140567\ttotal: 42.5s\tremaining: 5.86s\n",
      "879:\tlearn: 0.1140487\ttotal: 42.6s\tremaining: 5.81s\n",
      "880:\tlearn: 0.1140288\ttotal: 42.6s\tremaining: 5.76s\n",
      "881:\tlearn: 0.1139758\ttotal: 42.7s\tremaining: 5.71s\n",
      "882:\tlearn: 0.1139548\ttotal: 42.7s\tremaining: 5.66s\n",
      "883:\tlearn: 0.1139311\ttotal: 42.8s\tremaining: 5.61s\n",
      "884:\tlearn: 0.1139034\ttotal: 42.8s\tremaining: 5.57s\n",
      "885:\tlearn: 0.1138686\ttotal: 42.9s\tremaining: 5.52s\n",
      "886:\tlearn: 0.1138379\ttotal: 42.9s\tremaining: 5.47s\n",
      "887:\tlearn: 0.1138140\ttotal: 43s\tremaining: 5.42s\n",
      "888:\tlearn: 0.1137803\ttotal: 43s\tremaining: 5.37s\n",
      "889:\tlearn: 0.1137472\ttotal: 43.1s\tremaining: 5.32s\n",
      "890:\tlearn: 0.1137343\ttotal: 43.1s\tremaining: 5.28s\n",
      "891:\tlearn: 0.1136872\ttotal: 43.2s\tremaining: 5.23s\n",
      "892:\tlearn: 0.1136587\ttotal: 43.2s\tremaining: 5.18s\n",
      "893:\tlearn: 0.1136280\ttotal: 43.3s\tremaining: 5.13s\n",
      "894:\tlearn: 0.1136201\ttotal: 43.3s\tremaining: 5.08s\n",
      "895:\tlearn: 0.1136088\ttotal: 43.4s\tremaining: 5.03s\n",
      "896:\tlearn: 0.1135882\ttotal: 43.4s\tremaining: 4.99s\n",
      "897:\tlearn: 0.1135703\ttotal: 43.5s\tremaining: 4.94s\n",
      "898:\tlearn: 0.1135403\ttotal: 43.5s\tremaining: 4.89s\n",
      "899:\tlearn: 0.1135103\ttotal: 43.6s\tremaining: 4.84s\n",
      "900:\tlearn: 0.1134782\ttotal: 43.6s\tremaining: 4.79s\n",
      "901:\tlearn: 0.1134626\ttotal: 43.7s\tremaining: 4.75s\n",
      "902:\tlearn: 0.1134476\ttotal: 43.7s\tremaining: 4.7s\n",
      "903:\tlearn: 0.1134258\ttotal: 43.8s\tremaining: 4.65s\n",
      "904:\tlearn: 0.1134141\ttotal: 43.8s\tremaining: 4.6s\n",
      "905:\tlearn: 0.1133846\ttotal: 43.9s\tremaining: 4.55s\n",
      "906:\tlearn: 0.1133233\ttotal: 44s\tremaining: 4.51s\n",
      "907:\tlearn: 0.1132922\ttotal: 44s\tremaining: 4.46s\n",
      "908:\tlearn: 0.1132707\ttotal: 44.1s\tremaining: 4.41s\n",
      "909:\tlearn: 0.1132619\ttotal: 44.1s\tremaining: 4.36s\n",
      "910:\tlearn: 0.1132425\ttotal: 44.2s\tremaining: 4.32s\n",
      "911:\tlearn: 0.1132127\ttotal: 44.2s\tremaining: 4.27s\n",
      "912:\tlearn: 0.1131951\ttotal: 44.3s\tremaining: 4.22s\n",
      "913:\tlearn: 0.1131848\ttotal: 44.3s\tremaining: 4.17s\n",
      "914:\tlearn: 0.1131672\ttotal: 44.4s\tremaining: 4.12s\n",
      "915:\tlearn: 0.1131379\ttotal: 44.4s\tremaining: 4.07s\n",
      "916:\tlearn: 0.1131159\ttotal: 44.5s\tremaining: 4.03s\n",
      "917:\tlearn: 0.1130977\ttotal: 44.5s\tremaining: 3.98s\n",
      "918:\tlearn: 0.1130485\ttotal: 44.6s\tremaining: 3.93s\n",
      "919:\tlearn: 0.1130380\ttotal: 44.7s\tremaining: 3.88s\n",
      "920:\tlearn: 0.1130155\ttotal: 44.7s\tremaining: 3.83s\n",
      "921:\tlearn: 0.1129897\ttotal: 44.8s\tremaining: 3.79s\n",
      "922:\tlearn: 0.1129683\ttotal: 44.8s\tremaining: 3.74s\n",
      "923:\tlearn: 0.1129610\ttotal: 44.9s\tremaining: 3.69s\n",
      "924:\tlearn: 0.1129548\ttotal: 44.9s\tremaining: 3.64s\n",
      "925:\tlearn: 0.1129234\ttotal: 45s\tremaining: 3.6s\n",
      "926:\tlearn: 0.1128948\ttotal: 45s\tremaining: 3.55s\n",
      "927:\tlearn: 0.1128366\ttotal: 45.1s\tremaining: 3.5s\n",
      "928:\tlearn: 0.1128175\ttotal: 45.2s\tremaining: 3.45s\n",
      "929:\tlearn: 0.1127887\ttotal: 45.2s\tremaining: 3.4s\n",
      "930:\tlearn: 0.1127782\ttotal: 45.3s\tremaining: 3.35s\n",
      "931:\tlearn: 0.1127570\ttotal: 45.3s\tremaining: 3.31s\n",
      "932:\tlearn: 0.1127462\ttotal: 45.4s\tremaining: 3.26s\n",
      "933:\tlearn: 0.1127189\ttotal: 45.4s\tremaining: 3.21s\n",
      "934:\tlearn: 0.1127052\ttotal: 45.5s\tremaining: 3.16s\n",
      "935:\tlearn: 0.1126899\ttotal: 45.5s\tremaining: 3.11s\n",
      "936:\tlearn: 0.1126709\ttotal: 45.6s\tremaining: 3.06s\n",
      "937:\tlearn: 0.1126427\ttotal: 45.6s\tremaining: 3.02s\n",
      "938:\tlearn: 0.1125929\ttotal: 45.7s\tremaining: 2.97s\n",
      "939:\tlearn: 0.1125766\ttotal: 45.7s\tremaining: 2.92s\n",
      "940:\tlearn: 0.1125543\ttotal: 45.8s\tremaining: 2.87s\n",
      "941:\tlearn: 0.1125121\ttotal: 45.8s\tremaining: 2.82s\n",
      "942:\tlearn: 0.1124751\ttotal: 45.9s\tremaining: 2.77s\n",
      "943:\tlearn: 0.1124399\ttotal: 45.9s\tremaining: 2.73s\n",
      "944:\tlearn: 0.1123888\ttotal: 46s\tremaining: 2.68s\n",
      "945:\tlearn: 0.1123689\ttotal: 46s\tremaining: 2.63s\n",
      "946:\tlearn: 0.1123316\ttotal: 46.1s\tremaining: 2.58s\n",
      "947:\tlearn: 0.1123129\ttotal: 46.1s\tremaining: 2.53s\n",
      "948:\tlearn: 0.1122932\ttotal: 46.2s\tremaining: 2.48s\n",
      "949:\tlearn: 0.1122665\ttotal: 46.2s\tremaining: 2.43s\n",
      "950:\tlearn: 0.1122548\ttotal: 46.3s\tremaining: 2.38s\n",
      "951:\tlearn: 0.1122372\ttotal: 46.4s\tremaining: 2.34s\n",
      "952:\tlearn: 0.1121935\ttotal: 46.4s\tremaining: 2.29s\n",
      "953:\tlearn: 0.1121419\ttotal: 46.4s\tremaining: 2.24s\n",
      "954:\tlearn: 0.1121331\ttotal: 46.5s\tremaining: 2.19s\n",
      "955:\tlearn: 0.1121056\ttotal: 46.5s\tremaining: 2.14s\n",
      "956:\tlearn: 0.1120550\ttotal: 46.6s\tremaining: 2.09s\n",
      "957:\tlearn: 0.1120467\ttotal: 46.6s\tremaining: 2.04s\n",
      "958:\tlearn: 0.1120351\ttotal: 46.7s\tremaining: 2s\n",
      "959:\tlearn: 0.1120165\ttotal: 46.8s\tremaining: 1.95s\n",
      "960:\tlearn: 0.1120058\ttotal: 46.8s\tremaining: 1.9s\n",
      "961:\tlearn: 0.1119832\ttotal: 46.9s\tremaining: 1.85s\n",
      "962:\tlearn: 0.1119661\ttotal: 46.9s\tremaining: 1.8s\n",
      "963:\tlearn: 0.1119467\ttotal: 47s\tremaining: 1.75s\n",
      "964:\tlearn: 0.1119298\ttotal: 47s\tremaining: 1.71s\n",
      "965:\tlearn: 0.1119196\ttotal: 47.1s\tremaining: 1.66s\n",
      "966:\tlearn: 0.1118966\ttotal: 47.1s\tremaining: 1.61s\n",
      "967:\tlearn: 0.1118844\ttotal: 47.2s\tremaining: 1.56s\n",
      "968:\tlearn: 0.1118759\ttotal: 47.3s\tremaining: 1.51s\n"
     ]
    },
    {
     "name": "stdout",
     "output_type": "stream",
     "text": [
      "969:\tlearn: 0.1118658\ttotal: 47.3s\tremaining: 1.46s\n",
      "970:\tlearn: 0.1118504\ttotal: 47.4s\tremaining: 1.41s\n",
      "971:\tlearn: 0.1118234\ttotal: 47.4s\tremaining: 1.36s\n",
      "972:\tlearn: 0.1117969\ttotal: 47.5s\tremaining: 1.32s\n",
      "973:\tlearn: 0.1117881\ttotal: 47.5s\tremaining: 1.27s\n",
      "974:\tlearn: 0.1117657\ttotal: 47.6s\tremaining: 1.22s\n",
      "975:\tlearn: 0.1117534\ttotal: 47.6s\tremaining: 1.17s\n",
      "976:\tlearn: 0.1117357\ttotal: 47.7s\tremaining: 1.12s\n",
      "977:\tlearn: 0.1117172\ttotal: 47.7s\tremaining: 1.07s\n",
      "978:\tlearn: 0.1117103\ttotal: 47.8s\tremaining: 1.02s\n",
      "979:\tlearn: 0.1116738\ttotal: 47.8s\tremaining: 976ms\n",
      "980:\tlearn: 0.1116605\ttotal: 47.9s\tremaining: 927ms\n",
      "981:\tlearn: 0.1116368\ttotal: 47.9s\tremaining: 878ms\n",
      "982:\tlearn: 0.1116137\ttotal: 48s\tremaining: 829ms\n",
      "983:\tlearn: 0.1115968\ttotal: 48s\tremaining: 781ms\n",
      "984:\tlearn: 0.1115851\ttotal: 48.1s\tremaining: 732ms\n",
      "985:\tlearn: 0.1115591\ttotal: 48.1s\tremaining: 683ms\n",
      "986:\tlearn: 0.1115506\ttotal: 48.2s\tremaining: 634ms\n",
      "987:\tlearn: 0.1115461\ttotal: 48.2s\tremaining: 585ms\n",
      "988:\tlearn: 0.1115206\ttotal: 48.3s\tremaining: 537ms\n",
      "989:\tlearn: 0.1115097\ttotal: 48.3s\tremaining: 488ms\n",
      "990:\tlearn: 0.1114910\ttotal: 48.4s\tremaining: 439ms\n",
      "991:\tlearn: 0.1114744\ttotal: 48.4s\tremaining: 390ms\n",
      "992:\tlearn: 0.1114468\ttotal: 48.5s\tremaining: 342ms\n",
      "993:\tlearn: 0.1114267\ttotal: 48.5s\tremaining: 293ms\n",
      "994:\tlearn: 0.1114197\ttotal: 48.6s\tremaining: 244ms\n",
      "995:\tlearn: 0.1114044\ttotal: 48.6s\tremaining: 195ms\n",
      "996:\tlearn: 0.1113858\ttotal: 48.7s\tremaining: 146ms\n",
      "997:\tlearn: 0.1113685\ttotal: 48.7s\tremaining: 97.6ms\n",
      "998:\tlearn: 0.1113543\ttotal: 48.8s\tremaining: 48.8ms\n",
      "999:\tlearn: 0.1113327\ttotal: 48.8s\tremaining: 0us\n"
     ]
    },
    {
     "data": {
      "text/plain": [
       "<catboost.core.CatBoostRegressor at 0x25eaaf54808>"
      ]
     },
     "execution_count": 165,
     "metadata": {},
     "output_type": "execute_result"
    }
   ],
   "source": [
    "boost.fit(X_train,y_train)"
   ]
  },
  {
   "cell_type": "code",
   "execution_count": 166,
   "metadata": {},
   "outputs": [],
   "source": [
    "y_train_pred=boost.predict(X_train)\n",
    "y_test_pred=boost.predict(test)"
   ]
  },
  {
   "cell_type": "code",
   "execution_count": 167,
   "metadata": {},
   "outputs": [
    {
     "data": {
      "text/plain": [
       "111.33271193869358"
      ]
     },
     "execution_count": 167,
     "metadata": {},
     "output_type": "execute_result"
    }
   ],
   "source": [
    "1000*np.sqrt(mean_squared_error(y_train,y_train_pred))"
   ]
  },
  {
   "cell_type": "code",
   "execution_count": 168,
   "metadata": {},
   "outputs": [],
   "source": [
    "export_submission(y_test_pred,\"Boost Cat 0.01\")"
   ]
  },
  {
   "cell_type": "code",
   "execution_count": null,
   "metadata": {},
   "outputs": [],
   "source": []
  },
  {
   "cell_type": "code",
   "execution_count": null,
   "metadata": {},
   "outputs": [],
   "source": []
  },
  {
   "cell_type": "code",
   "execution_count": 46,
   "metadata": {},
   "outputs": [],
   "source": [
    "parameters={'learning_rate':np.arange(0.01,0.1,0.01)}"
   ]
  },
  {
   "cell_type": "code",
   "execution_count": 47,
   "metadata": {},
   "outputs": [],
   "source": [
    "search=GridSearchCV(CatBoostRegressor(),parameters,scoring='neg_mean_squared_error',cv=5,verbose=2,n_jobs=10)"
   ]
  },
  {
   "cell_type": "code",
   "execution_count": 48,
   "metadata": {},
   "outputs": [
    {
     "name": "stdout",
     "output_type": "stream",
     "text": [
      "Fitting 5 folds for each of 9 candidates, totalling 45 fits\n"
     ]
    },
    {
     "name": "stderr",
     "output_type": "stream",
     "text": [
      "[Parallel(n_jobs=10)]: Using backend LokyBackend with 10 concurrent workers.\n",
      "[Parallel(n_jobs=10)]: Done  21 tasks      | elapsed: 14.9min\n",
      "[Parallel(n_jobs=10)]: Done  45 out of  45 | elapsed: 23.2min finished\n"
     ]
    },
    {
     "name": "stdout",
     "output_type": "stream",
     "text": [
      "0:\tlearn: 0.4581315\ttotal: 41.1ms\tremaining: 41s\n",
      "1:\tlearn: 0.4549662\ttotal: 81.9ms\tremaining: 40.9s\n",
      "2:\tlearn: 0.4518408\ttotal: 124ms\tremaining: 41.3s\n",
      "3:\tlearn: 0.4487626\ttotal: 165ms\tremaining: 41.1s\n",
      "4:\tlearn: 0.4457285\ttotal: 202ms\tremaining: 40.3s\n",
      "5:\tlearn: 0.4427298\ttotal: 239ms\tremaining: 39.7s\n",
      "6:\tlearn: 0.4397585\ttotal: 279ms\tremaining: 39.6s\n",
      "7:\tlearn: 0.4368247\ttotal: 320ms\tremaining: 39.6s\n",
      "8:\tlearn: 0.4339013\ttotal: 358ms\tremaining: 39.4s\n",
      "9:\tlearn: 0.4310652\ttotal: 400ms\tremaining: 39.6s\n",
      "10:\tlearn: 0.4282187\ttotal: 440ms\tremaining: 39.6s\n",
      "11:\tlearn: 0.4254297\ttotal: 484ms\tremaining: 39.8s\n",
      "12:\tlearn: 0.4226888\ttotal: 523ms\tremaining: 39.7s\n",
      "13:\tlearn: 0.4199831\ttotal: 563ms\tremaining: 39.7s\n",
      "14:\tlearn: 0.4173058\ttotal: 604ms\tremaining: 39.7s\n",
      "15:\tlearn: 0.4146414\ttotal: 642ms\tremaining: 39.5s\n",
      "16:\tlearn: 0.4120248\ttotal: 685ms\tremaining: 39.6s\n",
      "17:\tlearn: 0.4094287\ttotal: 725ms\tremaining: 39.5s\n",
      "18:\tlearn: 0.4068415\ttotal: 763ms\tremaining: 39.4s\n",
      "19:\tlearn: 0.4043302\ttotal: 801ms\tremaining: 39.3s\n",
      "20:\tlearn: 0.4018176\ttotal: 839ms\tremaining: 39.1s\n",
      "21:\tlearn: 0.3993394\ttotal: 880ms\tremaining: 39.1s\n",
      "22:\tlearn: 0.3968977\ttotal: 917ms\tremaining: 39s\n",
      "23:\tlearn: 0.3944945\ttotal: 955ms\tremaining: 38.8s\n",
      "24:\tlearn: 0.3921242\ttotal: 994ms\tremaining: 38.8s\n",
      "25:\tlearn: 0.3897632\ttotal: 1.03s\tremaining: 38.7s\n",
      "26:\tlearn: 0.3874590\ttotal: 1.07s\tremaining: 38.7s\n",
      "27:\tlearn: 0.3851723\ttotal: 1.11s\tremaining: 38.7s\n",
      "28:\tlearn: 0.3829132\ttotal: 1.15s\tremaining: 38.7s\n",
      "29:\tlearn: 0.3806870\ttotal: 1.19s\tremaining: 38.6s\n",
      "30:\tlearn: 0.3784883\ttotal: 1.24s\tremaining: 38.6s\n",
      "31:\tlearn: 0.3763173\ttotal: 1.28s\tremaining: 38.7s\n",
      "32:\tlearn: 0.3741824\ttotal: 1.32s\tremaining: 38.8s\n",
      "33:\tlearn: 0.3720566\ttotal: 1.36s\tremaining: 38.8s\n",
      "34:\tlearn: 0.3699887\ttotal: 1.41s\tremaining: 38.8s\n",
      "35:\tlearn: 0.3679215\ttotal: 1.45s\tremaining: 38.8s\n",
      "36:\tlearn: 0.3658981\ttotal: 1.49s\tremaining: 38.9s\n",
      "37:\tlearn: 0.3638889\ttotal: 1.54s\tremaining: 39s\n",
      "38:\tlearn: 0.3619258\ttotal: 1.58s\tremaining: 39s\n",
      "39:\tlearn: 0.3599740\ttotal: 1.62s\tremaining: 38.8s\n",
      "40:\tlearn: 0.3580382\ttotal: 1.65s\tremaining: 38.7s\n",
      "41:\tlearn: 0.3561350\ttotal: 1.7s\tremaining: 38.7s\n",
      "42:\tlearn: 0.3542670\ttotal: 1.74s\tremaining: 38.7s\n",
      "43:\tlearn: 0.3523965\ttotal: 1.78s\tremaining: 38.6s\n",
      "44:\tlearn: 0.3505659\ttotal: 1.82s\tremaining: 38.6s\n",
      "45:\tlearn: 0.3487651\ttotal: 1.86s\tremaining: 38.6s\n",
      "46:\tlearn: 0.3469826\ttotal: 1.91s\tremaining: 38.6s\n",
      "47:\tlearn: 0.3452100\ttotal: 1.95s\tremaining: 38.7s\n",
      "48:\tlearn: 0.3434673\ttotal: 1.99s\tremaining: 38.6s\n",
      "49:\tlearn: 0.3417484\ttotal: 2.03s\tremaining: 38.6s\n",
      "50:\tlearn: 0.3400959\ttotal: 2.07s\tremaining: 38.5s\n",
      "51:\tlearn: 0.3384340\ttotal: 2.11s\tremaining: 38.5s\n",
      "52:\tlearn: 0.3367832\ttotal: 2.15s\tremaining: 38.5s\n",
      "53:\tlearn: 0.3351525\ttotal: 2.19s\tremaining: 38.5s\n",
      "54:\tlearn: 0.3335590\ttotal: 2.23s\tremaining: 38.4s\n",
      "55:\tlearn: 0.3319936\ttotal: 2.27s\tremaining: 38.3s\n",
      "56:\tlearn: 0.3304491\ttotal: 2.31s\tremaining: 38.3s\n",
      "57:\tlearn: 0.3289201\ttotal: 2.35s\tremaining: 38.2s\n",
      "58:\tlearn: 0.3274058\ttotal: 2.39s\tremaining: 38.1s\n",
      "59:\tlearn: 0.3259149\ttotal: 2.43s\tremaining: 38s\n",
      "60:\tlearn: 0.3244632\ttotal: 2.46s\tremaining: 38s\n",
      "61:\tlearn: 0.3230187\ttotal: 2.5s\tremaining: 37.9s\n",
      "62:\tlearn: 0.3216050\ttotal: 2.55s\tremaining: 37.9s\n",
      "63:\tlearn: 0.3202035\ttotal: 2.59s\tremaining: 37.9s\n",
      "64:\tlearn: 0.3188156\ttotal: 2.63s\tremaining: 37.8s\n",
      "65:\tlearn: 0.3174437\ttotal: 2.67s\tremaining: 37.8s\n",
      "66:\tlearn: 0.3161125\ttotal: 2.72s\tremaining: 37.8s\n",
      "67:\tlearn: 0.3147884\ttotal: 2.76s\tremaining: 37.8s\n",
      "68:\tlearn: 0.3134852\ttotal: 2.8s\tremaining: 37.8s\n",
      "69:\tlearn: 0.3122068\ttotal: 2.83s\tremaining: 37.7s\n",
      "70:\tlearn: 0.3109271\ttotal: 2.88s\tremaining: 37.6s\n",
      "71:\tlearn: 0.3096765\ttotal: 2.92s\tremaining: 37.6s\n",
      "72:\tlearn: 0.3084442\ttotal: 2.96s\tremaining: 37.5s\n",
      "73:\tlearn: 0.3072257\ttotal: 2.99s\tremaining: 37.4s\n",
      "74:\tlearn: 0.3060419\ttotal: 3.03s\tremaining: 37.4s\n",
      "75:\tlearn: 0.3048779\ttotal: 3.07s\tremaining: 37.3s\n",
      "76:\tlearn: 0.3037203\ttotal: 3.11s\tremaining: 37.2s\n",
      "77:\tlearn: 0.3025789\ttotal: 3.14s\tremaining: 37.2s\n",
      "78:\tlearn: 0.3014515\ttotal: 3.18s\tremaining: 37.1s\n",
      "79:\tlearn: 0.3003506\ttotal: 3.22s\tremaining: 37s\n",
      "80:\tlearn: 0.2992662\ttotal: 3.26s\tremaining: 36.9s\n",
      "81:\tlearn: 0.2981809\ttotal: 3.3s\tremaining: 36.9s\n",
      "82:\tlearn: 0.2971104\ttotal: 3.34s\tremaining: 36.9s\n",
      "83:\tlearn: 0.2960648\ttotal: 3.37s\tremaining: 36.8s\n",
      "84:\tlearn: 0.2950394\ttotal: 3.41s\tremaining: 36.7s\n",
      "85:\tlearn: 0.2940247\ttotal: 3.45s\tremaining: 36.6s\n",
      "86:\tlearn: 0.2930178\ttotal: 3.48s\tremaining: 36.6s\n",
      "87:\tlearn: 0.2920329\ttotal: 3.52s\tremaining: 36.5s\n",
      "88:\tlearn: 0.2910726\ttotal: 3.56s\tremaining: 36.4s\n",
      "89:\tlearn: 0.2901174\ttotal: 3.6s\tremaining: 36.4s\n",
      "90:\tlearn: 0.2891841\ttotal: 3.64s\tremaining: 36.3s\n",
      "91:\tlearn: 0.2882697\ttotal: 3.69s\tremaining: 36.4s\n",
      "92:\tlearn: 0.2873760\ttotal: 3.73s\tremaining: 36.4s\n",
      "93:\tlearn: 0.2864869\ttotal: 3.76s\tremaining: 36.3s\n",
      "94:\tlearn: 0.2856175\ttotal: 3.8s\tremaining: 36.2s\n",
      "95:\tlearn: 0.2847425\ttotal: 3.84s\tremaining: 36.1s\n",
      "96:\tlearn: 0.2838810\ttotal: 3.88s\tremaining: 36.1s\n",
      "97:\tlearn: 0.2830397\ttotal: 3.92s\tremaining: 36.1s\n",
      "98:\tlearn: 0.2822114\ttotal: 3.96s\tremaining: 36s\n",
      "99:\tlearn: 0.2813917\ttotal: 4s\tremaining: 36s\n",
      "100:\tlearn: 0.2805864\ttotal: 4.04s\tremaining: 36s\n",
      "101:\tlearn: 0.2798084\ttotal: 4.08s\tremaining: 35.9s\n",
      "102:\tlearn: 0.2790254\ttotal: 4.13s\tremaining: 36s\n",
      "103:\tlearn: 0.2782628\ttotal: 4.17s\tremaining: 35.9s\n",
      "104:\tlearn: 0.2775216\ttotal: 4.21s\tremaining: 35.9s\n",
      "105:\tlearn: 0.2767853\ttotal: 4.25s\tremaining: 35.8s\n",
      "106:\tlearn: 0.2760572\ttotal: 4.29s\tremaining: 35.8s\n",
      "107:\tlearn: 0.2753309\ttotal: 4.33s\tremaining: 35.8s\n",
      "108:\tlearn: 0.2746160\ttotal: 4.37s\tremaining: 35.7s\n",
      "109:\tlearn: 0.2739091\ttotal: 4.41s\tremaining: 35.7s\n",
      "110:\tlearn: 0.2732252\ttotal: 4.45s\tremaining: 35.6s\n",
      "111:\tlearn: 0.2725539\ttotal: 4.49s\tremaining: 35.6s\n",
      "112:\tlearn: 0.2718813\ttotal: 4.53s\tremaining: 35.6s\n",
      "113:\tlearn: 0.2712199\ttotal: 4.57s\tremaining: 35.5s\n",
      "114:\tlearn: 0.2705897\ttotal: 4.61s\tremaining: 35.5s\n",
      "115:\tlearn: 0.2699535\ttotal: 4.64s\tremaining: 35.4s\n",
      "116:\tlearn: 0.2693328\ttotal: 4.68s\tremaining: 35.4s\n",
      "117:\tlearn: 0.2687077\ttotal: 4.72s\tremaining: 35.3s\n",
      "118:\tlearn: 0.2681140\ttotal: 4.76s\tremaining: 35.3s\n",
      "119:\tlearn: 0.2675183\ttotal: 4.8s\tremaining: 35.2s\n",
      "120:\tlearn: 0.2669333\ttotal: 4.84s\tremaining: 35.2s\n",
      "121:\tlearn: 0.2663537\ttotal: 4.88s\tremaining: 35.1s\n",
      "122:\tlearn: 0.2657809\ttotal: 4.92s\tremaining: 35.1s\n",
      "123:\tlearn: 0.2652213\ttotal: 4.96s\tremaining: 35s\n",
      "124:\tlearn: 0.2646808\ttotal: 4.99s\tremaining: 35s\n",
      "125:\tlearn: 0.2641487\ttotal: 5.03s\tremaining: 34.9s\n",
      "126:\tlearn: 0.2636269\ttotal: 5.07s\tremaining: 34.8s\n",
      "127:\tlearn: 0.2631171\ttotal: 5.1s\tremaining: 34.8s\n",
      "128:\tlearn: 0.2626066\ttotal: 5.13s\tremaining: 34.7s\n",
      "129:\tlearn: 0.2620972\ttotal: 5.17s\tremaining: 34.6s\n",
      "130:\tlearn: 0.2616066\ttotal: 5.2s\tremaining: 34.5s\n",
      "131:\tlearn: 0.2611163\ttotal: 5.24s\tremaining: 34.4s\n",
      "132:\tlearn: 0.2606345\ttotal: 5.28s\tremaining: 34.4s\n",
      "133:\tlearn: 0.2601626\ttotal: 5.31s\tremaining: 34.3s\n",
      "134:\tlearn: 0.2596936\ttotal: 5.34s\tremaining: 34.2s\n",
      "135:\tlearn: 0.2592362\ttotal: 5.38s\tremaining: 34.2s\n",
      "136:\tlearn: 0.2587960\ttotal: 5.41s\tremaining: 34.1s\n",
      "137:\tlearn: 0.2583622\ttotal: 5.45s\tremaining: 34s\n",
      "138:\tlearn: 0.2579367\ttotal: 5.49s\tremaining: 34s\n",
      "139:\tlearn: 0.2575169\ttotal: 5.52s\tremaining: 33.9s\n",
      "140:\tlearn: 0.2571027\ttotal: 5.55s\tremaining: 33.8s\n",
      "141:\tlearn: 0.2566872\ttotal: 5.59s\tremaining: 33.8s\n",
      "142:\tlearn: 0.2562796\ttotal: 5.62s\tremaining: 33.7s\n",
      "143:\tlearn: 0.2558841\ttotal: 5.66s\tremaining: 33.6s\n",
      "144:\tlearn: 0.2554927\ttotal: 5.7s\tremaining: 33.6s\n",
      "145:\tlearn: 0.2551120\ttotal: 5.73s\tremaining: 33.5s\n",
      "146:\tlearn: 0.2547324\ttotal: 5.77s\tremaining: 33.5s\n",
      "147:\tlearn: 0.2543574\ttotal: 5.8s\tremaining: 33.4s\n",
      "148:\tlearn: 0.2539927\ttotal: 5.84s\tremaining: 33.3s\n",
      "149:\tlearn: 0.2536338\ttotal: 5.88s\tremaining: 33.3s\n",
      "150:\tlearn: 0.2532773\ttotal: 5.92s\tremaining: 33.3s\n",
      "151:\tlearn: 0.2529298\ttotal: 5.95s\tremaining: 33.2s\n",
      "152:\tlearn: 0.2525873\ttotal: 5.98s\tremaining: 33.1s\n",
      "153:\tlearn: 0.2522544\ttotal: 6.02s\tremaining: 33.1s\n",
      "154:\tlearn: 0.2519203\ttotal: 6.06s\tremaining: 33s\n",
      "155:\tlearn: 0.2515921\ttotal: 6.09s\tremaining: 33s\n",
      "156:\tlearn: 0.2512701\ttotal: 6.13s\tremaining: 32.9s\n",
      "157:\tlearn: 0.2509579\ttotal: 6.16s\tremaining: 32.8s\n",
      "158:\tlearn: 0.2506522\ttotal: 6.2s\tremaining: 32.8s\n",
      "159:\tlearn: 0.2503480\ttotal: 6.23s\tremaining: 32.7s\n",
      "160:\tlearn: 0.2500489\ttotal: 6.27s\tremaining: 32.7s\n",
      "161:\tlearn: 0.2497572\ttotal: 6.3s\tremaining: 32.6s\n",
      "162:\tlearn: 0.2494745\ttotal: 6.34s\tremaining: 32.5s\n",
      "163:\tlearn: 0.2491894\ttotal: 6.37s\tremaining: 32.5s\n",
      "164:\tlearn: 0.2489123\ttotal: 6.41s\tremaining: 32.4s\n",
      "165:\tlearn: 0.2486345\ttotal: 6.44s\tremaining: 32.3s\n"
     ]
    },
    {
     "name": "stdout",
     "output_type": "stream",
     "text": [
      "166:\tlearn: 0.2483624\ttotal: 6.48s\tremaining: 32.3s\n",
      "167:\tlearn: 0.2480952\ttotal: 6.51s\tremaining: 32.2s\n",
      "168:\tlearn: 0.2478364\ttotal: 6.55s\tremaining: 32.2s\n",
      "169:\tlearn: 0.2475800\ttotal: 6.58s\tremaining: 32.2s\n",
      "170:\tlearn: 0.2473318\ttotal: 6.62s\tremaining: 32.1s\n",
      "171:\tlearn: 0.2470841\ttotal: 6.66s\tremaining: 32.1s\n",
      "172:\tlearn: 0.2468403\ttotal: 6.71s\tremaining: 32.1s\n",
      "173:\tlearn: 0.2465988\ttotal: 6.74s\tremaining: 32s\n",
      "174:\tlearn: 0.2463623\ttotal: 6.78s\tremaining: 32s\n",
      "175:\tlearn: 0.2461301\ttotal: 6.82s\tremaining: 31.9s\n",
      "176:\tlearn: 0.2459005\ttotal: 6.86s\tremaining: 31.9s\n",
      "177:\tlearn: 0.2456802\ttotal: 6.9s\tremaining: 31.8s\n",
      "178:\tlearn: 0.2454685\ttotal: 6.94s\tremaining: 31.8s\n",
      "179:\tlearn: 0.2452494\ttotal: 6.97s\tremaining: 31.8s\n",
      "180:\tlearn: 0.2450387\ttotal: 7.01s\tremaining: 31.7s\n",
      "181:\tlearn: 0.2448321\ttotal: 7.05s\tremaining: 31.7s\n",
      "182:\tlearn: 0.2446227\ttotal: 7.08s\tremaining: 31.6s\n",
      "183:\tlearn: 0.2444227\ttotal: 7.11s\tremaining: 31.6s\n",
      "184:\tlearn: 0.2442284\ttotal: 7.15s\tremaining: 31.5s\n",
      "185:\tlearn: 0.2440335\ttotal: 7.19s\tremaining: 31.5s\n",
      "186:\tlearn: 0.2438382\ttotal: 7.23s\tremaining: 31.4s\n",
      "187:\tlearn: 0.2436514\ttotal: 7.27s\tremaining: 31.4s\n",
      "188:\tlearn: 0.2434645\ttotal: 7.3s\tremaining: 31.3s\n",
      "189:\tlearn: 0.2432835\ttotal: 7.34s\tremaining: 31.3s\n",
      "190:\tlearn: 0.2431058\ttotal: 7.38s\tremaining: 31.2s\n",
      "191:\tlearn: 0.2429333\ttotal: 7.42s\tremaining: 31.2s\n",
      "192:\tlearn: 0.2427618\ttotal: 7.46s\tremaining: 31.2s\n",
      "193:\tlearn: 0.2425962\ttotal: 7.49s\tremaining: 31.1s\n",
      "194:\tlearn: 0.2424334\ttotal: 7.53s\tremaining: 31.1s\n",
      "195:\tlearn: 0.2422749\ttotal: 7.56s\tremaining: 31s\n",
      "196:\tlearn: 0.2421146\ttotal: 7.6s\tremaining: 31s\n",
      "197:\tlearn: 0.2419573\ttotal: 7.63s\tremaining: 30.9s\n",
      "198:\tlearn: 0.2418029\ttotal: 7.67s\tremaining: 30.9s\n",
      "199:\tlearn: 0.2416520\ttotal: 7.71s\tremaining: 30.8s\n",
      "200:\tlearn: 0.2415016\ttotal: 7.74s\tremaining: 30.8s\n",
      "201:\tlearn: 0.2413529\ttotal: 7.78s\tremaining: 30.7s\n",
      "202:\tlearn: 0.2412056\ttotal: 7.81s\tremaining: 30.7s\n",
      "203:\tlearn: 0.2410617\ttotal: 7.84s\tremaining: 30.6s\n",
      "204:\tlearn: 0.2409235\ttotal: 7.88s\tremaining: 30.6s\n",
      "205:\tlearn: 0.2407897\ttotal: 7.91s\tremaining: 30.5s\n",
      "206:\tlearn: 0.2406549\ttotal: 7.95s\tremaining: 30.5s\n",
      "207:\tlearn: 0.2405244\ttotal: 7.99s\tremaining: 30.4s\n",
      "208:\tlearn: 0.2403899\ttotal: 8.03s\tremaining: 30.4s\n",
      "209:\tlearn: 0.2402621\ttotal: 8.06s\tremaining: 30.3s\n",
      "210:\tlearn: 0.2401349\ttotal: 8.09s\tremaining: 30.3s\n",
      "211:\tlearn: 0.2400118\ttotal: 8.13s\tremaining: 30.2s\n",
      "212:\tlearn: 0.2398910\ttotal: 8.16s\tremaining: 30.2s\n",
      "213:\tlearn: 0.2397701\ttotal: 8.2s\tremaining: 30.1s\n",
      "214:\tlearn: 0.2396535\ttotal: 8.23s\tremaining: 30.1s\n",
      "215:\tlearn: 0.2395370\ttotal: 8.27s\tremaining: 30s\n",
      "216:\tlearn: 0.2394232\ttotal: 8.3s\tremaining: 29.9s\n",
      "217:\tlearn: 0.2393124\ttotal: 8.33s\tremaining: 29.9s\n",
      "218:\tlearn: 0.2392065\ttotal: 8.37s\tremaining: 29.8s\n",
      "219:\tlearn: 0.2390991\ttotal: 8.4s\tremaining: 29.8s\n",
      "220:\tlearn: 0.2389951\ttotal: 8.44s\tremaining: 29.7s\n",
      "221:\tlearn: 0.2388892\ttotal: 8.47s\tremaining: 29.7s\n",
      "222:\tlearn: 0.2387854\ttotal: 8.51s\tremaining: 29.6s\n",
      "223:\tlearn: 0.2386852\ttotal: 8.54s\tremaining: 29.6s\n",
      "224:\tlearn: 0.2385900\ttotal: 8.57s\tremaining: 29.5s\n",
      "225:\tlearn: 0.2384903\ttotal: 8.61s\tremaining: 29.5s\n",
      "226:\tlearn: 0.2383931\ttotal: 8.64s\tremaining: 29.4s\n",
      "227:\tlearn: 0.2382989\ttotal: 8.68s\tremaining: 29.4s\n",
      "228:\tlearn: 0.2382067\ttotal: 8.71s\tremaining: 29.3s\n",
      "229:\tlearn: 0.2381159\ttotal: 8.75s\tremaining: 29.3s\n",
      "230:\tlearn: 0.2380264\ttotal: 8.78s\tremaining: 29.2s\n",
      "231:\tlearn: 0.2379394\ttotal: 8.82s\tremaining: 29.2s\n",
      "232:\tlearn: 0.2378515\ttotal: 8.85s\tremaining: 29.1s\n",
      "233:\tlearn: 0.2377673\ttotal: 8.88s\tremaining: 29.1s\n",
      "234:\tlearn: 0.2376874\ttotal: 8.92s\tremaining: 29s\n",
      "235:\tlearn: 0.2376037\ttotal: 8.95s\tremaining: 29s\n",
      "236:\tlearn: 0.2375236\ttotal: 8.99s\tremaining: 28.9s\n",
      "237:\tlearn: 0.2374429\ttotal: 9.03s\tremaining: 28.9s\n",
      "238:\tlearn: 0.2373671\ttotal: 9.06s\tremaining: 28.9s\n",
      "239:\tlearn: 0.2372902\ttotal: 9.1s\tremaining: 28.8s\n",
      "240:\tlearn: 0.2372131\ttotal: 9.13s\tremaining: 28.8s\n",
      "241:\tlearn: 0.2371400\ttotal: 9.17s\tremaining: 28.7s\n",
      "242:\tlearn: 0.2370706\ttotal: 9.21s\tremaining: 28.7s\n",
      "243:\tlearn: 0.2369980\ttotal: 9.24s\tremaining: 28.6s\n",
      "244:\tlearn: 0.2369267\ttotal: 9.27s\tremaining: 28.6s\n",
      "245:\tlearn: 0.2368600\ttotal: 9.31s\tremaining: 28.5s\n",
      "246:\tlearn: 0.2367911\ttotal: 9.35s\tremaining: 28.5s\n",
      "247:\tlearn: 0.2367240\ttotal: 9.38s\tremaining: 28.5s\n",
      "248:\tlearn: 0.2366606\ttotal: 9.42s\tremaining: 28.4s\n",
      "249:\tlearn: 0.2365981\ttotal: 9.45s\tremaining: 28.4s\n",
      "250:\tlearn: 0.2365349\ttotal: 9.49s\tremaining: 28.3s\n",
      "251:\tlearn: 0.2364712\ttotal: 9.52s\tremaining: 28.3s\n",
      "252:\tlearn: 0.2364106\ttotal: 9.56s\tremaining: 28.2s\n",
      "253:\tlearn: 0.2363511\ttotal: 9.6s\tremaining: 28.2s\n",
      "254:\tlearn: 0.2362920\ttotal: 9.63s\tremaining: 28.2s\n",
      "255:\tlearn: 0.2362397\ttotal: 9.67s\tremaining: 28.1s\n",
      "256:\tlearn: 0.2361826\ttotal: 9.71s\tremaining: 28.1s\n",
      "257:\tlearn: 0.2361282\ttotal: 9.75s\tremaining: 28s\n",
      "258:\tlearn: 0.2360737\ttotal: 9.78s\tremaining: 28s\n",
      "259:\tlearn: 0.2360178\ttotal: 9.82s\tremaining: 27.9s\n",
      "260:\tlearn: 0.2359645\ttotal: 9.85s\tremaining: 27.9s\n",
      "261:\tlearn: 0.2359120\ttotal: 9.89s\tremaining: 27.9s\n",
      "262:\tlearn: 0.2358631\ttotal: 9.92s\tremaining: 27.8s\n",
      "263:\tlearn: 0.2358130\ttotal: 9.95s\tremaining: 27.7s\n",
      "264:\tlearn: 0.2357633\ttotal: 9.98s\tremaining: 27.7s\n",
      "265:\tlearn: 0.2357146\ttotal: 10s\tremaining: 27.6s\n",
      "266:\tlearn: 0.2356660\ttotal: 10.1s\tremaining: 27.6s\n",
      "267:\tlearn: 0.2356185\ttotal: 10.1s\tremaining: 27.6s\n",
      "268:\tlearn: 0.2355766\ttotal: 10.1s\tremaining: 27.5s\n",
      "269:\tlearn: 0.2355300\ttotal: 10.2s\tremaining: 27.5s\n",
      "270:\tlearn: 0.2354838\ttotal: 10.2s\tremaining: 27.4s\n",
      "271:\tlearn: 0.2354392\ttotal: 10.2s\tremaining: 27.4s\n",
      "272:\tlearn: 0.2353945\ttotal: 10.3s\tremaining: 27.4s\n",
      "273:\tlearn: 0.2353499\ttotal: 10.3s\tremaining: 27.3s\n",
      "274:\tlearn: 0.2353098\ttotal: 10.3s\tremaining: 27.3s\n",
      "275:\tlearn: 0.2352683\ttotal: 10.4s\tremaining: 27.2s\n",
      "276:\tlearn: 0.2352302\ttotal: 10.4s\tremaining: 27.2s\n",
      "277:\tlearn: 0.2351888\ttotal: 10.4s\tremaining: 27.1s\n",
      "278:\tlearn: 0.2351482\ttotal: 10.5s\tremaining: 27.1s\n",
      "279:\tlearn: 0.2351108\ttotal: 10.5s\tremaining: 27s\n",
      "280:\tlearn: 0.2350711\ttotal: 10.5s\tremaining: 27s\n",
      "281:\tlearn: 0.2350334\ttotal: 10.6s\tremaining: 26.9s\n",
      "282:\tlearn: 0.2349970\ttotal: 10.6s\tremaining: 26.9s\n",
      "283:\tlearn: 0.2349598\ttotal: 10.7s\tremaining: 26.9s\n",
      "284:\tlearn: 0.2349259\ttotal: 10.7s\tremaining: 26.8s\n",
      "285:\tlearn: 0.2348895\ttotal: 10.7s\tremaining: 26.8s\n",
      "286:\tlearn: 0.2348562\ttotal: 10.8s\tremaining: 26.8s\n",
      "287:\tlearn: 0.2348216\ttotal: 10.8s\tremaining: 26.7s\n",
      "288:\tlearn: 0.2347889\ttotal: 10.8s\tremaining: 26.7s\n",
      "289:\tlearn: 0.2347573\ttotal: 10.9s\tremaining: 26.6s\n",
      "290:\tlearn: 0.2347260\ttotal: 10.9s\tremaining: 26.6s\n",
      "291:\tlearn: 0.2346962\ttotal: 10.9s\tremaining: 26.5s\n",
      "292:\tlearn: 0.2346654\ttotal: 11s\tremaining: 26.5s\n",
      "293:\tlearn: 0.2346345\ttotal: 11s\tremaining: 26.4s\n",
      "294:\tlearn: 0.2346062\ttotal: 11.1s\tremaining: 26.4s\n",
      "295:\tlearn: 0.2345766\ttotal: 11.1s\tremaining: 26.4s\n",
      "296:\tlearn: 0.2345472\ttotal: 11.1s\tremaining: 26.3s\n",
      "297:\tlearn: 0.2345188\ttotal: 11.2s\tremaining: 26.3s\n",
      "298:\tlearn: 0.2344908\ttotal: 11.2s\tremaining: 26.2s\n",
      "299:\tlearn: 0.2344627\ttotal: 11.2s\tremaining: 26.2s\n",
      "300:\tlearn: 0.2344340\ttotal: 11.3s\tremaining: 26.2s\n",
      "301:\tlearn: 0.2344081\ttotal: 11.3s\tremaining: 26.1s\n",
      "302:\tlearn: 0.2343835\ttotal: 11.3s\tremaining: 26.1s\n",
      "303:\tlearn: 0.2343574\ttotal: 11.4s\tremaining: 26s\n",
      "304:\tlearn: 0.2343331\ttotal: 11.4s\tremaining: 26s\n",
      "305:\tlearn: 0.2343103\ttotal: 11.4s\tremaining: 25.9s\n",
      "306:\tlearn: 0.2342852\ttotal: 11.5s\tremaining: 25.9s\n",
      "307:\tlearn: 0.2342607\ttotal: 11.5s\tremaining: 25.8s\n",
      "308:\tlearn: 0.2342367\ttotal: 11.5s\tremaining: 25.8s\n",
      "309:\tlearn: 0.2342125\ttotal: 11.6s\tremaining: 25.8s\n",
      "310:\tlearn: 0.2341891\ttotal: 11.6s\tremaining: 25.7s\n",
      "311:\tlearn: 0.2341661\ttotal: 11.7s\tremaining: 25.7s\n",
      "312:\tlearn: 0.2341433\ttotal: 11.7s\tremaining: 25.6s\n",
      "313:\tlearn: 0.2341221\ttotal: 11.7s\tremaining: 25.6s\n",
      "314:\tlearn: 0.2341011\ttotal: 11.8s\tremaining: 25.6s\n",
      "315:\tlearn: 0.2340811\ttotal: 11.8s\tremaining: 25.5s\n",
      "316:\tlearn: 0.2340601\ttotal: 11.8s\tremaining: 25.5s\n",
      "317:\tlearn: 0.2340388\ttotal: 11.9s\tremaining: 25.4s\n",
      "318:\tlearn: 0.2340193\ttotal: 11.9s\tremaining: 25.4s\n",
      "319:\tlearn: 0.2339991\ttotal: 11.9s\tremaining: 25.3s\n",
      "320:\tlearn: 0.2339809\ttotal: 12s\tremaining: 25.3s\n",
      "321:\tlearn: 0.2339616\ttotal: 12s\tremaining: 25.3s\n",
      "322:\tlearn: 0.2339434\ttotal: 12s\tremaining: 25.2s\n",
      "323:\tlearn: 0.2339252\ttotal: 12.1s\tremaining: 25.2s\n",
      "324:\tlearn: 0.2339067\ttotal: 12.1s\tremaining: 25.2s\n",
      "325:\tlearn: 0.2338883\ttotal: 12.2s\tremaining: 25.1s\n"
     ]
    },
    {
     "name": "stdout",
     "output_type": "stream",
     "text": [
      "326:\tlearn: 0.2338696\ttotal: 12.2s\tremaining: 25.1s\n",
      "327:\tlearn: 0.2338512\ttotal: 12.2s\tremaining: 25.1s\n",
      "328:\tlearn: 0.2338335\ttotal: 12.3s\tremaining: 25s\n",
      "329:\tlearn: 0.2338171\ttotal: 12.3s\tremaining: 25s\n",
      "330:\tlearn: 0.2338011\ttotal: 12.3s\tremaining: 24.9s\n",
      "331:\tlearn: 0.2337844\ttotal: 12.4s\tremaining: 24.9s\n",
      "332:\tlearn: 0.2337676\ttotal: 12.4s\tremaining: 24.9s\n",
      "333:\tlearn: 0.2337504\ttotal: 12.5s\tremaining: 24.8s\n",
      "334:\tlearn: 0.2337341\ttotal: 12.5s\tremaining: 24.8s\n",
      "335:\tlearn: 0.2337202\ttotal: 12.5s\tremaining: 24.7s\n",
      "336:\tlearn: 0.2337040\ttotal: 12.6s\tremaining: 24.7s\n",
      "337:\tlearn: 0.2336880\ttotal: 12.6s\tremaining: 24.7s\n",
      "338:\tlearn: 0.2336744\ttotal: 12.6s\tremaining: 24.6s\n",
      "339:\tlearn: 0.2336622\ttotal: 12.7s\tremaining: 24.6s\n",
      "340:\tlearn: 0.2336474\ttotal: 12.7s\tremaining: 24.6s\n",
      "341:\tlearn: 0.2336335\ttotal: 12.8s\tremaining: 24.5s\n",
      "342:\tlearn: 0.2336195\ttotal: 12.8s\tremaining: 24.5s\n",
      "343:\tlearn: 0.2336064\ttotal: 12.8s\tremaining: 24.5s\n",
      "344:\tlearn: 0.2335939\ttotal: 12.9s\tremaining: 24.4s\n",
      "345:\tlearn: 0.2335801\ttotal: 12.9s\tremaining: 24.4s\n",
      "346:\tlearn: 0.2335671\ttotal: 12.9s\tremaining: 24.4s\n",
      "347:\tlearn: 0.2335537\ttotal: 13s\tremaining: 24.3s\n",
      "348:\tlearn: 0.2335419\ttotal: 13s\tremaining: 24.3s\n",
      "349:\tlearn: 0.2335304\ttotal: 13s\tremaining: 24.2s\n",
      "350:\tlearn: 0.2335190\ttotal: 13.1s\tremaining: 24.2s\n",
      "351:\tlearn: 0.2335058\ttotal: 13.1s\tremaining: 24.1s\n",
      "352:\tlearn: 0.2334945\ttotal: 13.1s\tremaining: 24.1s\n",
      "353:\tlearn: 0.2334823\ttotal: 13.2s\tremaining: 24.1s\n",
      "354:\tlearn: 0.2334708\ttotal: 13.2s\tremaining: 24s\n",
      "355:\tlearn: 0.2334596\ttotal: 13.3s\tremaining: 24s\n",
      "356:\tlearn: 0.2334487\ttotal: 13.3s\tremaining: 23.9s\n",
      "357:\tlearn: 0.2334379\ttotal: 13.3s\tremaining: 23.9s\n",
      "358:\tlearn: 0.2334271\ttotal: 13.4s\tremaining: 23.9s\n",
      "359:\tlearn: 0.2334155\ttotal: 13.4s\tremaining: 23.8s\n",
      "360:\tlearn: 0.2334062\ttotal: 13.4s\tremaining: 23.8s\n",
      "361:\tlearn: 0.2333969\ttotal: 13.5s\tremaining: 23.7s\n",
      "362:\tlearn: 0.2333869\ttotal: 13.5s\tremaining: 23.7s\n",
      "363:\tlearn: 0.2333753\ttotal: 13.5s\tremaining: 23.7s\n",
      "364:\tlearn: 0.2333645\ttotal: 13.6s\tremaining: 23.6s\n",
      "365:\tlearn: 0.2333548\ttotal: 13.6s\tremaining: 23.6s\n",
      "366:\tlearn: 0.2333463\ttotal: 13.7s\tremaining: 23.5s\n",
      "367:\tlearn: 0.2333372\ttotal: 13.7s\tremaining: 23.5s\n",
      "368:\tlearn: 0.2333273\ttotal: 13.7s\tremaining: 23.5s\n",
      "369:\tlearn: 0.2333189\ttotal: 13.8s\tremaining: 23.4s\n",
      "370:\tlearn: 0.2333093\ttotal: 13.8s\tremaining: 23.4s\n",
      "371:\tlearn: 0.2333008\ttotal: 13.8s\tremaining: 23.3s\n",
      "372:\tlearn: 0.2332907\ttotal: 13.9s\tremaining: 23.3s\n",
      "373:\tlearn: 0.2332832\ttotal: 13.9s\tremaining: 23.3s\n",
      "374:\tlearn: 0.2332748\ttotal: 13.9s\tremaining: 23.2s\n",
      "375:\tlearn: 0.2332660\ttotal: 14s\tremaining: 23.2s\n",
      "376:\tlearn: 0.2332566\ttotal: 14s\tremaining: 23.1s\n",
      "377:\tlearn: 0.2332491\ttotal: 14s\tremaining: 23.1s\n",
      "378:\tlearn: 0.2332420\ttotal: 14.1s\tremaining: 23s\n",
      "379:\tlearn: 0.2332337\ttotal: 14.1s\tremaining: 23s\n",
      "380:\tlearn: 0.2332256\ttotal: 14.1s\tremaining: 23s\n",
      "381:\tlearn: 0.2332190\ttotal: 14.2s\tremaining: 22.9s\n",
      "382:\tlearn: 0.2332121\ttotal: 14.2s\tremaining: 22.9s\n",
      "383:\tlearn: 0.2332051\ttotal: 14.2s\tremaining: 22.8s\n",
      "384:\tlearn: 0.2331965\ttotal: 14.3s\tremaining: 22.8s\n",
      "385:\tlearn: 0.2331881\ttotal: 14.3s\tremaining: 22.8s\n",
      "386:\tlearn: 0.2331803\ttotal: 14.3s\tremaining: 22.7s\n",
      "387:\tlearn: 0.2331729\ttotal: 14.4s\tremaining: 22.7s\n",
      "388:\tlearn: 0.2331657\ttotal: 14.4s\tremaining: 22.6s\n",
      "389:\tlearn: 0.2331587\ttotal: 14.5s\tremaining: 22.6s\n",
      "390:\tlearn: 0.2331515\ttotal: 14.5s\tremaining: 22.6s\n",
      "391:\tlearn: 0.2331444\ttotal: 14.5s\tremaining: 22.5s\n",
      "392:\tlearn: 0.2331382\ttotal: 14.6s\tremaining: 22.5s\n",
      "393:\tlearn: 0.2331324\ttotal: 14.6s\tremaining: 22.4s\n",
      "394:\tlearn: 0.2331246\ttotal: 14.6s\tremaining: 22.4s\n",
      "395:\tlearn: 0.2331174\ttotal: 14.7s\tremaining: 22.4s\n",
      "396:\tlearn: 0.2331109\ttotal: 14.7s\tremaining: 22.3s\n",
      "397:\tlearn: 0.2331051\ttotal: 14.7s\tremaining: 22.3s\n",
      "398:\tlearn: 0.2330989\ttotal: 14.8s\tremaining: 22.2s\n",
      "399:\tlearn: 0.2330930\ttotal: 14.8s\tremaining: 22.2s\n",
      "400:\tlearn: 0.2330874\ttotal: 14.8s\tremaining: 22.2s\n",
      "401:\tlearn: 0.2330812\ttotal: 14.9s\tremaining: 22.1s\n",
      "402:\tlearn: 0.2330762\ttotal: 14.9s\tremaining: 22.1s\n",
      "403:\tlearn: 0.2330696\ttotal: 15s\tremaining: 22.1s\n",
      "404:\tlearn: 0.2330613\ttotal: 15s\tremaining: 22s\n",
      "405:\tlearn: 0.2330551\ttotal: 15s\tremaining: 22s\n",
      "406:\tlearn: 0.2330494\ttotal: 15.1s\tremaining: 22s\n",
      "407:\tlearn: 0.2330442\ttotal: 15.1s\tremaining: 21.9s\n",
      "408:\tlearn: 0.2330376\ttotal: 15.1s\tremaining: 21.9s\n",
      "409:\tlearn: 0.2330311\ttotal: 15.2s\tremaining: 21.9s\n",
      "410:\tlearn: 0.2330264\ttotal: 15.2s\tremaining: 21.8s\n",
      "411:\tlearn: 0.2330220\ttotal: 15.2s\tremaining: 21.8s\n",
      "412:\tlearn: 0.2330178\ttotal: 15.3s\tremaining: 21.7s\n",
      "413:\tlearn: 0.2330122\ttotal: 15.3s\tremaining: 21.7s\n",
      "414:\tlearn: 0.2330073\ttotal: 15.4s\tremaining: 21.6s\n",
      "415:\tlearn: 0.2330022\ttotal: 15.4s\tremaining: 21.6s\n",
      "416:\tlearn: 0.2329979\ttotal: 15.4s\tremaining: 21.6s\n",
      "417:\tlearn: 0.2329930\ttotal: 15.5s\tremaining: 21.5s\n",
      "418:\tlearn: 0.2329884\ttotal: 15.5s\tremaining: 21.5s\n",
      "419:\tlearn: 0.2329841\ttotal: 15.5s\tremaining: 21.4s\n",
      "420:\tlearn: 0.2329792\ttotal: 15.6s\tremaining: 21.4s\n",
      "421:\tlearn: 0.2329747\ttotal: 15.6s\tremaining: 21.4s\n",
      "422:\tlearn: 0.2329682\ttotal: 15.6s\tremaining: 21.3s\n",
      "423:\tlearn: 0.2329647\ttotal: 15.7s\tremaining: 21.3s\n",
      "424:\tlearn: 0.2329608\ttotal: 15.7s\tremaining: 21.3s\n",
      "425:\tlearn: 0.2329556\ttotal: 15.7s\tremaining: 21.2s\n",
      "426:\tlearn: 0.2329510\ttotal: 15.8s\tremaining: 21.2s\n",
      "427:\tlearn: 0.2329470\ttotal: 15.8s\tremaining: 21.1s\n",
      "428:\tlearn: 0.2329428\ttotal: 15.8s\tremaining: 21.1s\n",
      "429:\tlearn: 0.2329359\ttotal: 15.9s\tremaining: 21.1s\n",
      "430:\tlearn: 0.2329313\ttotal: 15.9s\tremaining: 21s\n",
      "431:\tlearn: 0.2329253\ttotal: 16s\tremaining: 21s\n",
      "432:\tlearn: 0.2329215\ttotal: 16s\tremaining: 20.9s\n",
      "433:\tlearn: 0.2329180\ttotal: 16s\tremaining: 20.9s\n",
      "434:\tlearn: 0.2329144\ttotal: 16.1s\tremaining: 20.9s\n",
      "435:\tlearn: 0.2329107\ttotal: 16.1s\tremaining: 20.8s\n",
      "436:\tlearn: 0.2329067\ttotal: 16.1s\tremaining: 20.8s\n",
      "437:\tlearn: 0.2329033\ttotal: 16.2s\tremaining: 20.7s\n",
      "438:\tlearn: 0.2328984\ttotal: 16.2s\tremaining: 20.7s\n",
      "439:\tlearn: 0.2328948\ttotal: 16.2s\tremaining: 20.7s\n",
      "440:\tlearn: 0.2328913\ttotal: 16.3s\tremaining: 20.6s\n",
      "441:\tlearn: 0.2328844\ttotal: 16.3s\tremaining: 20.6s\n",
      "442:\tlearn: 0.2328810\ttotal: 16.3s\tremaining: 20.6s\n",
      "443:\tlearn: 0.2328765\ttotal: 16.4s\tremaining: 20.5s\n",
      "444:\tlearn: 0.2328726\ttotal: 16.4s\tremaining: 20.5s\n",
      "445:\tlearn: 0.2328682\ttotal: 16.5s\tremaining: 20.4s\n",
      "446:\tlearn: 0.2328654\ttotal: 16.5s\tremaining: 20.4s\n",
      "447:\tlearn: 0.2328625\ttotal: 16.5s\tremaining: 20.3s\n",
      "448:\tlearn: 0.2328599\ttotal: 16.5s\tremaining: 20.3s\n",
      "449:\tlearn: 0.2328570\ttotal: 16.6s\tremaining: 20.3s\n",
      "450:\tlearn: 0.2328542\ttotal: 16.6s\tremaining: 20.2s\n",
      "451:\tlearn: 0.2328513\ttotal: 16.7s\tremaining: 20.2s\n",
      "452:\tlearn: 0.2328483\ttotal: 16.7s\tremaining: 20.2s\n",
      "453:\tlearn: 0.2328451\ttotal: 16.7s\tremaining: 20.1s\n",
      "454:\tlearn: 0.2328416\ttotal: 16.8s\tremaining: 20.1s\n",
      "455:\tlearn: 0.2328367\ttotal: 16.8s\tremaining: 20s\n",
      "456:\tlearn: 0.2328336\ttotal: 16.8s\tremaining: 20s\n",
      "457:\tlearn: 0.2328312\ttotal: 16.9s\tremaining: 20s\n",
      "458:\tlearn: 0.2328283\ttotal: 16.9s\tremaining: 19.9s\n",
      "459:\tlearn: 0.2328257\ttotal: 16.9s\tremaining: 19.9s\n",
      "460:\tlearn: 0.2328233\ttotal: 17s\tremaining: 19.8s\n",
      "461:\tlearn: 0.2328209\ttotal: 17s\tremaining: 19.8s\n",
      "462:\tlearn: 0.2328167\ttotal: 17s\tremaining: 19.8s\n",
      "463:\tlearn: 0.2328150\ttotal: 17.1s\tremaining: 19.7s\n",
      "464:\tlearn: 0.2328121\ttotal: 17.1s\tremaining: 19.7s\n",
      "465:\tlearn: 0.2328084\ttotal: 17.1s\tremaining: 19.6s\n",
      "466:\tlearn: 0.2328044\ttotal: 17.2s\tremaining: 19.6s\n",
      "467:\tlearn: 0.2328014\ttotal: 17.2s\tremaining: 19.6s\n",
      "468:\tlearn: 0.2327993\ttotal: 17.3s\tremaining: 19.5s\n",
      "469:\tlearn: 0.2327965\ttotal: 17.3s\tremaining: 19.5s\n",
      "470:\tlearn: 0.2327930\ttotal: 17.3s\tremaining: 19.5s\n",
      "471:\tlearn: 0.2327902\ttotal: 17.4s\tremaining: 19.4s\n",
      "472:\tlearn: 0.2327884\ttotal: 17.4s\tremaining: 19.4s\n",
      "473:\tlearn: 0.2327860\ttotal: 17.4s\tremaining: 19.4s\n",
      "474:\tlearn: 0.2327836\ttotal: 17.5s\tremaining: 19.3s\n",
      "475:\tlearn: 0.2327807\ttotal: 17.5s\tremaining: 19.3s\n",
      "476:\tlearn: 0.2327780\ttotal: 17.5s\tremaining: 19.2s\n",
      "477:\tlearn: 0.2327750\ttotal: 17.6s\tremaining: 19.2s\n",
      "478:\tlearn: 0.2327726\ttotal: 17.6s\tremaining: 19.2s\n",
      "479:\tlearn: 0.2327711\ttotal: 17.7s\tremaining: 19.1s\n",
      "480:\tlearn: 0.2327677\ttotal: 17.7s\tremaining: 19.1s\n",
      "481:\tlearn: 0.2327657\ttotal: 17.7s\tremaining: 19.1s\n",
      "482:\tlearn: 0.2327628\ttotal: 17.8s\tremaining: 19s\n",
      "483:\tlearn: 0.2327596\ttotal: 17.8s\tremaining: 19s\n",
      "484:\tlearn: 0.2327567\ttotal: 17.8s\tremaining: 19s\n",
      "485:\tlearn: 0.2327527\ttotal: 17.9s\tremaining: 18.9s\n",
      "486:\tlearn: 0.2327507\ttotal: 17.9s\tremaining: 18.9s\n"
     ]
    },
    {
     "name": "stdout",
     "output_type": "stream",
     "text": [
      "487:\tlearn: 0.2327487\ttotal: 18s\tremaining: 18.8s\n",
      "488:\tlearn: 0.2327467\ttotal: 18s\tremaining: 18.8s\n",
      "489:\tlearn: 0.2327445\ttotal: 18s\tremaining: 18.8s\n",
      "490:\tlearn: 0.2327426\ttotal: 18.1s\tremaining: 18.7s\n",
      "491:\tlearn: 0.2327380\ttotal: 18.1s\tremaining: 18.7s\n",
      "492:\tlearn: 0.2327347\ttotal: 18.1s\tremaining: 18.7s\n",
      "493:\tlearn: 0.2327317\ttotal: 18.2s\tremaining: 18.6s\n",
      "494:\tlearn: 0.2327275\ttotal: 18.2s\tremaining: 18.6s\n",
      "495:\tlearn: 0.2327241\ttotal: 18.3s\tremaining: 18.6s\n",
      "496:\tlearn: 0.2327225\ttotal: 18.3s\tremaining: 18.5s\n",
      "497:\tlearn: 0.2327200\ttotal: 18.3s\tremaining: 18.5s\n",
      "498:\tlearn: 0.2327153\ttotal: 18.4s\tremaining: 18.4s\n",
      "499:\tlearn: 0.2327138\ttotal: 18.4s\tremaining: 18.4s\n",
      "500:\tlearn: 0.2327112\ttotal: 18.4s\tremaining: 18.4s\n",
      "501:\tlearn: 0.2327083\ttotal: 18.5s\tremaining: 18.3s\n",
      "502:\tlearn: 0.2327068\ttotal: 18.5s\tremaining: 18.3s\n",
      "503:\tlearn: 0.2327031\ttotal: 18.5s\tremaining: 18.3s\n",
      "504:\tlearn: 0.2327013\ttotal: 18.6s\tremaining: 18.2s\n",
      "505:\tlearn: 0.2326992\ttotal: 18.6s\tremaining: 18.2s\n",
      "506:\tlearn: 0.2326960\ttotal: 18.7s\tremaining: 18.1s\n",
      "507:\tlearn: 0.2326949\ttotal: 18.7s\tremaining: 18.1s\n",
      "508:\tlearn: 0.2326933\ttotal: 18.7s\tremaining: 18.1s\n",
      "509:\tlearn: 0.2326912\ttotal: 18.8s\tremaining: 18s\n",
      "510:\tlearn: 0.2326879\ttotal: 18.8s\tremaining: 18s\n",
      "511:\tlearn: 0.2326857\ttotal: 18.8s\tremaining: 18s\n",
      "512:\tlearn: 0.2326845\ttotal: 18.9s\tremaining: 17.9s\n",
      "513:\tlearn: 0.2326827\ttotal: 18.9s\tremaining: 17.9s\n",
      "514:\tlearn: 0.2326807\ttotal: 18.9s\tremaining: 17.8s\n",
      "515:\tlearn: 0.2326769\ttotal: 19s\tremaining: 17.8s\n",
      "516:\tlearn: 0.2326751\ttotal: 19s\tremaining: 17.8s\n",
      "517:\tlearn: 0.2326740\ttotal: 19s\tremaining: 17.7s\n",
      "518:\tlearn: 0.2326719\ttotal: 19.1s\tremaining: 17.7s\n",
      "519:\tlearn: 0.2326694\ttotal: 19.1s\tremaining: 17.6s\n",
      "520:\tlearn: 0.2326671\ttotal: 19.2s\tremaining: 17.6s\n",
      "521:\tlearn: 0.2326640\ttotal: 19.2s\tremaining: 17.6s\n",
      "522:\tlearn: 0.2326602\ttotal: 19.2s\tremaining: 17.5s\n",
      "523:\tlearn: 0.2326562\ttotal: 19.3s\tremaining: 17.5s\n",
      "524:\tlearn: 0.2326515\ttotal: 19.3s\tremaining: 17.5s\n",
      "525:\tlearn: 0.2326499\ttotal: 19.3s\tremaining: 17.4s\n",
      "526:\tlearn: 0.2326475\ttotal: 19.4s\tremaining: 17.4s\n",
      "527:\tlearn: 0.2326464\ttotal: 19.4s\tremaining: 17.3s\n",
      "528:\tlearn: 0.2326446\ttotal: 19.4s\tremaining: 17.3s\n",
      "529:\tlearn: 0.2326414\ttotal: 19.5s\tremaining: 17.3s\n",
      "530:\tlearn: 0.2326387\ttotal: 19.5s\tremaining: 17.2s\n",
      "531:\tlearn: 0.2326371\ttotal: 19.5s\tremaining: 17.2s\n",
      "532:\tlearn: 0.2326328\ttotal: 19.6s\tremaining: 17.2s\n",
      "533:\tlearn: 0.2326306\ttotal: 19.6s\tremaining: 17.1s\n",
      "534:\tlearn: 0.2326288\ttotal: 19.6s\tremaining: 17.1s\n",
      "535:\tlearn: 0.2326276\ttotal: 19.7s\tremaining: 17s\n",
      "536:\tlearn: 0.2326263\ttotal: 19.7s\tremaining: 17s\n",
      "537:\tlearn: 0.2326250\ttotal: 19.7s\tremaining: 17s\n",
      "538:\tlearn: 0.2326242\ttotal: 19.8s\tremaining: 16.9s\n",
      "539:\tlearn: 0.2326222\ttotal: 19.8s\tremaining: 16.9s\n",
      "540:\tlearn: 0.2326202\ttotal: 19.9s\tremaining: 16.8s\n",
      "541:\tlearn: 0.2326162\ttotal: 19.9s\tremaining: 16.8s\n",
      "542:\tlearn: 0.2326130\ttotal: 19.9s\tremaining: 16.8s\n",
      "543:\tlearn: 0.2326106\ttotal: 20s\tremaining: 16.7s\n",
      "544:\tlearn: 0.2326083\ttotal: 20s\tremaining: 16.7s\n",
      "545:\tlearn: 0.2326057\ttotal: 20s\tremaining: 16.7s\n",
      "546:\tlearn: 0.2326043\ttotal: 20.1s\tremaining: 16.6s\n",
      "547:\tlearn: 0.2326024\ttotal: 20.1s\tremaining: 16.6s\n",
      "548:\tlearn: 0.2325995\ttotal: 20.2s\tremaining: 16.6s\n",
      "549:\tlearn: 0.2325969\ttotal: 20.2s\tremaining: 16.5s\n",
      "550:\tlearn: 0.2325944\ttotal: 20.2s\tremaining: 16.5s\n",
      "551:\tlearn: 0.2325933\ttotal: 20.3s\tremaining: 16.4s\n",
      "552:\tlearn: 0.2325915\ttotal: 20.3s\tremaining: 16.4s\n",
      "553:\tlearn: 0.2325892\ttotal: 20.3s\tremaining: 16.4s\n",
      "554:\tlearn: 0.2325865\ttotal: 20.4s\tremaining: 16.3s\n",
      "555:\tlearn: 0.2325837\ttotal: 20.4s\tremaining: 16.3s\n",
      "556:\tlearn: 0.2325814\ttotal: 20.5s\tremaining: 16.3s\n",
      "557:\tlearn: 0.2325775\ttotal: 20.5s\tremaining: 16.2s\n",
      "558:\tlearn: 0.2325759\ttotal: 20.5s\tremaining: 16.2s\n",
      "559:\tlearn: 0.2325740\ttotal: 20.6s\tremaining: 16.2s\n",
      "560:\tlearn: 0.2325713\ttotal: 20.6s\tremaining: 16.1s\n",
      "561:\tlearn: 0.2325692\ttotal: 20.6s\tremaining: 16.1s\n",
      "562:\tlearn: 0.2325683\ttotal: 20.7s\tremaining: 16s\n",
      "563:\tlearn: 0.2325658\ttotal: 20.7s\tremaining: 16s\n",
      "564:\tlearn: 0.2325650\ttotal: 20.7s\tremaining: 16s\n",
      "565:\tlearn: 0.2325625\ttotal: 20.8s\tremaining: 15.9s\n",
      "566:\tlearn: 0.2325604\ttotal: 20.8s\tremaining: 15.9s\n",
      "567:\tlearn: 0.2325597\ttotal: 20.8s\tremaining: 15.9s\n",
      "568:\tlearn: 0.2325576\ttotal: 20.9s\tremaining: 15.8s\n",
      "569:\tlearn: 0.2325558\ttotal: 20.9s\tremaining: 15.8s\n",
      "570:\tlearn: 0.2325541\ttotal: 21s\tremaining: 15.7s\n",
      "571:\tlearn: 0.2325519\ttotal: 21s\tremaining: 15.7s\n",
      "572:\tlearn: 0.2325504\ttotal: 21s\tremaining: 15.7s\n",
      "573:\tlearn: 0.2325484\ttotal: 21.1s\tremaining: 15.6s\n",
      "574:\tlearn: 0.2325472\ttotal: 21.1s\tremaining: 15.6s\n",
      "575:\tlearn: 0.2325449\ttotal: 21.1s\tremaining: 15.6s\n",
      "576:\tlearn: 0.2325414\ttotal: 21.2s\tremaining: 15.5s\n",
      "577:\tlearn: 0.2325394\ttotal: 21.2s\tremaining: 15.5s\n",
      "578:\tlearn: 0.2325375\ttotal: 21.2s\tremaining: 15.4s\n",
      "579:\tlearn: 0.2325352\ttotal: 21.3s\tremaining: 15.4s\n",
      "580:\tlearn: 0.2325333\ttotal: 21.3s\tremaining: 15.4s\n",
      "581:\tlearn: 0.2325311\ttotal: 21.3s\tremaining: 15.3s\n",
      "582:\tlearn: 0.2325296\ttotal: 21.4s\tremaining: 15.3s\n",
      "583:\tlearn: 0.2325268\ttotal: 21.4s\tremaining: 15.3s\n",
      "584:\tlearn: 0.2325264\ttotal: 21.4s\tremaining: 15.2s\n",
      "585:\tlearn: 0.2325233\ttotal: 21.5s\tremaining: 15.2s\n",
      "586:\tlearn: 0.2325224\ttotal: 21.5s\tremaining: 15.1s\n",
      "587:\tlearn: 0.2325193\ttotal: 21.6s\tremaining: 15.1s\n",
      "588:\tlearn: 0.2325184\ttotal: 21.6s\tremaining: 15.1s\n",
      "589:\tlearn: 0.2325172\ttotal: 21.6s\tremaining: 15s\n",
      "590:\tlearn: 0.2325155\ttotal: 21.7s\tremaining: 15s\n",
      "591:\tlearn: 0.2325143\ttotal: 21.7s\tremaining: 15s\n",
      "592:\tlearn: 0.2325136\ttotal: 21.7s\tremaining: 14.9s\n",
      "593:\tlearn: 0.2325103\ttotal: 21.8s\tremaining: 14.9s\n",
      "594:\tlearn: 0.2325089\ttotal: 21.8s\tremaining: 14.8s\n",
      "595:\tlearn: 0.2325070\ttotal: 21.8s\tremaining: 14.8s\n",
      "596:\tlearn: 0.2325042\ttotal: 21.9s\tremaining: 14.8s\n",
      "597:\tlearn: 0.2325022\ttotal: 21.9s\tremaining: 14.7s\n",
      "598:\tlearn: 0.2324999\ttotal: 21.9s\tremaining: 14.7s\n",
      "599:\tlearn: 0.2324981\ttotal: 22s\tremaining: 14.7s\n",
      "600:\tlearn: 0.2324970\ttotal: 22s\tremaining: 14.6s\n",
      "601:\tlearn: 0.2324956\ttotal: 22.1s\tremaining: 14.6s\n",
      "602:\tlearn: 0.2324918\ttotal: 22.1s\tremaining: 14.5s\n",
      "603:\tlearn: 0.2324901\ttotal: 22.1s\tremaining: 14.5s\n",
      "604:\tlearn: 0.2324863\ttotal: 22.2s\tremaining: 14.5s\n",
      "605:\tlearn: 0.2324841\ttotal: 22.2s\tremaining: 14.4s\n",
      "606:\tlearn: 0.2324828\ttotal: 22.2s\tremaining: 14.4s\n",
      "607:\tlearn: 0.2324815\ttotal: 22.3s\tremaining: 14.4s\n",
      "608:\tlearn: 0.2324799\ttotal: 22.3s\tremaining: 14.3s\n",
      "609:\tlearn: 0.2324783\ttotal: 22.3s\tremaining: 14.3s\n",
      "610:\tlearn: 0.2324763\ttotal: 22.4s\tremaining: 14.2s\n",
      "611:\tlearn: 0.2324741\ttotal: 22.4s\tremaining: 14.2s\n",
      "612:\tlearn: 0.2324721\ttotal: 22.4s\tremaining: 14.2s\n",
      "613:\tlearn: 0.2324707\ttotal: 22.5s\tremaining: 14.1s\n",
      "614:\tlearn: 0.2324694\ttotal: 22.5s\tremaining: 14.1s\n",
      "615:\tlearn: 0.2324682\ttotal: 22.5s\tremaining: 14.1s\n",
      "616:\tlearn: 0.2324672\ttotal: 22.6s\tremaining: 14s\n",
      "617:\tlearn: 0.2324656\ttotal: 22.6s\tremaining: 14s\n",
      "618:\tlearn: 0.2324643\ttotal: 22.6s\tremaining: 13.9s\n",
      "619:\tlearn: 0.2324630\ttotal: 22.7s\tremaining: 13.9s\n",
      "620:\tlearn: 0.2324605\ttotal: 22.7s\tremaining: 13.9s\n",
      "621:\tlearn: 0.2324587\ttotal: 22.7s\tremaining: 13.8s\n",
      "622:\tlearn: 0.2324577\ttotal: 22.8s\tremaining: 13.8s\n",
      "623:\tlearn: 0.2324560\ttotal: 22.8s\tremaining: 13.7s\n",
      "624:\tlearn: 0.2324548\ttotal: 22.9s\tremaining: 13.7s\n",
      "625:\tlearn: 0.2324531\ttotal: 22.9s\tremaining: 13.7s\n",
      "626:\tlearn: 0.2324518\ttotal: 22.9s\tremaining: 13.6s\n",
      "627:\tlearn: 0.2324501\ttotal: 23s\tremaining: 13.6s\n",
      "628:\tlearn: 0.2324479\ttotal: 23s\tremaining: 13.6s\n",
      "629:\tlearn: 0.2324472\ttotal: 23s\tremaining: 13.5s\n",
      "630:\tlearn: 0.2324464\ttotal: 23.1s\tremaining: 13.5s\n",
      "631:\tlearn: 0.2324439\ttotal: 23.1s\tremaining: 13.5s\n",
      "632:\tlearn: 0.2324433\ttotal: 23.2s\tremaining: 13.4s\n",
      "633:\tlearn: 0.2324428\ttotal: 23.2s\tremaining: 13.4s\n",
      "634:\tlearn: 0.2324410\ttotal: 23.2s\tremaining: 13.4s\n",
      "635:\tlearn: 0.2324402\ttotal: 23.3s\tremaining: 13.3s\n",
      "636:\tlearn: 0.2324390\ttotal: 23.3s\tremaining: 13.3s\n",
      "637:\tlearn: 0.2324371\ttotal: 23.3s\tremaining: 13.2s\n",
      "638:\tlearn: 0.2324341\ttotal: 23.4s\tremaining: 13.2s\n",
      "639:\tlearn: 0.2324321\ttotal: 23.4s\tremaining: 13.2s\n",
      "640:\tlearn: 0.2324301\ttotal: 23.4s\tremaining: 13.1s\n",
      "641:\tlearn: 0.2324281\ttotal: 23.5s\tremaining: 13.1s\n",
      "642:\tlearn: 0.2324277\ttotal: 23.5s\tremaining: 13.1s\n",
      "643:\tlearn: 0.2324249\ttotal: 23.6s\tremaining: 13s\n",
      "644:\tlearn: 0.2324223\ttotal: 23.6s\tremaining: 13s\n",
      "645:\tlearn: 0.2324209\ttotal: 23.7s\tremaining: 13s\n",
      "646:\tlearn: 0.2324188\ttotal: 23.7s\tremaining: 12.9s\n",
      "647:\tlearn: 0.2324184\ttotal: 23.7s\tremaining: 12.9s\n",
      "648:\tlearn: 0.2324157\ttotal: 23.8s\tremaining: 12.9s\n"
     ]
    },
    {
     "name": "stdout",
     "output_type": "stream",
     "text": [
      "649:\tlearn: 0.2324147\ttotal: 23.8s\tremaining: 12.8s\n",
      "650:\tlearn: 0.2324136\ttotal: 23.8s\tremaining: 12.8s\n",
      "651:\tlearn: 0.2324114\ttotal: 23.9s\tremaining: 12.8s\n",
      "652:\tlearn: 0.2324095\ttotal: 23.9s\tremaining: 12.7s\n",
      "653:\tlearn: 0.2324072\ttotal: 24s\tremaining: 12.7s\n",
      "654:\tlearn: 0.2324057\ttotal: 24s\tremaining: 12.6s\n",
      "655:\tlearn: 0.2324042\ttotal: 24s\tremaining: 12.6s\n",
      "656:\tlearn: 0.2324024\ttotal: 24.1s\tremaining: 12.6s\n",
      "657:\tlearn: 0.2324017\ttotal: 24.1s\tremaining: 12.5s\n",
      "658:\tlearn: 0.2324000\ttotal: 24.1s\tremaining: 12.5s\n",
      "659:\tlearn: 0.2323998\ttotal: 24.2s\tremaining: 12.5s\n",
      "660:\tlearn: 0.2323984\ttotal: 24.2s\tremaining: 12.4s\n",
      "661:\tlearn: 0.2323956\ttotal: 24.3s\tremaining: 12.4s\n",
      "662:\tlearn: 0.2323941\ttotal: 24.3s\tremaining: 12.3s\n",
      "663:\tlearn: 0.2323929\ttotal: 24.3s\tremaining: 12.3s\n",
      "664:\tlearn: 0.2323917\ttotal: 24.4s\tremaining: 12.3s\n",
      "665:\tlearn: 0.2323905\ttotal: 24.4s\tremaining: 12.2s\n",
      "666:\tlearn: 0.2323888\ttotal: 24.4s\tremaining: 12.2s\n",
      "667:\tlearn: 0.2323866\ttotal: 24.5s\tremaining: 12.2s\n",
      "668:\tlearn: 0.2323853\ttotal: 24.5s\tremaining: 12.1s\n",
      "669:\tlearn: 0.2323846\ttotal: 24.5s\tremaining: 12.1s\n",
      "670:\tlearn: 0.2323840\ttotal: 24.6s\tremaining: 12.1s\n",
      "671:\tlearn: 0.2323837\ttotal: 24.6s\tremaining: 12s\n",
      "672:\tlearn: 0.2323830\ttotal: 24.7s\tremaining: 12s\n",
      "673:\tlearn: 0.2323825\ttotal: 24.7s\tremaining: 11.9s\n",
      "674:\tlearn: 0.2323817\ttotal: 24.7s\tremaining: 11.9s\n",
      "675:\tlearn: 0.2323812\ttotal: 24.8s\tremaining: 11.9s\n",
      "676:\tlearn: 0.2323803\ttotal: 24.8s\tremaining: 11.8s\n",
      "677:\tlearn: 0.2323785\ttotal: 24.8s\tremaining: 11.8s\n",
      "678:\tlearn: 0.2323771\ttotal: 24.9s\tremaining: 11.8s\n",
      "679:\tlearn: 0.2323768\ttotal: 24.9s\tremaining: 11.7s\n",
      "680:\tlearn: 0.2323744\ttotal: 24.9s\tremaining: 11.7s\n",
      "681:\tlearn: 0.2323728\ttotal: 25s\tremaining: 11.6s\n",
      "682:\tlearn: 0.2323714\ttotal: 25s\tremaining: 11.6s\n",
      "683:\tlearn: 0.2323701\ttotal: 25.1s\tremaining: 11.6s\n",
      "684:\tlearn: 0.2323679\ttotal: 25.1s\tremaining: 11.5s\n",
      "685:\tlearn: 0.2323673\ttotal: 25.1s\tremaining: 11.5s\n",
      "686:\tlearn: 0.2323655\ttotal: 25.2s\tremaining: 11.5s\n",
      "687:\tlearn: 0.2323645\ttotal: 25.2s\tremaining: 11.4s\n",
      "688:\tlearn: 0.2323629\ttotal: 25.2s\tremaining: 11.4s\n",
      "689:\tlearn: 0.2323615\ttotal: 25.3s\tremaining: 11.4s\n",
      "690:\tlearn: 0.2323586\ttotal: 25.3s\tremaining: 11.3s\n",
      "691:\tlearn: 0.2323575\ttotal: 25.3s\tremaining: 11.3s\n",
      "692:\tlearn: 0.2323558\ttotal: 25.4s\tremaining: 11.2s\n",
      "693:\tlearn: 0.2323555\ttotal: 25.4s\tremaining: 11.2s\n",
      "694:\tlearn: 0.2323531\ttotal: 25.5s\tremaining: 11.2s\n",
      "695:\tlearn: 0.2323514\ttotal: 25.5s\tremaining: 11.1s\n",
      "696:\tlearn: 0.2323499\ttotal: 25.6s\tremaining: 11.1s\n",
      "697:\tlearn: 0.2323491\ttotal: 25.6s\tremaining: 11.1s\n",
      "698:\tlearn: 0.2323471\ttotal: 25.6s\tremaining: 11s\n",
      "699:\tlearn: 0.2323447\ttotal: 25.7s\tremaining: 11s\n",
      "700:\tlearn: 0.2323431\ttotal: 25.7s\tremaining: 11s\n",
      "701:\tlearn: 0.2323423\ttotal: 25.7s\tremaining: 10.9s\n",
      "702:\tlearn: 0.2323415\ttotal: 25.8s\tremaining: 10.9s\n",
      "703:\tlearn: 0.2323412\ttotal: 25.8s\tremaining: 10.9s\n",
      "704:\tlearn: 0.2323393\ttotal: 25.9s\tremaining: 10.8s\n",
      "705:\tlearn: 0.2323373\ttotal: 25.9s\tremaining: 10.8s\n",
      "706:\tlearn: 0.2323368\ttotal: 25.9s\tremaining: 10.7s\n",
      "707:\tlearn: 0.2323355\ttotal: 26s\tremaining: 10.7s\n",
      "708:\tlearn: 0.2323342\ttotal: 26s\tremaining: 10.7s\n",
      "709:\tlearn: 0.2323328\ttotal: 26s\tremaining: 10.6s\n",
      "710:\tlearn: 0.2323321\ttotal: 26.1s\tremaining: 10.6s\n",
      "711:\tlearn: 0.2323309\ttotal: 26.1s\tremaining: 10.6s\n",
      "712:\tlearn: 0.2323296\ttotal: 26.1s\tremaining: 10.5s\n",
      "713:\tlearn: 0.2323287\ttotal: 26.2s\tremaining: 10.5s\n",
      "714:\tlearn: 0.2323266\ttotal: 26.2s\tremaining: 10.4s\n",
      "715:\tlearn: 0.2323248\ttotal: 26.2s\tremaining: 10.4s\n",
      "716:\tlearn: 0.2323241\ttotal: 26.3s\tremaining: 10.4s\n",
      "717:\tlearn: 0.2323221\ttotal: 26.3s\tremaining: 10.3s\n",
      "718:\tlearn: 0.2323207\ttotal: 26.4s\tremaining: 10.3s\n",
      "719:\tlearn: 0.2323190\ttotal: 26.4s\tremaining: 10.3s\n",
      "720:\tlearn: 0.2323165\ttotal: 26.4s\tremaining: 10.2s\n",
      "721:\tlearn: 0.2323146\ttotal: 26.5s\tremaining: 10.2s\n",
      "722:\tlearn: 0.2323129\ttotal: 26.5s\tremaining: 10.2s\n",
      "723:\tlearn: 0.2323114\ttotal: 26.6s\tremaining: 10.1s\n",
      "724:\tlearn: 0.2323100\ttotal: 26.6s\tremaining: 10.1s\n",
      "725:\tlearn: 0.2323088\ttotal: 26.6s\tremaining: 10.1s\n",
      "726:\tlearn: 0.2323067\ttotal: 26.7s\tremaining: 10s\n",
      "727:\tlearn: 0.2323043\ttotal: 26.7s\tremaining: 9.98s\n",
      "728:\tlearn: 0.2323036\ttotal: 26.7s\tremaining: 9.94s\n",
      "729:\tlearn: 0.2323024\ttotal: 26.8s\tremaining: 9.9s\n",
      "730:\tlearn: 0.2323003\ttotal: 26.8s\tremaining: 9.87s\n",
      "731:\tlearn: 0.2322979\ttotal: 26.9s\tremaining: 9.83s\n",
      "732:\tlearn: 0.2322961\ttotal: 26.9s\tremaining: 9.79s\n",
      "733:\tlearn: 0.2322946\ttotal: 26.9s\tremaining: 9.76s\n",
      "734:\tlearn: 0.2322939\ttotal: 27s\tremaining: 9.72s\n",
      "735:\tlearn: 0.2322919\ttotal: 27s\tremaining: 9.68s\n",
      "736:\tlearn: 0.2322906\ttotal: 27s\tremaining: 9.65s\n",
      "737:\tlearn: 0.2322886\ttotal: 27.1s\tremaining: 9.61s\n",
      "738:\tlearn: 0.2322875\ttotal: 27.1s\tremaining: 9.57s\n",
      "739:\tlearn: 0.2322864\ttotal: 27.2s\tremaining: 9.54s\n",
      "740:\tlearn: 0.2322846\ttotal: 27.2s\tremaining: 9.5s\n",
      "741:\tlearn: 0.2322836\ttotal: 27.2s\tremaining: 9.46s\n",
      "742:\tlearn: 0.2322822\ttotal: 27.3s\tremaining: 9.43s\n",
      "743:\tlearn: 0.2322807\ttotal: 27.3s\tremaining: 9.39s\n",
      "744:\tlearn: 0.2322794\ttotal: 27.3s\tremaining: 9.36s\n",
      "745:\tlearn: 0.2322777\ttotal: 27.4s\tremaining: 9.32s\n",
      "746:\tlearn: 0.2322765\ttotal: 27.4s\tremaining: 9.29s\n",
      "747:\tlearn: 0.2322752\ttotal: 27.5s\tremaining: 9.25s\n",
      "748:\tlearn: 0.2322744\ttotal: 27.5s\tremaining: 9.21s\n",
      "749:\tlearn: 0.2322722\ttotal: 27.5s\tremaining: 9.18s\n",
      "750:\tlearn: 0.2322711\ttotal: 27.6s\tremaining: 9.14s\n",
      "751:\tlearn: 0.2322699\ttotal: 27.6s\tremaining: 9.1s\n",
      "752:\tlearn: 0.2322690\ttotal: 27.6s\tremaining: 9.07s\n",
      "753:\tlearn: 0.2322675\ttotal: 27.7s\tremaining: 9.03s\n",
      "754:\tlearn: 0.2322662\ttotal: 27.7s\tremaining: 8.99s\n",
      "755:\tlearn: 0.2322649\ttotal: 27.8s\tremaining: 8.96s\n",
      "756:\tlearn: 0.2322636\ttotal: 27.8s\tremaining: 8.92s\n",
      "757:\tlearn: 0.2322619\ttotal: 27.8s\tremaining: 8.88s\n",
      "758:\tlearn: 0.2322600\ttotal: 27.9s\tremaining: 8.85s\n",
      "759:\tlearn: 0.2322576\ttotal: 27.9s\tremaining: 8.81s\n",
      "760:\tlearn: 0.2322573\ttotal: 27.9s\tremaining: 8.78s\n",
      "761:\tlearn: 0.2322555\ttotal: 28s\tremaining: 8.74s\n",
      "762:\tlearn: 0.2322540\ttotal: 28s\tremaining: 8.7s\n",
      "763:\tlearn: 0.2322522\ttotal: 28s\tremaining: 8.66s\n",
      "764:\tlearn: 0.2322505\ttotal: 28.1s\tremaining: 8.63s\n",
      "765:\tlearn: 0.2322486\ttotal: 28.1s\tremaining: 8.59s\n",
      "766:\tlearn: 0.2322477\ttotal: 28.2s\tremaining: 8.55s\n",
      "767:\tlearn: 0.2322464\ttotal: 28.2s\tremaining: 8.52s\n",
      "768:\tlearn: 0.2322454\ttotal: 28.2s\tremaining: 8.48s\n",
      "769:\tlearn: 0.2322428\ttotal: 28.3s\tremaining: 8.45s\n",
      "770:\tlearn: 0.2322405\ttotal: 28.3s\tremaining: 8.41s\n",
      "771:\tlearn: 0.2322388\ttotal: 28.4s\tremaining: 8.38s\n",
      "772:\tlearn: 0.2322372\ttotal: 28.4s\tremaining: 8.34s\n",
      "773:\tlearn: 0.2322355\ttotal: 28.4s\tremaining: 8.3s\n",
      "774:\tlearn: 0.2322349\ttotal: 28.5s\tremaining: 8.27s\n",
      "775:\tlearn: 0.2322331\ttotal: 28.5s\tremaining: 8.23s\n",
      "776:\tlearn: 0.2322315\ttotal: 28.6s\tremaining: 8.2s\n",
      "777:\tlearn: 0.2322293\ttotal: 28.6s\tremaining: 8.16s\n",
      "778:\tlearn: 0.2322283\ttotal: 28.6s\tremaining: 8.13s\n",
      "779:\tlearn: 0.2322271\ttotal: 28.7s\tremaining: 8.09s\n",
      "780:\tlearn: 0.2322267\ttotal: 28.7s\tremaining: 8.05s\n",
      "781:\tlearn: 0.2322255\ttotal: 28.8s\tremaining: 8.02s\n",
      "782:\tlearn: 0.2322247\ttotal: 28.8s\tremaining: 7.98s\n",
      "783:\tlearn: 0.2322230\ttotal: 28.8s\tremaining: 7.94s\n",
      "784:\tlearn: 0.2322215\ttotal: 28.9s\tremaining: 7.91s\n",
      "785:\tlearn: 0.2322200\ttotal: 28.9s\tremaining: 7.87s\n",
      "786:\tlearn: 0.2322176\ttotal: 28.9s\tremaining: 7.83s\n",
      "787:\tlearn: 0.2322168\ttotal: 29s\tremaining: 7.8s\n",
      "788:\tlearn: 0.2322154\ttotal: 29s\tremaining: 7.76s\n",
      "789:\tlearn: 0.2322140\ttotal: 29.1s\tremaining: 7.72s\n",
      "790:\tlearn: 0.2322132\ttotal: 29.1s\tremaining: 7.68s\n",
      "791:\tlearn: 0.2322111\ttotal: 29.1s\tremaining: 7.65s\n",
      "792:\tlearn: 0.2322099\ttotal: 29.2s\tremaining: 7.61s\n",
      "793:\tlearn: 0.2322085\ttotal: 29.2s\tremaining: 7.58s\n",
      "794:\tlearn: 0.2322077\ttotal: 29.2s\tremaining: 7.54s\n",
      "795:\tlearn: 0.2322065\ttotal: 29.3s\tremaining: 7.5s\n",
      "796:\tlearn: 0.2322052\ttotal: 29.3s\tremaining: 7.46s\n",
      "797:\tlearn: 0.2322044\ttotal: 29.3s\tremaining: 7.43s\n",
      "798:\tlearn: 0.2322034\ttotal: 29.4s\tremaining: 7.39s\n",
      "799:\tlearn: 0.2322018\ttotal: 29.4s\tremaining: 7.35s\n",
      "800:\tlearn: 0.2322013\ttotal: 29.5s\tremaining: 7.32s\n",
      "801:\tlearn: 0.2322007\ttotal: 29.5s\tremaining: 7.28s\n",
      "802:\tlearn: 0.2321994\ttotal: 29.5s\tremaining: 7.25s\n",
      "803:\tlearn: 0.2321974\ttotal: 29.6s\tremaining: 7.21s\n",
      "804:\tlearn: 0.2321957\ttotal: 29.6s\tremaining: 7.17s\n",
      "805:\tlearn: 0.2321947\ttotal: 29.6s\tremaining: 7.14s\n",
      "806:\tlearn: 0.2321936\ttotal: 29.7s\tremaining: 7.1s\n",
      "807:\tlearn: 0.2321918\ttotal: 29.7s\tremaining: 7.06s\n",
      "808:\tlearn: 0.2321911\ttotal: 29.8s\tremaining: 7.03s\n",
      "809:\tlearn: 0.2321900\ttotal: 29.8s\tremaining: 6.99s\n",
      "810:\tlearn: 0.2321886\ttotal: 29.8s\tremaining: 6.95s\n",
      "811:\tlearn: 0.2321880\ttotal: 29.9s\tremaining: 6.91s\n"
     ]
    },
    {
     "name": "stdout",
     "output_type": "stream",
     "text": [
      "812:\tlearn: 0.2321869\ttotal: 29.9s\tremaining: 6.88s\n",
      "813:\tlearn: 0.2321862\ttotal: 29.9s\tremaining: 6.84s\n",
      "814:\tlearn: 0.2321854\ttotal: 30s\tremaining: 6.8s\n",
      "815:\tlearn: 0.2321831\ttotal: 30s\tremaining: 6.76s\n",
      "816:\tlearn: 0.2321816\ttotal: 30s\tremaining: 6.73s\n",
      "817:\tlearn: 0.2321802\ttotal: 30.1s\tremaining: 6.69s\n",
      "818:\tlearn: 0.2321795\ttotal: 30.1s\tremaining: 6.65s\n",
      "819:\tlearn: 0.2321781\ttotal: 30.1s\tremaining: 6.62s\n",
      "820:\tlearn: 0.2321767\ttotal: 30.2s\tremaining: 6.58s\n",
      "821:\tlearn: 0.2321757\ttotal: 30.2s\tremaining: 6.54s\n",
      "822:\tlearn: 0.2321742\ttotal: 30.2s\tremaining: 6.5s\n",
      "823:\tlearn: 0.2321723\ttotal: 30.3s\tremaining: 6.47s\n",
      "824:\tlearn: 0.2321708\ttotal: 30.3s\tremaining: 6.43s\n",
      "825:\tlearn: 0.2321698\ttotal: 30.3s\tremaining: 6.39s\n",
      "826:\tlearn: 0.2321691\ttotal: 30.4s\tremaining: 6.36s\n",
      "827:\tlearn: 0.2321681\ttotal: 30.4s\tremaining: 6.32s\n",
      "828:\tlearn: 0.2321668\ttotal: 30.4s\tremaining: 6.28s\n",
      "829:\tlearn: 0.2321664\ttotal: 30.5s\tremaining: 6.24s\n",
      "830:\tlearn: 0.2321656\ttotal: 30.5s\tremaining: 6.21s\n",
      "831:\tlearn: 0.2321647\ttotal: 30.6s\tremaining: 6.17s\n",
      "832:\tlearn: 0.2321632\ttotal: 30.6s\tremaining: 6.13s\n",
      "833:\tlearn: 0.2321627\ttotal: 30.6s\tremaining: 6.09s\n",
      "834:\tlearn: 0.2321620\ttotal: 30.7s\tremaining: 6.06s\n",
      "835:\tlearn: 0.2321601\ttotal: 30.7s\tremaining: 6.02s\n",
      "836:\tlearn: 0.2321585\ttotal: 30.7s\tremaining: 5.98s\n",
      "837:\tlearn: 0.2321571\ttotal: 30.8s\tremaining: 5.95s\n",
      "838:\tlearn: 0.2321561\ttotal: 30.8s\tremaining: 5.91s\n",
      "839:\tlearn: 0.2321546\ttotal: 30.8s\tremaining: 5.87s\n",
      "840:\tlearn: 0.2321534\ttotal: 30.9s\tremaining: 5.84s\n",
      "841:\tlearn: 0.2321525\ttotal: 30.9s\tremaining: 5.8s\n",
      "842:\tlearn: 0.2321520\ttotal: 31s\tremaining: 5.76s\n",
      "843:\tlearn: 0.2321501\ttotal: 31s\tremaining: 5.73s\n",
      "844:\tlearn: 0.2321495\ttotal: 31s\tremaining: 5.69s\n",
      "845:\tlearn: 0.2321485\ttotal: 31.1s\tremaining: 5.66s\n",
      "846:\tlearn: 0.2321478\ttotal: 31.1s\tremaining: 5.62s\n",
      "847:\tlearn: 0.2321466\ttotal: 31.1s\tremaining: 5.58s\n",
      "848:\tlearn: 0.2321454\ttotal: 31.2s\tremaining: 5.55s\n",
      "849:\tlearn: 0.2321439\ttotal: 31.2s\tremaining: 5.51s\n",
      "850:\tlearn: 0.2321423\ttotal: 31.3s\tremaining: 5.47s\n",
      "851:\tlearn: 0.2321410\ttotal: 31.3s\tremaining: 5.44s\n",
      "852:\tlearn: 0.2321395\ttotal: 31.3s\tremaining: 5.4s\n",
      "853:\tlearn: 0.2321392\ttotal: 31.4s\tremaining: 5.36s\n",
      "854:\tlearn: 0.2321379\ttotal: 31.4s\tremaining: 5.33s\n",
      "855:\tlearn: 0.2321372\ttotal: 31.4s\tremaining: 5.29s\n",
      "856:\tlearn: 0.2321352\ttotal: 31.5s\tremaining: 5.25s\n",
      "857:\tlearn: 0.2321342\ttotal: 31.5s\tremaining: 5.21s\n",
      "858:\tlearn: 0.2321332\ttotal: 31.5s\tremaining: 5.18s\n",
      "859:\tlearn: 0.2321324\ttotal: 31.6s\tremaining: 5.14s\n",
      "860:\tlearn: 0.2321311\ttotal: 31.6s\tremaining: 5.1s\n",
      "861:\tlearn: 0.2321300\ttotal: 31.6s\tremaining: 5.07s\n",
      "862:\tlearn: 0.2321288\ttotal: 31.7s\tremaining: 5.03s\n",
      "863:\tlearn: 0.2321277\ttotal: 31.7s\tremaining: 4.99s\n",
      "864:\tlearn: 0.2321271\ttotal: 31.8s\tremaining: 4.96s\n",
      "865:\tlearn: 0.2321261\ttotal: 31.8s\tremaining: 4.92s\n",
      "866:\tlearn: 0.2321247\ttotal: 31.8s\tremaining: 4.88s\n",
      "867:\tlearn: 0.2321231\ttotal: 31.9s\tremaining: 4.84s\n",
      "868:\tlearn: 0.2321223\ttotal: 31.9s\tremaining: 4.81s\n",
      "869:\tlearn: 0.2321212\ttotal: 31.9s\tremaining: 4.77s\n",
      "870:\tlearn: 0.2321198\ttotal: 32s\tremaining: 4.73s\n",
      "871:\tlearn: 0.2321183\ttotal: 32s\tremaining: 4.7s\n",
      "872:\tlearn: 0.2321173\ttotal: 32s\tremaining: 4.66s\n",
      "873:\tlearn: 0.2321161\ttotal: 32.1s\tremaining: 4.62s\n",
      "874:\tlearn: 0.2321150\ttotal: 32.1s\tremaining: 4.58s\n",
      "875:\tlearn: 0.2321146\ttotal: 32.1s\tremaining: 4.55s\n",
      "876:\tlearn: 0.2321138\ttotal: 32.2s\tremaining: 4.51s\n",
      "877:\tlearn: 0.2321136\ttotal: 32.2s\tremaining: 4.47s\n",
      "878:\tlearn: 0.2321129\ttotal: 32.2s\tremaining: 4.44s\n",
      "879:\tlearn: 0.2321114\ttotal: 32.3s\tremaining: 4.4s\n",
      "880:\tlearn: 0.2321112\ttotal: 32.3s\tremaining: 4.36s\n",
      "881:\tlearn: 0.2321101\ttotal: 32.3s\tremaining: 4.33s\n",
      "882:\tlearn: 0.2321087\ttotal: 32.4s\tremaining: 4.29s\n",
      "883:\tlearn: 0.2321071\ttotal: 32.4s\tremaining: 4.25s\n",
      "884:\tlearn: 0.2321061\ttotal: 32.4s\tremaining: 4.21s\n",
      "885:\tlearn: 0.2321045\ttotal: 32.5s\tremaining: 4.18s\n",
      "886:\tlearn: 0.2321032\ttotal: 32.5s\tremaining: 4.14s\n",
      "887:\tlearn: 0.2321021\ttotal: 32.5s\tremaining: 4.1s\n",
      "888:\tlearn: 0.2321002\ttotal: 32.6s\tremaining: 4.07s\n",
      "889:\tlearn: 0.2321002\ttotal: 32.6s\tremaining: 4.03s\n",
      "890:\tlearn: 0.2320993\ttotal: 32.6s\tremaining: 3.99s\n",
      "891:\tlearn: 0.2320987\ttotal: 32.7s\tremaining: 3.96s\n",
      "892:\tlearn: 0.2320981\ttotal: 32.7s\tremaining: 3.92s\n",
      "893:\tlearn: 0.2320968\ttotal: 32.7s\tremaining: 3.88s\n",
      "894:\tlearn: 0.2320953\ttotal: 32.8s\tremaining: 3.85s\n",
      "895:\tlearn: 0.2320946\ttotal: 32.8s\tremaining: 3.81s\n",
      "896:\tlearn: 0.2320935\ttotal: 32.9s\tremaining: 3.77s\n",
      "897:\tlearn: 0.2320920\ttotal: 32.9s\tremaining: 3.73s\n",
      "898:\tlearn: 0.2320909\ttotal: 32.9s\tremaining: 3.7s\n",
      "899:\tlearn: 0.2320895\ttotal: 33s\tremaining: 3.66s\n",
      "900:\tlearn: 0.2320878\ttotal: 33s\tremaining: 3.62s\n",
      "901:\tlearn: 0.2320864\ttotal: 33s\tremaining: 3.59s\n",
      "902:\tlearn: 0.2320854\ttotal: 33.1s\tremaining: 3.55s\n",
      "903:\tlearn: 0.2320839\ttotal: 33.1s\tremaining: 3.52s\n",
      "904:\tlearn: 0.2320818\ttotal: 33.1s\tremaining: 3.48s\n",
      "905:\tlearn: 0.2320810\ttotal: 33.2s\tremaining: 3.44s\n",
      "906:\tlearn: 0.2320781\ttotal: 33.2s\tremaining: 3.4s\n",
      "907:\tlearn: 0.2320772\ttotal: 33.2s\tremaining: 3.37s\n",
      "908:\tlearn: 0.2320762\ttotal: 33.3s\tremaining: 3.33s\n",
      "909:\tlearn: 0.2320748\ttotal: 33.3s\tremaining: 3.29s\n",
      "910:\tlearn: 0.2320728\ttotal: 33.4s\tremaining: 3.26s\n",
      "911:\tlearn: 0.2320713\ttotal: 33.4s\tremaining: 3.22s\n",
      "912:\tlearn: 0.2320704\ttotal: 33.4s\tremaining: 3.18s\n",
      "913:\tlearn: 0.2320689\ttotal: 33.5s\tremaining: 3.15s\n",
      "914:\tlearn: 0.2320678\ttotal: 33.5s\tremaining: 3.11s\n",
      "915:\tlearn: 0.2320664\ttotal: 33.5s\tremaining: 3.07s\n",
      "916:\tlearn: 0.2320646\ttotal: 33.6s\tremaining: 3.04s\n",
      "917:\tlearn: 0.2320633\ttotal: 33.6s\tremaining: 3s\n",
      "918:\tlearn: 0.2320626\ttotal: 33.6s\tremaining: 2.96s\n",
      "919:\tlearn: 0.2320618\ttotal: 33.7s\tremaining: 2.93s\n",
      "920:\tlearn: 0.2320607\ttotal: 33.7s\tremaining: 2.89s\n",
      "921:\tlearn: 0.2320596\ttotal: 33.7s\tremaining: 2.85s\n",
      "922:\tlearn: 0.2320588\ttotal: 33.8s\tremaining: 2.82s\n",
      "923:\tlearn: 0.2320577\ttotal: 33.8s\tremaining: 2.78s\n",
      "924:\tlearn: 0.2320559\ttotal: 33.9s\tremaining: 2.75s\n",
      "925:\tlearn: 0.2320554\ttotal: 33.9s\tremaining: 2.71s\n",
      "926:\tlearn: 0.2320544\ttotal: 33.9s\tremaining: 2.67s\n",
      "927:\tlearn: 0.2320533\ttotal: 34s\tremaining: 2.63s\n",
      "928:\tlearn: 0.2320523\ttotal: 34s\tremaining: 2.6s\n",
      "929:\tlearn: 0.2320509\ttotal: 34s\tremaining: 2.56s\n",
      "930:\tlearn: 0.2320502\ttotal: 34.1s\tremaining: 2.52s\n",
      "931:\tlearn: 0.2320485\ttotal: 34.1s\tremaining: 2.49s\n",
      "932:\tlearn: 0.2320467\ttotal: 34.2s\tremaining: 2.45s\n",
      "933:\tlearn: 0.2320461\ttotal: 34.2s\tremaining: 2.42s\n",
      "934:\tlearn: 0.2320452\ttotal: 34.2s\tremaining: 2.38s\n",
      "935:\tlearn: 0.2320430\ttotal: 34.3s\tremaining: 2.34s\n",
      "936:\tlearn: 0.2320423\ttotal: 34.3s\tremaining: 2.31s\n",
      "937:\tlearn: 0.2320415\ttotal: 34.3s\tremaining: 2.27s\n",
      "938:\tlearn: 0.2320408\ttotal: 34.4s\tremaining: 2.23s\n",
      "939:\tlearn: 0.2320399\ttotal: 34.4s\tremaining: 2.2s\n",
      "940:\tlearn: 0.2320398\ttotal: 34.4s\tremaining: 2.16s\n",
      "941:\tlearn: 0.2320391\ttotal: 34.5s\tremaining: 2.12s\n",
      "942:\tlearn: 0.2320381\ttotal: 34.5s\tremaining: 2.09s\n",
      "943:\tlearn: 0.2320372\ttotal: 34.6s\tremaining: 2.05s\n",
      "944:\tlearn: 0.2320360\ttotal: 34.6s\tremaining: 2.01s\n",
      "945:\tlearn: 0.2320353\ttotal: 34.6s\tremaining: 1.98s\n",
      "946:\tlearn: 0.2320349\ttotal: 34.7s\tremaining: 1.94s\n",
      "947:\tlearn: 0.2320335\ttotal: 34.7s\tremaining: 1.9s\n",
      "948:\tlearn: 0.2320334\ttotal: 34.7s\tremaining: 1.87s\n",
      "949:\tlearn: 0.2320324\ttotal: 34.8s\tremaining: 1.83s\n",
      "950:\tlearn: 0.2320321\ttotal: 34.8s\tremaining: 1.79s\n",
      "951:\tlearn: 0.2320311\ttotal: 34.8s\tremaining: 1.76s\n",
      "952:\tlearn: 0.2320307\ttotal: 34.9s\tremaining: 1.72s\n",
      "953:\tlearn: 0.2320298\ttotal: 34.9s\tremaining: 1.68s\n",
      "954:\tlearn: 0.2320290\ttotal: 34.9s\tremaining: 1.65s\n",
      "955:\tlearn: 0.2320272\ttotal: 35s\tremaining: 1.61s\n",
      "956:\tlearn: 0.2320261\ttotal: 35s\tremaining: 1.57s\n",
      "957:\tlearn: 0.2320247\ttotal: 35.1s\tremaining: 1.54s\n",
      "958:\tlearn: 0.2320233\ttotal: 35.1s\tremaining: 1.5s\n",
      "959:\tlearn: 0.2320231\ttotal: 35.1s\tremaining: 1.46s\n",
      "960:\tlearn: 0.2320229\ttotal: 35.1s\tremaining: 1.43s\n",
      "961:\tlearn: 0.2320213\ttotal: 35.2s\tremaining: 1.39s\n",
      "962:\tlearn: 0.2320202\ttotal: 35.2s\tremaining: 1.35s\n",
      "963:\tlearn: 0.2320195\ttotal: 35.3s\tremaining: 1.32s\n",
      "964:\tlearn: 0.2320176\ttotal: 35.3s\tremaining: 1.28s\n",
      "965:\tlearn: 0.2320161\ttotal: 35.3s\tremaining: 1.24s\n",
      "966:\tlearn: 0.2320153\ttotal: 35.4s\tremaining: 1.21s\n",
      "967:\tlearn: 0.2320146\ttotal: 35.4s\tremaining: 1.17s\n",
      "968:\tlearn: 0.2320140\ttotal: 35.4s\tremaining: 1.13s\n",
      "969:\tlearn: 0.2320127\ttotal: 35.5s\tremaining: 1.1s\n",
      "970:\tlearn: 0.2320115\ttotal: 35.5s\tremaining: 1.06s\n",
      "971:\tlearn: 0.2320083\ttotal: 35.5s\tremaining: 1.02s\n",
      "972:\tlearn: 0.2320080\ttotal: 35.6s\tremaining: 987ms\n"
     ]
    },
    {
     "name": "stdout",
     "output_type": "stream",
     "text": [
      "973:\tlearn: 0.2320068\ttotal: 35.6s\tremaining: 951ms\n",
      "974:\tlearn: 0.2320050\ttotal: 35.7s\tremaining: 914ms\n",
      "975:\tlearn: 0.2320036\ttotal: 35.7s\tremaining: 878ms\n",
      "976:\tlearn: 0.2320015\ttotal: 35.7s\tremaining: 841ms\n",
      "977:\tlearn: 0.2319988\ttotal: 35.8s\tremaining: 805ms\n",
      "978:\tlearn: 0.2319965\ttotal: 35.8s\tremaining: 768ms\n",
      "979:\tlearn: 0.2319962\ttotal: 35.8s\tremaining: 731ms\n",
      "980:\tlearn: 0.2319943\ttotal: 35.9s\tremaining: 695ms\n",
      "981:\tlearn: 0.2319933\ttotal: 35.9s\tremaining: 658ms\n",
      "982:\tlearn: 0.2319918\ttotal: 35.9s\tremaining: 621ms\n",
      "983:\tlearn: 0.2319915\ttotal: 36s\tremaining: 585ms\n",
      "984:\tlearn: 0.2319908\ttotal: 36s\tremaining: 548ms\n",
      "985:\tlearn: 0.2319897\ttotal: 36.1s\tremaining: 512ms\n",
      "986:\tlearn: 0.2319895\ttotal: 36.1s\tremaining: 475ms\n",
      "987:\tlearn: 0.2319894\ttotal: 36.1s\tremaining: 439ms\n",
      "988:\tlearn: 0.2319876\ttotal: 36.1s\tremaining: 402ms\n",
      "989:\tlearn: 0.2319864\ttotal: 36.2s\tremaining: 366ms\n",
      "990:\tlearn: 0.2319854\ttotal: 36.2s\tremaining: 329ms\n",
      "991:\tlearn: 0.2319847\ttotal: 36.3s\tremaining: 293ms\n",
      "992:\tlearn: 0.2319835\ttotal: 36.3s\tremaining: 256ms\n",
      "993:\tlearn: 0.2319822\ttotal: 36.4s\tremaining: 219ms\n",
      "994:\tlearn: 0.2319808\ttotal: 36.4s\tremaining: 183ms\n",
      "995:\tlearn: 0.2319799\ttotal: 36.4s\tremaining: 146ms\n",
      "996:\tlearn: 0.2319782\ttotal: 36.5s\tremaining: 110ms\n",
      "997:\tlearn: 0.2319774\ttotal: 36.5s\tremaining: 73.2ms\n",
      "998:\tlearn: 0.2319762\ttotal: 36.6s\tremaining: 36.6ms\n",
      "999:\tlearn: 0.2319760\ttotal: 36.6s\tremaining: 0us\n"
     ]
    },
    {
     "data": {
      "text/plain": [
       "GridSearchCV(cv=5, error_score=nan,\n",
       "             estimator=<catboost.core.CatBoostRegressor object at 0x0000020897FE7EC8>,\n",
       "             iid='deprecated', n_jobs=10,\n",
       "             param_grid={'learning_rate': array([0.01, 0.02, 0.03, 0.04, 0.05, 0.06, 0.07, 0.08, 0.09])},\n",
       "             pre_dispatch='2*n_jobs', refit=True, return_train_score=False,\n",
       "             scoring='neg_mean_squared_error', verbose=2)"
      ]
     },
     "execution_count": 48,
     "metadata": {},
     "output_type": "execute_result"
    }
   ],
   "source": [
    "search.fit(X_train,y_train)"
   ]
  },
  {
   "cell_type": "code",
   "execution_count": 49,
   "metadata": {},
   "outputs": [
    {
     "data": {
      "text/plain": [
       "{'learning_rate': 0.01}"
      ]
     },
     "execution_count": 49,
     "metadata": {},
     "output_type": "execute_result"
    }
   ],
   "source": [
    "search.best_params_"
   ]
  },
  {
   "cell_type": "code",
   "execution_count": 50,
   "metadata": {},
   "outputs": [
    {
     "data": {
      "text/plain": [
       "-0.05416058943637192"
      ]
     },
     "execution_count": 50,
     "metadata": {},
     "output_type": "execute_result"
    }
   ],
   "source": [
    "search.best_score_"
   ]
  },
  {
   "cell_type": "code",
   "execution_count": null,
   "metadata": {},
   "outputs": [],
   "source": []
  },
  {
   "cell_type": "code",
   "execution_count": null,
   "metadata": {},
   "outputs": [],
   "source": []
  },
  {
   "cell_type": "markdown",
   "metadata": {},
   "source": [
    "## XGBoost"
   ]
  },
  {
   "cell_type": "code",
   "execution_count": 124,
   "metadata": {},
   "outputs": [],
   "source": []
  },
  {
   "cell_type": "code",
   "execution_count": 169,
   "metadata": {},
   "outputs": [],
   "source": [
    "boost=XGBRegressor()"
   ]
  },
  {
   "cell_type": "code",
   "execution_count": 170,
   "metadata": {},
   "outputs": [
    {
     "data": {
      "text/plain": [
       "XGBRegressor(base_score=0.5, booster='gbtree', colsample_bylevel=1,\n",
       "             colsample_bynode=1, colsample_bytree=1, gamma=0, gpu_id=-1,\n",
       "             importance_type='gain', interaction_constraints='',\n",
       "             learning_rate=0.300000012, max_delta_step=0, max_depth=6,\n",
       "             min_child_weight=1, missing=nan, monotone_constraints='()',\n",
       "             n_estimators=100, n_jobs=0, num_parallel_tree=1,\n",
       "             objective='reg:squarederror', random_state=0, reg_alpha=0,\n",
       "             reg_lambda=1, scale_pos_weight=1, subsample=1, tree_method='exact',\n",
       "             validate_parameters=1, verbosity=None)"
      ]
     },
     "execution_count": 170,
     "metadata": {},
     "output_type": "execute_result"
    }
   ],
   "source": [
    "boost.fit(X_train,y_train)"
   ]
  },
  {
   "cell_type": "code",
   "execution_count": 171,
   "metadata": {},
   "outputs": [
    {
     "data": {
      "text/html": [
       "<div>\n",
       "<style scoped>\n",
       "    .dataframe tbody tr th:only-of-type {\n",
       "        vertical-align: middle;\n",
       "    }\n",
       "\n",
       "    .dataframe tbody tr th {\n",
       "        vertical-align: top;\n",
       "    }\n",
       "\n",
       "    .dataframe thead th {\n",
       "        text-align: right;\n",
       "    }\n",
       "</style>\n",
       "<table border=\"1\" class=\"dataframe\">\n",
       "  <thead>\n",
       "    <tr style=\"text-align: right;\">\n",
       "      <th></th>\n",
       "      <th>Course_ID</th>\n",
       "      <th>Course_Domain</th>\n",
       "      <th>Course_Type</th>\n",
       "      <th>Short_Promotion</th>\n",
       "      <th>Public_Holiday</th>\n",
       "      <th>Long_Promotion</th>\n",
       "      <th>Competition_Metric</th>\n",
       "      <th>Day_of_2_Weeks</th>\n",
       "      <th>Week_No</th>\n",
       "      <th>Year_No</th>\n",
       "      <th>Target_Course_ID</th>\n",
       "      <th>Group_Traffic</th>\n",
       "    </tr>\n",
       "  </thead>\n",
       "  <tbody>\n",
       "    <tr>\n",
       "      <th>0</th>\n",
       "      <td>1</td>\n",
       "      <td>1</td>\n",
       "      <td>0</td>\n",
       "      <td>1</td>\n",
       "      <td>0</td>\n",
       "      <td>1</td>\n",
       "      <td>0.007</td>\n",
       "      <td>1</td>\n",
       "      <td>23</td>\n",
       "      <td>3</td>\n",
       "      <td>107.0</td>\n",
       "      <td>14175.0</td>\n",
       "    </tr>\n",
       "    <tr>\n",
       "      <th>1</th>\n",
       "      <td>1</td>\n",
       "      <td>1</td>\n",
       "      <td>0</td>\n",
       "      <td>1</td>\n",
       "      <td>0</td>\n",
       "      <td>1</td>\n",
       "      <td>0.007</td>\n",
       "      <td>2</td>\n",
       "      <td>23</td>\n",
       "      <td>3</td>\n",
       "      <td>123.0</td>\n",
       "      <td>17850.0</td>\n",
       "    </tr>\n",
       "    <tr>\n",
       "      <th>2</th>\n",
       "      <td>1</td>\n",
       "      <td>1</td>\n",
       "      <td>0</td>\n",
       "      <td>1</td>\n",
       "      <td>0</td>\n",
       "      <td>1</td>\n",
       "      <td>0.007</td>\n",
       "      <td>3</td>\n",
       "      <td>23</td>\n",
       "      <td>3</td>\n",
       "      <td>96.5</td>\n",
       "      <td>12988.5</td>\n",
       "    </tr>\n",
       "    <tr>\n",
       "      <th>3</th>\n",
       "      <td>1</td>\n",
       "      <td>1</td>\n",
       "      <td>0</td>\n",
       "      <td>1</td>\n",
       "      <td>0</td>\n",
       "      <td>1</td>\n",
       "      <td>0.007</td>\n",
       "      <td>4</td>\n",
       "      <td>23</td>\n",
       "      <td>3</td>\n",
       "      <td>93.0</td>\n",
       "      <td>12484.5</td>\n",
       "    </tr>\n",
       "    <tr>\n",
       "      <th>4</th>\n",
       "      <td>1</td>\n",
       "      <td>1</td>\n",
       "      <td>0</td>\n",
       "      <td>0</td>\n",
       "      <td>0</td>\n",
       "      <td>1</td>\n",
       "      <td>0.007</td>\n",
       "      <td>5</td>\n",
       "      <td>23</td>\n",
       "      <td>3</td>\n",
       "      <td>46.0</td>\n",
       "      <td>7245.0</td>\n",
       "    </tr>\n",
       "    <tr>\n",
       "      <th>...</th>\n",
       "      <td>...</td>\n",
       "      <td>...</td>\n",
       "      <td>...</td>\n",
       "      <td>...</td>\n",
       "      <td>...</td>\n",
       "      <td>...</td>\n",
       "      <td>...</td>\n",
       "      <td>...</td>\n",
       "      <td>...</td>\n",
       "      <td>...</td>\n",
       "      <td>...</td>\n",
       "      <td>...</td>\n",
       "    </tr>\n",
       "    <tr>\n",
       "      <th>35995</th>\n",
       "      <td>600</td>\n",
       "      <td>3</td>\n",
       "      <td>2</td>\n",
       "      <td>1</td>\n",
       "      <td>0</td>\n",
       "      <td>1</td>\n",
       "      <td>0.070</td>\n",
       "      <td>14</td>\n",
       "      <td>30</td>\n",
       "      <td>3</td>\n",
       "      <td>149.0</td>\n",
       "      <td>10993.5</td>\n",
       "    </tr>\n",
       "    <tr>\n",
       "      <th>35996</th>\n",
       "      <td>600</td>\n",
       "      <td>3</td>\n",
       "      <td>2</td>\n",
       "      <td>1</td>\n",
       "      <td>0</td>\n",
       "      <td>1</td>\n",
       "      <td>0.070</td>\n",
       "      <td>1</td>\n",
       "      <td>31</td>\n",
       "      <td>3</td>\n",
       "      <td>129.0</td>\n",
       "      <td>9796.5</td>\n",
       "    </tr>\n",
       "    <tr>\n",
       "      <th>35997</th>\n",
       "      <td>600</td>\n",
       "      <td>3</td>\n",
       "      <td>2</td>\n",
       "      <td>1</td>\n",
       "      <td>0</td>\n",
       "      <td>1</td>\n",
       "      <td>0.070</td>\n",
       "      <td>2</td>\n",
       "      <td>31</td>\n",
       "      <td>3</td>\n",
       "      <td>125.0</td>\n",
       "      <td>9576.0</td>\n",
       "    </tr>\n",
       "    <tr>\n",
       "      <th>35998</th>\n",
       "      <td>600</td>\n",
       "      <td>3</td>\n",
       "      <td>2</td>\n",
       "      <td>1</td>\n",
       "      <td>0</td>\n",
       "      <td>1</td>\n",
       "      <td>0.070</td>\n",
       "      <td>3</td>\n",
       "      <td>31</td>\n",
       "      <td>3</td>\n",
       "      <td>124.0</td>\n",
       "      <td>9124.5</td>\n",
       "    </tr>\n",
       "    <tr>\n",
       "      <th>35999</th>\n",
       "      <td>600</td>\n",
       "      <td>3</td>\n",
       "      <td>2</td>\n",
       "      <td>1</td>\n",
       "      <td>0</td>\n",
       "      <td>1</td>\n",
       "      <td>0.070</td>\n",
       "      <td>4</td>\n",
       "      <td>31</td>\n",
       "      <td>3</td>\n",
       "      <td>129.5</td>\n",
       "      <td>9481.5</td>\n",
       "    </tr>\n",
       "  </tbody>\n",
       "</table>\n",
       "<p>36000 rows × 12 columns</p>\n",
       "</div>"
      ],
      "text/plain": [
       "       Course_ID  Course_Domain  Course_Type  Short_Promotion  Public_Holiday  \\\n",
       "0              1              1            0                1               0   \n",
       "1              1              1            0                1               0   \n",
       "2              1              1            0                1               0   \n",
       "3              1              1            0                1               0   \n",
       "4              1              1            0                0               0   \n",
       "...          ...            ...          ...              ...             ...   \n",
       "35995        600              3            2                1               0   \n",
       "35996        600              3            2                1               0   \n",
       "35997        600              3            2                1               0   \n",
       "35998        600              3            2                1               0   \n",
       "35999        600              3            2                1               0   \n",
       "\n",
       "       Long_Promotion  Competition_Metric  Day_of_2_Weeks  Week_No  Year_No  \\\n",
       "0                   1               0.007               1       23        3   \n",
       "1                   1               0.007               2       23        3   \n",
       "2                   1               0.007               3       23        3   \n",
       "3                   1               0.007               4       23        3   \n",
       "4                   1               0.007               5       23        3   \n",
       "...               ...                 ...             ...      ...      ...   \n",
       "35995               1               0.070              14       30        3   \n",
       "35996               1               0.070               1       31        3   \n",
       "35997               1               0.070               2       31        3   \n",
       "35998               1               0.070               3       31        3   \n",
       "35999               1               0.070               4       31        3   \n",
       "\n",
       "       Target_Course_ID  Group_Traffic  \n",
       "0                 107.0        14175.0  \n",
       "1                 123.0        17850.0  \n",
       "2                  96.5        12988.5  \n",
       "3                  93.0        12484.5  \n",
       "4                  46.0         7245.0  \n",
       "...                 ...            ...  \n",
       "35995             149.0        10993.5  \n",
       "35996             129.0         9796.5  \n",
       "35997             125.0         9576.0  \n",
       "35998             124.0         9124.5  \n",
       "35999             129.5         9481.5  \n",
       "\n",
       "[36000 rows x 12 columns]"
      ]
     },
     "execution_count": 171,
     "metadata": {},
     "output_type": "execute_result"
    }
   ],
   "source": [
    "test"
   ]
  },
  {
   "cell_type": "code",
   "execution_count": 172,
   "metadata": {},
   "outputs": [],
   "source": [
    "y_train_pred=boost.predict(X_train)\n",
    "y_test_pred=boost.predict(test)"
   ]
  },
  {
   "cell_type": "code",
   "execution_count": 173,
   "metadata": {},
   "outputs": [
    {
     "data": {
      "text/plain": [
       "85.66977124247153"
      ]
     },
     "execution_count": 173,
     "metadata": {},
     "output_type": "execute_result"
    }
   ],
   "source": [
    "1000*np.sqrt(mean_squared_error(y_train,y_train_pred))"
   ]
  },
  {
   "cell_type": "code",
   "execution_count": 174,
   "metadata": {},
   "outputs": [
    {
     "data": {
      "text/plain": [
       "array([4.758759 , 4.9058685, 4.680691 , ..., 4.903514 , 4.936084 ,\n",
       "       4.9767456], dtype=float32)"
      ]
     },
     "execution_count": 174,
     "metadata": {},
     "output_type": "execute_result"
    }
   ],
   "source": [
    "y_test_pred"
   ]
  },
  {
   "cell_type": "code",
   "execution_count": 175,
   "metadata": {},
   "outputs": [],
   "source": [
    "export_submission(y_test_pred,\"XGBoost\")"
   ]
  },
  {
   "cell_type": "code",
   "execution_count": null,
   "metadata": {},
   "outputs": [],
   "source": []
  },
  {
   "cell_type": "code",
   "execution_count": null,
   "metadata": {},
   "outputs": [],
   "source": []
  },
  {
   "cell_type": "code",
   "execution_count": 258,
   "metadata": {},
   "outputs": [],
   "source": [
    "parameters={'base_score':[0.2,0.3,0.4,0.5,0.6,0.7,0.8],\n",
    "           'max_depth':[2,3,4,5,6,7,8,9,10,11,12],\n",
    "           'subsample':[0.5,0.6,0.7,0.8,0.9,1.0],\n",
    "            'learning_rate':[0.1,0.2,0.3,0.4,0.5,0.6]\n",
    "            }"
   ]
  },
  {
   "cell_type": "code",
   "execution_count": 259,
   "metadata": {},
   "outputs": [],
   "source": [
    "search=RandomizedSearchCV(XGBRegressor(),parameters,scoring='neg_mean_squared_error',cv=5,verbose=100,n_iter=10)"
   ]
  },
  {
   "cell_type": "code",
   "execution_count": 260,
   "metadata": {},
   "outputs": [
    {
     "name": "stdout",
     "output_type": "stream",
     "text": [
      "Fitting 5 folds for each of 10 candidates, totalling 50 fits\n",
      "[Parallel(n_jobs=1)]: Using backend SequentialBackend with 1 concurrent workers.\n",
      "[CV] subsample=0.7, max_depth=9, learning_rate=0.3, base_score=0.3 ...\n",
      "[CV]  subsample=0.7, max_depth=9, learning_rate=0.3, base_score=0.3, score=-0.011, total=  26.4s\n",
      "[Parallel(n_jobs=1)]: Done   1 out of   1 | elapsed:   26.3s remaining:    0.0s\n",
      "[CV] subsample=0.7, max_depth=9, learning_rate=0.3, base_score=0.3 ...\n",
      "[CV]  subsample=0.7, max_depth=9, learning_rate=0.3, base_score=0.3, score=-0.008, total=  26.0s\n",
      "[Parallel(n_jobs=1)]: Done   2 out of   2 | elapsed:   52.3s remaining:    0.0s\n",
      "[CV] subsample=0.7, max_depth=9, learning_rate=0.3, base_score=0.3 ...\n",
      "[CV]  subsample=0.7, max_depth=9, learning_rate=0.3, base_score=0.3, score=-0.009, total=  26.0s\n",
      "[Parallel(n_jobs=1)]: Done   3 out of   3 | elapsed:  1.3min remaining:    0.0s\n",
      "[CV] subsample=0.7, max_depth=9, learning_rate=0.3, base_score=0.3 ...\n",
      "[CV]  subsample=0.7, max_depth=9, learning_rate=0.3, base_score=0.3, score=-0.008, total=  26.1s\n",
      "[Parallel(n_jobs=1)]: Done   4 out of   4 | elapsed:  1.7min remaining:    0.0s\n",
      "[CV] subsample=0.7, max_depth=9, learning_rate=0.3, base_score=0.3 ...\n",
      "[CV]  subsample=0.7, max_depth=9, learning_rate=0.3, base_score=0.3, score=-0.009, total=  26.5s\n",
      "[Parallel(n_jobs=1)]: Done   5 out of   5 | elapsed:  2.2min remaining:    0.0s\n",
      "[CV] subsample=0.5, max_depth=4, learning_rate=0.1, base_score=0.3 ...\n",
      "[CV]  subsample=0.5, max_depth=4, learning_rate=0.1, base_score=0.3, score=-0.014, total=  13.4s\n",
      "[Parallel(n_jobs=1)]: Done   6 out of   6 | elapsed:  2.4min remaining:    0.0s\n",
      "[CV] subsample=0.5, max_depth=4, learning_rate=0.1, base_score=0.3 ...\n",
      "[CV]  subsample=0.5, max_depth=4, learning_rate=0.1, base_score=0.3, score=-0.013, total=  13.6s\n",
      "[Parallel(n_jobs=1)]: Done   7 out of   7 | elapsed:  2.6min remaining:    0.0s\n",
      "[CV] subsample=0.5, max_depth=4, learning_rate=0.1, base_score=0.3 ...\n",
      "[CV]  subsample=0.5, max_depth=4, learning_rate=0.1, base_score=0.3, score=-0.014, total=  13.4s\n",
      "[Parallel(n_jobs=1)]: Done   8 out of   8 | elapsed:  2.9min remaining:    0.0s\n",
      "[CV] subsample=0.5, max_depth=4, learning_rate=0.1, base_score=0.3 ...\n",
      "[CV]  subsample=0.5, max_depth=4, learning_rate=0.1, base_score=0.3, score=-0.014, total=  11.3s\n",
      "[Parallel(n_jobs=1)]: Done   9 out of   9 | elapsed:  3.0min remaining:    0.0s\n",
      "[CV] subsample=0.5, max_depth=4, learning_rate=0.1, base_score=0.3 ...\n",
      "[CV]  subsample=0.5, max_depth=4, learning_rate=0.1, base_score=0.3, score=-0.013, total=  13.1s\n",
      "[Parallel(n_jobs=1)]: Done  10 out of  10 | elapsed:  3.3min remaining:    0.0s\n",
      "[CV] subsample=0.9, max_depth=12, learning_rate=0.3, base_score=0.7 ..\n",
      "[CV]  subsample=0.9, max_depth=12, learning_rate=0.3, base_score=0.7, score=-0.010, total=  34.0s\n",
      "[Parallel(n_jobs=1)]: Done  11 out of  11 | elapsed:  3.8min remaining:    0.0s\n",
      "[CV] subsample=0.9, max_depth=12, learning_rate=0.3, base_score=0.7 ..\n",
      "[CV]  subsample=0.9, max_depth=12, learning_rate=0.3, base_score=0.7, score=-0.008, total=  30.0s\n",
      "[Parallel(n_jobs=1)]: Done  12 out of  12 | elapsed:  4.3min remaining:    0.0s\n",
      "[CV] subsample=0.9, max_depth=12, learning_rate=0.3, base_score=0.7 ..\n",
      "[CV]  subsample=0.9, max_depth=12, learning_rate=0.3, base_score=0.7, score=-0.009, total=  33.5s\n",
      "[Parallel(n_jobs=1)]: Done  13 out of  13 | elapsed:  4.9min remaining:    0.0s\n",
      "[CV] subsample=0.9, max_depth=12, learning_rate=0.3, base_score=0.7 ..\n",
      "[CV]  subsample=0.9, max_depth=12, learning_rate=0.3, base_score=0.7, score=-0.009, total=  33.6s\n",
      "[Parallel(n_jobs=1)]: Done  14 out of  14 | elapsed:  5.4min remaining:    0.0s\n",
      "[CV] subsample=0.9, max_depth=12, learning_rate=0.3, base_score=0.7 ..\n",
      "[CV]  subsample=0.9, max_depth=12, learning_rate=0.3, base_score=0.7, score=-0.010, total=  29.4s\n",
      "[Parallel(n_jobs=1)]: Done  15 out of  15 | elapsed:  5.9min remaining:    0.0s\n",
      "[CV] subsample=0.8, max_depth=6, learning_rate=0.4, base_score=0.3 ...\n",
      "[CV]  subsample=0.8, max_depth=6, learning_rate=0.4, base_score=0.3, score=-0.011, total=  16.7s\n",
      "[Parallel(n_jobs=1)]: Done  16 out of  16 | elapsed:  6.2min remaining:    0.0s\n",
      "[CV] subsample=0.8, max_depth=6, learning_rate=0.4, base_score=0.3 ...\n",
      "[CV]  subsample=0.8, max_depth=6, learning_rate=0.4, base_score=0.3, score=-0.008, total=  16.9s\n",
      "[Parallel(n_jobs=1)]: Done  17 out of  17 | elapsed:  6.5min remaining:    0.0s\n",
      "[CV] subsample=0.8, max_depth=6, learning_rate=0.4, base_score=0.3 ...\n",
      "[CV]  subsample=0.8, max_depth=6, learning_rate=0.4, base_score=0.3, score=-0.009, total=  17.7s\n",
      "[Parallel(n_jobs=1)]: Done  18 out of  18 | elapsed:  6.8min remaining:    0.0s\n",
      "[CV] subsample=0.8, max_depth=6, learning_rate=0.4, base_score=0.3 ...\n",
      "[CV]  subsample=0.8, max_depth=6, learning_rate=0.4, base_score=0.3, score=-0.009, total=  16.3s\n",
      "[Parallel(n_jobs=1)]: Done  19 out of  19 | elapsed:  7.1min remaining:    0.0s\n",
      "[CV] subsample=0.8, max_depth=6, learning_rate=0.4, base_score=0.3 ...\n",
      "[CV]  subsample=0.8, max_depth=6, learning_rate=0.4, base_score=0.3, score=-0.009, total=  16.9s\n",
      "[Parallel(n_jobs=1)]: Done  20 out of  20 | elapsed:  7.3min remaining:    0.0s\n",
      "[CV] subsample=1.0, max_depth=2, learning_rate=0.2, base_score=0.4 ...\n",
      "[CV]  subsample=1.0, max_depth=2, learning_rate=0.2, base_score=0.4, score=-0.020, total=   4.9s\n",
      "[Parallel(n_jobs=1)]: Done  21 out of  21 | elapsed:  7.4min remaining:    0.0s\n",
      "[CV] subsample=1.0, max_depth=2, learning_rate=0.2, base_score=0.4 ...\n",
      "[CV]  subsample=1.0, max_depth=2, learning_rate=0.2, base_score=0.4, score=-0.018, total=   5.4s\n",
      "[Parallel(n_jobs=1)]: Done  22 out of  22 | elapsed:  7.5min remaining:    0.0s\n",
      "[CV] subsample=1.0, max_depth=2, learning_rate=0.2, base_score=0.4 ...\n",
      "[CV]  subsample=1.0, max_depth=2, learning_rate=0.2, base_score=0.4, score=-0.020, total=   5.4s\n",
      "[Parallel(n_jobs=1)]: Done  23 out of  23 | elapsed:  7.6min remaining:    0.0s\n",
      "[CV] subsample=1.0, max_depth=2, learning_rate=0.2, base_score=0.4 ...\n",
      "[CV]  subsample=1.0, max_depth=2, learning_rate=0.2, base_score=0.4, score=-0.020, total=   4.8s\n",
      "[Parallel(n_jobs=1)]: Done  24 out of  24 | elapsed:  7.7min remaining:    0.0s\n",
      "[CV] subsample=1.0, max_depth=2, learning_rate=0.2, base_score=0.4 ...\n",
      "[CV]  subsample=1.0, max_depth=2, learning_rate=0.2, base_score=0.4, score=-0.019, total=   6.2s\n",
      "[Parallel(n_jobs=1)]: Done  25 out of  25 | elapsed:  7.8min remaining:    0.0s\n",
      "[CV] subsample=0.8, max_depth=12, learning_rate=0.4, base_score=0.3 ..\n",
      "[CV]  subsample=0.8, max_depth=12, learning_rate=0.4, base_score=0.3, score=-0.012, total=  34.3s\n",
      "[Parallel(n_jobs=1)]: Done  26 out of  26 | elapsed:  8.4min remaining:    0.0s\n",
      "[CV] subsample=0.8, max_depth=12, learning_rate=0.4, base_score=0.3 ..\n",
      "[CV]  subsample=0.8, max_depth=12, learning_rate=0.4, base_score=0.3, score=-0.009, total=  34.8s\n",
      "[Parallel(n_jobs=1)]: Done  27 out of  27 | elapsed:  8.9min remaining:    0.0s\n",
      "[CV] subsample=0.8, max_depth=12, learning_rate=0.4, base_score=0.3 ..\n",
      "[CV]  subsample=0.8, max_depth=12, learning_rate=0.4, base_score=0.3, score=-0.010, total=  35.6s\n",
      "[Parallel(n_jobs=1)]: Done  28 out of  28 | elapsed:  9.5min remaining:    0.0s\n",
      "[CV] subsample=0.8, max_depth=12, learning_rate=0.4, base_score=0.3 ..\n",
      "[CV]  subsample=0.8, max_depth=12, learning_rate=0.4, base_score=0.3, score=-0.010, total=  35.5s\n",
      "[Parallel(n_jobs=1)]: Done  29 out of  29 | elapsed: 10.1min remaining:    0.0s\n",
      "[CV] subsample=0.8, max_depth=12, learning_rate=0.4, base_score=0.3 ..\n",
      "[CV]  subsample=0.8, max_depth=12, learning_rate=0.4, base_score=0.3, score=-0.012, total=  35.3s\n",
      "[Parallel(n_jobs=1)]: Done  30 out of  30 | elapsed: 10.7min remaining:    0.0s\n",
      "[CV] subsample=1.0, max_depth=11, learning_rate=0.4, base_score=0.2 ..\n",
      "[CV]  subsample=1.0, max_depth=11, learning_rate=0.4, base_score=0.2, score=-0.012, total=  27.2s\n",
      "[Parallel(n_jobs=1)]: Done  31 out of  31 | elapsed: 11.2min remaining:    0.0s\n",
      "[CV] subsample=1.0, max_depth=11, learning_rate=0.4, base_score=0.2 ..\n",
      "[CV]  subsample=1.0, max_depth=11, learning_rate=0.4, base_score=0.2, score=-0.008, total=  28.1s\n",
      "[Parallel(n_jobs=1)]: Done  32 out of  32 | elapsed: 11.6min remaining:    0.0s\n",
      "[CV] subsample=1.0, max_depth=11, learning_rate=0.4, base_score=0.2 ..\n",
      "[CV]  subsample=1.0, max_depth=11, learning_rate=0.4, base_score=0.2, score=-0.009, total=  27.6s\n",
      "[Parallel(n_jobs=1)]: Done  33 out of  33 | elapsed: 12.1min remaining:    0.0s\n",
      "[CV] subsample=1.0, max_depth=11, learning_rate=0.4, base_score=0.2 ..\n"
     ]
    },
    {
     "name": "stdout",
     "output_type": "stream",
     "text": [
      "[CV]  subsample=1.0, max_depth=11, learning_rate=0.4, base_score=0.2, score=-0.009, total=  28.5s\n",
      "[Parallel(n_jobs=1)]: Done  34 out of  34 | elapsed: 12.6min remaining:    0.0s\n",
      "[CV] subsample=1.0, max_depth=11, learning_rate=0.4, base_score=0.2 ..\n",
      "[CV]  subsample=1.0, max_depth=11, learning_rate=0.4, base_score=0.2, score=-0.010, total=  27.8s\n",
      "[Parallel(n_jobs=1)]: Done  35 out of  35 | elapsed: 13.0min remaining:    0.0s\n",
      "[CV] subsample=0.9, max_depth=12, learning_rate=0.5, base_score=0.3 ..\n",
      "[CV]  subsample=0.9, max_depth=12, learning_rate=0.5, base_score=0.3, score=-0.012, total=  35.7s\n",
      "[Parallel(n_jobs=1)]: Done  36 out of  36 | elapsed: 13.6min remaining:    0.0s\n",
      "[CV] subsample=0.9, max_depth=12, learning_rate=0.5, base_score=0.3 ..\n",
      "[CV]  subsample=0.9, max_depth=12, learning_rate=0.5, base_score=0.3, score=-0.009, total=  33.6s\n",
      "[Parallel(n_jobs=1)]: Done  37 out of  37 | elapsed: 14.2min remaining:    0.0s\n",
      "[CV] subsample=0.9, max_depth=12, learning_rate=0.5, base_score=0.3 ..\n",
      "[CV]  subsample=0.9, max_depth=12, learning_rate=0.5, base_score=0.3, score=-0.010, total=  33.5s\n",
      "[Parallel(n_jobs=1)]: Done  38 out of  38 | elapsed: 14.8min remaining:    0.0s\n",
      "[CV] subsample=0.9, max_depth=12, learning_rate=0.5, base_score=0.3 ..\n",
      "[CV]  subsample=0.9, max_depth=12, learning_rate=0.5, base_score=0.3, score=-0.010, total=  33.0s\n",
      "[Parallel(n_jobs=1)]: Done  39 out of  39 | elapsed: 15.3min remaining:    0.0s\n",
      "[CV] subsample=0.9, max_depth=12, learning_rate=0.5, base_score=0.3 ..\n",
      "[CV]  subsample=0.9, max_depth=12, learning_rate=0.5, base_score=0.3, score=-0.011, total=  33.4s\n",
      "[Parallel(n_jobs=1)]: Done  40 out of  40 | elapsed: 15.9min remaining:    0.0s\n",
      "[CV] subsample=0.7, max_depth=5, learning_rate=0.2, base_score=0.4 ...\n",
      "[CV]  subsample=0.7, max_depth=5, learning_rate=0.2, base_score=0.4, score=-0.010, total=  14.8s\n",
      "[Parallel(n_jobs=1)]: Done  41 out of  41 | elapsed: 16.1min remaining:    0.0s\n",
      "[CV] subsample=0.7, max_depth=5, learning_rate=0.2, base_score=0.4 ...\n",
      "[CV]  subsample=0.7, max_depth=5, learning_rate=0.2, base_score=0.4, score=-0.009, total=  14.9s\n",
      "[Parallel(n_jobs=1)]: Done  42 out of  42 | elapsed: 16.4min remaining:    0.0s\n",
      "[CV] subsample=0.7, max_depth=5, learning_rate=0.2, base_score=0.4 ...\n",
      "[CV]  subsample=0.7, max_depth=5, learning_rate=0.2, base_score=0.4, score=-0.010, total=  14.8s\n",
      "[Parallel(n_jobs=1)]: Done  43 out of  43 | elapsed: 16.6min remaining:    0.0s\n",
      "[CV] subsample=0.7, max_depth=5, learning_rate=0.2, base_score=0.4 ...\n",
      "[CV]  subsample=0.7, max_depth=5, learning_rate=0.2, base_score=0.4, score=-0.009, total=  14.6s\n",
      "[Parallel(n_jobs=1)]: Done  44 out of  44 | elapsed: 16.8min remaining:    0.0s\n",
      "[CV] subsample=0.7, max_depth=5, learning_rate=0.2, base_score=0.4 ...\n",
      "[CV]  subsample=0.7, max_depth=5, learning_rate=0.2, base_score=0.4, score=-0.010, total=  14.7s\n",
      "[Parallel(n_jobs=1)]: Done  45 out of  45 | elapsed: 17.1min remaining:    0.0s\n",
      "[CV] subsample=0.7, max_depth=6, learning_rate=0.3, base_score=0.6 ...\n",
      "[CV]  subsample=0.7, max_depth=6, learning_rate=0.3, base_score=0.6, score=-0.010, total=  17.0s\n",
      "[Parallel(n_jobs=1)]: Done  46 out of  46 | elapsed: 17.4min remaining:    0.0s\n",
      "[CV] subsample=0.7, max_depth=6, learning_rate=0.3, base_score=0.6 ...\n",
      "[CV]  subsample=0.7, max_depth=6, learning_rate=0.3, base_score=0.6, score=-0.008, total=  17.1s\n",
      "[Parallel(n_jobs=1)]: Done  47 out of  47 | elapsed: 17.7min remaining:    0.0s\n",
      "[CV] subsample=0.7, max_depth=6, learning_rate=0.3, base_score=0.6 ...\n",
      "[CV]  subsample=0.7, max_depth=6, learning_rate=0.3, base_score=0.6, score=-0.010, total=  16.7s\n",
      "[Parallel(n_jobs=1)]: Done  48 out of  48 | elapsed: 17.9min remaining:    0.0s\n",
      "[CV] subsample=0.7, max_depth=6, learning_rate=0.3, base_score=0.6 ...\n",
      "[CV]  subsample=0.7, max_depth=6, learning_rate=0.3, base_score=0.6, score=-0.009, total=  16.9s\n",
      "[Parallel(n_jobs=1)]: Done  49 out of  49 | elapsed: 18.2min remaining:    0.0s\n",
      "[CV] subsample=0.7, max_depth=6, learning_rate=0.3, base_score=0.6 ...\n",
      "[CV]  subsample=0.7, max_depth=6, learning_rate=0.3, base_score=0.6, score=-0.009, total=  16.9s\n",
      "[Parallel(n_jobs=1)]: Done  50 out of  50 | elapsed: 18.5min remaining:    0.0s\n",
      "[Parallel(n_jobs=1)]: Done  50 out of  50 | elapsed: 18.5min finished\n"
     ]
    },
    {
     "data": {
      "text/plain": [
       "RandomizedSearchCV(cv=5, error_score=nan,\n",
       "                   estimator=XGBRegressor(base_score=None, booster=None,\n",
       "                                          colsample_bylevel=None,\n",
       "                                          colsample_bynode=None,\n",
       "                                          colsample_bytree=None, gamma=None,\n",
       "                                          gpu_id=None, importance_type='gain',\n",
       "                                          interaction_constraints=None,\n",
       "                                          learning_rate=None,\n",
       "                                          max_delta_step=None, max_depth=None,\n",
       "                                          min_child_weight=None, missing=nan,\n",
       "                                          monotone_constraints=None,\n",
       "                                          n_...\n",
       "                                          verbosity=None),\n",
       "                   iid='deprecated', n_iter=10, n_jobs=None,\n",
       "                   param_distributions={'base_score': [0.2, 0.3, 0.4, 0.5, 0.6,\n",
       "                                                       0.7, 0.8],\n",
       "                                        'learning_rate': [0.1, 0.2, 0.3, 0.4,\n",
       "                                                          0.5, 0.6],\n",
       "                                        'max_depth': [2, 3, 4, 5, 6, 7, 8, 9,\n",
       "                                                      10, 11, 12],\n",
       "                                        'subsample': [0.5, 0.6, 0.7, 0.8, 0.9,\n",
       "                                                      1.0]},\n",
       "                   pre_dispatch='2*n_jobs', random_state=None, refit=True,\n",
       "                   return_train_score=False, scoring='neg_mean_squared_error',\n",
       "                   verbose=100)"
      ]
     },
     "execution_count": 260,
     "metadata": {},
     "output_type": "execute_result"
    }
   ],
   "source": [
    "search.fit(X_train,y_train)"
   ]
  },
  {
   "cell_type": "code",
   "execution_count": 261,
   "metadata": {},
   "outputs": [
    {
     "data": {
      "text/plain": [
       "{'subsample': 0.7, 'max_depth': 9, 'learning_rate': 0.3, 'base_score': 0.3}"
      ]
     },
     "execution_count": 261,
     "metadata": {},
     "output_type": "execute_result"
    }
   ],
   "source": [
    "search.best_params_"
   ]
  },
  {
   "cell_type": "code",
   "execution_count": 262,
   "metadata": {},
   "outputs": [
    {
     "data": {
      "text/plain": [
       "-0.008966443416140548"
      ]
     },
     "execution_count": 262,
     "metadata": {},
     "output_type": "execute_result"
    }
   ],
   "source": [
    "search.best_score_"
   ]
  },
  {
   "cell_type": "code",
   "execution_count": null,
   "metadata": {},
   "outputs": [],
   "source": []
  },
  {
   "cell_type": "code",
   "execution_count": null,
   "metadata": {},
   "outputs": [],
   "source": []
  },
  {
   "cell_type": "code",
   "execution_count": 263,
   "metadata": {},
   "outputs": [],
   "source": [
    "boost=XGBRegressor(subsample=0.7,max_depth=9,learning_rate=0.3,base_score=0.3)"
   ]
  },
  {
   "cell_type": "code",
   "execution_count": 264,
   "metadata": {},
   "outputs": [
    {
     "data": {
      "text/plain": [
       "XGBRegressor(base_score=0.3, booster='gbtree', colsample_bylevel=1,\n",
       "             colsample_bynode=1, colsample_bytree=1, gamma=0, gpu_id=-1,\n",
       "             importance_type='gain', interaction_constraints='',\n",
       "             learning_rate=0.3, max_delta_step=0, max_depth=9,\n",
       "             min_child_weight=1, missing=nan, monotone_constraints='()',\n",
       "             n_estimators=100, n_jobs=0, num_parallel_tree=1,\n",
       "             objective='reg:squarederror', random_state=0, reg_alpha=0,\n",
       "             reg_lambda=1, scale_pos_weight=1, subsample=0.7,\n",
       "             tree_method='exact', validate_parameters=1, verbosity=None)"
      ]
     },
     "execution_count": 264,
     "metadata": {},
     "output_type": "execute_result"
    }
   ],
   "source": [
    "boost.fit(X_train,y_train)"
   ]
  },
  {
   "cell_type": "code",
   "execution_count": 265,
   "metadata": {},
   "outputs": [],
   "source": [
    "y_train_pred=boost.predict(X_train)\n",
    "y_test_pred=boost.predict(test)"
   ]
  },
  {
   "cell_type": "code",
   "execution_count": 266,
   "metadata": {},
   "outputs": [
    {
     "data": {
      "text/plain": [
       "68.95229770074857"
      ]
     },
     "execution_count": 266,
     "metadata": {},
     "output_type": "execute_result"
    }
   ],
   "source": [
    "1000*np.sqrt(mean_squared_error(y_train,y_train_pred))"
   ]
  },
  {
   "cell_type": "code",
   "execution_count": 267,
   "metadata": {},
   "outputs": [],
   "source": [
    "export_submission(y_test_pred,\"XGBoost More Improved\")"
   ]
  },
  {
   "cell_type": "markdown",
   "metadata": {},
   "source": [
    "## Ensembling"
   ]
  },
  {
   "cell_type": "code",
   "execution_count": 491,
   "metadata": {},
   "outputs": [],
   "source": [
    "data1=pd.read_csv(\"Compiled New/Catboost.csv\")\n",
    "data2=pd.read_csv(\"Compiled New/LGBM.csv\")\n",
    "data3=pd.read_csv(\"Compiled New/Random Forest.csv\")\n",
    "data4=pd.read_csv(\"Compiled New/XGB.csv\")"
   ]
  },
  {
   "cell_type": "code",
   "execution_count": 492,
   "metadata": {},
   "outputs": [],
   "source": [
    "aa=(data1[\"Sales\"]+data2[\"Sales\"]+data3[\"Sales\"]+data4[\"Sales\"])/4"
   ]
  },
  {
   "cell_type": "code",
   "execution_count": 493,
   "metadata": {},
   "outputs": [],
   "source": [
    "def export_submission(predictions,filename=\"Sample.csv\"):\n",
    "    \n",
    "    ss=sample_sub.copy()\n",
    "    ss[\"Sales\"]=predictions\n",
    "    ss.to_csv(f\"{filename}.csv\",index=False)"
   ]
  },
  {
   "cell_type": "code",
   "execution_count": 494,
   "metadata": {},
   "outputs": [],
   "source": [
    "export_submission(aa,\"Simple_Mean_All\")"
   ]
  },
  {
   "cell_type": "code",
   "execution_count": 495,
   "metadata": {},
   "outputs": [
    {
     "data": {
      "text/html": [
       "<div>\n",
       "<style scoped>\n",
       "    .dataframe tbody tr th:only-of-type {\n",
       "        vertical-align: middle;\n",
       "    }\n",
       "\n",
       "    .dataframe tbody tr th {\n",
       "        vertical-align: top;\n",
       "    }\n",
       "\n",
       "    .dataframe thead th {\n",
       "        text-align: right;\n",
       "    }\n",
       "</style>\n",
       "<table border=\"1\" class=\"dataframe\">\n",
       "  <thead>\n",
       "    <tr style=\"text-align: right;\">\n",
       "      <th></th>\n",
       "      <th>ID</th>\n",
       "      <th>Sales</th>\n",
       "    </tr>\n",
       "  </thead>\n",
       "  <tbody>\n",
       "    <tr>\n",
       "      <th>0</th>\n",
       "      <td>883</td>\n",
       "      <td>106.474328</td>\n",
       "    </tr>\n",
       "    <tr>\n",
       "      <th>1</th>\n",
       "      <td>884</td>\n",
       "      <td>122.680358</td>\n",
       "    </tr>\n",
       "    <tr>\n",
       "      <th>2</th>\n",
       "      <td>885</td>\n",
       "      <td>96.400178</td>\n",
       "    </tr>\n",
       "    <tr>\n",
       "      <th>3</th>\n",
       "      <td>886</td>\n",
       "      <td>93.214625</td>\n",
       "    </tr>\n",
       "    <tr>\n",
       "      <th>4</th>\n",
       "      <td>887</td>\n",
       "      <td>47.277525</td>\n",
       "    </tr>\n",
       "    <tr>\n",
       "      <th>...</th>\n",
       "      <td>...</td>\n",
       "      <td>...</td>\n",
       "    </tr>\n",
       "    <tr>\n",
       "      <th>35995</th>\n",
       "      <td>548083</td>\n",
       "      <td>147.101124</td>\n",
       "    </tr>\n",
       "    <tr>\n",
       "      <th>35996</th>\n",
       "      <td>548084</td>\n",
       "      <td>126.964361</td>\n",
       "    </tr>\n",
       "    <tr>\n",
       "      <th>35997</th>\n",
       "      <td>548085</td>\n",
       "      <td>122.921234</td>\n",
       "    </tr>\n",
       "    <tr>\n",
       "      <th>35998</th>\n",
       "      <td>548086</td>\n",
       "      <td>121.567769</td>\n",
       "    </tr>\n",
       "    <tr>\n",
       "      <th>35999</th>\n",
       "      <td>548087</td>\n",
       "      <td>126.865331</td>\n",
       "    </tr>\n",
       "  </tbody>\n",
       "</table>\n",
       "<p>36000 rows × 2 columns</p>\n",
       "</div>"
      ],
      "text/plain": [
       "           ID       Sales\n",
       "0         883  106.474328\n",
       "1         884  122.680358\n",
       "2         885   96.400178\n",
       "3         886   93.214625\n",
       "4         887   47.277525\n",
       "...       ...         ...\n",
       "35995  548083  147.101124\n",
       "35996  548084  126.964361\n",
       "35997  548085  122.921234\n",
       "35998  548086  121.567769\n",
       "35999  548087  126.865331\n",
       "\n",
       "[36000 rows x 2 columns]"
      ]
     },
     "execution_count": 495,
     "metadata": {},
     "output_type": "execute_result"
    }
   ],
   "source": [
    "pd.read_csv(\"Simple_Mean_All.csv\")"
   ]
  }
 ],
 "metadata": {
  "kernelspec": {
   "display_name": "Python 3",
   "language": "python",
   "name": "python3"
  },
  "language_info": {
   "codemirror_mode": {
    "name": "ipython",
    "version": 3
   },
   "file_extension": ".py",
   "mimetype": "text/x-python",
   "name": "python",
   "nbconvert_exporter": "python",
   "pygments_lexer": "ipython3",
   "version": "3.7.9"
  }
 },
 "nbformat": 4,
 "nbformat_minor": 4
}
