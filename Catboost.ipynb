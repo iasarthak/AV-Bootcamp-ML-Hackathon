{
 "cells": [
  {
   "cell_type": "code",
   "execution_count": 59,
   "metadata": {},
   "outputs": [],
   "source": [
    "# Importing the required libraries\n",
    "\n",
    "import pandas as pd\n",
    "import numpy as np\n",
    "import matplotlib.pyplot as plt\n",
    "import seaborn as sns\n",
    "\n",
    "from IPython.display import clear_output,display\n",
    "\n",
    "from sklearn.model_selection import cross_val_score,GridSearchCV,RandomizedSearchCV\n",
    "from sklearn.metrics import mean_squared_log_error\n",
    "from sklearn.linear_model import LinearRegression,Lasso,Ridge\n",
    "from sklearn.tree import DecisionTreeRegressor\n",
    "from sklearn.ensemble import RandomForestRegressor\n",
    "from xgboost import XGBRegressor\n",
    "from catboost import CatBoostRegressor"
   ]
  },
  {
   "cell_type": "code",
   "execution_count": 60,
   "metadata": {},
   "outputs": [],
   "source": [
    "# importing the train and test datasets\n",
    "\n",
    "train=pd.read_csv(\"train.csv\")\n",
    "test=pd.read_csv(\"test.csv\")\n",
    "sample_sub=pd.read_csv(\"sample_submission.csv\")"
   ]
  },
  {
   "cell_type": "code",
   "execution_count": 61,
   "metadata": {},
   "outputs": [],
   "source": [
    "train[\"Week_No\"]=np.ceil(train[\"Day_No\"]/7)\n",
    "train[\"Year_No\"]=np.ceil(train[\"Week_No\"]/52)\n",
    "train[\"Week_No\"]=(train[\"Week_No\"]%52)\n",
    "\n",
    "train.loc[train[\"Week_No\"]==0,\"Week_No\"]=train.loc[train[\"Week_No\"]==0,\"Week_No\"].apply(lambda x: x+1)"
   ]
  },
  {
   "cell_type": "code",
   "execution_count": 62,
   "metadata": {},
   "outputs": [],
   "source": [
    "test[\"Week_No\"]=np.ceil(test[\"Day_No\"]/7)\n",
    "test[\"Year_No\"]=np.ceil(test[\"Week_No\"]/52)\n",
    "test[\"Week_No\"]=(test[\"Week_No\"]%52)\n",
    "\n",
    "test.loc[test[\"Week_No\"]==0,\"Week_No\"]=test.loc[test[\"Week_No\"]==0,\"Week_No\"].apply(lambda x: x+1)"
   ]
  },
  {
   "cell_type": "code",
   "execution_count": 63,
   "metadata": {},
   "outputs": [],
   "source": [
    "train.drop(columns=[\"ID\",\"Year_No\",\"User_Traffic\"],inplace=True)\n",
    "test.drop(columns=[\"ID\",\"Year_No\"],inplace=True)"
   ]
  },
  {
   "cell_type": "code",
   "execution_count": 64,
   "metadata": {},
   "outputs": [],
   "source": [
    "def export_submission(predictions,filename=\"Sample.csv\"):\n",
    "    \n",
    "    ss=sample_sub.copy()\n",
    "    ss[\"Sales\"]=predictions\n",
    "    ss.to_csv(f\"{filename}.csv\",index=False)"
   ]
  },
  {
   "cell_type": "code",
   "execution_count": 65,
   "metadata": {},
   "outputs": [],
   "source": [
    "train[['Day_No','Week_No']]=train[['Day_No','Week_No']].astype('int')\n",
    "test[['Day_No','Week_No']]=test[['Day_No','Week_No']].astype('int')"
   ]
  },
  {
   "cell_type": "code",
   "execution_count": 66,
   "metadata": {},
   "outputs": [
    {
     "data": {
      "text/plain": [
       "Day_No                  int32\n",
       "Course_ID               int64\n",
       "Course_Domain          object\n",
       "Course_Type            object\n",
       "Short_Promotion         int64\n",
       "Public_Holiday          int64\n",
       "Long_Promotion          int64\n",
       "Competition_Metric    float64\n",
       "Sales                   int64\n",
       "Week_No                 int32\n",
       "dtype: object"
      ]
     },
     "execution_count": 66,
     "metadata": {},
     "output_type": "execute_result"
    }
   ],
   "source": [
    "train.dtypes"
   ]
  },
  {
   "cell_type": "code",
   "execution_count": 67,
   "metadata": {},
   "outputs": [],
   "source": [
    "X_train=train.drop(columns=\"Sales\")\n",
    "y_train=train[\"Sales\"]"
   ]
  },
  {
   "cell_type": "code",
   "execution_count": null,
   "metadata": {},
   "outputs": [],
   "source": []
  },
  {
   "cell_type": "code",
   "execution_count": null,
   "metadata": {},
   "outputs": [],
   "source": []
  },
  {
   "cell_type": "code",
   "execution_count": 20,
   "metadata": {},
   "outputs": [],
   "source": [
    "# train[[\"Course_ID\",\"Course_Domain\",\"Course_Type\",\"Short_Promotion\",\"Public_Holiday\",\"Long_promotion\"]]=train[[\"Course_ID\",\"Course_Domain\",\"Course_Type\",\"Short_Promotion\",\"Public_Holiday\",\"Long_Promotion\"]].astype(\"category\")"
   ]
  },
  {
   "cell_type": "code",
   "execution_count": 21,
   "metadata": {},
   "outputs": [],
   "source": [
    "# test[[\"Course_ID\",\"Course_Domain\",\"Course_Type\",\"Short_Promotion\",\"Public_Holiday\",\"Long_promotion\"]]=test[[\"Course_ID\",\"Course_Domain\",\"Course_Type\",\"Short_Promotion\",\"Public_Holiday\",\"Long_Promotion\"]].astype(\"category\")"
   ]
  },
  {
   "cell_type": "code",
   "execution_count": 39,
   "metadata": {},
   "outputs": [
    {
     "data": {
      "text/plain": [
       "Index(['Day_No', 'Course_ID', 'Course_Domain', 'Course_Type',\n",
       "       'Short_Promotion', 'Public_Holiday', 'Long_Promotion',\n",
       "       'Competition_Metric', 'Sales', 'Week_No'],\n",
       "      dtype='object')"
      ]
     },
     "execution_count": 39,
     "metadata": {},
     "output_type": "execute_result"
    }
   ],
   "source": [
    "train.columns"
   ]
  },
  {
   "cell_type": "code",
   "execution_count": null,
   "metadata": {},
   "outputs": [],
   "source": []
  },
  {
   "cell_type": "code",
   "execution_count": 80,
   "metadata": {},
   "outputs": [],
   "source": [
    "boost=CatBoostRegressor(cat_features=['Course_ID', 'Course_Domain', 'Course_Type',\n",
    "       'Short_Promotion', 'Public_Holiday', 'Long_Promotion'])"
   ]
  },
  {
   "cell_type": "code",
   "execution_count": 81,
   "metadata": {},
   "outputs": [
    {
     "name": "stdout",
     "output_type": "stream",
     "text": [
      "0:\tlearn: 50.9703258\ttotal: 309ms\tremaining: 5m 9s\n",
      "1:\tlearn: 48.0203251\ttotal: 479ms\tremaining: 3m 59s\n",
      "2:\tlearn: 45.4718927\ttotal: 753ms\tremaining: 4m 10s\n",
      "3:\tlearn: 43.2675812\ttotal: 923ms\tremaining: 3m 49s\n",
      "4:\tlearn: 41.3727234\ttotal: 1.18s\tremaining: 3m 54s\n",
      "5:\tlearn: 39.7209822\ttotal: 1.34s\tremaining: 3m 42s\n",
      "6:\tlearn: 38.3298381\ttotal: 1.58s\tremaining: 3m 44s\n",
      "7:\tlearn: 37.1153534\ttotal: 1.76s\tremaining: 3m 38s\n",
      "8:\tlearn: 36.0894800\ttotal: 1.94s\tremaining: 3m 34s\n",
      "9:\tlearn: 35.1875089\ttotal: 2.15s\tremaining: 3m 33s\n",
      "10:\tlearn: 34.4283670\ttotal: 2.33s\tremaining: 3m 29s\n",
      "11:\tlearn: 33.8054031\ttotal: 2.51s\tremaining: 3m 26s\n",
      "12:\tlearn: 33.2736728\ttotal: 2.65s\tremaining: 3m 21s\n",
      "13:\tlearn: 32.7943973\ttotal: 2.84s\tremaining: 3m 20s\n",
      "14:\tlearn: 32.3992367\ttotal: 2.97s\tremaining: 3m 15s\n",
      "15:\tlearn: 32.0581042\ttotal: 3.15s\tremaining: 3m 13s\n",
      "16:\tlearn: 31.7549313\ttotal: 3.37s\tremaining: 3m 15s\n",
      "17:\tlearn: 31.4852407\ttotal: 3.59s\tremaining: 3m 15s\n",
      "18:\tlearn: 31.2531208\ttotal: 3.77s\tremaining: 3m 14s\n",
      "19:\tlearn: 31.0599512\ttotal: 3.99s\tremaining: 3m 15s\n",
      "20:\tlearn: 30.8903145\ttotal: 4.16s\tremaining: 3m 13s\n",
      "21:\tlearn: 30.6957314\ttotal: 4.39s\tremaining: 3m 15s\n",
      "22:\tlearn: 30.5584717\ttotal: 4.65s\tremaining: 3m 17s\n",
      "23:\tlearn: 30.4052212\ttotal: 4.93s\tremaining: 3m 20s\n",
      "24:\tlearn: 30.2829332\ttotal: 5.14s\tremaining: 3m 20s\n",
      "25:\tlearn: 30.1674748\ttotal: 5.31s\tremaining: 3m 19s\n",
      "26:\tlearn: 30.0515679\ttotal: 5.58s\tremaining: 3m 20s\n",
      "27:\tlearn: 29.9257697\ttotal: 5.87s\tremaining: 3m 23s\n",
      "28:\tlearn: 29.8272233\ttotal: 6.15s\tremaining: 3m 26s\n",
      "29:\tlearn: 29.7670350\ttotal: 6.39s\tremaining: 3m 26s\n",
      "30:\tlearn: 29.6720903\ttotal: 6.68s\tremaining: 3m 28s\n",
      "31:\tlearn: 29.5966634\ttotal: 6.92s\tremaining: 3m 29s\n",
      "32:\tlearn: 29.4744944\ttotal: 7.19s\tremaining: 3m 30s\n",
      "33:\tlearn: 29.4032972\ttotal: 7.46s\tremaining: 3m 31s\n",
      "34:\tlearn: 29.3189077\ttotal: 7.71s\tremaining: 3m 32s\n",
      "35:\tlearn: 29.2503382\ttotal: 7.93s\tremaining: 3m 32s\n",
      "36:\tlearn: 29.1906341\ttotal: 8.22s\tremaining: 3m 33s\n",
      "37:\tlearn: 29.1354789\ttotal: 8.35s\tremaining: 3m 31s\n",
      "38:\tlearn: 29.0281733\ttotal: 8.66s\tremaining: 3m 33s\n",
      "39:\tlearn: 28.9416360\ttotal: 9.02s\tremaining: 3m 36s\n",
      "40:\tlearn: 28.8837494\ttotal: 9.37s\tremaining: 3m 39s\n",
      "41:\tlearn: 28.8386173\ttotal: 9.64s\tremaining: 3m 39s\n",
      "42:\tlearn: 28.7578345\ttotal: 9.98s\tremaining: 3m 42s\n",
      "43:\tlearn: 28.7115320\ttotal: 10.2s\tremaining: 3m 42s\n",
      "44:\tlearn: 28.6735273\ttotal: 10.5s\tremaining: 3m 43s\n",
      "45:\tlearn: 28.6418019\ttotal: 10.8s\tremaining: 3m 45s\n",
      "46:\tlearn: 28.5642059\ttotal: 11s\tremaining: 3m 43s\n",
      "47:\tlearn: 28.5033581\ttotal: 11.3s\tremaining: 3m 45s\n",
      "48:\tlearn: 28.4678445\ttotal: 11.6s\tremaining: 3m 46s\n",
      "49:\tlearn: 28.4146682\ttotal: 11.9s\tremaining: 3m 46s\n",
      "50:\tlearn: 28.3799740\ttotal: 12.2s\tremaining: 3m 46s\n",
      "51:\tlearn: 28.3549328\ttotal: 12.5s\tremaining: 3m 47s\n",
      "52:\tlearn: 28.3148394\ttotal: 12.8s\tremaining: 3m 49s\n",
      "53:\tlearn: 28.2723622\ttotal: 13.1s\tremaining: 3m 50s\n",
      "54:\tlearn: 28.2372807\ttotal: 13.4s\tremaining: 3m 50s\n",
      "55:\tlearn: 28.2143370\ttotal: 13.7s\tremaining: 3m 51s\n",
      "56:\tlearn: 28.1723347\ttotal: 14s\tremaining: 3m 52s\n",
      "57:\tlearn: 28.1379894\ttotal: 14.4s\tremaining: 3m 54s\n",
      "58:\tlearn: 28.0973961\ttotal: 14.8s\tremaining: 3m 55s\n",
      "59:\tlearn: 28.0726091\ttotal: 15.1s\tremaining: 3m 57s\n",
      "60:\tlearn: 28.0404811\ttotal: 15.4s\tremaining: 3m 56s\n",
      "61:\tlearn: 28.0083665\ttotal: 15.7s\tremaining: 3m 56s\n",
      "62:\tlearn: 27.9836724\ttotal: 16s\tremaining: 3m 57s\n",
      "63:\tlearn: 27.9113516\ttotal: 16.3s\tremaining: 3m 58s\n",
      "64:\tlearn: 27.8772039\ttotal: 16.6s\tremaining: 3m 59s\n",
      "65:\tlearn: 27.8579062\ttotal: 16.9s\tremaining: 3m 59s\n",
      "66:\tlearn: 27.8407925\ttotal: 17.3s\tremaining: 4m\n",
      "67:\tlearn: 27.8233080\ttotal: 17.6s\tremaining: 4m\n",
      "68:\tlearn: 27.7614524\ttotal: 17.9s\tremaining: 4m\n",
      "69:\tlearn: 27.7416488\ttotal: 18.2s\tremaining: 4m 2s\n",
      "70:\tlearn: 27.7089303\ttotal: 18.6s\tremaining: 4m 2s\n",
      "71:\tlearn: 27.6790363\ttotal: 18.9s\tremaining: 4m 3s\n",
      "72:\tlearn: 27.6425029\ttotal: 19.1s\tremaining: 4m 2s\n",
      "73:\tlearn: 27.6225530\ttotal: 19.5s\tremaining: 4m 3s\n",
      "74:\tlearn: 27.6040676\ttotal: 19.9s\tremaining: 4m 5s\n",
      "75:\tlearn: 27.5251018\ttotal: 20.3s\tremaining: 4m 6s\n",
      "76:\tlearn: 27.4925141\ttotal: 20.6s\tremaining: 4m 7s\n",
      "77:\tlearn: 27.4280484\ttotal: 21s\tremaining: 4m 8s\n",
      "78:\tlearn: 27.4141495\ttotal: 21.5s\tremaining: 4m 10s\n",
      "79:\tlearn: 27.3846334\ttotal: 21.9s\tremaining: 4m 11s\n",
      "80:\tlearn: 27.3002447\ttotal: 22.2s\tremaining: 4m 11s\n",
      "81:\tlearn: 27.2829086\ttotal: 22.5s\tremaining: 4m 11s\n",
      "82:\tlearn: 27.2413548\ttotal: 22.9s\tremaining: 4m 13s\n",
      "83:\tlearn: 27.2145263\ttotal: 23.3s\tremaining: 4m 14s\n",
      "84:\tlearn: 27.1627650\ttotal: 23.5s\tremaining: 4m 13s\n",
      "85:\tlearn: 27.1387593\ttotal: 23.9s\tremaining: 4m 14s\n",
      "86:\tlearn: 27.1179394\ttotal: 24.2s\tremaining: 4m 14s\n",
      "87:\tlearn: 27.0846560\ttotal: 24.6s\tremaining: 4m 14s\n"
     ]
    },
    {
     "ename": "KeyboardInterrupt",
     "evalue": "",
     "output_type": "error",
     "traceback": [
      "\u001b[1;31m---------------------------------------------------------------------------\u001b[0m",
      "\u001b[1;31mKeyboardInterrupt\u001b[0m                         Traceback (most recent call last)",
      "\u001b[1;32m<ipython-input-81-8986bee144f8>\u001b[0m in \u001b[0;36m<module>\u001b[1;34m\u001b[0m\n\u001b[1;32m----> 1\u001b[1;33m \u001b[0mboost\u001b[0m\u001b[1;33m.\u001b[0m\u001b[0mfit\u001b[0m\u001b[1;33m(\u001b[0m\u001b[0mX_train\u001b[0m\u001b[1;33m,\u001b[0m\u001b[0my_train\u001b[0m\u001b[1;33m)\u001b[0m\u001b[1;33m\u001b[0m\u001b[1;33m\u001b[0m\u001b[0m\n\u001b[0m",
      "\u001b[1;32mC:\\ProgramData\\Anaconda3\\lib\\site-packages\\catboost\\core.py\u001b[0m in \u001b[0;36mfit\u001b[1;34m(self, X, y, cat_features, sample_weight, baseline, use_best_model, eval_set, verbose, logging_level, plot, column_description, verbose_eval, metric_period, silent, early_stopping_rounds, save_snapshot, snapshot_file, snapshot_interval, init_model)\u001b[0m\n\u001b[0;32m   4838\u001b[0m                          \u001b[0muse_best_model\u001b[0m\u001b[1;33m,\u001b[0m \u001b[0meval_set\u001b[0m\u001b[1;33m,\u001b[0m \u001b[0mverbose\u001b[0m\u001b[1;33m,\u001b[0m \u001b[0mlogging_level\u001b[0m\u001b[1;33m,\u001b[0m \u001b[0mplot\u001b[0m\u001b[1;33m,\u001b[0m \u001b[0mcolumn_description\u001b[0m\u001b[1;33m,\u001b[0m\u001b[1;33m\u001b[0m\u001b[1;33m\u001b[0m\u001b[0m\n\u001b[0;32m   4839\u001b[0m                          \u001b[0mverbose_eval\u001b[0m\u001b[1;33m,\u001b[0m \u001b[0mmetric_period\u001b[0m\u001b[1;33m,\u001b[0m \u001b[0msilent\u001b[0m\u001b[1;33m,\u001b[0m \u001b[0mearly_stopping_rounds\u001b[0m\u001b[1;33m,\u001b[0m\u001b[1;33m\u001b[0m\u001b[1;33m\u001b[0m\u001b[0m\n\u001b[1;32m-> 4840\u001b[1;33m                          save_snapshot, snapshot_file, snapshot_interval, init_model)\n\u001b[0m\u001b[0;32m   4841\u001b[0m \u001b[1;33m\u001b[0m\u001b[0m\n\u001b[0;32m   4842\u001b[0m     \u001b[1;32mdef\u001b[0m \u001b[0mpredict\u001b[0m\u001b[1;33m(\u001b[0m\u001b[0mself\u001b[0m\u001b[1;33m,\u001b[0m \u001b[0mdata\u001b[0m\u001b[1;33m,\u001b[0m \u001b[0mprediction_type\u001b[0m\u001b[1;33m=\u001b[0m\u001b[1;32mNone\u001b[0m\u001b[1;33m,\u001b[0m \u001b[0mntree_start\u001b[0m\u001b[1;33m=\u001b[0m\u001b[1;36m0\u001b[0m\u001b[1;33m,\u001b[0m \u001b[0mntree_end\u001b[0m\u001b[1;33m=\u001b[0m\u001b[1;36m0\u001b[0m\u001b[1;33m,\u001b[0m \u001b[0mthread_count\u001b[0m\u001b[1;33m=\u001b[0m\u001b[1;33m-\u001b[0m\u001b[1;36m1\u001b[0m\u001b[1;33m,\u001b[0m \u001b[0mverbose\u001b[0m\u001b[1;33m=\u001b[0m\u001b[1;32mNone\u001b[0m\u001b[1;33m)\u001b[0m\u001b[1;33m:\u001b[0m\u001b[1;33m\u001b[0m\u001b[1;33m\u001b[0m\u001b[0m\n",
      "\u001b[1;32mC:\\ProgramData\\Anaconda3\\lib\\site-packages\\catboost\\core.py\u001b[0m in \u001b[0;36m_fit\u001b[1;34m(self, X, y, cat_features, text_features, embedding_features, pairs, sample_weight, group_id, group_weight, subgroup_id, pairs_weight, baseline, use_best_model, eval_set, verbose, logging_level, plot, column_description, verbose_eval, metric_period, silent, early_stopping_rounds, save_snapshot, snapshot_file, snapshot_interval, init_model)\u001b[0m\n\u001b[0;32m   1803\u001b[0m                 \u001b[0mparams\u001b[0m\u001b[1;33m,\u001b[0m\u001b[1;33m\u001b[0m\u001b[1;33m\u001b[0m\u001b[0m\n\u001b[0;32m   1804\u001b[0m                 \u001b[0mallow_clear_pool\u001b[0m\u001b[1;33m,\u001b[0m\u001b[1;33m\u001b[0m\u001b[1;33m\u001b[0m\u001b[0m\n\u001b[1;32m-> 1805\u001b[1;33m                 \u001b[0mtrain_params\u001b[0m\u001b[1;33m[\u001b[0m\u001b[1;34m\"init_model\"\u001b[0m\u001b[1;33m]\u001b[0m\u001b[1;33m\u001b[0m\u001b[1;33m\u001b[0m\u001b[0m\n\u001b[0m\u001b[0;32m   1806\u001b[0m             )\n\u001b[0;32m   1807\u001b[0m \u001b[1;33m\u001b[0m\u001b[0m\n",
      "\u001b[1;32mC:\\ProgramData\\Anaconda3\\lib\\site-packages\\catboost\\core.py\u001b[0m in \u001b[0;36m_train\u001b[1;34m(self, train_pool, test_pool, params, allow_clear_pool, init_model)\u001b[0m\n\u001b[0;32m   1256\u001b[0m \u001b[1;33m\u001b[0m\u001b[0m\n\u001b[0;32m   1257\u001b[0m     \u001b[1;32mdef\u001b[0m \u001b[0m_train\u001b[0m\u001b[1;33m(\u001b[0m\u001b[0mself\u001b[0m\u001b[1;33m,\u001b[0m \u001b[0mtrain_pool\u001b[0m\u001b[1;33m,\u001b[0m \u001b[0mtest_pool\u001b[0m\u001b[1;33m,\u001b[0m \u001b[0mparams\u001b[0m\u001b[1;33m,\u001b[0m \u001b[0mallow_clear_pool\u001b[0m\u001b[1;33m,\u001b[0m \u001b[0minit_model\u001b[0m\u001b[1;33m)\u001b[0m\u001b[1;33m:\u001b[0m\u001b[1;33m\u001b[0m\u001b[1;33m\u001b[0m\u001b[0m\n\u001b[1;32m-> 1258\u001b[1;33m         \u001b[0mself\u001b[0m\u001b[1;33m.\u001b[0m\u001b[0m_object\u001b[0m\u001b[1;33m.\u001b[0m\u001b[0m_train\u001b[0m\u001b[1;33m(\u001b[0m\u001b[0mtrain_pool\u001b[0m\u001b[1;33m,\u001b[0m \u001b[0mtest_pool\u001b[0m\u001b[1;33m,\u001b[0m \u001b[0mparams\u001b[0m\u001b[1;33m,\u001b[0m \u001b[0mallow_clear_pool\u001b[0m\u001b[1;33m,\u001b[0m \u001b[0minit_model\u001b[0m\u001b[1;33m.\u001b[0m\u001b[0m_object\u001b[0m \u001b[1;32mif\u001b[0m \u001b[0minit_model\u001b[0m \u001b[1;32melse\u001b[0m \u001b[1;32mNone\u001b[0m\u001b[1;33m)\u001b[0m\u001b[1;33m\u001b[0m\u001b[1;33m\u001b[0m\u001b[0m\n\u001b[0m\u001b[0;32m   1259\u001b[0m         \u001b[0mself\u001b[0m\u001b[1;33m.\u001b[0m\u001b[0m_set_trained_model_attributes\u001b[0m\u001b[1;33m(\u001b[0m\u001b[1;33m)\u001b[0m\u001b[1;33m\u001b[0m\u001b[1;33m\u001b[0m\u001b[0m\n\u001b[0;32m   1260\u001b[0m \u001b[1;33m\u001b[0m\u001b[0m\n",
      "\u001b[1;32m_catboost.pyx\u001b[0m in \u001b[0;36m_catboost._CatBoost._train\u001b[1;34m()\u001b[0m\n",
      "\u001b[1;32m_catboost.pyx\u001b[0m in \u001b[0;36m_catboost._CatBoost._train\u001b[1;34m()\u001b[0m\n",
      "\u001b[1;31mKeyboardInterrupt\u001b[0m: "
     ]
    }
   ],
   "source": [
    "boost.fit(X_train,y_train)"
   ]
  },
  {
   "cell_type": "code",
   "execution_count": 70,
   "metadata": {},
   "outputs": [],
   "source": [
    "y_train_pred=boost.predict(X_train)\n",
    "y_test_pred=boost.predict(test)"
   ]
  },
  {
   "cell_type": "code",
   "execution_count": 71,
   "metadata": {},
   "outputs": [
    {
     "ename": "ValueError",
     "evalue": "Mean Squared Logarithmic Error cannot be used when targets contain negative values.",
     "output_type": "error",
     "traceback": [
      "\u001b[1;31m---------------------------------------------------------------------------\u001b[0m",
      "\u001b[1;31mValueError\u001b[0m                                Traceback (most recent call last)",
      "\u001b[1;32m<ipython-input-71-48a61131389b>\u001b[0m in \u001b[0;36m<module>\u001b[1;34m\u001b[0m\n\u001b[1;32m----> 1\u001b[1;33m \u001b[0mmean_squared_log_error\u001b[0m\u001b[1;33m(\u001b[0m\u001b[0my_train\u001b[0m\u001b[1;33m,\u001b[0m\u001b[0my_train_pred\u001b[0m\u001b[1;33m)\u001b[0m\u001b[1;33m\u001b[0m\u001b[1;33m\u001b[0m\u001b[0m\n\u001b[0m",
      "\u001b[1;32mC:\\ProgramData\\Anaconda3\\lib\\site-packages\\sklearn\\metrics\\_regression.py\u001b[0m in \u001b[0;36mmean_squared_log_error\u001b[1;34m(y_true, y_pred, sample_weight, multioutput)\u001b[0m\n\u001b[0;32m    324\u001b[0m \u001b[1;33m\u001b[0m\u001b[0m\n\u001b[0;32m    325\u001b[0m     \u001b[1;32mif\u001b[0m \u001b[1;33m(\u001b[0m\u001b[0my_true\u001b[0m \u001b[1;33m<\u001b[0m \u001b[1;36m0\u001b[0m\u001b[1;33m)\u001b[0m\u001b[1;33m.\u001b[0m\u001b[0many\u001b[0m\u001b[1;33m(\u001b[0m\u001b[1;33m)\u001b[0m \u001b[1;32mor\u001b[0m \u001b[1;33m(\u001b[0m\u001b[0my_pred\u001b[0m \u001b[1;33m<\u001b[0m \u001b[1;36m0\u001b[0m\u001b[1;33m)\u001b[0m\u001b[1;33m.\u001b[0m\u001b[0many\u001b[0m\u001b[1;33m(\u001b[0m\u001b[1;33m)\u001b[0m\u001b[1;33m:\u001b[0m\u001b[1;33m\u001b[0m\u001b[1;33m\u001b[0m\u001b[0m\n\u001b[1;32m--> 326\u001b[1;33m         raise ValueError(\"Mean Squared Logarithmic Error cannot be used when \"\n\u001b[0m\u001b[0;32m    327\u001b[0m                          \"targets contain negative values.\")\n\u001b[0;32m    328\u001b[0m \u001b[1;33m\u001b[0m\u001b[0m\n",
      "\u001b[1;31mValueError\u001b[0m: Mean Squared Logarithmic Error cannot be used when targets contain negative values."
     ]
    }
   ],
   "source": [
    "mean_squared_log_error(y_train,y_train_pred)"
   ]
  },
  {
   "cell_type": "code",
   "execution_count": 74,
   "metadata": {},
   "outputs": [
    {
     "data": {
      "text/plain": [
       "231.839782    18\n",
       "228.472691    18\n",
       "222.542873    18\n",
       "112.884303    12\n",
       "122.026869    12\n",
       "              ..\n",
       "129.182897     1\n",
       "154.800163     1\n",
       "166.041378     1\n",
       "215.606410     1\n",
       "115.340009     1\n",
       "Length: 10489, dtype: int64"
      ]
     },
     "execution_count": 74,
     "metadata": {},
     "output_type": "execute_result"
    }
   ],
   "source": [
    "pd.Series(y_test_pred).value_counts()"
   ]
  },
  {
   "cell_type": "code",
   "execution_count": 75,
   "metadata": {},
   "outputs": [],
   "source": [
    "export_submission(y_test_pred,\"CatBoost dayy\")"
   ]
  },
  {
   "cell_type": "markdown",
   "metadata": {},
   "source": [
    "## Randomized Search For XGBoost"
   ]
  },
  {
   "cell_type": "code",
   "execution_count": 11,
   "metadata": {},
   "outputs": [],
   "source": [
    "parameters={'n_estimators' : [100,200,300,400,500],\n",
    "            'max_depth' : range(1,30,1),\n",
    "            'learning_rate' : np.arange(0.001,10,0.01)}"
   ]
  },
  {
   "cell_type": "code",
   "execution_count": 12,
   "metadata": {},
   "outputs": [],
   "source": [
    "search=RandomizedSearchCV(XGBRegressor(random_state=10),parameters,scoring='neg_mean_squared_log_error',cv=5,n_jobs=-1,verbose=5,n_iter=100)"
   ]
  },
  {
   "cell_type": "code",
   "execution_count": null,
   "metadata": {},
   "outputs": [
    {
     "name": "stdout",
     "output_type": "stream",
     "text": [
      "Fitting 5 folds for each of 100 candidates, totalling 500 fits\n"
     ]
    },
    {
     "name": "stderr",
     "output_type": "stream",
     "text": [
      "[Parallel(n_jobs=-1)]: Using backend LokyBackend with 12 concurrent workers.\n"
     ]
    }
   ],
   "source": [
    "search.fit(X_train,y_train)"
   ]
  },
  {
   "cell_type": "code",
   "execution_count": 14,
   "metadata": {},
   "outputs": [
    {
     "data": {
      "text/plain": [
       "{'max_depth': 6}"
      ]
     },
     "execution_count": 14,
     "metadata": {},
     "output_type": "execute_result"
    }
   ],
   "source": [
    "search.best_params_"
   ]
  },
  {
   "cell_type": "code",
   "execution_count": 15,
   "metadata": {},
   "outputs": [
    {
     "data": {
      "text/plain": [
       "-0.17376247324263985"
      ]
     },
     "execution_count": 15,
     "metadata": {},
     "output_type": "execute_result"
    }
   ],
   "source": [
    "search.best_score_"
   ]
  },
  {
   "cell_type": "code",
   "execution_count": null,
   "metadata": {},
   "outputs": [],
   "source": []
  },
  {
   "cell_type": "code",
   "execution_count": null,
   "metadata": {},
   "outputs": [],
   "source": []
  },
  {
   "cell_type": "code",
   "execution_count": 11,
   "metadata": {},
   "outputs": [
    {
     "data": {
      "text/plain": [
       "XGBRegressor(base_score=0.5, booster='gbtree', colsample_bylevel=1,\n",
       "             colsample_bynode=1, colsample_bytree=1, gamma=0, gpu_id=-1,\n",
       "             importance_type='gain', interaction_constraints='',\n",
       "             learning_rate=0.300000012, max_delta_step=0, max_depth=6,\n",
       "             min_child_weight=1, missing=nan, monotone_constraints='()',\n",
       "             n_estimators=100, n_jobs=0, num_parallel_tree=1,\n",
       "             objective='reg:squarederror', random_state=0, reg_alpha=0,\n",
       "             reg_lambda=1, scale_pos_weight=1, subsample=1, tree_method='exact',\n",
       "             validate_parameters=1, verbosity=None)"
      ]
     },
     "execution_count": 11,
     "metadata": {},
     "output_type": "execute_result"
    }
   ],
   "source": [
    "boost=XGBRegressor()\n",
    "boost.fit(X_train,y_train)"
   ]
  },
  {
   "cell_type": "code",
   "execution_count": 12,
   "metadata": {},
   "outputs": [],
   "source": [
    "y_train_pred=boost.predict(X_train)\n",
    "y_test_pred=boost.predict(test)"
   ]
  },
  {
   "cell_type": "code",
   "execution_count": 13,
   "metadata": {
    "collapsed": true
   },
   "outputs": [
    {
     "ename": "ValueError",
     "evalue": "Mean Squared Logarithmic Error cannot be used when targets contain negative values.",
     "output_type": "error",
     "traceback": [
      "\u001b[1;31m---------------------------------------------------------------------------\u001b[0m",
      "\u001b[1;31mValueError\u001b[0m                                Traceback (most recent call last)",
      "\u001b[1;32m<ipython-input-13-48a61131389b>\u001b[0m in \u001b[0;36m<module>\u001b[1;34m\u001b[0m\n\u001b[1;32m----> 1\u001b[1;33m \u001b[0mmean_squared_log_error\u001b[0m\u001b[1;33m(\u001b[0m\u001b[0my_train\u001b[0m\u001b[1;33m,\u001b[0m\u001b[0my_train_pred\u001b[0m\u001b[1;33m)\u001b[0m\u001b[1;33m\u001b[0m\u001b[1;33m\u001b[0m\u001b[0m\n\u001b[0m",
      "\u001b[1;32mC:\\ProgramData\\Anaconda3\\lib\\site-packages\\sklearn\\metrics\\_regression.py\u001b[0m in \u001b[0;36mmean_squared_log_error\u001b[1;34m(y_true, y_pred, sample_weight, multioutput)\u001b[0m\n\u001b[0;32m    324\u001b[0m \u001b[1;33m\u001b[0m\u001b[0m\n\u001b[0;32m    325\u001b[0m     \u001b[1;32mif\u001b[0m \u001b[1;33m(\u001b[0m\u001b[0my_true\u001b[0m \u001b[1;33m<\u001b[0m \u001b[1;36m0\u001b[0m\u001b[1;33m)\u001b[0m\u001b[1;33m.\u001b[0m\u001b[0many\u001b[0m\u001b[1;33m(\u001b[0m\u001b[1;33m)\u001b[0m \u001b[1;32mor\u001b[0m \u001b[1;33m(\u001b[0m\u001b[0my_pred\u001b[0m \u001b[1;33m<\u001b[0m \u001b[1;36m0\u001b[0m\u001b[1;33m)\u001b[0m\u001b[1;33m.\u001b[0m\u001b[0many\u001b[0m\u001b[1;33m(\u001b[0m\u001b[1;33m)\u001b[0m\u001b[1;33m:\u001b[0m\u001b[1;33m\u001b[0m\u001b[1;33m\u001b[0m\u001b[0m\n\u001b[1;32m--> 326\u001b[1;33m         raise ValueError(\"Mean Squared Logarithmic Error cannot be used when \"\n\u001b[0m\u001b[0;32m    327\u001b[0m                          \"targets contain negative values.\")\n\u001b[0;32m    328\u001b[0m \u001b[1;33m\u001b[0m\u001b[0m\n",
      "\u001b[1;31mValueError\u001b[0m: Mean Squared Logarithmic Error cannot be used when targets contain negative values."
     ]
    }
   ],
   "source": [
    "mean_squared_log_error(y_train,y_train_pred)"
   ]
  },
  {
   "cell_type": "code",
   "execution_count": 15,
   "metadata": {},
   "outputs": [],
   "source": [
    "export_submission(y_test_pred,\"XGBRegressor\")"
   ]
  },
  {
   "cell_type": "code",
   "execution_count": null,
   "metadata": {},
   "outputs": [],
   "source": [
    "path=tree.cost_complexity_pruning_path(X_train,y_train)"
   ]
  },
  {
   "cell_type": "code",
   "execution_count": null,
   "metadata": {},
   "outputs": [],
   "source": []
  }
 ],
 "metadata": {
  "kernelspec": {
   "display_name": "Python 3",
   "language": "python",
   "name": "python3"
  },
  "language_info": {
   "codemirror_mode": {
    "name": "ipython",
    "version": 3
   },
   "file_extension": ".py",
   "mimetype": "text/x-python",
   "name": "python",
   "nbconvert_exporter": "python",
   "pygments_lexer": "ipython3",
   "version": "3.7.6"
  }
 },
 "nbformat": 4,
 "nbformat_minor": 4
}
