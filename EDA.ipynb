{
 "cells": [
  {
   "cell_type": "code",
   "execution_count": 2,
   "metadata": {},
   "outputs": [],
   "source": [
    "# Importing the required libraries\n",
    "\n",
    "import pandas as pd\n",
    "import numpy as np\n",
    "import matplotlib.pyplot as plt\n",
    "import seaborn as sns\n",
    "\n",
    "from IPython.display import clear_output,display"
   ]
  },
  {
   "cell_type": "code",
   "execution_count": 3,
   "metadata": {},
   "outputs": [],
   "source": [
    "# importing the train and test datasets\n",
    "\n",
    "train=pd.read_csv(\"train.csv\")\n",
    "test=pd.read_csv(\"test.csv\")\n",
    "sample_sub=pd.read_csv(\"sample_submission.csv\")"
   ]
  },
  {
   "cell_type": "code",
   "execution_count": 4,
   "metadata": {},
   "outputs": [
    {
     "data": {
      "text/plain": [
       "(512087, 11)"
      ]
     },
     "execution_count": 4,
     "metadata": {},
     "output_type": "execute_result"
    }
   ],
   "source": [
    "train.shape"
   ]
  },
  {
   "cell_type": "code",
   "execution_count": 5,
   "metadata": {},
   "outputs": [
    {
     "data": {
      "text/html": [
       "<div>\n",
       "<style scoped>\n",
       "    .dataframe tbody tr th:only-of-type {\n",
       "        vertical-align: middle;\n",
       "    }\n",
       "\n",
       "    .dataframe tbody tr th {\n",
       "        vertical-align: top;\n",
       "    }\n",
       "\n",
       "    .dataframe thead th {\n",
       "        text-align: right;\n",
       "    }\n",
       "</style>\n",
       "<table border=\"1\" class=\"dataframe\">\n",
       "  <thead>\n",
       "    <tr style=\"text-align: right;\">\n",
       "      <th></th>\n",
       "      <th>ID</th>\n",
       "      <th>Day_No</th>\n",
       "      <th>Course_ID</th>\n",
       "      <th>Course_Domain</th>\n",
       "      <th>Course_Type</th>\n",
       "      <th>Short_Promotion</th>\n",
       "      <th>Public_Holiday</th>\n",
       "      <th>Long_Promotion</th>\n",
       "      <th>User_Traffic</th>\n",
       "      <th>Competition_Metric</th>\n",
       "      <th>Sales</th>\n",
       "    </tr>\n",
       "  </thead>\n",
       "  <tbody>\n",
       "    <tr>\n",
       "      <th>0</th>\n",
       "      <td>1</td>\n",
       "      <td>1</td>\n",
       "      <td>1</td>\n",
       "      <td>Development</td>\n",
       "      <td>Course</td>\n",
       "      <td>0</td>\n",
       "      <td>1</td>\n",
       "      <td>1</td>\n",
       "      <td>11004</td>\n",
       "      <td>0.007</td>\n",
       "      <td>81</td>\n",
       "    </tr>\n",
       "    <tr>\n",
       "      <th>1</th>\n",
       "      <td>2</td>\n",
       "      <td>2</td>\n",
       "      <td>1</td>\n",
       "      <td>Development</td>\n",
       "      <td>Course</td>\n",
       "      <td>0</td>\n",
       "      <td>0</td>\n",
       "      <td>1</td>\n",
       "      <td>13650</td>\n",
       "      <td>0.007</td>\n",
       "      <td>79</td>\n",
       "    </tr>\n",
       "    <tr>\n",
       "      <th>2</th>\n",
       "      <td>3</td>\n",
       "      <td>3</td>\n",
       "      <td>1</td>\n",
       "      <td>Development</td>\n",
       "      <td>Course</td>\n",
       "      <td>0</td>\n",
       "      <td>0</td>\n",
       "      <td>1</td>\n",
       "      <td>11655</td>\n",
       "      <td>0.007</td>\n",
       "      <td>75</td>\n",
       "    </tr>\n",
       "    <tr>\n",
       "      <th>3</th>\n",
       "      <td>4</td>\n",
       "      <td>4</td>\n",
       "      <td>1</td>\n",
       "      <td>Development</td>\n",
       "      <td>Course</td>\n",
       "      <td>0</td>\n",
       "      <td>0</td>\n",
       "      <td>1</td>\n",
       "      <td>12054</td>\n",
       "      <td>0.007</td>\n",
       "      <td>80</td>\n",
       "    </tr>\n",
       "    <tr>\n",
       "      <th>4</th>\n",
       "      <td>5</td>\n",
       "      <td>5</td>\n",
       "      <td>1</td>\n",
       "      <td>Development</td>\n",
       "      <td>Course</td>\n",
       "      <td>0</td>\n",
       "      <td>0</td>\n",
       "      <td>1</td>\n",
       "      <td>6804</td>\n",
       "      <td>0.007</td>\n",
       "      <td>41</td>\n",
       "    </tr>\n",
       "    <tr>\n",
       "      <th>5</th>\n",
       "      <td>6</td>\n",
       "      <td>6</td>\n",
       "      <td>1</td>\n",
       "      <td>Development</td>\n",
       "      <td>Course</td>\n",
       "      <td>0</td>\n",
       "      <td>0</td>\n",
       "      <td>1</td>\n",
       "      <td>10395</td>\n",
       "      <td>0.007</td>\n",
       "      <td>62</td>\n",
       "    </tr>\n",
       "    <tr>\n",
       "      <th>6</th>\n",
       "      <td>7</td>\n",
       "      <td>7</td>\n",
       "      <td>1</td>\n",
       "      <td>Development</td>\n",
       "      <td>Course</td>\n",
       "      <td>1</td>\n",
       "      <td>0</td>\n",
       "      <td>1</td>\n",
       "      <td>16023</td>\n",
       "      <td>0.007</td>\n",
       "      <td>122</td>\n",
       "    </tr>\n",
       "    <tr>\n",
       "      <th>7</th>\n",
       "      <td>8</td>\n",
       "      <td>8</td>\n",
       "      <td>1</td>\n",
       "      <td>Development</td>\n",
       "      <td>Course</td>\n",
       "      <td>1</td>\n",
       "      <td>0</td>\n",
       "      <td>1</td>\n",
       "      <td>14385</td>\n",
       "      <td>0.007</td>\n",
       "      <td>114</td>\n",
       "    </tr>\n",
       "    <tr>\n",
       "      <th>8</th>\n",
       "      <td>9</td>\n",
       "      <td>9</td>\n",
       "      <td>1</td>\n",
       "      <td>Development</td>\n",
       "      <td>Course</td>\n",
       "      <td>1</td>\n",
       "      <td>0</td>\n",
       "      <td>1</td>\n",
       "      <td>16485</td>\n",
       "      <td>0.007</td>\n",
       "      <td>121</td>\n",
       "    </tr>\n",
       "    <tr>\n",
       "      <th>9</th>\n",
       "      <td>10</td>\n",
       "      <td>10</td>\n",
       "      <td>1</td>\n",
       "      <td>Development</td>\n",
       "      <td>Course</td>\n",
       "      <td>1</td>\n",
       "      <td>0</td>\n",
       "      <td>1</td>\n",
       "      <td>13377</td>\n",
       "      <td>0.007</td>\n",
       "      <td>100</td>\n",
       "    </tr>\n",
       "  </tbody>\n",
       "</table>\n",
       "</div>"
      ],
      "text/plain": [
       "   ID  Day_No  Course_ID Course_Domain Course_Type  Short_Promotion  \\\n",
       "0   1       1          1   Development      Course                0   \n",
       "1   2       2          1   Development      Course                0   \n",
       "2   3       3          1   Development      Course                0   \n",
       "3   4       4          1   Development      Course                0   \n",
       "4   5       5          1   Development      Course                0   \n",
       "5   6       6          1   Development      Course                0   \n",
       "6   7       7          1   Development      Course                1   \n",
       "7   8       8          1   Development      Course                1   \n",
       "8   9       9          1   Development      Course                1   \n",
       "9  10      10          1   Development      Course                1   \n",
       "\n",
       "   Public_Holiday  Long_Promotion  User_Traffic  Competition_Metric  Sales  \n",
       "0               1               1         11004               0.007     81  \n",
       "1               0               1         13650               0.007     79  \n",
       "2               0               1         11655               0.007     75  \n",
       "3               0               1         12054               0.007     80  \n",
       "4               0               1          6804               0.007     41  \n",
       "5               0               1         10395               0.007     62  \n",
       "6               0               1         16023               0.007    122  \n",
       "7               0               1         14385               0.007    114  \n",
       "8               0               1         16485               0.007    121  \n",
       "9               0               1         13377               0.007    100  "
      ]
     },
     "execution_count": 5,
     "metadata": {},
     "output_type": "execute_result"
    }
   ],
   "source": [
    "train.head(10)"
   ]
  },
  {
   "cell_type": "code",
   "execution_count": 6,
   "metadata": {},
   "outputs": [
    {
     "data": {
      "text/html": [
       "<div>\n",
       "<style scoped>\n",
       "    .dataframe tbody tr th:only-of-type {\n",
       "        vertical-align: middle;\n",
       "    }\n",
       "\n",
       "    .dataframe tbody tr th {\n",
       "        vertical-align: top;\n",
       "    }\n",
       "\n",
       "    .dataframe thead th {\n",
       "        text-align: right;\n",
       "    }\n",
       "</style>\n",
       "<table border=\"1\" class=\"dataframe\">\n",
       "  <thead>\n",
       "    <tr style=\"text-align: right;\">\n",
       "      <th></th>\n",
       "      <th>ID</th>\n",
       "      <th>Day_No</th>\n",
       "      <th>Course_ID</th>\n",
       "      <th>Course_Domain</th>\n",
       "      <th>Course_Type</th>\n",
       "      <th>Short_Promotion</th>\n",
       "      <th>Public_Holiday</th>\n",
       "      <th>Long_Promotion</th>\n",
       "      <th>User_Traffic</th>\n",
       "      <th>Competition_Metric</th>\n",
       "      <th>Sales</th>\n",
       "    </tr>\n",
       "  </thead>\n",
       "  <tbody>\n",
       "    <tr>\n",
       "      <th>512077</th>\n",
       "      <td>548018</td>\n",
       "      <td>873</td>\n",
       "      <td>600</td>\n",
       "      <td>Software Marketing</td>\n",
       "      <td>Program</td>\n",
       "      <td>0</td>\n",
       "      <td>0</td>\n",
       "      <td>1</td>\n",
       "      <td>11739</td>\n",
       "      <td>0.07</td>\n",
       "      <td>144</td>\n",
       "    </tr>\n",
       "    <tr>\n",
       "      <th>512078</th>\n",
       "      <td>548019</td>\n",
       "      <td>874</td>\n",
       "      <td>600</td>\n",
       "      <td>Software Marketing</td>\n",
       "      <td>Program</td>\n",
       "      <td>0</td>\n",
       "      <td>0</td>\n",
       "      <td>1</td>\n",
       "      <td>10311</td>\n",
       "      <td>0.07</td>\n",
       "      <td>133</td>\n",
       "    </tr>\n",
       "    <tr>\n",
       "      <th>512079</th>\n",
       "      <td>548020</td>\n",
       "      <td>875</td>\n",
       "      <td>600</td>\n",
       "      <td>Software Marketing</td>\n",
       "      <td>Program</td>\n",
       "      <td>0</td>\n",
       "      <td>1</td>\n",
       "      <td>1</td>\n",
       "      <td>9429</td>\n",
       "      <td>0.07</td>\n",
       "      <td>114</td>\n",
       "    </tr>\n",
       "    <tr>\n",
       "      <th>512080</th>\n",
       "      <td>548021</td>\n",
       "      <td>876</td>\n",
       "      <td>600</td>\n",
       "      <td>Software Marketing</td>\n",
       "      <td>Program</td>\n",
       "      <td>0</td>\n",
       "      <td>0</td>\n",
       "      <td>1</td>\n",
       "      <td>9639</td>\n",
       "      <td>0.07</td>\n",
       "      <td>121</td>\n",
       "    </tr>\n",
       "    <tr>\n",
       "      <th>512081</th>\n",
       "      <td>548022</td>\n",
       "      <td>877</td>\n",
       "      <td>600</td>\n",
       "      <td>Software Marketing</td>\n",
       "      <td>Program</td>\n",
       "      <td>0</td>\n",
       "      <td>0</td>\n",
       "      <td>1</td>\n",
       "      <td>9072</td>\n",
       "      <td>0.07</td>\n",
       "      <td>111</td>\n",
       "    </tr>\n",
       "    <tr>\n",
       "      <th>512082</th>\n",
       "      <td>548023</td>\n",
       "      <td>878</td>\n",
       "      <td>600</td>\n",
       "      <td>Software Marketing</td>\n",
       "      <td>Program</td>\n",
       "      <td>0</td>\n",
       "      <td>0</td>\n",
       "      <td>1</td>\n",
       "      <td>8904</td>\n",
       "      <td>0.07</td>\n",
       "      <td>114</td>\n",
       "    </tr>\n",
       "    <tr>\n",
       "      <th>512083</th>\n",
       "      <td>548024</td>\n",
       "      <td>879</td>\n",
       "      <td>600</td>\n",
       "      <td>Software Marketing</td>\n",
       "      <td>Program</td>\n",
       "      <td>0</td>\n",
       "      <td>0</td>\n",
       "      <td>1</td>\n",
       "      <td>10542</td>\n",
       "      <td>0.07</td>\n",
       "      <td>145</td>\n",
       "    </tr>\n",
       "    <tr>\n",
       "      <th>512084</th>\n",
       "      <td>548025</td>\n",
       "      <td>880</td>\n",
       "      <td>600</td>\n",
       "      <td>Software Marketing</td>\n",
       "      <td>Program</td>\n",
       "      <td>0</td>\n",
       "      <td>0</td>\n",
       "      <td>1</td>\n",
       "      <td>13671</td>\n",
       "      <td>0.07</td>\n",
       "      <td>167</td>\n",
       "    </tr>\n",
       "    <tr>\n",
       "      <th>512085</th>\n",
       "      <td>548026</td>\n",
       "      <td>881</td>\n",
       "      <td>600</td>\n",
       "      <td>Software Marketing</td>\n",
       "      <td>Program</td>\n",
       "      <td>0</td>\n",
       "      <td>0</td>\n",
       "      <td>1</td>\n",
       "      <td>8904</td>\n",
       "      <td>0.07</td>\n",
       "      <td>107</td>\n",
       "    </tr>\n",
       "    <tr>\n",
       "      <th>512086</th>\n",
       "      <td>548027</td>\n",
       "      <td>882</td>\n",
       "      <td>600</td>\n",
       "      <td>Software Marketing</td>\n",
       "      <td>Program</td>\n",
       "      <td>1</td>\n",
       "      <td>0</td>\n",
       "      <td>1</td>\n",
       "      <td>11445</td>\n",
       "      <td>0.07</td>\n",
       "      <td>152</td>\n",
       "    </tr>\n",
       "  </tbody>\n",
       "</table>\n",
       "</div>"
      ],
      "text/plain": [
       "            ID  Day_No  Course_ID       Course_Domain Course_Type  \\\n",
       "512077  548018     873        600  Software Marketing     Program   \n",
       "512078  548019     874        600  Software Marketing     Program   \n",
       "512079  548020     875        600  Software Marketing     Program   \n",
       "512080  548021     876        600  Software Marketing     Program   \n",
       "512081  548022     877        600  Software Marketing     Program   \n",
       "512082  548023     878        600  Software Marketing     Program   \n",
       "512083  548024     879        600  Software Marketing     Program   \n",
       "512084  548025     880        600  Software Marketing     Program   \n",
       "512085  548026     881        600  Software Marketing     Program   \n",
       "512086  548027     882        600  Software Marketing     Program   \n",
       "\n",
       "        Short_Promotion  Public_Holiday  Long_Promotion  User_Traffic  \\\n",
       "512077                0               0               1         11739   \n",
       "512078                0               0               1         10311   \n",
       "512079                0               1               1          9429   \n",
       "512080                0               0               1          9639   \n",
       "512081                0               0               1          9072   \n",
       "512082                0               0               1          8904   \n",
       "512083                0               0               1         10542   \n",
       "512084                0               0               1         13671   \n",
       "512085                0               0               1          8904   \n",
       "512086                1               0               1         11445   \n",
       "\n",
       "        Competition_Metric  Sales  \n",
       "512077                0.07    144  \n",
       "512078                0.07    133  \n",
       "512079                0.07    114  \n",
       "512080                0.07    121  \n",
       "512081                0.07    111  \n",
       "512082                0.07    114  \n",
       "512083                0.07    145  \n",
       "512084                0.07    167  \n",
       "512085                0.07    107  \n",
       "512086                0.07    152  "
      ]
     },
     "execution_count": 6,
     "metadata": {},
     "output_type": "execute_result"
    }
   ],
   "source": [
    "train.tail(10)"
   ]
  },
  {
   "cell_type": "code",
   "execution_count": 7,
   "metadata": {},
   "outputs": [
    {
     "data": {
      "text/plain": [
       "((512087, 11), (36000, 9))"
      ]
     },
     "execution_count": 7,
     "metadata": {},
     "output_type": "execute_result"
    }
   ],
   "source": [
    "train.shape,test.shape"
   ]
  },
  {
   "cell_type": "code",
   "execution_count": 8,
   "metadata": {},
   "outputs": [
    {
     "data": {
      "text/plain": [
       "ID                       0\n",
       "Day_No                   0\n",
       "Course_ID                0\n",
       "Course_Domain            0\n",
       "Course_Type              0\n",
       "Short_Promotion          0\n",
       "Public_Holiday           0\n",
       "Long_Promotion           0\n",
       "User_Traffic             0\n",
       "Competition_Metric    1764\n",
       "Sales                    0\n",
       "dtype: int64"
      ]
     },
     "execution_count": 8,
     "metadata": {},
     "output_type": "execute_result"
    }
   ],
   "source": [
    "train.isnull().sum()"
   ]
  },
  {
   "cell_type": "code",
   "execution_count": 9,
   "metadata": {},
   "outputs": [
    {
     "data": {
      "text/plain": [
       "ID                      0\n",
       "Day_No                  0\n",
       "Course_ID               0\n",
       "Course_Domain           0\n",
       "Course_Type             0\n",
       "Short_Promotion         0\n",
       "Public_Holiday          0\n",
       "Long_Promotion          0\n",
       "Competition_Metric    120\n",
       "dtype: int64"
      ]
     },
     "execution_count": 9,
     "metadata": {},
     "output_type": "execute_result"
    }
   ],
   "source": [
    "test.isnull().sum()"
   ]
  },
  {
   "cell_type": "code",
   "execution_count": 10,
   "metadata": {},
   "outputs": [
    {
     "data": {
      "text/html": [
       "<div>\n",
       "<style scoped>\n",
       "    .dataframe tbody tr th:only-of-type {\n",
       "        vertical-align: middle;\n",
       "    }\n",
       "\n",
       "    .dataframe tbody tr th {\n",
       "        vertical-align: top;\n",
       "    }\n",
       "\n",
       "    .dataframe thead th {\n",
       "        text-align: right;\n",
       "    }\n",
       "</style>\n",
       "<table border=\"1\" class=\"dataframe\">\n",
       "  <thead>\n",
       "    <tr style=\"text-align: right;\">\n",
       "      <th></th>\n",
       "      <th>ID</th>\n",
       "      <th>Day_No</th>\n",
       "      <th>Course_ID</th>\n",
       "      <th>Course_Domain</th>\n",
       "      <th>Course_Type</th>\n",
       "      <th>Short_Promotion</th>\n",
       "      <th>Public_Holiday</th>\n",
       "      <th>Long_Promotion</th>\n",
       "      <th>User_Traffic</th>\n",
       "      <th>Competition_Metric</th>\n",
       "      <th>Sales</th>\n",
       "    </tr>\n",
       "  </thead>\n",
       "  <tbody>\n",
       "  </tbody>\n",
       "</table>\n",
       "</div>"
      ],
      "text/plain": [
       "Empty DataFrame\n",
       "Columns: [ID, Day_No, Course_ID, Course_Domain, Course_Type, Short_Promotion, Public_Holiday, Long_Promotion, User_Traffic, Competition_Metric, Sales]\n",
       "Index: []"
      ]
     },
     "execution_count": 10,
     "metadata": {},
     "output_type": "execute_result"
    }
   ],
   "source": [
    "cols=list(train.columns)\n",
    "train[train.duplicated()]"
   ]
  },
  {
   "cell_type": "code",
   "execution_count": 11,
   "metadata": {},
   "outputs": [
    {
     "data": {
      "text/html": [
       "<div>\n",
       "<style scoped>\n",
       "    .dataframe tbody tr th:only-of-type {\n",
       "        vertical-align: middle;\n",
       "    }\n",
       "\n",
       "    .dataframe tbody tr th {\n",
       "        vertical-align: top;\n",
       "    }\n",
       "\n",
       "    .dataframe thead th {\n",
       "        text-align: right;\n",
       "    }\n",
       "</style>\n",
       "<table border=\"1\" class=\"dataframe\">\n",
       "  <thead>\n",
       "    <tr style=\"text-align: right;\">\n",
       "      <th></th>\n",
       "      <th>ID</th>\n",
       "      <th>Day_No</th>\n",
       "      <th>Course_ID</th>\n",
       "      <th>Course_Domain</th>\n",
       "      <th>Course_Type</th>\n",
       "      <th>Short_Promotion</th>\n",
       "      <th>Public_Holiday</th>\n",
       "      <th>Long_Promotion</th>\n",
       "      <th>User_Traffic</th>\n",
       "      <th>Competition_Metric</th>\n",
       "      <th>Sales</th>\n",
       "    </tr>\n",
       "  </thead>\n",
       "  <tbody>\n",
       "  </tbody>\n",
       "</table>\n",
       "</div>"
      ],
      "text/plain": [
       "Empty DataFrame\n",
       "Columns: [ID, Day_No, Course_ID, Course_Domain, Course_Type, Short_Promotion, Public_Holiday, Long_Promotion, User_Traffic, Competition_Metric, Sales]\n",
       "Index: []"
      ]
     },
     "execution_count": 11,
     "metadata": {},
     "output_type": "execute_result"
    }
   ],
   "source": [
    "cols=list(train.columns)\n",
    "train[train.duplicated(cols.remove(\"Competition_Metric\"))]"
   ]
  },
  {
   "cell_type": "markdown",
   "metadata": {},
   "source": [
    "**There are no duplicate rows in our dataset**"
   ]
  },
  {
   "cell_type": "code",
   "execution_count": 12,
   "metadata": {},
   "outputs": [
    {
     "data": {
      "text/plain": [
       "ID                      int64\n",
       "Day_No                  int64\n",
       "Course_ID               int64\n",
       "Course_Domain          object\n",
       "Course_Type            object\n",
       "Short_Promotion         int64\n",
       "Public_Holiday          int64\n",
       "Long_Promotion          int64\n",
       "User_Traffic            int64\n",
       "Competition_Metric    float64\n",
       "Sales                   int64\n",
       "dtype: object"
      ]
     },
     "metadata": {},
     "output_type": "display_data"
    },
    {
     "name": "stdout",
     "output_type": "stream",
     "text": [
      "---------------\n"
     ]
    },
    {
     "data": {
      "text/plain": [
       "ID                      int64\n",
       "Day_No                  int64\n",
       "Course_ID               int64\n",
       "Course_Domain          object\n",
       "Course_Type            object\n",
       "Short_Promotion         int64\n",
       "Public_Holiday          int64\n",
       "Long_Promotion          int64\n",
       "Competition_Metric    float64\n",
       "dtype: object"
      ]
     },
     "metadata": {},
     "output_type": "display_data"
    }
   ],
   "source": [
    "display(train.dtypes)\n",
    "print(\"---------------\")\n",
    "display(test.dtypes)"
   ]
  },
  {
   "cell_type": "markdown",
   "metadata": {},
   "source": [
    "**Our Test Dataset does not have User_Traffic**"
   ]
  },
  {
   "cell_type": "code",
   "execution_count": 13,
   "metadata": {},
   "outputs": [
    {
     "data": {
      "text/plain": [
       "882"
      ]
     },
     "execution_count": 13,
     "metadata": {},
     "output_type": "execute_result"
    }
   ],
   "source": [
    "train[\"Day_No\"].nunique()"
   ]
  },
  {
   "cell_type": "markdown",
   "metadata": {},
   "source": [
    "**We have data for 882 days**"
   ]
  },
  {
   "cell_type": "code",
   "execution_count": 14,
   "metadata": {},
   "outputs": [
    {
     "data": {
      "text/plain": [
       "array([883, 884, 885, 886, 887, 888, 889, 890, 891, 892, 893, 894, 895,\n",
       "       896, 897, 898, 899, 900, 901, 902, 903, 904, 905, 906, 907, 908,\n",
       "       909, 910, 911, 912, 913, 914, 915, 916, 917, 918, 919, 920, 921,\n",
       "       922, 923, 924, 925, 926, 927, 928, 929, 930, 931, 932, 933, 934,\n",
       "       935, 936, 937, 938, 939, 940, 941, 942], dtype=int64)"
      ]
     },
     "execution_count": 14,
     "metadata": {},
     "output_type": "execute_result"
    }
   ],
   "source": [
    "test[\"Day_No\"].unique()"
   ]
  },
  {
   "cell_type": "code",
   "execution_count": 15,
   "metadata": {},
   "outputs": [
    {
     "data": {
      "text/plain": [
       "60"
      ]
     },
     "execution_count": 15,
     "metadata": {},
     "output_type": "execute_result"
    }
   ],
   "source": [
    "test[\"Day_No\"].nunique()"
   ]
  },
  {
   "cell_type": "markdown",
   "metadata": {},
   "source": [
    "**We have to predict for the next 60 days of data**"
   ]
  },
  {
   "cell_type": "markdown",
   "metadata": {},
   "source": [
    "## Looking into each Variable"
   ]
  },
  {
   "cell_type": "markdown",
   "metadata": {},
   "source": [
    "### Sales-"
   ]
  },
  {
   "cell_type": "code",
   "execution_count": 16,
   "metadata": {
    "scrolled": true
   },
   "outputs": [
    {
     "data": {
      "text/plain": [
       "count    512087.000000\n",
       "mean        120.826924\n",
       "std          54.355258\n",
       "min           0.000000\n",
       "25%          84.000000\n",
       "50%         111.000000\n",
       "75%         146.000000\n",
       "max         682.000000\n",
       "Name: Sales, dtype: float64"
      ]
     },
     "execution_count": 16,
     "metadata": {},
     "output_type": "execute_result"
    }
   ],
   "source": [
    "train[\"Sales\"].describe()"
   ]
  },
  {
   "cell_type": "code",
   "execution_count": 17,
   "metadata": {},
   "outputs": [],
   "source": [
    "def univ_numerical(data,name):\n",
    "    \n",
    "    fig,ax=plt.subplots(1,2,figsize=(14,7))\n",
    "    var=data[name]\n",
    "    skewness=var.skew()\n",
    "    kurtosis=var.kurt()\n",
    "    range=(var.min(),var.max())\n",
    "    \n",
    "    fig.suptitle(f\"{name}\\nSkewness= {skewness}  Kurtosis={kurtosis}\\nRange={range}\")\n",
    "    \n",
    "    sns.kdeplot(var,ax=ax[0])\n",
    "    sns.boxplot(var,ax=ax[1])"
   ]
  },
  {
   "cell_type": "code",
   "execution_count": 18,
   "metadata": {},
   "outputs": [
    {
     "data": {
      "image/png": "[encoded data removed]",
      "text/plain": [
       "<Figure size 1008x504 with 2 Axes>"
      ]
     },
     "metadata": {
      "needs_background": "light"
     },
     "output_type": "display_data"
    }
   ],
   "source": [
    "univ_numerical(train,\"Sales\")"
   ]
  },
  {
   "cell_type": "markdown",
   "metadata": {},
   "source": [
    "**Slightly positively skewed and leptokurtic**"
   ]
  },
  {
   "cell_type": "code",
   "execution_count": 19,
   "metadata": {},
   "outputs": [
    {
     "data": {
      "text/plain": [
       "Index(['ID', 'Day_No', 'Course_ID', 'Course_Domain', 'Course_Type',\n",
       "       'Short_Promotion', 'Public_Holiday', 'Long_Promotion', 'User_Traffic',\n",
       "       'Competition_Metric', 'Sales'],\n",
       "      dtype='object')"
      ]
     },
     "execution_count": 19,
     "metadata": {},
     "output_type": "execute_result"
    }
   ],
   "source": [
    "train.columns"
   ]
  },
  {
   "cell_type": "markdown",
   "metadata": {},
   "source": [
    "### ID-"
   ]
  },
  {
   "cell_type": "code",
   "execution_count": 20,
   "metadata": {
    "scrolled": true
   },
   "outputs": [
    {
     "data": {
      "text/plain": [
       "0              1\n",
       "1              2\n",
       "2              3\n",
       "3              4\n",
       "4              5\n",
       "           ...  \n",
       "512082    548023\n",
       "512083    548024\n",
       "512084    548025\n",
       "512085    548026\n",
       "512086    548027\n",
       "Name: ID, Length: 512087, dtype: int64"
      ]
     },
     "execution_count": 20,
     "metadata": {},
     "output_type": "execute_result"
    }
   ],
   "source": [
    "train.ID"
   ]
  },
  {
   "cell_type": "code",
   "execution_count": 21,
   "metadata": {},
   "outputs": [],
   "source": [
    "list1=[]\n",
    "for i,j in enumerate(train.ID):\n",
    "    \n",
    "    if(i+1==j):\n",
    "        list1.append(False)\n",
    "    else:\n",
    "        list1.append(True)"
   ]
  },
  {
   "cell_type": "code",
   "execution_count": 22,
   "metadata": {},
   "outputs": [
    {
     "data": {
      "text/html": [
       "<div>\n",
       "<style scoped>\n",
       "    .dataframe tbody tr th:only-of-type {\n",
       "        vertical-align: middle;\n",
       "    }\n",
       "\n",
       "    .dataframe tbody tr th {\n",
       "        vertical-align: top;\n",
       "    }\n",
       "\n",
       "    .dataframe thead th {\n",
       "        text-align: right;\n",
       "    }\n",
       "</style>\n",
       "<table border=\"1\" class=\"dataframe\">\n",
       "  <thead>\n",
       "    <tr style=\"text-align: right;\">\n",
       "      <th></th>\n",
       "      <th>ID</th>\n",
       "      <th>Day_No</th>\n",
       "      <th>Course_ID</th>\n",
       "      <th>Course_Domain</th>\n",
       "      <th>Course_Type</th>\n",
       "      <th>Short_Promotion</th>\n",
       "      <th>Public_Holiday</th>\n",
       "      <th>Long_Promotion</th>\n",
       "      <th>User_Traffic</th>\n",
       "      <th>Competition_Metric</th>\n",
       "      <th>Sales</th>\n",
       "    </tr>\n",
       "  </thead>\n",
       "  <tbody>\n",
       "    <tr>\n",
       "      <th>882</th>\n",
       "      <td>943</td>\n",
       "      <td>1</td>\n",
       "      <td>2</td>\n",
       "      <td>Development</td>\n",
       "      <td>Course</td>\n",
       "      <td>0</td>\n",
       "      <td>1</td>\n",
       "      <td>1</td>\n",
       "      <td>12663</td>\n",
       "      <td>0.186</td>\n",
       "      <td>97</td>\n",
       "    </tr>\n",
       "    <tr>\n",
       "      <th>883</th>\n",
       "      <td>944</td>\n",
       "      <td>2</td>\n",
       "      <td>2</td>\n",
       "      <td>Development</td>\n",
       "      <td>Course</td>\n",
       "      <td>0</td>\n",
       "      <td>0</td>\n",
       "      <td>1</td>\n",
       "      <td>16905</td>\n",
       "      <td>0.186</td>\n",
       "      <td>122</td>\n",
       "    </tr>\n",
       "    <tr>\n",
       "      <th>884</th>\n",
       "      <td>945</td>\n",
       "      <td>3</td>\n",
       "      <td>2</td>\n",
       "      <td>Development</td>\n",
       "      <td>Course</td>\n",
       "      <td>0</td>\n",
       "      <td>0</td>\n",
       "      <td>1</td>\n",
       "      <td>15141</td>\n",
       "      <td>0.186</td>\n",
       "      <td>106</td>\n",
       "    </tr>\n",
       "    <tr>\n",
       "      <th>885</th>\n",
       "      <td>946</td>\n",
       "      <td>4</td>\n",
       "      <td>2</td>\n",
       "      <td>Development</td>\n",
       "      <td>Course</td>\n",
       "      <td>0</td>\n",
       "      <td>0</td>\n",
       "      <td>1</td>\n",
       "      <td>14490</td>\n",
       "      <td>0.186</td>\n",
       "      <td>109</td>\n",
       "    </tr>\n",
       "    <tr>\n",
       "      <th>886</th>\n",
       "      <td>947</td>\n",
       "      <td>5</td>\n",
       "      <td>2</td>\n",
       "      <td>Development</td>\n",
       "      <td>Course</td>\n",
       "      <td>0</td>\n",
       "      <td>0</td>\n",
       "      <td>1</td>\n",
       "      <td>11025</td>\n",
       "      <td>0.186</td>\n",
       "      <td>80</td>\n",
       "    </tr>\n",
       "    <tr>\n",
       "      <th>...</th>\n",
       "      <td>...</td>\n",
       "      <td>...</td>\n",
       "      <td>...</td>\n",
       "      <td>...</td>\n",
       "      <td>...</td>\n",
       "      <td>...</td>\n",
       "      <td>...</td>\n",
       "      <td>...</td>\n",
       "      <td>...</td>\n",
       "      <td>...</td>\n",
       "      <td>...</td>\n",
       "    </tr>\n",
       "    <tr>\n",
       "      <th>512082</th>\n",
       "      <td>548023</td>\n",
       "      <td>878</td>\n",
       "      <td>600</td>\n",
       "      <td>Software Marketing</td>\n",
       "      <td>Program</td>\n",
       "      <td>0</td>\n",
       "      <td>0</td>\n",
       "      <td>1</td>\n",
       "      <td>8904</td>\n",
       "      <td>0.070</td>\n",
       "      <td>114</td>\n",
       "    </tr>\n",
       "    <tr>\n",
       "      <th>512083</th>\n",
       "      <td>548024</td>\n",
       "      <td>879</td>\n",
       "      <td>600</td>\n",
       "      <td>Software Marketing</td>\n",
       "      <td>Program</td>\n",
       "      <td>0</td>\n",
       "      <td>0</td>\n",
       "      <td>1</td>\n",
       "      <td>10542</td>\n",
       "      <td>0.070</td>\n",
       "      <td>145</td>\n",
       "    </tr>\n",
       "    <tr>\n",
       "      <th>512084</th>\n",
       "      <td>548025</td>\n",
       "      <td>880</td>\n",
       "      <td>600</td>\n",
       "      <td>Software Marketing</td>\n",
       "      <td>Program</td>\n",
       "      <td>0</td>\n",
       "      <td>0</td>\n",
       "      <td>1</td>\n",
       "      <td>13671</td>\n",
       "      <td>0.070</td>\n",
       "      <td>167</td>\n",
       "    </tr>\n",
       "    <tr>\n",
       "      <th>512085</th>\n",
       "      <td>548026</td>\n",
       "      <td>881</td>\n",
       "      <td>600</td>\n",
       "      <td>Software Marketing</td>\n",
       "      <td>Program</td>\n",
       "      <td>0</td>\n",
       "      <td>0</td>\n",
       "      <td>1</td>\n",
       "      <td>8904</td>\n",
       "      <td>0.070</td>\n",
       "      <td>107</td>\n",
       "    </tr>\n",
       "    <tr>\n",
       "      <th>512086</th>\n",
       "      <td>548027</td>\n",
       "      <td>882</td>\n",
       "      <td>600</td>\n",
       "      <td>Software Marketing</td>\n",
       "      <td>Program</td>\n",
       "      <td>1</td>\n",
       "      <td>0</td>\n",
       "      <td>1</td>\n",
       "      <td>11445</td>\n",
       "      <td>0.070</td>\n",
       "      <td>152</td>\n",
       "    </tr>\n",
       "  </tbody>\n",
       "</table>\n",
       "<p>511205 rows × 11 columns</p>\n",
       "</div>"
      ],
      "text/plain": [
       "            ID  Day_No  Course_ID       Course_Domain Course_Type  \\\n",
       "882        943       1          2         Development      Course   \n",
       "883        944       2          2         Development      Course   \n",
       "884        945       3          2         Development      Course   \n",
       "885        946       4          2         Development      Course   \n",
       "886        947       5          2         Development      Course   \n",
       "...        ...     ...        ...                 ...         ...   \n",
       "512082  548023     878        600  Software Marketing     Program   \n",
       "512083  548024     879        600  Software Marketing     Program   \n",
       "512084  548025     880        600  Software Marketing     Program   \n",
       "512085  548026     881        600  Software Marketing     Program   \n",
       "512086  548027     882        600  Software Marketing     Program   \n",
       "\n",
       "        Short_Promotion  Public_Holiday  Long_Promotion  User_Traffic  \\\n",
       "882                   0               1               1         12663   \n",
       "883                   0               0               1         16905   \n",
       "884                   0               0               1         15141   \n",
       "885                   0               0               1         14490   \n",
       "886                   0               0               1         11025   \n",
       "...                 ...             ...             ...           ...   \n",
       "512082                0               0               1          8904   \n",
       "512083                0               0               1         10542   \n",
       "512084                0               0               1         13671   \n",
       "512085                0               0               1          8904   \n",
       "512086                1               0               1         11445   \n",
       "\n",
       "        Competition_Metric  Sales  \n",
       "882                  0.186     97  \n",
       "883                  0.186    122  \n",
       "884                  0.186    106  \n",
       "885                  0.186    109  \n",
       "886                  0.186     80  \n",
       "...                    ...    ...  \n",
       "512082               0.070    114  \n",
       "512083               0.070    145  \n",
       "512084               0.070    167  \n",
       "512085               0.070    107  \n",
       "512086               0.070    152  \n",
       "\n",
       "[511205 rows x 11 columns]"
      ]
     },
     "execution_count": 22,
     "metadata": {},
     "output_type": "execute_result"
    }
   ],
   "source": [
    "train[list1]"
   ]
  },
  {
   "cell_type": "code",
   "execution_count": 23,
   "metadata": {},
   "outputs": [
    {
     "data": {
      "text/plain": [
       "548087"
      ]
     },
     "execution_count": 23,
     "metadata": {},
     "output_type": "execute_result"
    }
   ],
   "source": [
    "test[\"ID\"].max()"
   ]
  },
  {
   "cell_type": "code",
   "execution_count": 24,
   "metadata": {},
   "outputs": [
    {
     "data": {
      "text/plain": [
       "512087"
      ]
     },
     "execution_count": 24,
     "metadata": {},
     "output_type": "execute_result"
    }
   ],
   "source": [
    "train.shape[0]"
   ]
  },
  {
   "cell_type": "code",
   "execution_count": 25,
   "metadata": {},
   "outputs": [
    {
     "data": {
      "text/plain": [
       "548027"
      ]
     },
     "execution_count": 25,
     "metadata": {},
     "output_type": "execute_result"
    }
   ],
   "source": [
    "train[\"ID\"].max()"
   ]
  },
  {
   "cell_type": "markdown",
   "metadata": {},
   "source": [
    "### Day_No"
   ]
  },
  {
   "cell_type": "code",
   "execution_count": 26,
   "metadata": {},
   "outputs": [
    {
     "data": {
      "text/plain": [
       "0           1\n",
       "1           2\n",
       "2           3\n",
       "3           4\n",
       "4           5\n",
       "         ... \n",
       "512082    878\n",
       "512083    879\n",
       "512084    880\n",
       "512085    881\n",
       "512086    882\n",
       "Name: Day_No, Length: 512087, dtype: int64"
      ]
     },
     "execution_count": 26,
     "metadata": {},
     "output_type": "execute_result"
    }
   ],
   "source": [
    "train[\"Day_No\"]"
   ]
  },
  {
   "cell_type": "code",
   "execution_count": 27,
   "metadata": {},
   "outputs": [
    {
     "data": {
      "text/plain": [
       "17113"
      ]
     },
     "execution_count": 27,
     "metadata": {},
     "output_type": "execute_result"
    }
   ],
   "source": [
    "882*600-train.shape[0]"
   ]
  },
  {
   "cell_type": "code",
   "execution_count": 28,
   "metadata": {},
   "outputs": [
    {
     "data": {
      "text/plain": [
       "<bound method Series.unique of Course_ID\n",
       "1      882\n",
       "2      882\n",
       "3      882\n",
       "4      882\n",
       "5      882\n",
       "      ... \n",
       "596    882\n",
       "597    882\n",
       "598    882\n",
       "599    882\n",
       "600    882\n",
       "Name: Day_No, Length: 600, dtype: int64>"
      ]
     },
     "execution_count": 28,
     "metadata": {},
     "output_type": "execute_result"
    }
   ],
   "source": [
    "l1=train.groupby(\"Course_ID\").nunique()[\"Day_No\"]\n",
    "l1.unique"
   ]
  },
  {
   "cell_type": "code",
   "execution_count": null,
   "metadata": {},
   "outputs": [],
   "source": []
  },
  {
   "cell_type": "code",
   "execution_count": 29,
   "metadata": {},
   "outputs": [
    {
     "data": {
      "text/html": [
       "<div>\n",
       "<style scoped>\n",
       "    .dataframe tbody tr th:only-of-type {\n",
       "        vertical-align: middle;\n",
       "    }\n",
       "\n",
       "    .dataframe tbody tr th {\n",
       "        vertical-align: top;\n",
       "    }\n",
       "\n",
       "    .dataframe thead th {\n",
       "        text-align: right;\n",
       "    }\n",
       "</style>\n",
       "<table border=\"1\" class=\"dataframe\">\n",
       "  <thead>\n",
       "    <tr style=\"text-align: right;\">\n",
       "      <th></th>\n",
       "      <th>Day_No</th>\n",
       "    </tr>\n",
       "    <tr>\n",
       "      <th>Course_ID</th>\n",
       "      <th></th>\n",
       "    </tr>\n",
       "  </thead>\n",
       "  <tbody>\n",
       "    <tr>\n",
       "      <th>530</th>\n",
       "      <td>881</td>\n",
       "    </tr>\n",
       "  </tbody>\n",
       "</table>\n",
       "</div>"
      ],
      "text/plain": [
       "           Day_No\n",
       "Course_ID        \n",
       "530           881"
      ]
     },
     "execution_count": 29,
     "metadata": {},
     "output_type": "execute_result"
    }
   ],
   "source": [
    "l1=pd.DataFrame(l1)\n",
    "l1[l1[\"Day_No\"]==881]"
   ]
  },
  {
   "cell_type": "markdown",
   "metadata": {},
   "source": [
    "**Course_ID 530 has made sales for 881 days out of 882**"
   ]
  },
  {
   "cell_type": "code",
   "execution_count": 30,
   "metadata": {},
   "outputs": [
    {
     "data": {
      "text/html": [
       "<div>\n",
       "<style scoped>\n",
       "    .dataframe tbody tr th:only-of-type {\n",
       "        vertical-align: middle;\n",
       "    }\n",
       "\n",
       "    .dataframe tbody tr th {\n",
       "        vertical-align: top;\n",
       "    }\n",
       "\n",
       "    .dataframe thead th {\n",
       "        text-align: right;\n",
       "    }\n",
       "</style>\n",
       "<table border=\"1\" class=\"dataframe\">\n",
       "  <thead>\n",
       "    <tr style=\"text-align: right;\">\n",
       "      <th></th>\n",
       "      <th>Day_No</th>\n",
       "    </tr>\n",
       "    <tr>\n",
       "      <th>Course_ID</th>\n",
       "      <th></th>\n",
       "    </tr>\n",
       "  </thead>\n",
       "  <tbody>\n",
       "    <tr>\n",
       "      <th>9</th>\n",
       "      <td>698</td>\n",
       "    </tr>\n",
       "    <tr>\n",
       "      <th>14</th>\n",
       "      <td>698</td>\n",
       "    </tr>\n",
       "    <tr>\n",
       "      <th>29</th>\n",
       "      <td>698</td>\n",
       "    </tr>\n",
       "    <tr>\n",
       "      <th>33</th>\n",
       "      <td>698</td>\n",
       "    </tr>\n",
       "    <tr>\n",
       "      <th>41</th>\n",
       "      <td>698</td>\n",
       "    </tr>\n",
       "    <tr>\n",
       "      <th>...</th>\n",
       "      <td>...</td>\n",
       "    </tr>\n",
       "    <tr>\n",
       "      <th>560</th>\n",
       "      <td>698</td>\n",
       "    </tr>\n",
       "    <tr>\n",
       "      <th>570</th>\n",
       "      <td>698</td>\n",
       "    </tr>\n",
       "    <tr>\n",
       "      <th>576</th>\n",
       "      <td>698</td>\n",
       "    </tr>\n",
       "    <tr>\n",
       "      <th>592</th>\n",
       "      <td>698</td>\n",
       "    </tr>\n",
       "    <tr>\n",
       "      <th>595</th>\n",
       "      <td>698</td>\n",
       "    </tr>\n",
       "  </tbody>\n",
       "</table>\n",
       "<p>93 rows × 1 columns</p>\n",
       "</div>"
      ],
      "text/plain": [
       "           Day_No\n",
       "Course_ID        \n",
       "9             698\n",
       "14            698\n",
       "29            698\n",
       "33            698\n",
       "41            698\n",
       "...           ...\n",
       "560           698\n",
       "570           698\n",
       "576           698\n",
       "592           698\n",
       "595           698\n",
       "\n",
       "[93 rows x 1 columns]"
      ]
     },
     "execution_count": 30,
     "metadata": {},
     "output_type": "execute_result"
    }
   ],
   "source": [
    "l1[l1[\"Day_No\"]==698]"
   ]
  },
  {
   "cell_type": "markdown",
   "metadata": {},
   "source": [
    "**There are 93 course IDs which have made sales on 698 out of 882 days only.<br>\n",
    "Why is this happening? It is possible that these courses were taken off the website on these days**"
   ]
  },
  {
   "cell_type": "code",
   "execution_count": 31,
   "metadata": {},
   "outputs": [],
   "source": [
    "l2=[]\n",
    "for i,j in enumerate(train[train.Course_ID==9][\"Day_No\"]):\n",
    "    l2.append(i+1==j)"
   ]
  },
  {
   "cell_type": "code",
   "execution_count": 32,
   "metadata": {},
   "outputs": [
    {
     "name": "stdout",
     "output_type": "stream",
     "text": [
      "7601    546\n",
      "Name: Day_No, dtype: int64 7602    731\n",
      "Name: Day_No, dtype: int64\n",
      "11827    546\n",
      "Name: Day_No, dtype: int64 11828    731\n",
      "Name: Day_No, dtype: int64\n",
      "24873    546\n",
      "Name: Day_No, dtype: int64 24874    731\n",
      "Name: Day_No, dtype: int64\n",
      "28217    546\n",
      "Name: Day_No, dtype: int64 28218    731\n",
      "Name: Day_No, dtype: int64\n",
      "35089    546\n",
      "Name: Day_No, dtype: int64 35090    731\n",
      "Name: Day_No, dtype: int64\n",
      "36669    546\n",
      "Name: Day_No, dtype: int64 36670    731\n",
      "Name: Day_No, dtype: int64\n",
      "50597    546\n",
      "Name: Day_No, dtype: int64 50598    731\n",
      "Name: Day_No, dtype: int64\n",
      "53059    546\n",
      "Name: Day_No, dtype: int64 53060    731\n",
      "Name: Day_No, dtype: int64\n",
      "56403    546\n",
      "Name: Day_No, dtype: int64 56404    731\n",
      "Name: Day_No, dtype: int64\n",
      "64157    546\n",
      "Name: Day_No, dtype: int64 64158    731\n",
      "Name: Day_No, dtype: int64\n",
      "66619    546\n",
      "Name: Day_No, dtype: int64 66620    731\n",
      "Name: Day_No, dtype: int64\n",
      "72609    546\n",
      "Name: Day_No, dtype: int64 72610    731\n",
      "Name: Day_No, dtype: int64\n",
      "74189    546\n",
      "Name: Day_No, dtype: int64 74190    731\n",
      "Name: Day_No, dtype: int64\n",
      "77533    546\n",
      "Name: Day_No, dtype: int64 77534    731\n",
      "Name: Day_No, dtype: int64\n",
      "82641    546\n",
      "Name: Day_No, dtype: int64 82642    731\n",
      "Name: Day_No, dtype: int64\n",
      "84221    546\n",
      "Name: Day_No, dtype: int64 84222    731\n",
      "Name: Day_No, dtype: int64\n",
      "88447    546\n",
      "Name: Day_No, dtype: int64 88448    731\n",
      "Name: Day_No, dtype: int64\n",
      "93555    546\n",
      "Name: Day_No, dtype: int64 93556    731\n",
      "Name: Day_No, dtype: int64\n",
      "94253    546\n",
      "Name: Day_No, dtype: int64 94254    731\n",
      "Name: Day_No, dtype: int64\n",
      "102889    546\n",
      "Name: Day_No, dtype: int64 102890    731\n",
      "Name: Day_No, dtype: int64\n",
      "108879    546\n",
      "Name: Day_No, dtype: int64 108880    731\n",
      "Name: Day_No, dtype: int64\n",
      "111341    546\n",
      "Name: Day_No, dtype: int64 111342    731\n",
      "Name: Day_No, dtype: int64\n",
      "124387    546\n",
      "Name: Day_No, dtype: int64 124388    731\n",
      "Name: Day_No, dtype: int64\n",
      "134787    546\n",
      "Name: Day_No, dtype: int64 134788    731\n",
      "Name: Day_No, dtype: int64\n",
      "141659    546\n",
      "Name: Day_No, dtype: int64 141660    731\n",
      "Name: Day_No, dtype: int64\n",
      "144121    546\n",
      "Name: Day_No, dtype: int64 144122    731\n",
      "Name: Day_No, dtype: int64\n",
      "145701    546\n",
      "Name: Day_No, dtype: int64 145702    731\n",
      "Name: Day_No, dtype: int64\n",
      "148163    546\n",
      "Name: Day_No, dtype: int64 148164    731\n",
      "Name: Day_No, dtype: int64\n",
      "148861    546\n",
      "Name: Day_No, dtype: int64 148862    731\n",
      "Name: Day_No, dtype: int64\n",
      "153969    546\n",
      "Name: Day_No, dtype: int64 153970    731\n",
      "Name: Day_No, dtype: int64\n",
      "159077    546\n",
      "Name: Day_No, dtype: int64 159078    731\n",
      "Name: Day_No, dtype: int64\n",
      "173887    546\n",
      "Name: Day_No, dtype: int64 173888    731\n",
      "Name: Day_No, dtype: int64\n",
      "180759    546\n",
      "Name: Day_No, dtype: int64 180760    731\n",
      "Name: Day_No, dtype: int64\n",
      "202625    546\n",
      "Name: Day_No, dtype: int64 202626    731\n",
      "Name: Day_No, dtype: int64\n",
      "205969    546\n",
      "Name: Day_No, dtype: int64 205970    731\n",
      "Name: Day_No, dtype: int64\n",
      "209313    546\n",
      "Name: Day_No, dtype: int64 209314    731\n",
      "Name: Day_No, dtype: int64\n",
      "211775    546\n",
      "Name: Day_No, dtype: int64 211776    731\n",
      "Name: Day_No, dtype: int64\n",
      "226585    546\n",
      "Name: Day_No, dtype: int64 226586    731\n",
      "Name: Day_No, dtype: int64\n",
      "235221    546\n",
      "Name: Day_No, dtype: int64 235222    731\n",
      "Name: Day_No, dtype: int64\n",
      "237683    546\n",
      "Name: Day_No, dtype: int64 237684    731\n",
      "Name: Day_No, dtype: int64\n",
      "241909    546\n",
      "Name: Day_No, dtype: int64 241910    731\n",
      "Name: Day_No, dtype: int64\n",
      "245253    546\n",
      "Name: Day_No, dtype: int64 245254    731\n",
      "Name: Day_No, dtype: int64\n",
      "246833    546\n",
      "Name: Day_No, dtype: int64 246834    731\n",
      "Name: Day_No, dtype: int64\n",
      "247531    546\n",
      "Name: Day_No, dtype: int64 247532    731\n",
      "Name: Day_No, dtype: int64\n",
      "255285    546\n",
      "Name: Day_No, dtype: int64 255286    731\n",
      "Name: Day_No, dtype: int64\n",
      "266567    546\n",
      "Name: Day_No, dtype: int64 266568    731\n",
      "Name: Day_No, dtype: int64\n",
      "277849    546\n",
      "Name: Day_No, dtype: int64 277850    731\n",
      "Name: Day_No, dtype: int64\n",
      "279429    546\n",
      "Name: Day_No, dtype: int64 279430    731\n",
      "Name: Day_No, dtype: int64\n",
      "281009    546\n",
      "Name: Day_No, dtype: int64 281010    731\n",
      "Name: Day_No, dtype: int64\n",
      "297583    546\n",
      "Name: Day_No, dtype: int64 297584    731\n",
      "Name: Day_No, dtype: int64\n",
      "298281    546\n",
      "Name: Day_No, dtype: int64 298282    731\n",
      "Name: Day_No, dtype: int64\n",
      "309563    546\n",
      "Name: Day_No, dtype: int64 309564    731\n",
      "Name: Day_No, dtype: int64\n",
      "310261    546\n",
      "Name: Day_No, dtype: int64 310262    731\n",
      "Name: Day_No, dtype: int64\n",
      "317133    546\n",
      "Name: Day_No, dtype: int64 317134    731\n",
      "Name: Day_No, dtype: int64\n",
      "321359    546\n",
      "Name: Day_No, dtype: int64 321360    731\n",
      "Name: Day_No, dtype: int64\n",
      "323821    546\n",
      "Name: Day_No, dtype: int64 323822    731\n",
      "Name: Day_No, dtype: int64\n",
      "326283    546\n",
      "Name: Day_No, dtype: int64 326284    731\n",
      "Name: Day_No, dtype: int64\n",
      "329627    546\n",
      "Name: Day_No, dtype: int64 329628    731\n",
      "Name: Day_No, dtype: int64\n",
      "337381    546\n",
      "Name: Day_No, dtype: int64 337382    731\n",
      "Name: Day_No, dtype: int64\n",
      "339843    546\n",
      "Name: Day_No, dtype: int64 339844    731\n",
      "Name: Day_No, dtype: int64\n",
      "340541    546\n",
      "Name: Day_No, dtype: int64 340542    731\n",
      "Name: Day_No, dtype: int64\n",
      "342121    546\n",
      "Name: Day_No, dtype: int64 342122    731\n",
      "Name: Day_No, dtype: int64\n",
      "342819    546\n",
      "Name: Day_No, dtype: int64 342820    731\n",
      "Name: Day_No, dtype: int64\n",
      "343517    546\n",
      "Name: Day_No, dtype: int64 343518    731\n",
      "Name: Day_No, dtype: int64\n",
      "344215    546\n",
      "Name: Day_No, dtype: int64 344216    731\n",
      "Name: Day_No, dtype: int64\n",
      "346677    546\n",
      "Name: Day_No, dtype: int64 346678    731\n",
      "Name: Day_No, dtype: int64\n",
      "355313    546\n",
      "Name: Day_No, dtype: int64 355314    731\n",
      "Name: Day_No, dtype: int64\n",
      "368359    546\n",
      "Name: Day_No, dtype: int64 368360    731\n",
      "Name: Day_No, dtype: int64\n",
      "370821    546\n",
      "Name: Day_No, dtype: int64 370822    731\n",
      "Name: Day_No, dtype: int64\n",
      "371519    546\n",
      "Name: Day_No, dtype: int64 371520    731\n",
      "Name: Day_No, dtype: int64\n",
      "382801    546\n",
      "Name: Day_No, dtype: int64 382802    731\n",
      "Name: Day_No, dtype: int64\n",
      "383499    546\n",
      "Name: Day_No, dtype: int64 383500    731\n",
      "Name: Day_No, dtype: int64\n",
      "385961    546\n",
      "Name: Day_No, dtype: int64 385962    731\n",
      "Name: Day_No, dtype: int64\n",
      "388423    546\n",
      "Name: Day_No, dtype: int64 388424    731\n",
      "Name: Day_No, dtype: int64\n",
      "390003    546\n",
      "Name: Day_No, dtype: int64 390004    731\n",
      "Name: Day_No, dtype: int64\n",
      "403931    546\n",
      "Name: Day_No, dtype: int64 403932    731\n",
      "Name: Day_No, dtype: int64\n",
      "412567    546\n",
      "Name: Day_No, dtype: int64 412568    731\n",
      "Name: Day_No, dtype: int64\n",
      "415911    546\n",
      "Name: Day_No, dtype: int64 415912    731\n",
      "Name: Day_No, dtype: int64\n",
      "417491    546\n",
      "Name: Day_No, dtype: int64 417492    731\n",
      "Name: Day_No, dtype: int64\n",
      "425245    546\n",
      "Name: Day_No, dtype: int64 425246    731\n",
      "Name: Day_No, dtype: int64\n",
      "435645    546\n",
      "Name: Day_No, dtype: int64 435646    731\n",
      "Name: Day_No, dtype: int64\n",
      "438107    546\n",
      "Name: Day_No, dtype: int64 438108    731\n",
      "Name: Day_No, dtype: int64\n",
      "446743    546\n",
      "Name: Day_No, dtype: int64 446744    731\n",
      "Name: Day_No, dtype: int64\n",
      "452732    546\n",
      "Name: Day_No, dtype: int64 452733    731\n",
      "Name: Day_No, dtype: int64\n",
      "460486    546\n",
      "Name: Day_No, dtype: int64 460487    731\n",
      "Name: Day_No, dtype: int64\n",
      "464712    546\n",
      "Name: Day_No, dtype: int64 464713    731\n",
      "Name: Day_No, dtype: int64\n",
      "469820    546\n",
      "Name: Day_No, dtype: int64 469821    731\n",
      "Name: Day_No, dtype: int64\n",
      "473164    546\n",
      "Name: Day_No, dtype: int64 473165    731\n",
      "Name: Day_No, dtype: int64\n",
      "477390    546\n",
      "Name: Day_No, dtype: int64 477391    731\n",
      "Name: Day_No, dtype: int64\n",
      "486026    546\n",
      "Name: Day_No, dtype: int64 486027    731\n",
      "Name: Day_No, dtype: int64\n",
      "491134    546\n",
      "Name: Day_No, dtype: int64 491135    731\n",
      "Name: Day_No, dtype: int64\n",
      "505062    546\n",
      "Name: Day_No, dtype: int64 505063    731\n",
      "Name: Day_No, dtype: int64\n",
      "507524    546\n",
      "Name: Day_No, dtype: int64 507525    731\n",
      "Name: Day_No, dtype: int64\n"
     ]
    }
   ],
   "source": [
    "for i in l1[l1[\"Day_No\"]==698].index:\n",
    "    print(train[train.Course_ID==i][np.array(l2)].tail(1)[\"Day_No\"],train[train.Course_ID==i][~np.array(l2)].head(1)[\"Day_No\"])"
   ]
  },
  {
   "cell_type": "markdown",
   "metadata": {},
   "source": [
    "**There is a jump from 546 to 731 where no sales for some 93 odd courses were made**"
   ]
  },
  {
   "cell_type": "markdown",
   "metadata": {},
   "source": [
    "### Course_ID"
   ]
  },
  {
   "cell_type": "code",
   "execution_count": 33,
   "metadata": {
    "scrolled": true
   },
   "outputs": [
    {
     "data": {
      "text/plain": [
       "600"
      ]
     },
     "execution_count": 33,
     "metadata": {},
     "output_type": "execute_result"
    }
   ],
   "source": [
    "train.Course_ID.nunique()"
   ]
  },
  {
   "cell_type": "code",
   "execution_count": 34,
   "metadata": {},
   "outputs": [
    {
     "data": {
      "text/plain": [
       "(1, 600)"
      ]
     },
     "execution_count": 34,
     "metadata": {},
     "output_type": "execute_result"
    }
   ],
   "source": [
    "train[\"Course_ID\"].unique().min(),train[\"Course_ID\"].unique().max()"
   ]
  },
  {
   "cell_type": "markdown",
   "metadata": {},
   "source": [
    "**There are a total of 600 courses for which sales have been provided to us**"
   ]
  },
  {
   "cell_type": "markdown",
   "metadata": {},
   "source": [
    "### Course_Domain"
   ]
  },
  {
   "cell_type": "code",
   "execution_count": 35,
   "metadata": {},
   "outputs": [
    {
     "data": {
      "text/plain": [
       "array(['Development', 'Software Marketing', 'Finance & Accounting',\n",
       "       'Business'], dtype=object)"
      ]
     },
     "execution_count": 35,
     "metadata": {},
     "output_type": "execute_result"
    }
   ],
   "source": [
    "train[\"Course_Domain\"].unique()"
   ]
  },
  {
   "cell_type": "markdown",
   "metadata": {},
   "source": [
    "**So, we have courses of Four domains- Development, Software Marketing, Finance and Accounting, Business. Let us check the count of each course**"
   ]
  },
  {
   "cell_type": "code",
   "execution_count": 36,
   "metadata": {},
   "outputs": [
    {
     "data": {
      "text/plain": [
       "<matplotlib.axes._subplots.AxesSubplot at 0x2309b513cc8>"
      ]
     },
     "execution_count": 36,
     "metadata": {},
     "output_type": "execute_result"
    },
    {
     "data": {
      "image/png": "[encoded data removed]",
      "text/plain": [
       "<Figure size 432x288 with 1 Axes>"
      ]
     },
     "metadata": {
      "needs_background": "light"
     },
     "output_type": "display_data"
    }
   ],
   "source": [
    "train.groupby(\"Course_ID\")[\"Course_Domain\"].unique().apply(lambda x:x[0]).value_counts().plot(kind='bar')"
   ]
  },
  {
   "cell_type": "markdown",
   "metadata": {},
   "source": [
    "**Around half of our courses are from Development**"
   ]
  },
  {
   "cell_type": "markdown",
   "metadata": {},
   "source": [
    "### Course_Type"
   ]
  },
  {
   "cell_type": "code",
   "execution_count": 37,
   "metadata": {},
   "outputs": [
    {
     "data": {
      "text/plain": [
       "array(['Course', 'Program', 'Degree'], dtype=object)"
      ]
     },
     "execution_count": 37,
     "metadata": {},
     "output_type": "execute_result"
    }
   ],
   "source": [
    "train[\"Course_Type\"].unique()"
   ]
  },
  {
   "cell_type": "code",
   "execution_count": 38,
   "metadata": {},
   "outputs": [
    {
     "data": {
      "text/html": [
       "<div>\n",
       "<style scoped>\n",
       "    .dataframe tbody tr th:only-of-type {\n",
       "        vertical-align: middle;\n",
       "    }\n",
       "\n",
       "    .dataframe tbody tr th {\n",
       "        vertical-align: top;\n",
       "    }\n",
       "\n",
       "    .dataframe thead th {\n",
       "        text-align: right;\n",
       "    }\n",
       "</style>\n",
       "<table border=\"1\" class=\"dataframe\">\n",
       "  <thead>\n",
       "    <tr style=\"text-align: right;\">\n",
       "      <th></th>\n",
       "      <th>Course_Type</th>\n",
       "    </tr>\n",
       "  </thead>\n",
       "  <tbody>\n",
       "    <tr>\n",
       "      <th>Course</th>\n",
       "      <td>310</td>\n",
       "    </tr>\n",
       "    <tr>\n",
       "      <th>Program</th>\n",
       "      <td>288</td>\n",
       "    </tr>\n",
       "    <tr>\n",
       "      <th>Degree</th>\n",
       "      <td>2</td>\n",
       "    </tr>\n",
       "  </tbody>\n",
       "</table>\n",
       "</div>"
      ],
      "text/plain": [
       "         Course_Type\n",
       "Course           310\n",
       "Program          288\n",
       "Degree             2"
      ]
     },
     "execution_count": 38,
     "metadata": {},
     "output_type": "execute_result"
    }
   ],
   "source": [
    "arr=pd.DataFrame(train.groupby(\"Course_ID\")[\"Course_Type\"].unique().apply(lambda x:x[0]).value_counts())\n",
    "arr"
   ]
  },
  {
   "cell_type": "code",
   "execution_count": 39,
   "metadata": {},
   "outputs": [
    {
     "data": {
      "text/plain": [
       "<matplotlib.axes._subplots.AxesSubplot at 0x2309bc88ec8>"
      ]
     },
     "execution_count": 39,
     "metadata": {},
     "output_type": "execute_result"
    },
    {
     "data": {
      "image/png": "[encoded data removed]",
      "text/plain": [
       "<Figure size 432x288 with 1 Axes>"
      ]
     },
     "metadata": {
      "needs_background": "light"
     },
     "output_type": "display_data"
    }
   ],
   "source": [
    "sns.barplot(x=arr.index,y=arr[\"Course_Type\"])"
   ]
  },
  {
   "cell_type": "markdown",
   "metadata": {},
   "source": [
    "### Short_Promotion"
   ]
  },
  {
   "cell_type": "code",
   "execution_count": 40,
   "metadata": {
    "scrolled": true
   },
   "outputs": [
    {
     "data": {
      "text/html": [
       "<div>\n",
       "<style scoped>\n",
       "    .dataframe tbody tr th:only-of-type {\n",
       "        vertical-align: middle;\n",
       "    }\n",
       "\n",
       "    .dataframe tbody tr th {\n",
       "        vertical-align: top;\n",
       "    }\n",
       "\n",
       "    .dataframe thead th {\n",
       "        text-align: right;\n",
       "    }\n",
       "</style>\n",
       "<table border=\"1\" class=\"dataframe\">\n",
       "  <thead>\n",
       "    <tr style=\"text-align: right;\">\n",
       "      <th></th>\n",
       "      <th>Short_Promotion</th>\n",
       "    </tr>\n",
       "  </thead>\n",
       "  <tbody>\n",
       "    <tr>\n",
       "      <th>0</th>\n",
       "      <td>0.619756</td>\n",
       "    </tr>\n",
       "    <tr>\n",
       "      <th>1</th>\n",
       "      <td>0.380244</td>\n",
       "    </tr>\n",
       "  </tbody>\n",
       "</table>\n",
       "</div>"
      ],
      "text/plain": [
       "   Short_Promotion\n",
       "0         0.619756\n",
       "1         0.380244"
      ]
     },
     "execution_count": 40,
     "metadata": {},
     "output_type": "execute_result"
    }
   ],
   "source": [
    "b=pd.DataFrame(train[\"Short_Promotion\"].value_counts(normalize=True))\n",
    "b"
   ]
  },
  {
   "cell_type": "code",
   "execution_count": 41,
   "metadata": {},
   "outputs": [
    {
     "data": {
      "text/plain": [
       "Text(0, 0.5, '')"
      ]
     },
     "execution_count": 41,
     "metadata": {},
     "output_type": "execute_result"
    },
    {
     "data": {
      "image/png": "[encoded data removed]",
      "text/plain": [
       "<Figure size 432x288 with 1 Axes>"
      ]
     },
     "metadata": {
      "needs_background": "light"
     },
     "output_type": "display_data"
    }
   ],
   "source": [
    "sns.barplot(x=b.index,y=\"Short_Promotion\",data=b)\n",
    "plt.xlabel(\"Short_Promotion\")\n",
    "plt.ylabel(\"\")"
   ]
  },
  {
   "cell_type": "markdown",
   "metadata": {},
   "source": [
    "**Hypothesis- Short_Promotion is causing an increase in Sales**"
   ]
  },
  {
   "cell_type": "markdown",
   "metadata": {},
   "source": [
    "### Public_Holiday"
   ]
  },
  {
   "cell_type": "code",
   "execution_count": 42,
   "metadata": {},
   "outputs": [
    {
     "data": {
      "text/html": [
       "<div>\n",
       "<style scoped>\n",
       "    .dataframe tbody tr th:only-of-type {\n",
       "        vertical-align: middle;\n",
       "    }\n",
       "\n",
       "    .dataframe tbody tr th {\n",
       "        vertical-align: top;\n",
       "    }\n",
       "\n",
       "    .dataframe thead th {\n",
       "        text-align: right;\n",
       "    }\n",
       "</style>\n",
       "<table border=\"1\" class=\"dataframe\">\n",
       "  <thead>\n",
       "    <tr style=\"text-align: right;\">\n",
       "      <th></th>\n",
       "      <th>Public_Holiday</th>\n",
       "    </tr>\n",
       "  </thead>\n",
       "  <tbody>\n",
       "    <tr>\n",
       "      <th>0</th>\n",
       "      <td>0.968361</td>\n",
       "    </tr>\n",
       "    <tr>\n",
       "      <th>1</th>\n",
       "      <td>0.031639</td>\n",
       "    </tr>\n",
       "  </tbody>\n",
       "</table>\n",
       "</div>"
      ],
      "text/plain": [
       "   Public_Holiday\n",
       "0        0.968361\n",
       "1        0.031639"
      ]
     },
     "execution_count": 42,
     "metadata": {},
     "output_type": "execute_result"
    }
   ],
   "source": [
    "a=train[\"Public_Holiday\"].value_counts(normalize=True)\n",
    "a=pd.DataFrame(a)\n",
    "a"
   ]
  },
  {
   "cell_type": "code",
   "execution_count": 43,
   "metadata": {},
   "outputs": [
    {
     "data": {
      "text/plain": [
       "<matplotlib.axes._subplots.AxesSubplot at 0x2309b54be48>"
      ]
     },
     "execution_count": 43,
     "metadata": {},
     "output_type": "execute_result"
    },
    {
     "data": {
      "image/png": "[encoded data removed]",
      "text/plain": [
       "<Figure size 432x288 with 1 Axes>"
      ]
     },
     "metadata": {
      "needs_background": "light"
     },
     "output_type": "display_data"
    }
   ],
   "source": [
    "sns.barplot(x=a.index,y=\"Public_Holiday\",data=a)"
   ]
  },
  {
   "cell_type": "code",
   "execution_count": 44,
   "metadata": {},
   "outputs": [
    {
     "data": {
      "text/plain": [
       "0    857\n",
       "1     25\n",
       "Name: Public_Holiday, dtype: int64"
      ]
     },
     "execution_count": 44,
     "metadata": {},
     "output_type": "execute_result"
    }
   ],
   "source": [
    "train.groupby(\"Day_No\")[\"Public_Holiday\"].unique().apply(lambda x:x[0]).value_counts()"
   ]
  },
  {
   "cell_type": "markdown",
   "metadata": {},
   "source": [
    "**25 days out of a total of 882 days are Public Holidays**"
   ]
  },
  {
   "cell_type": "markdown",
   "metadata": {},
   "source": [
    "**Hypothesis- On Public Holidays, more sales are made**"
   ]
  },
  {
   "cell_type": "markdown",
   "metadata": {},
   "source": [
    "### Long_Promotion"
   ]
  },
  {
   "cell_type": "code",
   "execution_count": 45,
   "metadata": {},
   "outputs": [
    {
     "data": {
      "text/plain": [
       "<matplotlib.axes._subplots.AxesSubplot at 0x2309bcd8e08>"
      ]
     },
     "execution_count": 45,
     "metadata": {},
     "output_type": "execute_result"
    },
    {
     "data": {
      "image/png": "[encoded data removed]",
      "text/plain": [
       "<Figure size 432x288 with 1 Axes>"
      ]
     },
     "metadata": {
      "needs_background": "light"
     },
     "output_type": "display_data"
    }
   ],
   "source": [
    "train[\"Long_Promotion\"].value_counts(normalize=True).plot(kind='bar')"
   ]
  },
  {
   "cell_type": "code",
   "execution_count": 46,
   "metadata": {},
   "outputs": [
    {
     "data": {
      "text/plain": [
       "1    301\n",
       "0    299\n",
       "Name: Long_Promotion, dtype: int64"
      ]
     },
     "execution_count": 46,
     "metadata": {},
     "output_type": "execute_result"
    }
   ],
   "source": [
    "train.groupby(\"Course_ID\")[\"Long_Promotion\"].unique().apply(lambda x:x[0]).value_counts()"
   ]
  },
  {
   "cell_type": "code",
   "execution_count": 47,
   "metadata": {},
   "outputs": [
    {
     "data": {
      "text/plain": [
       "array([0], dtype=int64)"
      ]
     },
     "execution_count": 47,
     "metadata": {},
     "output_type": "execute_result"
    }
   ],
   "source": [
    "train[train.Course_ID==5].Long_Promotion.unique()"
   ]
  },
  {
   "cell_type": "markdown",
   "metadata": {},
   "source": [
    "**Half of the courses are on Promotion all the time, half of them are not.**"
   ]
  },
  {
   "cell_type": "markdown",
   "metadata": {},
   "source": [
    "**Hypothesis- Courses which are being promoted all the time have higher sales**"
   ]
  },
  {
   "cell_type": "markdown",
   "metadata": {},
   "source": [
    "### User_Traffic"
   ]
  },
  {
   "cell_type": "code",
   "execution_count": 48,
   "metadata": {},
   "outputs": [
    {
     "data": {
      "text/plain": [
       "count    512087.000000\n",
       "mean      15375.101198\n",
       "std        7727.231205\n",
       "min         168.000000\n",
       "25%       10584.000000\n",
       "50%       13776.000000\n",
       "75%       18123.000000\n",
       "max      100002.000000\n",
       "Name: User_Traffic, dtype: float64"
      ]
     },
     "execution_count": 48,
     "metadata": {},
     "output_type": "execute_result"
    }
   ],
   "source": [
    "train[\"User_Traffic\"].describe()"
   ]
  },
  {
   "cell_type": "code",
   "execution_count": 49,
   "metadata": {},
   "outputs": [
    {
     "data": {
      "text/plain": [
       "0         11004\n",
       "882       12663\n",
       "1764      11256\n",
       "2646      23625\n",
       "3528      14490\n",
       "          ...  \n",
       "507677    11298\n",
       "508559    10626\n",
       "509441     8505\n",
       "510323    14805\n",
       "511205    69258\n",
       "Name: User_Traffic, Length: 599, dtype: int64"
      ]
     },
     "execution_count": 49,
     "metadata": {},
     "output_type": "execute_result"
    }
   ],
   "source": [
    "train[train.Day_No==1][\"User_Traffic\"]"
   ]
  },
  {
   "cell_type": "markdown",
   "metadata": {},
   "source": [
    "**No. of people who land on Course Page are either the people who are using the course or for buying purposes.<br>**\n",
    "\n",
    "Hypothesis-\n",
    "1. User Traffic will be more on Public Holidays\n",
    "2. Higher User Traffic will lead to higher Sales"
   ]
  },
  {
   "cell_type": "code",
   "execution_count": 50,
   "metadata": {},
   "outputs": [
    {
     "data": {
      "image/png": "[encoded data removed]",
      "text/plain": [
       "<Figure size 1008x504 with 2 Axes>"
      ]
     },
     "metadata": {
      "needs_background": "light"
     },
     "output_type": "display_data"
    }
   ],
   "source": [
    "univ_numerical(train, \"User_Traffic\")"
   ]
  },
  {
   "cell_type": "markdown",
   "metadata": {},
   "source": [
    "### Competition_Metric"
   ]
  },
  {
   "cell_type": "code",
   "execution_count": 51,
   "metadata": {},
   "outputs": [
    {
     "data": {
      "image/png": "[encoded data removed]",
      "text/plain": [
       "<Figure size 1008x504 with 2 Axes>"
      ]
     },
     "metadata": {
      "needs_background": "light"
     },
     "output_type": "display_data"
    }
   ],
   "source": [
    "univ_numerical(train, \"Competition_Metric\")"
   ]
  },
  {
   "cell_type": "code",
   "execution_count": 52,
   "metadata": {},
   "outputs": [
    {
     "data": {
      "text/plain": [
       "Course_ID\n",
       "1      0.007\n",
       "2      0.186\n",
       "3      0.316\n",
       "4      0.099\n",
       "5      0.027\n",
       "       ...  \n",
       "596    0.070\n",
       "597    0.025\n",
       "598    0.025\n",
       "599    0.122\n",
       "600    0.070\n",
       "Name: Competition_Metric, Length: 600, dtype: float64"
      ]
     },
     "execution_count": 52,
     "metadata": {},
     "output_type": "execute_result"
    }
   ],
   "source": [
    "a=train.groupby(\"Course_ID\")[\"Competition_Metric\"].unique().apply(lambda x: np.round(x[0],10))\n",
    "a"
   ]
  },
  {
   "cell_type": "code",
   "execution_count": 53,
   "metadata": {},
   "outputs": [],
   "source": [
    "a[a<0]=None"
   ]
  },
  {
   "cell_type": "code",
   "execution_count": 54,
   "metadata": {},
   "outputs": [
    {
     "data": {
      "text/plain": [
       "count    598.000000\n",
       "mean       0.072938\n",
       "std        0.099493\n",
       "min        0.000000\n",
       "25%        0.010000\n",
       "50%        0.034500\n",
       "75%        0.093500\n",
       "max        0.768000\n",
       "Name: Competition_Metric, dtype: float64"
      ]
     },
     "execution_count": 54,
     "metadata": {},
     "output_type": "execute_result"
    }
   ],
   "source": [
    "a.describe()"
   ]
  },
  {
   "cell_type": "code",
   "execution_count": 55,
   "metadata": {},
   "outputs": [
    {
     "data": {
      "text/plain": [
       "<matplotlib.axes._subplots.AxesSubplot at 0x2309b4c0748>"
      ]
     },
     "execution_count": 55,
     "metadata": {},
     "output_type": "execute_result"
    },
    {
     "data": {
      "image/png": "[encoded data removed]",
      "text/plain": [
       "<Figure size 1008x504 with 1 Axes>"
      ]
     },
     "metadata": {
      "needs_background": "light"
     },
     "output_type": "display_data"
    }
   ],
   "source": [
    "plt.figure(figsize=(14,7))\n",
    "sns.barplot(x=a.index,y=a.values)"
   ]
  },
  {
   "cell_type": "markdown",
   "metadata": {},
   "source": [
    "**Hypothesis- Courses with higher competition have lower sales**"
   ]
  },
  {
   "cell_type": "markdown",
   "metadata": {},
   "source": [
    "### We have come up with some Hypothesis which we will now look into-\n",
    "1. Short_Promotion is causing an increase in sales for Courses\n",
    "2. On Public Holidays, there is more sale\n",
    "3. Courses which are being Long_promoted have higher sales\n",
    "4. User Traffic will be more on public Holidays\n",
    "5. Higher User Traffic will lead to More Sales\n",
    "6. Courses with higher competition metric have lower sales"
   ]
  },
  {
   "cell_type": "markdown",
   "metadata": {},
   "source": [
    "### Hypothesis 1"
   ]
  },
  {
   "cell_type": "code",
   "execution_count": 56,
   "metadata": {},
   "outputs": [
    {
     "data": {
      "text/plain": [
       "<matplotlib.axes._subplots.AxesSubplot at 0x2309c579448>"
      ]
     },
     "execution_count": 56,
     "metadata": {},
     "output_type": "execute_result"
    },
    {
     "data": {
      "image/png": "[encoded data removed]",
      "text/plain": [
       "<Figure size 432x288 with 1 Axes>"
      ]
     },
     "metadata": {
      "needs_background": "light"
     },
     "output_type": "display_data"
    }
   ],
   "source": [
    "sns.barplot(data=train,x=\"Short_Promotion\",y=\"Sales\")"
   ]
  },
  {
   "cell_type": "code",
   "execution_count": 57,
   "metadata": {},
   "outputs": [
    {
     "data": {
      "text/html": [
       "<div>\n",
       "<style scoped>\n",
       "    .dataframe tbody tr th:only-of-type {\n",
       "        vertical-align: middle;\n",
       "    }\n",
       "\n",
       "    .dataframe tbody tr th {\n",
       "        vertical-align: top;\n",
       "    }\n",
       "\n",
       "    .dataframe thead th {\n",
       "        text-align: right;\n",
       "    }\n",
       "</style>\n",
       "<table border=\"1\" class=\"dataframe\">\n",
       "  <thead>\n",
       "    <tr style=\"text-align: right;\">\n",
       "      <th></th>\n",
       "      <th></th>\n",
       "      <th>Sales</th>\n",
       "    </tr>\n",
       "    <tr>\n",
       "      <th>Course_ID</th>\n",
       "      <th>Short_Promotion</th>\n",
       "      <th></th>\n",
       "    </tr>\n",
       "  </thead>\n",
       "  <tbody>\n",
       "    <tr>\n",
       "      <th rowspan=\"2\" valign=\"top\">1</th>\n",
       "      <th>0</th>\n",
       "      <td>68.829670</td>\n",
       "    </tr>\n",
       "    <tr>\n",
       "      <th>1</th>\n",
       "      <td>111.937500</td>\n",
       "    </tr>\n",
       "    <tr>\n",
       "      <th rowspan=\"2\" valign=\"top\">2</th>\n",
       "      <th>0</th>\n",
       "      <td>97.836996</td>\n",
       "    </tr>\n",
       "    <tr>\n",
       "      <th>1</th>\n",
       "      <td>157.577381</td>\n",
       "    </tr>\n",
       "    <tr>\n",
       "      <th>3</th>\n",
       "      <th>0</th>\n",
       "      <td>132.249084</td>\n",
       "    </tr>\n",
       "    <tr>\n",
       "      <th>...</th>\n",
       "      <th>...</th>\n",
       "      <td>...</td>\n",
       "    </tr>\n",
       "    <tr>\n",
       "      <th>598</th>\n",
       "      <th>1</th>\n",
       "      <td>232.125000</td>\n",
       "    </tr>\n",
       "    <tr>\n",
       "      <th rowspan=\"2\" valign=\"top\">599</th>\n",
       "      <th>0</th>\n",
       "      <td>105.653846</td>\n",
       "    </tr>\n",
       "    <tr>\n",
       "      <th>1</th>\n",
       "      <td>133.723214</td>\n",
       "    </tr>\n",
       "    <tr>\n",
       "      <th rowspan=\"2\" valign=\"top\">600</th>\n",
       "      <th>0</th>\n",
       "      <td>97.163004</td>\n",
       "    </tr>\n",
       "    <tr>\n",
       "      <th>1</th>\n",
       "      <td>128.755952</td>\n",
       "    </tr>\n",
       "  </tbody>\n",
       "</table>\n",
       "<p>1200 rows × 1 columns</p>\n",
       "</div>"
      ],
      "text/plain": [
       "                                Sales\n",
       "Course_ID Short_Promotion            \n",
       "1         0                 68.829670\n",
       "          1                111.937500\n",
       "2         0                 97.836996\n",
       "          1                157.577381\n",
       "3         0                132.249084\n",
       "...                               ...\n",
       "598       1                232.125000\n",
       "599       0                105.653846\n",
       "          1                133.723214\n",
       "600       0                 97.163004\n",
       "          1                128.755952\n",
       "\n",
       "[1200 rows x 1 columns]"
      ]
     },
     "execution_count": 57,
     "metadata": {},
     "output_type": "execute_result"
    }
   ],
   "source": [
    "grp=pd.DataFrame(train.groupby([\"Course_ID\",\"Short_Promotion\"])[\"Sales\"].mean())\n",
    "grp"
   ]
  },
  {
   "cell_type": "code",
   "execution_count": 58,
   "metadata": {},
   "outputs": [
    {
     "data": {
      "image/png": "[encoded data removed]",
      "text/plain": [
       "<Figure size 432x288 with 1 Axes>"
      ]
     },
     "metadata": {
      "needs_background": "light"
     },
     "output_type": "display_data"
    }
   ],
   "source": [
    "grp.loc[:30].unstack().plot(kind='bar',stacked=True)\n",
    "plt.show()"
   ]
  },
  {
   "cell_type": "code",
   "execution_count": 47,
   "metadata": {
    "collapsed": true
   },
   "outputs": [
    {
     "data": {
      "image/png": "[encoded data removed]",
      "text/plain": [
       "<Figure size 432x288 with 1 Axes>"
      ]
     },
     "metadata": {
      "needs_background": "light"
     },
     "output_type": "display_data"
    },
    {
     "data": {
      "image/png": "[encoded data removed]",
      "text/plain": [
       "<Figure size 432x288 with 1 Axes>"
      ]
     },
     "metadata": {
      "needs_background": "light"
     },
     "output_type": "display_data"
    },
    {
     "data": {
      "image/png": "[encoded data removed]",
      "text/plain": [
       "<Figure size 432x288 with 1 Axes>"
      ]
     },
     "metadata": {
      "needs_background": "light"
     },
     "output_type": "display_data"
    },
    {
     "data": {
      "image/png": "[encoded data removed]",
      "text/plain": [
       "<Figure size 432x288 with 1 Axes>"
      ]
     },
     "metadata": {
      "needs_background": "light"
     },
     "output_type": "display_data"
    },
    {
     "data": {
      "image/png": "[encoded data removed]",
      "text/plain": [
       "<Figure size 432x288 with 1 Axes>"
      ]
     },
     "metadata": {
      "needs_background": "light"
     },
     "output_type": "display_data"
    }
   ],
   "source": [
    "for i in range(1,6):\n",
    "    sns.barplot(data=train[train.Course_ID==i],x=\"Short_Promotion\",y=\"Sales\")\n",
    "    plt.show()"
   ]
  },
  {
   "cell_type": "markdown",
   "metadata": {},
   "source": [
    "**Short Promotion is indeed causing an increase in Sales**"
   ]
  },
  {
   "cell_type": "markdown",
   "metadata": {},
   "source": [
    "### Hypothesis 2"
   ]
  },
  {
   "cell_type": "code",
   "execution_count": 48,
   "metadata": {},
   "outputs": [
    {
     "data": {
      "text/plain": [
       "<matplotlib.axes._subplots.AxesSubplot at 0x204ed3e41c8>"
      ]
     },
     "execution_count": 48,
     "metadata": {},
     "output_type": "execute_result"
    },
    {
     "data": {
      "image/png": "[encoded data removed]",
      "text/plain": [
       "<Figure size 432x288 with 1 Axes>"
      ]
     },
     "metadata": {
      "needs_background": "light"
     },
     "output_type": "display_data"
    }
   ],
   "source": [
    "sns.barplot(data=train,x=\"Public_Holiday\",y=\"Sales\")"
   ]
  },
  {
   "cell_type": "code",
   "execution_count": 49,
   "metadata": {},
   "outputs": [
    {
     "data": {
      "text/html": [
       "<div>\n",
       "<style scoped>\n",
       "    .dataframe tbody tr th:only-of-type {\n",
       "        vertical-align: middle;\n",
       "    }\n",
       "\n",
       "    .dataframe tbody tr th {\n",
       "        vertical-align: top;\n",
       "    }\n",
       "\n",
       "    .dataframe thead th {\n",
       "        text-align: right;\n",
       "    }\n",
       "</style>\n",
       "<table border=\"1\" class=\"dataframe\">\n",
       "  <thead>\n",
       "    <tr style=\"text-align: right;\">\n",
       "      <th></th>\n",
       "      <th></th>\n",
       "      <th>Sales</th>\n",
       "    </tr>\n",
       "    <tr>\n",
       "      <th>Course_ID</th>\n",
       "      <th>Public_Holiday</th>\n",
       "      <th></th>\n",
       "    </tr>\n",
       "  </thead>\n",
       "  <tbody>\n",
       "    <tr>\n",
       "      <th rowspan=\"2\" valign=\"top\">1</th>\n",
       "      <th>0</th>\n",
       "      <td>86.504084</td>\n",
       "    </tr>\n",
       "    <tr>\n",
       "      <th>1</th>\n",
       "      <td>42.320000</td>\n",
       "    </tr>\n",
       "    <tr>\n",
       "      <th rowspan=\"2\" valign=\"top\">2</th>\n",
       "      <th>0</th>\n",
       "      <td>122.322014</td>\n",
       "    </tr>\n",
       "    <tr>\n",
       "      <th>1</th>\n",
       "      <td>67.928571</td>\n",
       "    </tr>\n",
       "    <tr>\n",
       "      <th>3</th>\n",
       "      <th>0</th>\n",
       "      <td>155.114219</td>\n",
       "    </tr>\n",
       "    <tr>\n",
       "      <th>...</th>\n",
       "      <th>...</th>\n",
       "      <td>...</td>\n",
       "    </tr>\n",
       "    <tr>\n",
       "      <th>598</th>\n",
       "      <th>1</th>\n",
       "      <td>115.857143</td>\n",
       "    </tr>\n",
       "    <tr>\n",
       "      <th rowspan=\"2\" valign=\"top\">599</th>\n",
       "      <th>0</th>\n",
       "      <td>117.242424</td>\n",
       "    </tr>\n",
       "    <tr>\n",
       "      <th>1</th>\n",
       "      <td>84.333333</td>\n",
       "    </tr>\n",
       "    <tr>\n",
       "      <th rowspan=\"2\" valign=\"top\">600</th>\n",
       "      <th>0</th>\n",
       "      <td>109.721963</td>\n",
       "    </tr>\n",
       "    <tr>\n",
       "      <th>1</th>\n",
       "      <td>91.961538</td>\n",
       "    </tr>\n",
       "  </tbody>\n",
       "</table>\n",
       "<p>1200 rows × 1 columns</p>\n",
       "</div>"
      ],
      "text/plain": [
       "                               Sales\n",
       "Course_ID Public_Holiday            \n",
       "1         0                86.504084\n",
       "          1                42.320000\n",
       "2         0               122.322014\n",
       "          1                67.928571\n",
       "3         0               155.114219\n",
       "...                              ...\n",
       "598       1               115.857143\n",
       "599       0               117.242424\n",
       "          1                84.333333\n",
       "600       0               109.721963\n",
       "          1                91.961538\n",
       "\n",
       "[1200 rows x 1 columns]"
      ]
     },
     "execution_count": 49,
     "metadata": {},
     "output_type": "execute_result"
    }
   ],
   "source": [
    "grp=pd.DataFrame(train.groupby([\"Course_ID\",\"Public_Holiday\"])[\"Sales\"].mean())\n",
    "grp"
   ]
  },
  {
   "cell_type": "code",
   "execution_count": 50,
   "metadata": {},
   "outputs": [
    {
     "data": {
      "image/png": "[encoded data removed]",
      "text/plain": [
       "<Figure size 432x288 with 1 Axes>"
      ]
     },
     "metadata": {
      "needs_background": "light"
     },
     "output_type": "display_data"
    },
    {
     "data": {
      "image/png": "[encoded data removed]",
      "text/plain": [
       "<Figure size 432x288 with 1 Axes>"
      ]
     },
     "metadata": {
      "needs_background": "light"
     },
     "output_type": "display_data"
    },
    {
     "data": {
      "image/png": "[encoded data removed]",
      "text/plain": [
       "<Figure size 432x288 with 1 Axes>"
      ]
     },
     "metadata": {
      "needs_background": "light"
     },
     "output_type": "display_data"
    },
    {
     "data": {
      "image/png": "[encoded data removed]",
      "text/plain": [
       "<Figure size 432x288 with 1 Axes>"
      ]
     },
     "metadata": {
      "needs_background": "light"
     },
     "output_type": "display_data"
    },
    {
     "data": {
      "image/png": "[encoded data removed]",
      "text/plain": [
       "<Figure size 432x288 with 1 Axes>"
      ]
     },
     "metadata": {
      "needs_background": "light"
     },
     "output_type": "display_data"
    },
    {
     "data": {
      "image/png": "[encoded data removed]",
      "text/plain": [
       "<Figure size 432x288 with 1 Axes>"
      ]
     },
     "metadata": {
      "needs_background": "light"
     },
     "output_type": "display_data"
    },
    {
     "data": {
      "image/png": "[encoded data removed]",
      "text/plain": [
       "<Figure size 432x288 with 1 Axes>"
      ]
     },
     "metadata": {
      "needs_background": "light"
     },
     "output_type": "display_data"
    },
    {
     "data": {
      "image/png": "[encoded data removed]",
      "text/plain": [
       "<Figure size 432x288 with 1 Axes>"
      ]
     },
     "metadata": {
      "needs_background": "light"
     },
     "output_type": "display_data"
    },
    {
     "data": {
      "image/png": "[encoded data removed]",
      "text/plain": [
       "<Figure size 432x288 with 1 Axes>"
      ]
     },
     "metadata": {
      "needs_background": "light"
     },
     "output_type": "display_data"
    },
    {
     "data": {
      "image/png": "[encoded data removed]",
      "text/plain": [
       "<Figure size 432x288 with 1 Axes>"
      ]
     },
     "metadata": {
      "needs_background": "light"
     },
     "output_type": "display_data"
    },
    {
     "data": {
      "image/png": "[encoded data removed]",
      "text/plain": [
       "<Figure size 432x288 with 1 Axes>"
      ]
     },
     "metadata": {
      "needs_background": "light"
     },
     "output_type": "display_data"
    },
    {
     "data": {
      "image/png": "[encoded data removed]",
      "text/plain": [
       "<Figure size 432x288 with 1 Axes>"
      ]
     },
     "metadata": {
      "needs_background": "light"
     },
     "output_type": "display_data"
    },
    {
     "data": {
      "image/png": "[encoded data removed]",
      "text/plain": [
       "<Figure size 432x288 with 1 Axes>"
      ]
     },
     "metadata": {
      "needs_background": "light"
     },
     "output_type": "display_data"
    },
    {
     "data": {
      "image/png": "[encoded data removed]",
      "text/plain": [
       "<Figure size 432x288 with 1 Axes>"
      ]
     },
     "metadata": {
      "needs_background": "light"
     },
     "output_type": "display_data"
    },
    {
     "data": {
      "image/png": "[encoded data removed]",
      "text/plain": [
       "<Figure size 432x288 with 1 Axes>"
      ]
     },
     "metadata": {
      "needs_background": "light"
     },
     "output_type": "display_data"
    },
    {
     "data": {
      "image/png": "[encoded data removed]",
      "text/plain": [
       "<Figure size 432x288 with 1 Axes>"
      ]
     },
     "metadata": {
      "needs_background": "light"
     },
     "output_type": "display_data"
    },
    {
     "data": {
      "image/png": "[encoded data removed]",
      "text/plain": [
       "<Figure size 432x288 with 1 Axes>"
      ]
     },
     "metadata": {
      "needs_background": "light"
     },
     "output_type": "display_data"
    },
    {
     "data": {
      "image/png": "[encoded data removed]",
      "text/plain": [
       "<Figure size 432x288 with 1 Axes>"
      ]
     },
     "metadata": {
      "needs_background": "light"
     },
     "output_type": "display_data"
    },
    {
     "data": {
      "image/png": "[encoded data removed]",
      "text/plain": [
       "<Figure size 432x288 with 1 Axes>"
      ]
     },
     "metadata": {
      "needs_background": "light"
     },
     "output_type": "display_data"
    }
   ],
   "source": [
    "for i in range(1,571,30):\n",
    "    grp.loc[i:i+30].unstack().plot(kind='bar',stacked=True)\n",
    "    plt.show()"
   ]
  },
  {
   "cell_type": "markdown",
   "metadata": {},
   "source": [
    "**There is decrease in Sales on Public Holidays but we assumed the other way round.**  "
   ]
  },
  {
   "cell_type": "markdown",
   "metadata": {},
   "source": [
    "### Hypothesis 3"
   ]
  },
  {
   "cell_type": "code",
   "execution_count": 59,
   "metadata": {},
   "outputs": [
    {
     "data": {
      "text/plain": [
       "<matplotlib.axes._subplots.AxesSubplot at 0x2309b542388>"
      ]
     },
     "execution_count": 59,
     "metadata": {},
     "output_type": "execute_result"
    },
    {
     "data": {
      "image/png": "[encoded data removed]",
      "text/plain": [
       "<Figure size 432x288 with 1 Axes>"
      ]
     },
     "metadata": {
      "needs_background": "light"
     },
     "output_type": "display_data"
    }
   ],
   "source": [
    "sns.barplot(data=train,x=\"Long_Promotion\",y=\"Sales\")"
   ]
  },
  {
   "cell_type": "code",
   "execution_count": 60,
   "metadata": {},
   "outputs": [
    {
     "data": {
      "text/html": [
       "<div>\n",
       "<style scoped>\n",
       "    .dataframe tbody tr th:only-of-type {\n",
       "        vertical-align: middle;\n",
       "    }\n",
       "\n",
       "    .dataframe tbody tr th {\n",
       "        vertical-align: top;\n",
       "    }\n",
       "\n",
       "    .dataframe thead th {\n",
       "        text-align: right;\n",
       "    }\n",
       "</style>\n",
       "<table border=\"1\" class=\"dataframe\">\n",
       "  <thead>\n",
       "    <tr style=\"text-align: right;\">\n",
       "      <th></th>\n",
       "      <th>Long_Promotion</th>\n",
       "      <th>Course_ID</th>\n",
       "      <th>Sales</th>\n",
       "    </tr>\n",
       "  </thead>\n",
       "  <tbody>\n",
       "    <tr>\n",
       "      <th>0</th>\n",
       "      <td>0</td>\n",
       "      <td>3</td>\n",
       "      <td>153.207483</td>\n",
       "    </tr>\n",
       "    <tr>\n",
       "      <th>1</th>\n",
       "      <td>0</td>\n",
       "      <td>4</td>\n",
       "      <td>94.812925</td>\n",
       "    </tr>\n",
       "    <tr>\n",
       "      <th>2</th>\n",
       "      <td>0</td>\n",
       "      <td>5</td>\n",
       "      <td>113.215420</td>\n",
       "    </tr>\n",
       "    <tr>\n",
       "      <th>3</th>\n",
       "      <td>0</td>\n",
       "      <td>6</td>\n",
       "      <td>96.774376</td>\n",
       "    </tr>\n",
       "    <tr>\n",
       "      <th>4</th>\n",
       "      <td>0</td>\n",
       "      <td>18</td>\n",
       "      <td>102.436508</td>\n",
       "    </tr>\n",
       "    <tr>\n",
       "      <th>...</th>\n",
       "      <td>...</td>\n",
       "      <td>...</td>\n",
       "      <td>...</td>\n",
       "    </tr>\n",
       "    <tr>\n",
       "      <th>595</th>\n",
       "      <td>1</td>\n",
       "      <td>593</td>\n",
       "      <td>82.810658</td>\n",
       "    </tr>\n",
       "    <tr>\n",
       "      <th>596</th>\n",
       "      <td>1</td>\n",
       "      <td>595</td>\n",
       "      <td>122.275072</td>\n",
       "    </tr>\n",
       "    <tr>\n",
       "      <th>597</th>\n",
       "      <td>1</td>\n",
       "      <td>596</td>\n",
       "      <td>84.924036</td>\n",
       "    </tr>\n",
       "    <tr>\n",
       "      <th>598</th>\n",
       "      <td>1</td>\n",
       "      <td>597</td>\n",
       "      <td>91.241497</td>\n",
       "    </tr>\n",
       "    <tr>\n",
       "      <th>599</th>\n",
       "      <td>1</td>\n",
       "      <td>600</td>\n",
       "      <td>109.198413</td>\n",
       "    </tr>\n",
       "  </tbody>\n",
       "</table>\n",
       "<p>600 rows × 3 columns</p>\n",
       "</div>"
      ],
      "text/plain": [
       "     Long_Promotion  Course_ID       Sales\n",
       "0                 0          3  153.207483\n",
       "1                 0          4   94.812925\n",
       "2                 0          5  113.215420\n",
       "3                 0          6   96.774376\n",
       "4                 0         18  102.436508\n",
       "..              ...        ...         ...\n",
       "595               1        593   82.810658\n",
       "596               1        595  122.275072\n",
       "597               1        596   84.924036\n",
       "598               1        597   91.241497\n",
       "599               1        600  109.198413\n",
       "\n",
       "[600 rows x 3 columns]"
      ]
     },
     "execution_count": 60,
     "metadata": {},
     "output_type": "execute_result"
    }
   ],
   "source": [
    "x=train.groupby([\"Long_Promotion\",\"Course_ID\"]).mean()[\"Sales\"].to_frame().reset_index()\n",
    "x"
   ]
  },
  {
   "cell_type": "code",
   "execution_count": 63,
   "metadata": {},
   "outputs": [
    {
     "data": {
      "text/plain": [
       "Long_Promotion\n",
       "0    126.639698\n",
       "1    114.373945\n",
       "Name: Sales, dtype: float64"
      ]
     },
     "execution_count": 63,
     "metadata": {},
     "output_type": "execute_result"
    }
   ],
   "source": [
    "x.groupby(\"Long_Promotion\")[\"Sales\"].mean()"
   ]
  },
  {
   "cell_type": "markdown",
   "metadata": {},
   "source": [
    "**Long Promotion is not causing an increase in Sales**"
   ]
  },
  {
   "cell_type": "markdown",
   "metadata": {},
   "source": [
    "### Hypothesis 4"
   ]
  },
  {
   "cell_type": "code",
   "execution_count": 64,
   "metadata": {},
   "outputs": [
    {
     "data": {
      "text/plain": [
       "Public_Holiday\n",
       "0    15526.375039\n",
       "1    10745.152512\n",
       "Name: User_Traffic, dtype: float64"
      ]
     },
     "execution_count": 64,
     "metadata": {},
     "output_type": "execute_result"
    }
   ],
   "source": [
    "train.groupby(\"Public_Holiday\")[\"User_Traffic\"].mean()"
   ]
  },
  {
   "cell_type": "code",
   "execution_count": 65,
   "metadata": {},
   "outputs": [
    {
     "data": {
      "text/plain": [
       "<matplotlib.axes._subplots.AxesSubplot at 0x230a5078348>"
      ]
     },
     "execution_count": 65,
     "metadata": {},
     "output_type": "execute_result"
    },
    {
     "data": {
      "image/png": "[encoded data removed]",
      "text/plain": [
       "<Figure size 432x288 with 1 Axes>"
      ]
     },
     "metadata": {
      "needs_background": "light"
     },
     "output_type": "display_data"
    }
   ],
   "source": [
    "sns.barplot(x=\"Public_Holiday\",y='User_Traffic',data=train)"
   ]
  },
  {
   "cell_type": "markdown",
   "metadata": {},
   "source": [
    "**User Traffic is much less on a public holiday, this contrdicts our Hypothesis**"
   ]
  },
  {
   "cell_type": "markdown",
   "metadata": {},
   "source": [
    "### Hypothesis 5"
   ]
  },
  {
   "cell_type": "code",
   "execution_count": 54,
   "metadata": {},
   "outputs": [],
   "source": [
    "from scipy.stats import pearsonr"
   ]
  },
  {
   "cell_type": "code",
   "execution_count": 55,
   "metadata": {},
   "outputs": [],
   "source": [
    "# correlation,_=pearsonr(train[train.Course_ID==5][\"User_Traffic\"],train[train.Course_ID==5][\"Sales\"])"
   ]
  },
  {
   "cell_type": "code",
   "execution_count": 74,
   "metadata": {},
   "outputs": [
    {
     "data": {
      "text/html": [
       "<div>\n",
       "<style scoped>\n",
       "    .dataframe tbody tr th:only-of-type {\n",
       "        vertical-align: middle;\n",
       "    }\n",
       "\n",
       "    .dataframe tbody tr th {\n",
       "        vertical-align: top;\n",
       "    }\n",
       "\n",
       "    .dataframe thead th {\n",
       "        text-align: right;\n",
       "    }\n",
       "</style>\n",
       "<table border=\"1\" class=\"dataframe\">\n",
       "  <thead>\n",
       "    <tr style=\"text-align: right;\">\n",
       "      <th></th>\n",
       "      <th>Sales</th>\n",
       "      <th>User_Traffic</th>\n",
       "    </tr>\n",
       "  </thead>\n",
       "  <tbody>\n",
       "    <tr>\n",
       "      <th>Sales</th>\n",
       "      <td>1.000000</td>\n",
       "      <td>0.824644</td>\n",
       "    </tr>\n",
       "    <tr>\n",
       "      <th>User_Traffic</th>\n",
       "      <td>0.824644</td>\n",
       "      <td>1.000000</td>\n",
       "    </tr>\n",
       "  </tbody>\n",
       "</table>\n",
       "</div>"
      ],
      "text/plain": [
       "                 Sales  User_Traffic\n",
       "Sales         1.000000      0.824644\n",
       "User_Traffic  0.824644      1.000000"
      ]
     },
     "execution_count": 74,
     "metadata": {},
     "output_type": "execute_result"
    }
   ],
   "source": [
    "grp=train.groupby(\"Course_ID\").mean()[[\"Sales\",\"User_Traffic\"]]\n",
    "grp.corr()"
   ]
  },
  {
   "cell_type": "code",
   "execution_count": 73,
   "metadata": {},
   "outputs": [
    {
     "data": {
      "text/plain": [
       "<matplotlib.axes._subplots.AxesSubplot at 0x230aaaa9c08>"
      ]
     },
     "execution_count": 73,
     "metadata": {},
     "output_type": "execute_result"
    },
    {
     "data": {
      "image/png": "[encoded data removed]",
      "text/plain": [
       "<Figure size 432x288 with 1 Axes>"
      ]
     },
     "metadata": {
      "needs_background": "light"
     },
     "output_type": "display_data"
    }
   ],
   "source": [
    "sns.scatterplot(x=\"User_Traffic\",y=\"Sales\",data=grp)"
   ]
  },
  {
   "cell_type": "code",
   "execution_count": 56,
   "metadata": {},
   "outputs": [],
   "source": [
    "correlation,_=pearsonr(train[\"User_Traffic\"],train[\"Sales\"])"
   ]
  },
  {
   "cell_type": "code",
   "execution_count": 57,
   "metadata": {},
   "outputs": [
    {
     "data": {
      "text/plain": [
       "0.8297414753800694"
      ]
     },
     "execution_count": 57,
     "metadata": {},
     "output_type": "execute_result"
    }
   ],
   "source": [
    "correlation"
   ]
  },
  {
   "cell_type": "code",
   "execution_count": 58,
   "metadata": {},
   "outputs": [
    {
     "name": "stdout",
     "output_type": "stream",
     "text": [
      "0.9184429565725598\n",
      "0.9474412206321607\n",
      "0.9380762095404369\n",
      "0.9517906345925298\n",
      "0.9640989054374156\n",
      "0.9343166604623798\n",
      "0.9400161152441172\n",
      "0.9387959659062846\n",
      "0.9587497535398373\n",
      "0.9529195331278463\n",
      "0.9380517477249786\n",
      "0.9493185885988209\n",
      "0.9438937917483171\n",
      "0.9284441976921964\n",
      "0.9681998992904679\n",
      "0.9507146869888394\n",
      "0.9467882681978479\n",
      "0.9294102622355008\n",
      "0.9509529162891255\n",
      "0.9614761098099929\n",
      "0.932440975215358\n",
      "0.975131302123158\n",
      "0.9519843905955505\n",
      "0.9561595544807335\n",
      "0.9589892623647818\n",
      "0.9224168413078826\n",
      "0.9625739782730818\n",
      "0.9557042308678799\n",
      "0.9510145253072042\n",
      "0.9473497342357821\n",
      "0.9617177632122907\n",
      "0.9553010530943598\n",
      "0.9517974412151644\n",
      "0.9608914861499885\n",
      "0.9609448520598691\n",
      "0.9288142275703994\n",
      "0.9443658835317377\n",
      "0.9479776954826691\n",
      "0.9540156247537248\n",
      "0.9538382175744696\n",
      "0.9646297494598576\n",
      "0.9420708616568125\n",
      "0.9578754263810858\n",
      "0.9488125016092535\n",
      "0.950599514926352\n",
      "0.9530375978645824\n",
      "0.9565111779980731\n",
      "0.9400221405958864\n",
      "0.9756380501424667\n",
      "0.9574055846081547\n",
      "0.9609239983005076\n",
      "0.9583927668182953\n",
      "0.936636651438495\n",
      "0.961297537339823\n",
      "0.936389002312559\n",
      "0.9583068007704396\n",
      "0.9620327880313775\n",
      "0.9402926732713748\n",
      "0.9576739420287849\n",
      "0.9132684656923435\n",
      "0.9372834172864717\n",
      "0.9595351347964237\n",
      "0.9388178112407111\n",
      "0.9331105465239631\n",
      "0.9286514752820751\n",
      "0.9549687049985806\n",
      "0.9530654719695157\n",
      "0.9545944434524196\n",
      "0.9302125763721923\n",
      "0.9341894357013867\n",
      "0.9578896926910694\n",
      "0.9548541774211783\n",
      "0.9626844051445916\n",
      "0.5875312330406599\n",
      "0.9441774488007876\n",
      "0.9156701338650477\n",
      "0.9481248797835791\n",
      "0.9531953932472694\n",
      "0.9580794947924685\n",
      "0.9450415045452832\n",
      "0.9290512014406475\n",
      "0.9536839306843455\n",
      "0.9414427924377258\n",
      "0.944888993193088\n",
      "0.9537560673190038\n",
      "0.9489421099504699\n",
      "0.9539096732066106\n",
      "0.9582375807601746\n",
      "0.9655699296350981\n",
      "0.9553423091124504\n",
      "0.9571161268638769\n",
      "0.9398249109834735\n",
      "0.9543221054996718\n",
      "0.9497965150368064\n",
      "0.9645645048689668\n",
      "0.9615092804758314\n",
      "0.9469879236006711\n",
      "0.9607075029675817\n",
      "0.9317452191069924\n",
      "0.9157661076013817\n",
      "0.960637632490401\n",
      "0.9717505730420491\n",
      "0.9456126398196979\n",
      "0.954558272581075\n",
      "0.9582342775679225\n",
      "0.9520485143498691\n",
      "0.9512412583837866\n",
      "0.9210603052870487\n",
      "0.9476487730158292\n",
      "0.9191154913142908\n",
      "0.975167444909657\n",
      "0.9361235236435788\n",
      "0.9654495152562169\n",
      "0.952678861917476\n",
      "0.9562996500904776\n",
      "0.9586618653590742\n",
      "0.9498254845984134\n",
      "0.9313482211319197\n",
      "0.956644674514157\n",
      "0.9504428888816743\n",
      "0.9289421991415026\n",
      "0.9420489534171166\n",
      "0.9587214010702405\n",
      "0.9491049597382996\n",
      "0.9371944687485518\n",
      "0.9289507067690169\n",
      "0.9270203441911353\n",
      "0.9633951807586206\n",
      "0.9552060035591188\n",
      "0.8931516232035004\n",
      "0.9708015524814295\n",
      "0.9530019019962493\n",
      "0.9440936791335306\n",
      "0.9570437517046186\n",
      "0.9554139524471735\n",
      "0.9541690836660083\n",
      "0.9109104250524798\n",
      "0.9560363978502818\n",
      "0.9709082434774239\n",
      "0.9539526993385488\n",
      "0.960751734913853\n",
      "0.9209858155424115\n",
      "0.9342785460950953\n",
      "0.9415949681823255\n",
      "0.9627942880009427\n",
      "0.9592091820516311\n",
      "0.9417709184706236\n",
      "0.9081287667665396\n",
      "0.9539808075496563\n",
      "0.9626543294587737\n",
      "0.9420246319882225\n",
      "0.9349484962388112\n",
      "0.9386513720691962\n",
      "0.9402821168152975\n",
      "0.965165822406922\n",
      "0.9055624716001887\n",
      "0.9717355195549998\n",
      "0.9151056988436004\n",
      "0.9517604935405044\n",
      "0.9542869590575207\n",
      "0.9616589135965801\n",
      "0.9716287036366443\n",
      "0.946519976891246\n",
      "0.9457617208153202\n",
      "0.9485188434308676\n",
      "0.9347517135371548\n",
      "0.9561348352042702\n",
      "0.9525349896844275\n",
      "0.9672824334682983\n",
      "0.9181990167149237\n",
      "0.9417469397108917\n",
      "0.9536060982793761\n",
      "0.9594993614191001\n",
      "0.9441043103919031\n",
      "0.9548069648497433\n",
      "0.9761928620983258\n",
      "0.9619766912265033\n",
      "0.9260954043902876\n",
      "0.9313741175990475\n",
      "0.956925080511543\n",
      "0.9526101737919659\n",
      "0.974260833773089\n",
      "0.9545744827725702\n",
      "0.9205772455093665\n",
      "0.9322870179609197\n",
      "0.9288286617471428\n",
      "0.959863461627498\n",
      "0.9682001060081886\n",
      "0.8805628584383816\n",
      "0.9559662433602748\n",
      "0.9484923452757974\n",
      "0.9557135351272936\n",
      "0.9623782646176289\n",
      "0.9477504887285095\n",
      "0.9441896587740994\n",
      "0.954303100487206\n",
      "0.9530498796523001\n",
      "0.9629302060303723\n",
      "0.9176650813867001\n",
      "0.9387715890999675\n",
      "0.8804910233944572\n",
      "0.9383471816605538\n",
      "0.9585199041049028\n",
      "0.9484692224160373\n",
      "0.9501865680047279\n",
      "0.9403624256390795\n",
      "0.9343050662008381\n",
      "0.9384018795643301\n",
      "0.9619420255001674\n",
      "0.9205299418429038\n",
      "0.9491883990939113\n",
      "0.9496499530463258\n",
      "0.9559401859246962\n",
      "0.967358689241848\n",
      "0.9263916427605026\n",
      "0.9712476746541813\n",
      "0.9524565409581809\n",
      "0.9554596757850142\n",
      "0.9373992464380819\n",
      "0.957452409427074\n",
      "0.9421981634633355\n",
      "0.9494921641312501\n",
      "0.9565116415243188\n",
      "0.96483927102443\n",
      "0.938092232434226\n",
      "0.9649584337735464\n",
      "0.9586269860088471\n",
      "0.9485848339591778\n",
      "0.9352498152203188\n",
      "0.9642270822527992\n",
      "0.9567847061671264\n",
      "0.9388273197567476\n",
      "0.97086925553249\n",
      "0.9620839904154903\n",
      "0.9145690781611797\n",
      "0.9611533488640713\n",
      "0.9613580643192046\n",
      "0.9182773120493362\n",
      "0.9512657991155673\n",
      "0.9475648674726004\n",
      "0.9299571315053327\n",
      "0.9637137602221223\n",
      "0.8565626535416064\n",
      "0.9567829330819451\n",
      "0.9477137456833388\n",
      "0.9420175784205465\n",
      "0.9574627900661301\n",
      "0.9541269803470099\n",
      "0.935332799378651\n",
      "0.9674358822896342\n",
      "0.929064297733004\n",
      "0.9308342316457845\n",
      "0.930876567509014\n",
      "0.9496903249239357\n",
      "0.9520076170075469\n",
      "0.9187730778667585\n",
      "0.9469234670215743\n",
      "0.9566410087993118\n",
      "0.9390211723197535\n",
      "0.8772934288680083\n",
      "0.9163486402635994\n",
      "0.9585021300463061\n",
      "0.9557438361744385\n",
      "0.9516190885500367\n",
      "0.9405797474940407\n",
      "0.9299923876650338\n",
      "0.9519082152904191\n",
      "0.9365883213049946\n",
      "0.945637975872389\n",
      "0.9581452247863477\n",
      "0.9439807703794207\n",
      "0.9617501260408899\n",
      "0.9600224903461105\n",
      "0.9423167812103286\n",
      "0.9180713757225853\n",
      "0.9453781114842355\n",
      "0.9662913875487231\n",
      "0.9479209941591009\n",
      "0.9646001862443152\n",
      "0.9572380620527312\n",
      "0.9674536242516178\n",
      "0.9389993676163771\n",
      "0.9345057866769506\n",
      "0.9239441278401694\n",
      "0.9262731234681472\n",
      "0.9629138032073109\n",
      "0.9404428122141025\n",
      "0.9316171006375901\n",
      "0.9256433871619056\n",
      "0.9350143782122199\n",
      "0.9315815429005974\n",
      "0.9393400704543963\n",
      "0.9443972565390015\n",
      "0.95662474706747\n",
      "0.9329898091747064\n",
      "0.9513538645275113\n",
      "0.9323610538308191\n",
      "0.9328415400033045\n",
      "0.9555164226093815\n",
      "0.9635969757334079\n",
      "0.9361214618394291\n",
      "0.9376263917018547\n",
      "0.9390982880006074\n",
      "0.9735716270028573\n",
      "0.962702234855439\n",
      "0.9433019364171273\n",
      "0.9424502571293393\n",
      "0.9689933406531874\n",
      "0.9557476752115586\n",
      "0.9322712473550422\n",
      "0.9665748793735544\n",
      "0.9433256962848625\n",
      "0.9472794994382773\n",
      "0.9368903668356102\n",
      "0.9169589265969207\n",
      "0.9107207463025606\n",
      "0.9569344205759398\n",
      "0.9391745679780523\n",
      "0.970624358769063\n",
      "0.9304584667162719\n",
      "0.9435765770413778\n",
      "0.9403749667336658\n",
      "0.9392963070085977\n",
      "0.9424777847365632\n",
      "0.9533959850398153\n",
      "0.954007058259722\n",
      "0.9505498886463882\n",
      "0.9584330775750634\n",
      "0.9720506595344951\n",
      "0.9086964164553873\n",
      "0.9382781277562676\n",
      "0.9369228581229732\n",
      "0.9509017679322613\n",
      "0.9626828149339507\n",
      "0.9400733641601574\n",
      "0.9297349735320507\n",
      "0.9310991966585462\n",
      "0.95002091965391\n",
      "0.9536422842302191\n",
      "0.9551042712200872\n",
      "0.9592333933603789\n",
      "0.9234770721520225\n",
      "0.9481158861221257\n",
      "0.9235261456931199\n",
      "0.9434079118541445\n",
      "0.9583706523393392\n",
      "0.9572869656973135\n",
      "0.9297262631740492\n",
      "0.9558735472226689\n",
      "0.933691853988809\n",
      "0.9533353736531005\n",
      "0.9534919774797659\n",
      "0.9498314460670947\n",
      "0.9394323589666516\n",
      "0.9598401361476863\n",
      "0.9658427963498611\n",
      "0.9455102158746838\n",
      "0.9598099407140401\n",
      "0.942886618972228\n",
      "0.9555946021101658\n",
      "0.9672074111123743\n",
      "0.9650140827015922\n",
      "0.9426841573946798\n",
      "0.9507578092331715\n",
      "0.9467954887544276\n",
      "0.9209110506379907\n",
      "0.9478289431673808\n",
      "0.9511443799333639\n",
      "0.9342167122082465\n",
      "0.9574566391151176\n",
      "0.9328628249933553\n",
      "0.9528150862806988\n",
      "0.9649926503806933\n",
      "0.9596444145124787\n",
      "0.9045436137509206\n",
      "0.9518238245224178\n",
      "0.9445334993468792\n",
      "0.9477139424937244\n",
      "0.9137542067347748\n",
      "0.935542411950047\n",
      "0.9483768873388991\n",
      "0.9100473909071098\n",
      "0.9006704303936108\n",
      "0.9572989042024103\n",
      "0.9514931879882587\n",
      "0.9467327943589059\n",
      "0.9564268059112503\n",
      "0.9553243861343444\n",
      "0.9583315423439349\n",
      "0.9516603054055666\n",
      "0.9480716640431179\n",
      "0.9449073697228606\n",
      "0.9608329075630412\n",
      "0.9807569160727825\n",
      "0.9374945144980149\n",
      "0.950771598278213\n",
      "0.9559126714316158\n",
      "0.9463325590644118\n",
      "0.9576315328140428\n",
      "0.9490166792566729\n",
      "0.9420129128773189\n",
      "0.9314429744377167\n",
      "0.9534740827690737\n",
      "0.9498761197174762\n",
      "0.9414369316987419\n",
      "0.9462617280360922\n",
      "0.9308593567644895\n",
      "0.9294066724148748\n",
      "0.9343561996838441\n",
      "0.9501555231952657\n",
      "0.9384428497916183\n",
      "0.9562574324924032\n",
      "0.9594803141973589\n",
      "0.9436132739316951\n",
      "0.9771741460562908\n",
      "0.9744022941536352\n",
      "0.9458433715361843\n",
      "0.9535025037457312\n",
      "0.9471640101114536\n",
      "0.94660331132116\n",
      "0.9645575569445626\n",
      "0.9649061357217694\n",
      "0.9528143343856856\n",
      "0.9194049653534855\n",
      "0.9191606503499161\n",
      "0.9288465398195911\n",
      "0.9636156881716487\n",
      "0.9447326480368499\n",
      "0.9434438820789115\n",
      "0.9634467043383963\n",
      "0.8118643813523085\n",
      "0.9475737979857287\n",
      "0.9380985038387301\n",
      "0.9292567654696258\n",
      "0.9408199390487002\n",
      "0.9459265403072561\n",
      "0.9683212763830735\n",
      "0.9567426045672507\n",
      "0.96774578325891\n",
      "0.9005529304705255\n",
      "0.9461151923755804\n",
      "0.9538850149490019\n",
      "0.9638635464097447\n",
      "0.9317278902038943\n",
      "0.9484852294120557\n",
      "0.9566202691975212\n",
      "0.9552462402775583\n",
      "0.9462185048809395\n",
      "0.9569097195790027\n"
     ]
    },
    {
     "name": "stdout",
     "output_type": "stream",
     "text": [
      "0.9722425072324721\n",
      "0.9555687804779969\n",
      "0.9452313184429204\n",
      "0.9669474651947055\n",
      "0.941103661771296\n",
      "0.9391895688740385\n",
      "0.9460317605106192\n",
      "0.956851023981676\n",
      "0.9521608580904986\n",
      "0.9405186912394601\n",
      "0.9266956252064344\n",
      "0.9677637112261058\n",
      "0.9404942929327171\n",
      "0.9691829518809195\n",
      "0.9554239849597603\n",
      "0.9615252252386337\n",
      "0.9416256787133859\n",
      "0.942538386998292\n",
      "0.9486035636083809\n",
      "0.9397869157891983\n",
      "0.9479932992222126\n",
      "0.9545623518725109\n",
      "0.9546012701256488\n",
      "0.947585525073696\n",
      "0.9348400086566606\n",
      "0.9319517753106186\n",
      "0.9526323812222853\n",
      "0.9494696575612162\n",
      "0.9432246263272527\n",
      "0.9578725120092655\n",
      "0.9593649958882423\n",
      "0.9655935216604532\n",
      "0.9394185638054986\n",
      "0.9574122182580096\n",
      "0.9639700446711557\n",
      "0.9478735691974558\n",
      "0.942806956531231\n",
      "0.9413436655843797\n",
      "0.9390422821845861\n",
      "0.9496642350709918\n",
      "0.7785644339382367\n",
      "0.9709773655376548\n",
      "0.9085021127935629\n",
      "0.9577965487039044\n",
      "0.951677585045603\n",
      "0.9612712280931944\n",
      "0.9400576035508084\n",
      "0.9513194127866491\n",
      "0.9302694214614369\n",
      "0.9521537430250246\n",
      "0.9498400532727242\n",
      "0.9569161906807248\n",
      "0.9749427637828132\n",
      "0.8349481203935782\n",
      "0.9293109821676557\n",
      "0.9625075116943853\n",
      "0.9377718933959596\n",
      "0.9100716909016124\n",
      "0.9633935791905763\n",
      "0.9342854697902978\n",
      "0.9701406615817189\n",
      "0.9446038650878106\n",
      "0.8977617855090245\n",
      "0.9547681667643406\n",
      "0.9472442460486785\n",
      "0.9490445332010862\n",
      "0.9433730179076634\n",
      "0.949848124784004\n",
      "0.9647996330510975\n",
      "0.9585312647924951\n",
      "0.9445057538760022\n",
      "0.9489419607243101\n",
      "0.9439123112462301\n",
      "0.9499641048628988\n",
      "0.9737639073350097\n",
      "0.9674059464879874\n",
      "0.9490239702801062\n",
      "0.9735570793386334\n",
      "0.9123625242799902\n",
      "0.9549061489209636\n",
      "0.9072569657892647\n",
      "0.9528080203485406\n",
      "0.9461392040589343\n",
      "0.9560749583448456\n",
      "0.9599908388994185\n",
      "0.9453566853247343\n",
      "0.9148500516157935\n",
      "0.9504968377921668\n",
      "0.9542282748072729\n",
      "0.9488368951417101\n",
      "0.9451746142851994\n",
      "0.9375726199152141\n",
      "0.9651462482626083\n",
      "0.9295965353854445\n",
      "0.9492155506369168\n",
      "0.9374641761656934\n",
      "0.9304495117839124\n",
      "0.9370503503380038\n",
      "0.9357958834692268\n",
      "0.966003781319274\n",
      "0.9647593155629659\n",
      "0.9558348695207837\n",
      "0.9666873611552906\n",
      "0.9554103837963059\n",
      "0.9235517270298762\n",
      "0.9387882859511546\n",
      "0.9669784582339879\n",
      "0.9592105268264394\n",
      "0.9583054761633261\n",
      "0.957632302118895\n",
      "0.935649569441656\n",
      "0.945190803417105\n",
      "0.9369125502231404\n",
      "0.9585131265723021\n",
      "0.9595886309079313\n",
      "0.9553274104376374\n",
      "0.9467315122085944\n",
      "0.9510849395342609\n",
      "0.9685275424902019\n",
      "0.9650344131710484\n",
      "0.9344627732807196\n",
      "0.9325721073992187\n",
      "0.9533807896985569\n",
      "0.9598318337535212\n",
      "0.9584441365524641\n",
      "0.9450465709895555\n",
      "0.952371569247422\n",
      "0.9426582065367528\n",
      "0.9505707903663164\n",
      "0.9319846941614317\n",
      "0.9319120434424006\n",
      "0.9400058639338777\n",
      "0.9661117343046792\n",
      "0.968288289906879\n",
      "0.9590495144484101\n",
      "0.9334389492433359\n",
      "0.9586961990185048\n",
      "0.9667147655919337\n",
      "0.9443025197952081\n",
      "0.9620015581054797\n",
      "0.9576155836041644\n",
      "0.9669512758751078\n",
      "0.943339460580078\n",
      "0.9331160882941072\n",
      "0.8026959588671174\n",
      "0.9428241304609002\n",
      "0.942805342665492\n",
      "0.9474530842844577\n",
      "0.9756192246637931\n",
      "0.9059791880948098\n",
      "0.8755291264457169\n"
     ]
    }
   ],
   "source": [
    "sum=0\n",
    "for i in range(1,601):\n",
    "    correl,_=pearsonr(train[train.Course_ID==i][\"User_Traffic\"],train[train.Course_ID==i][\"Sales\"])\n",
    "    sum+=correl\n",
    "    print(correl)"
   ]
  },
  {
   "cell_type": "code",
   "execution_count": 59,
   "metadata": {},
   "outputs": [
    {
     "data": {
      "text/plain": [
       "0.9455744409019602"
      ]
     },
     "execution_count": 59,
     "metadata": {},
     "output_type": "execute_result"
    }
   ],
   "source": [
    "sum/600"
   ]
  },
  {
   "cell_type": "markdown",
   "metadata": {},
   "source": [
    "**User Traffic is highly correlated to the amount of sales made**"
   ]
  },
  {
   "cell_type": "markdown",
   "metadata": {},
   "source": [
    "### Hypothesis 6"
   ]
  },
  {
   "cell_type": "code",
   "execution_count": 60,
   "metadata": {},
   "outputs": [
    {
     "data": {
      "text/plain": [
       "0.014679921551452813"
      ]
     },
     "execution_count": 60,
     "metadata": {},
     "output_type": "execute_result"
    }
   ],
   "source": [
    "correlation,_=pearsonr(train[\"Competition_Metric\"],train[\"Sales\"])\n",
    "correlation"
   ]
  },
  {
   "cell_type": "code",
   "execution_count": 85,
   "metadata": {},
   "outputs": [
    {
     "data": {
      "text/html": [
       "<div>\n",
       "<style scoped>\n",
       "    .dataframe tbody tr th:only-of-type {\n",
       "        vertical-align: middle;\n",
       "    }\n",
       "\n",
       "    .dataframe tbody tr th {\n",
       "        vertical-align: top;\n",
       "    }\n",
       "\n",
       "    .dataframe thead th {\n",
       "        text-align: right;\n",
       "    }\n",
       "</style>\n",
       "<table border=\"1\" class=\"dataframe\">\n",
       "  <thead>\n",
       "    <tr style=\"text-align: right;\">\n",
       "      <th></th>\n",
       "      <th>Competition_Metric</th>\n",
       "      <th>Sales</th>\n",
       "    </tr>\n",
       "    <tr>\n",
       "      <th>Course_ID</th>\n",
       "      <th></th>\n",
       "      <th></th>\n",
       "    </tr>\n",
       "  </thead>\n",
       "  <tbody>\n",
       "    <tr>\n",
       "      <th>1</th>\n",
       "      <td>0.007</td>\n",
       "      <td>85.251701</td>\n",
       "    </tr>\n",
       "    <tr>\n",
       "      <th>2</th>\n",
       "      <td>0.186</td>\n",
       "      <td>120.595238</td>\n",
       "    </tr>\n",
       "    <tr>\n",
       "      <th>3</th>\n",
       "      <td>0.316</td>\n",
       "      <td>153.207483</td>\n",
       "    </tr>\n",
       "    <tr>\n",
       "      <th>4</th>\n",
       "      <td>0.099</td>\n",
       "      <td>94.812925</td>\n",
       "    </tr>\n",
       "    <tr>\n",
       "      <th>5</th>\n",
       "      <td>0.027</td>\n",
       "      <td>113.215420</td>\n",
       "    </tr>\n",
       "    <tr>\n",
       "      <th>...</th>\n",
       "      <td>...</td>\n",
       "      <td>...</td>\n",
       "    </tr>\n",
       "    <tr>\n",
       "      <th>596</th>\n",
       "      <td>0.070</td>\n",
       "      <td>84.924036</td>\n",
       "    </tr>\n",
       "    <tr>\n",
       "      <th>597</th>\n",
       "      <td>0.025</td>\n",
       "      <td>91.241497</td>\n",
       "    </tr>\n",
       "    <tr>\n",
       "      <th>598</th>\n",
       "      <td>0.025</td>\n",
       "      <td>180.100907</td>\n",
       "    </tr>\n",
       "    <tr>\n",
       "      <th>599</th>\n",
       "      <td>0.122</td>\n",
       "      <td>116.346939</td>\n",
       "    </tr>\n",
       "    <tr>\n",
       "      <th>600</th>\n",
       "      <td>0.070</td>\n",
       "      <td>109.198413</td>\n",
       "    </tr>\n",
       "  </tbody>\n",
       "</table>\n",
       "<p>588 rows × 2 columns</p>\n",
       "</div>"
      ],
      "text/plain": [
       "           Competition_Metric       Sales\n",
       "Course_ID                                \n",
       "1                       0.007   85.251701\n",
       "2                       0.186  120.595238\n",
       "3                       0.316  153.207483\n",
       "4                       0.099   94.812925\n",
       "5                       0.027  113.215420\n",
       "...                       ...         ...\n",
       "596                     0.070   84.924036\n",
       "597                     0.025   91.241497\n",
       "598                     0.025  180.100907\n",
       "599                     0.122  116.346939\n",
       "600                     0.070  109.198413\n",
       "\n",
       "[588 rows x 2 columns]"
      ]
     },
     "execution_count": 85,
     "metadata": {},
     "output_type": "execute_result"
    }
   ],
   "source": [
    "xa=train.groupby(\"Course_ID\")[[\"Competition_Metric\",\"Sales\"]].mean()\n",
    "xa=xa[xa[\"Competition_Metric\"]>0]\n",
    "xa"
   ]
  },
  {
   "cell_type": "code",
   "execution_count": 86,
   "metadata": {},
   "outputs": [
    {
     "data": {
      "text/plain": [
       "<matplotlib.axes._subplots.AxesSubplot at 0x230aaaf19c8>"
      ]
     },
     "execution_count": 86,
     "metadata": {},
     "output_type": "execute_result"
    },
    {
     "data": {
      "image/png": "[encoded data removed]",
      "text/plain": [
       "<Figure size 432x288 with 1 Axes>"
      ]
     },
     "metadata": {
      "needs_background": "light"
     },
     "output_type": "display_data"
    }
   ],
   "source": [
    "sns.scatterplot(x=\"Sales\",y=\"Competition_Metric\",data=xa)"
   ]
  },
  {
   "cell_type": "code",
   "execution_count": 87,
   "metadata": {},
   "outputs": [
    {
     "data": {
      "text/html": [
       "<div>\n",
       "<style scoped>\n",
       "    .dataframe tbody tr th:only-of-type {\n",
       "        vertical-align: middle;\n",
       "    }\n",
       "\n",
       "    .dataframe tbody tr th {\n",
       "        vertical-align: top;\n",
       "    }\n",
       "\n",
       "    .dataframe thead th {\n",
       "        text-align: right;\n",
       "    }\n",
       "</style>\n",
       "<table border=\"1\" class=\"dataframe\">\n",
       "  <thead>\n",
       "    <tr style=\"text-align: right;\">\n",
       "      <th></th>\n",
       "      <th>Competition_Metric</th>\n",
       "      <th>Sales</th>\n",
       "    </tr>\n",
       "  </thead>\n",
       "  <tbody>\n",
       "    <tr>\n",
       "      <th>Competition_Metric</th>\n",
       "      <td>1.000000</td>\n",
       "      <td>-0.015797</td>\n",
       "    </tr>\n",
       "    <tr>\n",
       "      <th>Sales</th>\n",
       "      <td>-0.015797</td>\n",
       "      <td>1.000000</td>\n",
       "    </tr>\n",
       "  </tbody>\n",
       "</table>\n",
       "</div>"
      ],
      "text/plain": [
       "                    Competition_Metric     Sales\n",
       "Competition_Metric            1.000000 -0.015797\n",
       "Sales                        -0.015797  1.000000"
      ]
     },
     "execution_count": 87,
     "metadata": {},
     "output_type": "execute_result"
    }
   ],
   "source": [
    "xa.corr()"
   ]
  },
  {
   "cell_type": "markdown",
   "metadata": {},
   "source": [
    "**There is very little correlation with Competiton_Metric and Sales**"
   ]
  },
  {
   "cell_type": "code",
   "execution_count": 63,
   "metadata": {},
   "outputs": [
    {
     "data": {
      "text/plain": [
       "Index(['ID', 'Day_No', 'Course_ID', 'Course_Domain', 'Course_Type',\n",
       "       'Short_Promotion', 'Public_Holiday', 'Long_Promotion', 'User_Traffic',\n",
       "       'Competition_Metric', 'Sales'],\n",
       "      dtype='object')"
      ]
     },
     "execution_count": 63,
     "metadata": {},
     "output_type": "execute_result"
    }
   ],
   "source": [
    "train.columns"
   ]
  },
  {
   "cell_type": "code",
   "execution_count": 88,
   "metadata": {},
   "outputs": [
    {
     "data": {
      "text/html": [
       "<div>\n",
       "<style scoped>\n",
       "    .dataframe tbody tr th:only-of-type {\n",
       "        vertical-align: middle;\n",
       "    }\n",
       "\n",
       "    .dataframe tbody tr th {\n",
       "        vertical-align: top;\n",
       "    }\n",
       "\n",
       "    .dataframe thead th {\n",
       "        text-align: right;\n",
       "    }\n",
       "</style>\n",
       "<table border=\"1\" class=\"dataframe\">\n",
       "  <thead>\n",
       "    <tr style=\"text-align: right;\">\n",
       "      <th></th>\n",
       "      <th>Sales</th>\n",
       "    </tr>\n",
       "    <tr>\n",
       "      <th>Course_ID</th>\n",
       "      <th></th>\n",
       "    </tr>\n",
       "  </thead>\n",
       "  <tbody>\n",
       "    <tr>\n",
       "      <th>1</th>\n",
       "      <td>85.251701</td>\n",
       "    </tr>\n",
       "    <tr>\n",
       "      <th>2</th>\n",
       "      <td>120.595238</td>\n",
       "    </tr>\n",
       "    <tr>\n",
       "      <th>3</th>\n",
       "      <td>153.207483</td>\n",
       "    </tr>\n",
       "    <tr>\n",
       "      <th>4</th>\n",
       "      <td>94.812925</td>\n",
       "    </tr>\n",
       "    <tr>\n",
       "      <th>5</th>\n",
       "      <td>113.215420</td>\n",
       "    </tr>\n",
       "    <tr>\n",
       "      <th>...</th>\n",
       "      <td>...</td>\n",
       "    </tr>\n",
       "    <tr>\n",
       "      <th>596</th>\n",
       "      <td>84.924036</td>\n",
       "    </tr>\n",
       "    <tr>\n",
       "      <th>597</th>\n",
       "      <td>91.241497</td>\n",
       "    </tr>\n",
       "    <tr>\n",
       "      <th>598</th>\n",
       "      <td>180.100907</td>\n",
       "    </tr>\n",
       "    <tr>\n",
       "      <th>599</th>\n",
       "      <td>116.346939</td>\n",
       "    </tr>\n",
       "    <tr>\n",
       "      <th>600</th>\n",
       "      <td>109.198413</td>\n",
       "    </tr>\n",
       "  </tbody>\n",
       "</table>\n",
       "<p>600 rows × 1 columns</p>\n",
       "</div>"
      ],
      "text/plain": [
       "                Sales\n",
       "Course_ID            \n",
       "1           85.251701\n",
       "2          120.595238\n",
       "3          153.207483\n",
       "4           94.812925\n",
       "5          113.215420\n",
       "...               ...\n",
       "596         84.924036\n",
       "597         91.241497\n",
       "598        180.100907\n",
       "599        116.346939\n",
       "600        109.198413\n",
       "\n",
       "[600 rows x 1 columns]"
      ]
     },
     "execution_count": 88,
     "metadata": {},
     "output_type": "execute_result"
    }
   ],
   "source": [
    "aa=pd.DataFrame(train.groupby(\"Course_ID\").mean()[\"Sales\"])\n",
    "aa"
   ]
  },
  {
   "cell_type": "code",
   "execution_count": 89,
   "metadata": {},
   "outputs": [
    {
     "data": {
      "text/plain": [
       "Course_ID\n",
       "1               Development\n",
       "2               Development\n",
       "3               Development\n",
       "4               Development\n",
       "5               Development\n",
       "               ...         \n",
       "596             Development\n",
       "597             Development\n",
       "598    Finance & Accounting\n",
       "599             Development\n",
       "600      Software Marketing\n",
       "Name: Course_Domain, Length: 600, dtype: object"
      ]
     },
     "execution_count": 89,
     "metadata": {},
     "output_type": "execute_result"
    }
   ],
   "source": [
    "train.groupby(\"Course_ID\")[\"Course_Domain\"].unique().apply(lambda x:x[0])"
   ]
  },
  {
   "cell_type": "code",
   "execution_count": 90,
   "metadata": {},
   "outputs": [],
   "source": [
    "aa[\"Course_Domain\"]=list(train.groupby(\"Course_ID\")[\"Course_Domain\"].unique().apply(lambda x:x[0]))"
   ]
  },
  {
   "cell_type": "code",
   "execution_count": 91,
   "metadata": {},
   "outputs": [
    {
     "data": {
      "text/html": [
       "<div>\n",
       "<style scoped>\n",
       "    .dataframe tbody tr th:only-of-type {\n",
       "        vertical-align: middle;\n",
       "    }\n",
       "\n",
       "    .dataframe tbody tr th {\n",
       "        vertical-align: top;\n",
       "    }\n",
       "\n",
       "    .dataframe thead th {\n",
       "        text-align: right;\n",
       "    }\n",
       "</style>\n",
       "<table border=\"1\" class=\"dataframe\">\n",
       "  <thead>\n",
       "    <tr style=\"text-align: right;\">\n",
       "      <th></th>\n",
       "      <th>Sales</th>\n",
       "      <th>Course_Domain</th>\n",
       "    </tr>\n",
       "    <tr>\n",
       "      <th>Course_ID</th>\n",
       "      <th></th>\n",
       "      <th></th>\n",
       "    </tr>\n",
       "  </thead>\n",
       "  <tbody>\n",
       "    <tr>\n",
       "      <th>151</th>\n",
       "      <td>337.649660</td>\n",
       "      <td>Development</td>\n",
       "    </tr>\n",
       "    <tr>\n",
       "      <th>225</th>\n",
       "      <td>306.088435</td>\n",
       "      <td>Development</td>\n",
       "    </tr>\n",
       "    <tr>\n",
       "      <th>424</th>\n",
       "      <td>290.574830</td>\n",
       "      <td>Development</td>\n",
       "    </tr>\n",
       "    <tr>\n",
       "      <th>304</th>\n",
       "      <td>276.689342</td>\n",
       "      <td>Finance &amp; Accounting</td>\n",
       "    </tr>\n",
       "    <tr>\n",
       "      <th>397</th>\n",
       "      <td>273.692744</td>\n",
       "      <td>Development</td>\n",
       "    </tr>\n",
       "    <tr>\n",
       "      <th>...</th>\n",
       "      <td>...</td>\n",
       "      <td>...</td>\n",
       "    </tr>\n",
       "    <tr>\n",
       "      <th>132</th>\n",
       "      <td>53.543084</td>\n",
       "      <td>Development</td>\n",
       "    </tr>\n",
       "    <tr>\n",
       "      <th>444</th>\n",
       "      <td>52.730159</td>\n",
       "      <td>Finance &amp; Accounting</td>\n",
       "    </tr>\n",
       "    <tr>\n",
       "      <th>153</th>\n",
       "      <td>51.165533</td>\n",
       "      <td>Software Marketing</td>\n",
       "    </tr>\n",
       "    <tr>\n",
       "      <th>466</th>\n",
       "      <td>50.871882</td>\n",
       "      <td>Development</td>\n",
       "    </tr>\n",
       "    <tr>\n",
       "      <th>124</th>\n",
       "      <td>50.197279</td>\n",
       "      <td>Finance &amp; Accounting</td>\n",
       "    </tr>\n",
       "  </tbody>\n",
       "</table>\n",
       "<p>600 rows × 2 columns</p>\n",
       "</div>"
      ],
      "text/plain": [
       "                Sales         Course_Domain\n",
       "Course_ID                                  \n",
       "151        337.649660           Development\n",
       "225        306.088435           Development\n",
       "424        290.574830           Development\n",
       "304        276.689342  Finance & Accounting\n",
       "397        273.692744           Development\n",
       "...               ...                   ...\n",
       "132         53.543084           Development\n",
       "444         52.730159  Finance & Accounting\n",
       "153         51.165533    Software Marketing\n",
       "466         50.871882           Development\n",
       "124         50.197279  Finance & Accounting\n",
       "\n",
       "[600 rows x 2 columns]"
      ]
     },
     "execution_count": 91,
     "metadata": {},
     "output_type": "execute_result"
    }
   ],
   "source": [
    "aa.sort_values(\"Sales\",ascending=False)"
   ]
  },
  {
   "cell_type": "code",
   "execution_count": 92,
   "metadata": {},
   "outputs": [
    {
     "data": {
      "text/plain": [
       "Index(['ID', 'Day_No', 'Course_ID', 'Course_Domain', 'Course_Type',\n",
       "       'Short_Promotion', 'Public_Holiday', 'Long_Promotion', 'User_Traffic',\n",
       "       'Competition_Metric', 'Sales'],\n",
       "      dtype='object')"
      ]
     },
     "execution_count": 92,
     "metadata": {},
     "output_type": "execute_result"
    }
   ],
   "source": [
    "train.columns"
   ]
  },
  {
   "cell_type": "code",
   "execution_count": 69,
   "metadata": {},
   "outputs": [],
   "source": [
    "aa[\"No_Days_Sales\"]=list(train.groupby(\"Course_ID\")[\"Day_No\"].nunique())"
   ]
  },
  {
   "cell_type": "code",
   "execution_count": 70,
   "metadata": {},
   "outputs": [
    {
     "data": {
      "text/html": [
       "<div>\n",
       "<style scoped>\n",
       "    .dataframe tbody tr th:only-of-type {\n",
       "        vertical-align: middle;\n",
       "    }\n",
       "\n",
       "    .dataframe tbody tr th {\n",
       "        vertical-align: top;\n",
       "    }\n",
       "\n",
       "    .dataframe thead th {\n",
       "        text-align: right;\n",
       "    }\n",
       "</style>\n",
       "<table border=\"1\" class=\"dataframe\">\n",
       "  <thead>\n",
       "    <tr style=\"text-align: right;\">\n",
       "      <th></th>\n",
       "      <th>Sales</th>\n",
       "      <th>Course_Domain</th>\n",
       "      <th>No_Days_Sales</th>\n",
       "    </tr>\n",
       "    <tr>\n",
       "      <th>Course_ID</th>\n",
       "      <th></th>\n",
       "      <th></th>\n",
       "      <th></th>\n",
       "    </tr>\n",
       "  </thead>\n",
       "  <tbody>\n",
       "    <tr>\n",
       "      <th>151</th>\n",
       "      <td>337.649660</td>\n",
       "      <td>Development</td>\n",
       "      <td>882</td>\n",
       "    </tr>\n",
       "    <tr>\n",
       "      <th>225</th>\n",
       "      <td>306.088435</td>\n",
       "      <td>Development</td>\n",
       "      <td>882</td>\n",
       "    </tr>\n",
       "    <tr>\n",
       "      <th>424</th>\n",
       "      <td>290.574830</td>\n",
       "      <td>Development</td>\n",
       "      <td>882</td>\n",
       "    </tr>\n",
       "    <tr>\n",
       "      <th>304</th>\n",
       "      <td>276.689342</td>\n",
       "      <td>Finance &amp; Accounting</td>\n",
       "      <td>882</td>\n",
       "    </tr>\n",
       "    <tr>\n",
       "      <th>397</th>\n",
       "      <td>273.692744</td>\n",
       "      <td>Development</td>\n",
       "      <td>882</td>\n",
       "    </tr>\n",
       "    <tr>\n",
       "      <th>335</th>\n",
       "      <td>265.321995</td>\n",
       "      <td>Development</td>\n",
       "      <td>882</td>\n",
       "    </tr>\n",
       "    <tr>\n",
       "      <th>340</th>\n",
       "      <td>265.020408</td>\n",
       "      <td>Finance &amp; Accounting</td>\n",
       "      <td>882</td>\n",
       "    </tr>\n",
       "    <tr>\n",
       "      <th>192</th>\n",
       "      <td>260.778912</td>\n",
       "      <td>Development</td>\n",
       "      <td>882</td>\n",
       "    </tr>\n",
       "    <tr>\n",
       "      <th>222</th>\n",
       "      <td>254.246032</td>\n",
       "      <td>Development</td>\n",
       "      <td>882</td>\n",
       "    </tr>\n",
       "    <tr>\n",
       "      <th>557</th>\n",
       "      <td>243.541950</td>\n",
       "      <td>Development</td>\n",
       "      <td>882</td>\n",
       "    </tr>\n",
       "    <tr>\n",
       "      <th>314</th>\n",
       "      <td>240.555556</td>\n",
       "      <td>Development</td>\n",
       "      <td>882</td>\n",
       "    </tr>\n",
       "    <tr>\n",
       "      <th>200</th>\n",
       "      <td>239.892290</td>\n",
       "      <td>Business</td>\n",
       "      <td>882</td>\n",
       "    </tr>\n",
       "    <tr>\n",
       "      <th>271</th>\n",
       "      <td>236.502268</td>\n",
       "      <td>Development</td>\n",
       "      <td>882</td>\n",
       "    </tr>\n",
       "    <tr>\n",
       "      <th>274</th>\n",
       "      <td>231.273243</td>\n",
       "      <td>Development</td>\n",
       "      <td>882</td>\n",
       "    </tr>\n",
       "    <tr>\n",
       "      <th>555</th>\n",
       "      <td>228.777937</td>\n",
       "      <td>Development</td>\n",
       "      <td>698</td>\n",
       "    </tr>\n",
       "    <tr>\n",
       "      <th>430</th>\n",
       "      <td>228.021542</td>\n",
       "      <td>Development</td>\n",
       "      <td>882</td>\n",
       "    </tr>\n",
       "    <tr>\n",
       "      <th>48</th>\n",
       "      <td>226.676871</td>\n",
       "      <td>Development</td>\n",
       "      <td>882</td>\n",
       "    </tr>\n",
       "    <tr>\n",
       "      <th>461</th>\n",
       "      <td>221.488662</td>\n",
       "      <td>Development</td>\n",
       "      <td>882</td>\n",
       "    </tr>\n",
       "    <tr>\n",
       "      <th>157</th>\n",
       "      <td>221.111111</td>\n",
       "      <td>Software Marketing</td>\n",
       "      <td>882</td>\n",
       "    </tr>\n",
       "    <tr>\n",
       "      <th>255</th>\n",
       "      <td>212.981859</td>\n",
       "      <td>Finance &amp; Accounting</td>\n",
       "      <td>882</td>\n",
       "    </tr>\n",
       "  </tbody>\n",
       "</table>\n",
       "</div>"
      ],
      "text/plain": [
       "                Sales         Course_Domain  No_Days_Sales\n",
       "Course_ID                                                 \n",
       "151        337.649660           Development            882\n",
       "225        306.088435           Development            882\n",
       "424        290.574830           Development            882\n",
       "304        276.689342  Finance & Accounting            882\n",
       "397        273.692744           Development            882\n",
       "335        265.321995           Development            882\n",
       "340        265.020408  Finance & Accounting            882\n",
       "192        260.778912           Development            882\n",
       "222        254.246032           Development            882\n",
       "557        243.541950           Development            882\n",
       "314        240.555556           Development            882\n",
       "200        239.892290              Business            882\n",
       "271        236.502268           Development            882\n",
       "274        231.273243           Development            882\n",
       "555        228.777937           Development            698\n",
       "430        228.021542           Development            882\n",
       "48         226.676871           Development            882\n",
       "461        221.488662           Development            882\n",
       "157        221.111111    Software Marketing            882\n",
       "255        212.981859  Finance & Accounting            882"
      ]
     },
     "execution_count": 70,
     "metadata": {},
     "output_type": "execute_result"
    }
   ],
   "source": [
    "aa.sort_values(\"Sales\",ascending=False).head(20)"
   ]
  },
  {
   "cell_type": "code",
   "execution_count": 71,
   "metadata": {},
   "outputs": [
    {
     "data": {
      "text/html": [
       "<div>\n",
       "<style scoped>\n",
       "    .dataframe tbody tr th:only-of-type {\n",
       "        vertical-align: middle;\n",
       "    }\n",
       "\n",
       "    .dataframe tbody tr th {\n",
       "        vertical-align: top;\n",
       "    }\n",
       "\n",
       "    .dataframe thead th {\n",
       "        text-align: right;\n",
       "    }\n",
       "</style>\n",
       "<table border=\"1\" class=\"dataframe\">\n",
       "  <thead>\n",
       "    <tr style=\"text-align: right;\">\n",
       "      <th></th>\n",
       "      <th></th>\n",
       "      <th>Sales</th>\n",
       "    </tr>\n",
       "    <tr>\n",
       "      <th>Course_Domain</th>\n",
       "      <th>No_Days_Sales</th>\n",
       "      <th></th>\n",
       "    </tr>\n",
       "  </thead>\n",
       "  <tbody>\n",
       "    <tr>\n",
       "      <th>Business</th>\n",
       "      <th>882</th>\n",
       "      <td>186.592971</td>\n",
       "    </tr>\n",
       "    <tr>\n",
       "      <th rowspan=\"3\" valign=\"top\">Development</th>\n",
       "      <th>698</th>\n",
       "      <td>107.069090</td>\n",
       "    </tr>\n",
       "    <tr>\n",
       "      <th>881</th>\n",
       "      <td>81.087401</td>\n",
       "    </tr>\n",
       "    <tr>\n",
       "      <th>882</th>\n",
       "      <td>121.697050</td>\n",
       "    </tr>\n",
       "    <tr>\n",
       "      <th rowspan=\"2\" valign=\"top\">Finance &amp; Accounting</th>\n",
       "      <th>698</th>\n",
       "      <td>101.142857</td>\n",
       "    </tr>\n",
       "    <tr>\n",
       "      <th>882</th>\n",
       "      <td>126.099538</td>\n",
       "    </tr>\n",
       "    <tr>\n",
       "      <th rowspan=\"2\" valign=\"top\">Software Marketing</th>\n",
       "      <th>698</th>\n",
       "      <td>114.498225</td>\n",
       "    </tr>\n",
       "    <tr>\n",
       "      <th>882</th>\n",
       "      <td>119.650122</td>\n",
       "    </tr>\n",
       "  </tbody>\n",
       "</table>\n",
       "</div>"
      ],
      "text/plain": [
       "                                         Sales\n",
       "Course_Domain        No_Days_Sales            \n",
       "Business             882            186.592971\n",
       "Development          698            107.069090\n",
       "                     881             81.087401\n",
       "                     882            121.697050\n",
       "Finance & Accounting 698            101.142857\n",
       "                     882            126.099538\n",
       "Software Marketing   698            114.498225\n",
       "                     882            119.650122"
      ]
     },
     "execution_count": 71,
     "metadata": {},
     "output_type": "execute_result"
    }
   ],
   "source": [
    "aa.groupby([\"Course_Domain\",\"No_Days_Sales\"]).mean()"
   ]
  },
  {
   "cell_type": "code",
   "execution_count": 72,
   "metadata": {},
   "outputs": [
    {
     "data": {
      "text/plain": [
       "Index(['ID', 'Day_No', 'Course_ID', 'Course_Domain', 'Course_Type',\n",
       "       'Short_Promotion', 'Public_Holiday', 'Long_Promotion', 'User_Traffic',\n",
       "       'Competition_Metric', 'Sales'],\n",
       "      dtype='object')"
      ]
     },
     "execution_count": 72,
     "metadata": {},
     "output_type": "execute_result"
    }
   ],
   "source": [
    "train.columns"
   ]
  },
  {
   "cell_type": "code",
   "execution_count": 93,
   "metadata": {},
   "outputs": [
    {
     "data": {
      "text/html": [
       "<div>\n",
       "<style scoped>\n",
       "    .dataframe tbody tr th:only-of-type {\n",
       "        vertical-align: middle;\n",
       "    }\n",
       "\n",
       "    .dataframe tbody tr th {\n",
       "        vertical-align: top;\n",
       "    }\n",
       "\n",
       "    .dataframe thead th {\n",
       "        text-align: right;\n",
       "    }\n",
       "</style>\n",
       "<table border=\"1\" class=\"dataframe\">\n",
       "  <thead>\n",
       "    <tr style=\"text-align: right;\">\n",
       "      <th></th>\n",
       "      <th>Sales</th>\n",
       "      <th>Course_Domain</th>\n",
       "      <th>Course_Type</th>\n",
       "    </tr>\n",
       "    <tr>\n",
       "      <th>Course_ID</th>\n",
       "      <th></th>\n",
       "      <th></th>\n",
       "      <th></th>\n",
       "    </tr>\n",
       "  </thead>\n",
       "  <tbody>\n",
       "    <tr>\n",
       "      <th>1</th>\n",
       "      <td>85.251701</td>\n",
       "      <td>Development</td>\n",
       "      <td>Course</td>\n",
       "    </tr>\n",
       "    <tr>\n",
       "      <th>2</th>\n",
       "      <td>120.595238</td>\n",
       "      <td>Development</td>\n",
       "      <td>Course</td>\n",
       "    </tr>\n",
       "    <tr>\n",
       "      <th>3</th>\n",
       "      <td>153.207483</td>\n",
       "      <td>Development</td>\n",
       "      <td>Program</td>\n",
       "    </tr>\n",
       "    <tr>\n",
       "      <th>4</th>\n",
       "      <td>94.812925</td>\n",
       "      <td>Development</td>\n",
       "      <td>Course</td>\n",
       "    </tr>\n",
       "    <tr>\n",
       "      <th>5</th>\n",
       "      <td>113.215420</td>\n",
       "      <td>Development</td>\n",
       "      <td>Program</td>\n",
       "    </tr>\n",
       "    <tr>\n",
       "      <th>...</th>\n",
       "      <td>...</td>\n",
       "      <td>...</td>\n",
       "      <td>...</td>\n",
       "    </tr>\n",
       "    <tr>\n",
       "      <th>596</th>\n",
       "      <td>84.924036</td>\n",
       "      <td>Development</td>\n",
       "      <td>Program</td>\n",
       "    </tr>\n",
       "    <tr>\n",
       "      <th>597</th>\n",
       "      <td>91.241497</td>\n",
       "      <td>Development</td>\n",
       "      <td>Course</td>\n",
       "    </tr>\n",
       "    <tr>\n",
       "      <th>598</th>\n",
       "      <td>180.100907</td>\n",
       "      <td>Finance &amp; Accounting</td>\n",
       "      <td>Program</td>\n",
       "    </tr>\n",
       "    <tr>\n",
       "      <th>599</th>\n",
       "      <td>116.346939</td>\n",
       "      <td>Development</td>\n",
       "      <td>Program</td>\n",
       "    </tr>\n",
       "    <tr>\n",
       "      <th>600</th>\n",
       "      <td>109.198413</td>\n",
       "      <td>Software Marketing</td>\n",
       "      <td>Program</td>\n",
       "    </tr>\n",
       "  </tbody>\n",
       "</table>\n",
       "<p>600 rows × 3 columns</p>\n",
       "</div>"
      ],
      "text/plain": [
       "                Sales         Course_Domain Course_Type\n",
       "Course_ID                                              \n",
       "1           85.251701           Development      Course\n",
       "2          120.595238           Development      Course\n",
       "3          153.207483           Development     Program\n",
       "4           94.812925           Development      Course\n",
       "5          113.215420           Development     Program\n",
       "...               ...                   ...         ...\n",
       "596         84.924036           Development     Program\n",
       "597         91.241497           Development      Course\n",
       "598        180.100907  Finance & Accounting     Program\n",
       "599        116.346939           Development     Program\n",
       "600        109.198413    Software Marketing     Program\n",
       "\n",
       "[600 rows x 3 columns]"
      ]
     },
     "execution_count": 93,
     "metadata": {},
     "output_type": "execute_result"
    }
   ],
   "source": [
    "aa[\"Course_Type\"]=list(train.groupby(\"Course_ID\")[\"Course_Type\"].unique().apply(lambda x: x[0]))\n",
    "aa"
   ]
  },
  {
   "cell_type": "code",
   "execution_count": 94,
   "metadata": {},
   "outputs": [
    {
     "data": {
      "text/plain": [
       "Course_Type\n",
       "Course     113.041589\n",
       "Degree     184.061224\n",
       "Program    128.058375\n",
       "Name: Sales, dtype: float64"
      ]
     },
     "execution_count": 94,
     "metadata": {},
     "output_type": "execute_result"
    }
   ],
   "source": [
    "aa.groupby(\"Course_Type\").mean()[\"Sales\"]"
   ]
  },
  {
   "cell_type": "code",
   "execution_count": 95,
   "metadata": {},
   "outputs": [
    {
     "data": {
      "text/plain": [
       "<matplotlib.axes._subplots.AxesSubplot at 0x230aa738348>"
      ]
     },
     "execution_count": 95,
     "metadata": {},
     "output_type": "execute_result"
    },
    {
     "data": {
      "image/png": "[encoded data removed]",
      "text/plain": [
       "<Figure size 432x288 with 1 Axes>"
      ]
     },
     "metadata": {
      "needs_background": "light"
     },
     "output_type": "display_data"
    }
   ],
   "source": [
    "sns.barplot(x=\"Course_Type\",y=\"Sales\",data=aa)"
   ]
  },
  {
   "cell_type": "code",
   "execution_count": 96,
   "metadata": {},
   "outputs": [
    {
     "data": {
      "text/plain": [
       "Course_Domain\n",
       "Business                186.592971\n",
       "Development             119.665465\n",
       "Finance & Accounting    124.136653\n",
       "Software Marketing      118.453217\n",
       "Name: Sales, dtype: float64"
      ]
     },
     "execution_count": 96,
     "metadata": {},
     "output_type": "execute_result"
    }
   ],
   "source": [
    "aa.groupby(\"Course_Domain\").mean()[\"Sales\"]"
   ]
  },
  {
   "cell_type": "code",
   "execution_count": 99,
   "metadata": {},
   "outputs": [
    {
     "data": {
      "image/png": "[encoded data removed]",
      "text/plain": [
       "<Figure size 432x288 with 1 Axes>"
      ]
     },
     "metadata": {
      "needs_background": "light"
     },
     "output_type": "display_data"
    }
   ],
   "source": [
    "sns.barplot(y=\"Course_Domain\",x=\"Sales\",data=aa)\n",
    "plt.tight_layout()"
   ]
  },
  {
   "cell_type": "code",
   "execution_count": 75,
   "metadata": {},
   "outputs": [
    {
     "data": {
      "text/plain": [
       "Index(['ID', 'Day_No', 'Course_ID', 'Course_Domain', 'Course_Type',\n",
       "       'Short_Promotion', 'Public_Holiday', 'Long_Promotion', 'User_Traffic',\n",
       "       'Competition_Metric', 'Sales'],\n",
       "      dtype='object')"
      ]
     },
     "execution_count": 75,
     "metadata": {},
     "output_type": "execute_result"
    }
   ],
   "source": [
    "train.columns"
   ]
  },
  {
   "cell_type": "markdown",
   "metadata": {},
   "source": [
    "## INFERENCES from EDA-\n",
    "\n",
    "1. Short_Promotion causes increase in Sales\n",
    "2. Courses with Long_Promotions have lesser Sales infact\n",
    "3. On Public Holidays, Sales are Less\n",
    "4. Sales and User Traffic are highly correlated\n",
    "5. Competition_Metric doesn't have any affect on Sales\n",
    "6. Business Courses have much higher Sales than other domains\n",
    "7. Degree Courses have much higher Sales than other courses/programmes"
   ]
  },
  {
   "cell_type": "markdown",
   "metadata": {},
   "source": [
    "### Day_No"
   ]
  },
  {
   "cell_type": "code",
   "execution_count": 29,
   "metadata": {},
   "outputs": [
    {
     "data": {
      "text/plain": [
       "<Figure size 1008x504 with 0 Axes>"
      ]
     },
     "metadata": {},
     "output_type": "display_data"
    },
    {
     "data": {
      "image/png": "[encoded data removed]",
      "text/plain": [
       "<Figure size 1440x504 with 1 Axes>"
      ]
     },
     "metadata": {
      "needs_background": "light"
     },
     "output_type": "display_data"
    }
   ],
   "source": [
    "plt.figure(figsize=(14,7))\n",
    "train[(train[\"Day_No\"]<50)].groupby(\"Day_No\")[\"Sales\"].mean().to_frame().plot(kind='line',figsize=(20,7))\n",
    "plt.xticks(range(0,52,2))\n",
    "plt.show()"
   ]
  },
  {
   "cell_type": "code",
   "execution_count": 28,
   "metadata": {},
   "outputs": [
    {
     "data": {
      "text/plain": [
       "<Figure size 1008x504 with 0 Axes>"
      ]
     },
     "metadata": {},
     "output_type": "display_data"
    },
    {
     "data": {
      "image/png": "[encoded data removed]",
      "text/plain": [
       "<Figure size 1440x504 with 1 Axes>"
      ]
     },
     "metadata": {
      "needs_background": "light"
     },
     "output_type": "display_data"
    }
   ],
   "source": [
    "plt.figure(figsize=(14,7))\n",
    "train[(train[\"Day_No\"]>50) & (train[\"Day_No\"]<=100)].groupby(\"Day_No\")[\"Sales\"].mean().to_frame().plot(kind='line',figsize=(20,7))\n",
    "plt.xticks(range(50,100,2))\n",
    "plt.show()"
   ]
  },
  {
   "cell_type": "code",
   "execution_count": null,
   "metadata": {},
   "outputs": [],
   "source": []
  },
  {
   "cell_type": "code",
   "execution_count": 16,
   "metadata": {},
   "outputs": [
    {
     "data": {
      "text/html": [
       "<div>\n",
       "<style scoped>\n",
       "    .dataframe tbody tr th:only-of-type {\n",
       "        vertical-align: middle;\n",
       "    }\n",
       "\n",
       "    .dataframe tbody tr th {\n",
       "        vertical-align: top;\n",
       "    }\n",
       "\n",
       "    .dataframe thead th {\n",
       "        text-align: right;\n",
       "    }\n",
       "</style>\n",
       "<table border=\"1\" class=\"dataframe\">\n",
       "  <thead>\n",
       "    <tr style=\"text-align: right;\">\n",
       "      <th></th>\n",
       "      <th>Sales</th>\n",
       "    </tr>\n",
       "    <tr>\n",
       "      <th>Day_No</th>\n",
       "      <th></th>\n",
       "    </tr>\n",
       "  </thead>\n",
       "  <tbody>\n",
       "    <tr>\n",
       "      <th>1</th>\n",
       "      <td>131.223706</td>\n",
       "    </tr>\n",
       "    <tr>\n",
       "      <th>2</th>\n",
       "      <td>112.315000</td>\n",
       "    </tr>\n",
       "    <tr>\n",
       "      <th>3</th>\n",
       "      <td>102.875000</td>\n",
       "    </tr>\n",
       "    <tr>\n",
       "      <th>4</th>\n",
       "      <td>107.440000</td>\n",
       "    </tr>\n",
       "    <tr>\n",
       "      <th>5</th>\n",
       "      <td>98.490000</td>\n",
       "    </tr>\n",
       "    <tr>\n",
       "      <th>6</th>\n",
       "      <td>94.880000</td>\n",
       "    </tr>\n",
       "    <tr>\n",
       "      <th>7</th>\n",
       "      <td>176.696667</td>\n",
       "    </tr>\n",
       "    <tr>\n",
       "      <th>8</th>\n",
       "      <td>141.360000</td>\n",
       "    </tr>\n",
       "    <tr>\n",
       "      <th>9</th>\n",
       "      <td>125.995000</td>\n",
       "    </tr>\n",
       "    <tr>\n",
       "      <th>10</th>\n",
       "      <td>125.900000</td>\n",
       "    </tr>\n",
       "  </tbody>\n",
       "</table>\n",
       "</div>"
      ],
      "text/plain": [
       "             Sales\n",
       "Day_No            \n",
       "1       131.223706\n",
       "2       112.315000\n",
       "3       102.875000\n",
       "4       107.440000\n",
       "5        98.490000\n",
       "6        94.880000\n",
       "7       176.696667\n",
       "8       141.360000\n",
       "9       125.995000\n",
       "10      125.900000"
      ]
     },
     "execution_count": 16,
     "metadata": {},
     "output_type": "execute_result"
    }
   ],
   "source": [
    "train.groupby(\"Day_No\")[\"Sales\"].mean().to_frame().head(10)"
   ]
  },
  {
   "cell_type": "code",
   "execution_count": 98,
   "metadata": {},
   "outputs": [],
   "source": [
    "new_train=train.copy()"
   ]
  },
  {
   "cell_type": "code",
   "execution_count": 99,
   "metadata": {},
   "outputs": [
    {
     "data": {
      "text/html": [
       "<div>\n",
       "<style scoped>\n",
       "    .dataframe tbody tr th:only-of-type {\n",
       "        vertical-align: middle;\n",
       "    }\n",
       "\n",
       "    .dataframe tbody tr th {\n",
       "        vertical-align: top;\n",
       "    }\n",
       "\n",
       "    .dataframe thead th {\n",
       "        text-align: right;\n",
       "    }\n",
       "</style>\n",
       "<table border=\"1\" class=\"dataframe\">\n",
       "  <thead>\n",
       "    <tr style=\"text-align: right;\">\n",
       "      <th></th>\n",
       "      <th>ID</th>\n",
       "      <th>Day_No</th>\n",
       "      <th>Course_ID</th>\n",
       "      <th>Course_Domain</th>\n",
       "      <th>Course_Type</th>\n",
       "      <th>Short_Promotion</th>\n",
       "      <th>Public_Holiday</th>\n",
       "      <th>Long_Promotion</th>\n",
       "      <th>User_Traffic</th>\n",
       "      <th>Competition_Metric</th>\n",
       "      <th>Sales</th>\n",
       "      <th>Week_No</th>\n",
       "    </tr>\n",
       "  </thead>\n",
       "  <tbody>\n",
       "    <tr>\n",
       "      <th>0</th>\n",
       "      <td>1</td>\n",
       "      <td>1</td>\n",
       "      <td>1</td>\n",
       "      <td>Development</td>\n",
       "      <td>Course</td>\n",
       "      <td>0</td>\n",
       "      <td>1</td>\n",
       "      <td>1</td>\n",
       "      <td>11004</td>\n",
       "      <td>0.007</td>\n",
       "      <td>81</td>\n",
       "      <td>1.0</td>\n",
       "    </tr>\n",
       "    <tr>\n",
       "      <th>1</th>\n",
       "      <td>2</td>\n",
       "      <td>2</td>\n",
       "      <td>1</td>\n",
       "      <td>Development</td>\n",
       "      <td>Course</td>\n",
       "      <td>0</td>\n",
       "      <td>0</td>\n",
       "      <td>1</td>\n",
       "      <td>13650</td>\n",
       "      <td>0.007</td>\n",
       "      <td>79</td>\n",
       "      <td>1.0</td>\n",
       "    </tr>\n",
       "    <tr>\n",
       "      <th>2</th>\n",
       "      <td>3</td>\n",
       "      <td>3</td>\n",
       "      <td>1</td>\n",
       "      <td>Development</td>\n",
       "      <td>Course</td>\n",
       "      <td>0</td>\n",
       "      <td>0</td>\n",
       "      <td>1</td>\n",
       "      <td>11655</td>\n",
       "      <td>0.007</td>\n",
       "      <td>75</td>\n",
       "      <td>1.0</td>\n",
       "    </tr>\n",
       "    <tr>\n",
       "      <th>3</th>\n",
       "      <td>4</td>\n",
       "      <td>4</td>\n",
       "      <td>1</td>\n",
       "      <td>Development</td>\n",
       "      <td>Course</td>\n",
       "      <td>0</td>\n",
       "      <td>0</td>\n",
       "      <td>1</td>\n",
       "      <td>12054</td>\n",
       "      <td>0.007</td>\n",
       "      <td>80</td>\n",
       "      <td>1.0</td>\n",
       "    </tr>\n",
       "    <tr>\n",
       "      <th>4</th>\n",
       "      <td>5</td>\n",
       "      <td>5</td>\n",
       "      <td>1</td>\n",
       "      <td>Development</td>\n",
       "      <td>Course</td>\n",
       "      <td>0</td>\n",
       "      <td>0</td>\n",
       "      <td>1</td>\n",
       "      <td>6804</td>\n",
       "      <td>0.007</td>\n",
       "      <td>41</td>\n",
       "      <td>1.0</td>\n",
       "    </tr>\n",
       "    <tr>\n",
       "      <th>...</th>\n",
       "      <td>...</td>\n",
       "      <td>...</td>\n",
       "      <td>...</td>\n",
       "      <td>...</td>\n",
       "      <td>...</td>\n",
       "      <td>...</td>\n",
       "      <td>...</td>\n",
       "      <td>...</td>\n",
       "      <td>...</td>\n",
       "      <td>...</td>\n",
       "      <td>...</td>\n",
       "      <td>...</td>\n",
       "    </tr>\n",
       "    <tr>\n",
       "      <th>512082</th>\n",
       "      <td>548023</td>\n",
       "      <td>878</td>\n",
       "      <td>600</td>\n",
       "      <td>Software Marketing</td>\n",
       "      <td>Program</td>\n",
       "      <td>0</td>\n",
       "      <td>0</td>\n",
       "      <td>1</td>\n",
       "      <td>8904</td>\n",
       "      <td>0.070</td>\n",
       "      <td>114</td>\n",
       "      <td>126.0</td>\n",
       "    </tr>\n",
       "    <tr>\n",
       "      <th>512083</th>\n",
       "      <td>548024</td>\n",
       "      <td>879</td>\n",
       "      <td>600</td>\n",
       "      <td>Software Marketing</td>\n",
       "      <td>Program</td>\n",
       "      <td>0</td>\n",
       "      <td>0</td>\n",
       "      <td>1</td>\n",
       "      <td>10542</td>\n",
       "      <td>0.070</td>\n",
       "      <td>145</td>\n",
       "      <td>126.0</td>\n",
       "    </tr>\n",
       "    <tr>\n",
       "      <th>512084</th>\n",
       "      <td>548025</td>\n",
       "      <td>880</td>\n",
       "      <td>600</td>\n",
       "      <td>Software Marketing</td>\n",
       "      <td>Program</td>\n",
       "      <td>0</td>\n",
       "      <td>0</td>\n",
       "      <td>1</td>\n",
       "      <td>13671</td>\n",
       "      <td>0.070</td>\n",
       "      <td>167</td>\n",
       "      <td>126.0</td>\n",
       "    </tr>\n",
       "    <tr>\n",
       "      <th>512085</th>\n",
       "      <td>548026</td>\n",
       "      <td>881</td>\n",
       "      <td>600</td>\n",
       "      <td>Software Marketing</td>\n",
       "      <td>Program</td>\n",
       "      <td>0</td>\n",
       "      <td>0</td>\n",
       "      <td>1</td>\n",
       "      <td>8904</td>\n",
       "      <td>0.070</td>\n",
       "      <td>107</td>\n",
       "      <td>126.0</td>\n",
       "    </tr>\n",
       "    <tr>\n",
       "      <th>512086</th>\n",
       "      <td>548027</td>\n",
       "      <td>882</td>\n",
       "      <td>600</td>\n",
       "      <td>Software Marketing</td>\n",
       "      <td>Program</td>\n",
       "      <td>1</td>\n",
       "      <td>0</td>\n",
       "      <td>1</td>\n",
       "      <td>11445</td>\n",
       "      <td>0.070</td>\n",
       "      <td>152</td>\n",
       "      <td>126.0</td>\n",
       "    </tr>\n",
       "  </tbody>\n",
       "</table>\n",
       "<p>512087 rows × 12 columns</p>\n",
       "</div>"
      ],
      "text/plain": [
       "            ID  Day_No  Course_ID       Course_Domain Course_Type  \\\n",
       "0            1       1          1         Development      Course   \n",
       "1            2       2          1         Development      Course   \n",
       "2            3       3          1         Development      Course   \n",
       "3            4       4          1         Development      Course   \n",
       "4            5       5          1         Development      Course   \n",
       "...        ...     ...        ...                 ...         ...   \n",
       "512082  548023     878        600  Software Marketing     Program   \n",
       "512083  548024     879        600  Software Marketing     Program   \n",
       "512084  548025     880        600  Software Marketing     Program   \n",
       "512085  548026     881        600  Software Marketing     Program   \n",
       "512086  548027     882        600  Software Marketing     Program   \n",
       "\n",
       "        Short_Promotion  Public_Holiday  Long_Promotion  User_Traffic  \\\n",
       "0                     0               1               1         11004   \n",
       "1                     0               0               1         13650   \n",
       "2                     0               0               1         11655   \n",
       "3                     0               0               1         12054   \n",
       "4                     0               0               1          6804   \n",
       "...                 ...             ...             ...           ...   \n",
       "512082                0               0               1          8904   \n",
       "512083                0               0               1         10542   \n",
       "512084                0               0               1         13671   \n",
       "512085                0               0               1          8904   \n",
       "512086                1               0               1         11445   \n",
       "\n",
       "        Competition_Metric  Sales  Week_No  \n",
       "0                    0.007     81      1.0  \n",
       "1                    0.007     79      1.0  \n",
       "2                    0.007     75      1.0  \n",
       "3                    0.007     80      1.0  \n",
       "4                    0.007     41      1.0  \n",
       "...                    ...    ...      ...  \n",
       "512082               0.070    114    126.0  \n",
       "512083               0.070    145    126.0  \n",
       "512084               0.070    167    126.0  \n",
       "512085               0.070    107    126.0  \n",
       "512086               0.070    152    126.0  \n",
       "\n",
       "[512087 rows x 12 columns]"
      ]
     },
     "execution_count": 99,
     "metadata": {},
     "output_type": "execute_result"
    }
   ],
   "source": [
    "new_train[\"Week_No\"]=np.ceil(new_train[\"Day_No\"]/7)\n",
    "new_train"
   ]
  },
  {
   "cell_type": "code",
   "execution_count": 100,
   "metadata": {},
   "outputs": [
    {
     "data": {
      "text/plain": [
       "count    512087.000000\n",
       "mean         62.559565\n",
       "std          36.576473\n",
       "min           1.000000\n",
       "25%          31.000000\n",
       "50%          61.000000\n",
       "75%          94.000000\n",
       "max         126.000000\n",
       "Name: Week_No, dtype: float64"
      ]
     },
     "execution_count": 100,
     "metadata": {},
     "output_type": "execute_result"
    }
   ],
   "source": [
    "new_train[\"Week_No\"].describe()"
   ]
  },
  {
   "cell_type": "code",
   "execution_count": 101,
   "metadata": {},
   "outputs": [
    {
     "data": {
      "text/html": [
       "<div>\n",
       "<style scoped>\n",
       "    .dataframe tbody tr th:only-of-type {\n",
       "        vertical-align: middle;\n",
       "    }\n",
       "\n",
       "    .dataframe tbody tr th {\n",
       "        vertical-align: top;\n",
       "    }\n",
       "\n",
       "    .dataframe thead th {\n",
       "        text-align: right;\n",
       "    }\n",
       "</style>\n",
       "<table border=\"1\" class=\"dataframe\">\n",
       "  <thead>\n",
       "    <tr style=\"text-align: right;\">\n",
       "      <th></th>\n",
       "      <th>ID</th>\n",
       "      <th>Day_No</th>\n",
       "      <th>Course_ID</th>\n",
       "      <th>Course_Domain</th>\n",
       "      <th>Course_Type</th>\n",
       "      <th>Short_Promotion</th>\n",
       "      <th>Public_Holiday</th>\n",
       "      <th>Long_Promotion</th>\n",
       "      <th>User_Traffic</th>\n",
       "      <th>Competition_Metric</th>\n",
       "      <th>Sales</th>\n",
       "      <th>Week_No</th>\n",
       "      <th>Year_No</th>\n",
       "    </tr>\n",
       "  </thead>\n",
       "  <tbody>\n",
       "    <tr>\n",
       "      <th>0</th>\n",
       "      <td>1</td>\n",
       "      <td>1</td>\n",
       "      <td>1</td>\n",
       "      <td>Development</td>\n",
       "      <td>Course</td>\n",
       "      <td>0</td>\n",
       "      <td>1</td>\n",
       "      <td>1</td>\n",
       "      <td>11004</td>\n",
       "      <td>0.007</td>\n",
       "      <td>81</td>\n",
       "      <td>1.0</td>\n",
       "      <td>1.0</td>\n",
       "    </tr>\n",
       "    <tr>\n",
       "      <th>1</th>\n",
       "      <td>2</td>\n",
       "      <td>2</td>\n",
       "      <td>1</td>\n",
       "      <td>Development</td>\n",
       "      <td>Course</td>\n",
       "      <td>0</td>\n",
       "      <td>0</td>\n",
       "      <td>1</td>\n",
       "      <td>13650</td>\n",
       "      <td>0.007</td>\n",
       "      <td>79</td>\n",
       "      <td>1.0</td>\n",
       "      <td>1.0</td>\n",
       "    </tr>\n",
       "    <tr>\n",
       "      <th>2</th>\n",
       "      <td>3</td>\n",
       "      <td>3</td>\n",
       "      <td>1</td>\n",
       "      <td>Development</td>\n",
       "      <td>Course</td>\n",
       "      <td>0</td>\n",
       "      <td>0</td>\n",
       "      <td>1</td>\n",
       "      <td>11655</td>\n",
       "      <td>0.007</td>\n",
       "      <td>75</td>\n",
       "      <td>1.0</td>\n",
       "      <td>1.0</td>\n",
       "    </tr>\n",
       "    <tr>\n",
       "      <th>3</th>\n",
       "      <td>4</td>\n",
       "      <td>4</td>\n",
       "      <td>1</td>\n",
       "      <td>Development</td>\n",
       "      <td>Course</td>\n",
       "      <td>0</td>\n",
       "      <td>0</td>\n",
       "      <td>1</td>\n",
       "      <td>12054</td>\n",
       "      <td>0.007</td>\n",
       "      <td>80</td>\n",
       "      <td>1.0</td>\n",
       "      <td>1.0</td>\n",
       "    </tr>\n",
       "    <tr>\n",
       "      <th>4</th>\n",
       "      <td>5</td>\n",
       "      <td>5</td>\n",
       "      <td>1</td>\n",
       "      <td>Development</td>\n",
       "      <td>Course</td>\n",
       "      <td>0</td>\n",
       "      <td>0</td>\n",
       "      <td>1</td>\n",
       "      <td>6804</td>\n",
       "      <td>0.007</td>\n",
       "      <td>41</td>\n",
       "      <td>1.0</td>\n",
       "      <td>1.0</td>\n",
       "    </tr>\n",
       "    <tr>\n",
       "      <th>...</th>\n",
       "      <td>...</td>\n",
       "      <td>...</td>\n",
       "      <td>...</td>\n",
       "      <td>...</td>\n",
       "      <td>...</td>\n",
       "      <td>...</td>\n",
       "      <td>...</td>\n",
       "      <td>...</td>\n",
       "      <td>...</td>\n",
       "      <td>...</td>\n",
       "      <td>...</td>\n",
       "      <td>...</td>\n",
       "      <td>...</td>\n",
       "    </tr>\n",
       "    <tr>\n",
       "      <th>512082</th>\n",
       "      <td>548023</td>\n",
       "      <td>878</td>\n",
       "      <td>600</td>\n",
       "      <td>Software Marketing</td>\n",
       "      <td>Program</td>\n",
       "      <td>0</td>\n",
       "      <td>0</td>\n",
       "      <td>1</td>\n",
       "      <td>8904</td>\n",
       "      <td>0.070</td>\n",
       "      <td>114</td>\n",
       "      <td>22.0</td>\n",
       "      <td>3.0</td>\n",
       "    </tr>\n",
       "    <tr>\n",
       "      <th>512083</th>\n",
       "      <td>548024</td>\n",
       "      <td>879</td>\n",
       "      <td>600</td>\n",
       "      <td>Software Marketing</td>\n",
       "      <td>Program</td>\n",
       "      <td>0</td>\n",
       "      <td>0</td>\n",
       "      <td>1</td>\n",
       "      <td>10542</td>\n",
       "      <td>0.070</td>\n",
       "      <td>145</td>\n",
       "      <td>22.0</td>\n",
       "      <td>3.0</td>\n",
       "    </tr>\n",
       "    <tr>\n",
       "      <th>512084</th>\n",
       "      <td>548025</td>\n",
       "      <td>880</td>\n",
       "      <td>600</td>\n",
       "      <td>Software Marketing</td>\n",
       "      <td>Program</td>\n",
       "      <td>0</td>\n",
       "      <td>0</td>\n",
       "      <td>1</td>\n",
       "      <td>13671</td>\n",
       "      <td>0.070</td>\n",
       "      <td>167</td>\n",
       "      <td>22.0</td>\n",
       "      <td>3.0</td>\n",
       "    </tr>\n",
       "    <tr>\n",
       "      <th>512085</th>\n",
       "      <td>548026</td>\n",
       "      <td>881</td>\n",
       "      <td>600</td>\n",
       "      <td>Software Marketing</td>\n",
       "      <td>Program</td>\n",
       "      <td>0</td>\n",
       "      <td>0</td>\n",
       "      <td>1</td>\n",
       "      <td>8904</td>\n",
       "      <td>0.070</td>\n",
       "      <td>107</td>\n",
       "      <td>22.0</td>\n",
       "      <td>3.0</td>\n",
       "    </tr>\n",
       "    <tr>\n",
       "      <th>512086</th>\n",
       "      <td>548027</td>\n",
       "      <td>882</td>\n",
       "      <td>600</td>\n",
       "      <td>Software Marketing</td>\n",
       "      <td>Program</td>\n",
       "      <td>1</td>\n",
       "      <td>0</td>\n",
       "      <td>1</td>\n",
       "      <td>11445</td>\n",
       "      <td>0.070</td>\n",
       "      <td>152</td>\n",
       "      <td>22.0</td>\n",
       "      <td>3.0</td>\n",
       "    </tr>\n",
       "  </tbody>\n",
       "</table>\n",
       "<p>512087 rows × 13 columns</p>\n",
       "</div>"
      ],
      "text/plain": [
       "            ID  Day_No  Course_ID       Course_Domain Course_Type  \\\n",
       "0            1       1          1         Development      Course   \n",
       "1            2       2          1         Development      Course   \n",
       "2            3       3          1         Development      Course   \n",
       "3            4       4          1         Development      Course   \n",
       "4            5       5          1         Development      Course   \n",
       "...        ...     ...        ...                 ...         ...   \n",
       "512082  548023     878        600  Software Marketing     Program   \n",
       "512083  548024     879        600  Software Marketing     Program   \n",
       "512084  548025     880        600  Software Marketing     Program   \n",
       "512085  548026     881        600  Software Marketing     Program   \n",
       "512086  548027     882        600  Software Marketing     Program   \n",
       "\n",
       "        Short_Promotion  Public_Holiday  Long_Promotion  User_Traffic  \\\n",
       "0                     0               1               1         11004   \n",
       "1                     0               0               1         13650   \n",
       "2                     0               0               1         11655   \n",
       "3                     0               0               1         12054   \n",
       "4                     0               0               1          6804   \n",
       "...                 ...             ...             ...           ...   \n",
       "512082                0               0               1          8904   \n",
       "512083                0               0               1         10542   \n",
       "512084                0               0               1         13671   \n",
       "512085                0               0               1          8904   \n",
       "512086                1               0               1         11445   \n",
       "\n",
       "        Competition_Metric  Sales  Week_No  Year_No  \n",
       "0                    0.007     81      1.0      1.0  \n",
       "1                    0.007     79      1.0      1.0  \n",
       "2                    0.007     75      1.0      1.0  \n",
       "3                    0.007     80      1.0      1.0  \n",
       "4                    0.007     41      1.0      1.0  \n",
       "...                    ...    ...      ...      ...  \n",
       "512082               0.070    114     22.0      3.0  \n",
       "512083               0.070    145     22.0      3.0  \n",
       "512084               0.070    167     22.0      3.0  \n",
       "512085               0.070    107     22.0      3.0  \n",
       "512086               0.070    152     22.0      3.0  \n",
       "\n",
       "[512087 rows x 13 columns]"
      ]
     },
     "execution_count": 101,
     "metadata": {},
     "output_type": "execute_result"
    }
   ],
   "source": [
    "new_train[\"Year_No\"]=np.ceil(new_train[\"Week_No\"]/52)\n",
    "new_train[\"Week_No\"]=new_train[\"Week_No\"]%52\n",
    "new_train"
   ]
  },
  {
   "cell_type": "code",
   "execution_count": 102,
   "metadata": {},
   "outputs": [
    {
     "data": {
      "text/html": [
       "<div>\n",
       "<style scoped>\n",
       "    .dataframe tbody tr th:only-of-type {\n",
       "        vertical-align: middle;\n",
       "    }\n",
       "\n",
       "    .dataframe tbody tr th {\n",
       "        vertical-align: top;\n",
       "    }\n",
       "\n",
       "    .dataframe thead th {\n",
       "        text-align: right;\n",
       "    }\n",
       "</style>\n",
       "<table border=\"1\" class=\"dataframe\">\n",
       "  <thead>\n",
       "    <tr style=\"text-align: right;\">\n",
       "      <th></th>\n",
       "      <th>ID</th>\n",
       "      <th>Day_No</th>\n",
       "      <th>Course_ID</th>\n",
       "      <th>Course_Domain</th>\n",
       "      <th>Course_Type</th>\n",
       "      <th>Short_Promotion</th>\n",
       "      <th>Public_Holiday</th>\n",
       "      <th>Long_Promotion</th>\n",
       "      <th>User_Traffic</th>\n",
       "      <th>Competition_Metric</th>\n",
       "      <th>Sales</th>\n",
       "      <th>Week_No</th>\n",
       "      <th>Year_No</th>\n",
       "    </tr>\n",
       "  </thead>\n",
       "  <tbody>\n",
       "    <tr>\n",
       "      <th>0</th>\n",
       "      <td>1</td>\n",
       "      <td>1</td>\n",
       "      <td>1</td>\n",
       "      <td>Development</td>\n",
       "      <td>Course</td>\n",
       "      <td>0</td>\n",
       "      <td>1</td>\n",
       "      <td>1</td>\n",
       "      <td>11004</td>\n",
       "      <td>0.007</td>\n",
       "      <td>81</td>\n",
       "      <td>1.0</td>\n",
       "      <td>1.0</td>\n",
       "    </tr>\n",
       "    <tr>\n",
       "      <th>1</th>\n",
       "      <td>2</td>\n",
       "      <td>2</td>\n",
       "      <td>1</td>\n",
       "      <td>Development</td>\n",
       "      <td>Course</td>\n",
       "      <td>0</td>\n",
       "      <td>0</td>\n",
       "      <td>1</td>\n",
       "      <td>13650</td>\n",
       "      <td>0.007</td>\n",
       "      <td>79</td>\n",
       "      <td>1.0</td>\n",
       "      <td>1.0</td>\n",
       "    </tr>\n",
       "    <tr>\n",
       "      <th>2</th>\n",
       "      <td>3</td>\n",
       "      <td>3</td>\n",
       "      <td>1</td>\n",
       "      <td>Development</td>\n",
       "      <td>Course</td>\n",
       "      <td>0</td>\n",
       "      <td>0</td>\n",
       "      <td>1</td>\n",
       "      <td>11655</td>\n",
       "      <td>0.007</td>\n",
       "      <td>75</td>\n",
       "      <td>1.0</td>\n",
       "      <td>1.0</td>\n",
       "    </tr>\n",
       "    <tr>\n",
       "      <th>3</th>\n",
       "      <td>4</td>\n",
       "      <td>4</td>\n",
       "      <td>1</td>\n",
       "      <td>Development</td>\n",
       "      <td>Course</td>\n",
       "      <td>0</td>\n",
       "      <td>0</td>\n",
       "      <td>1</td>\n",
       "      <td>12054</td>\n",
       "      <td>0.007</td>\n",
       "      <td>80</td>\n",
       "      <td>1.0</td>\n",
       "      <td>1.0</td>\n",
       "    </tr>\n",
       "    <tr>\n",
       "      <th>4</th>\n",
       "      <td>5</td>\n",
       "      <td>5</td>\n",
       "      <td>1</td>\n",
       "      <td>Development</td>\n",
       "      <td>Course</td>\n",
       "      <td>0</td>\n",
       "      <td>0</td>\n",
       "      <td>1</td>\n",
       "      <td>6804</td>\n",
       "      <td>0.007</td>\n",
       "      <td>41</td>\n",
       "      <td>1.0</td>\n",
       "      <td>1.0</td>\n",
       "    </tr>\n",
       "    <tr>\n",
       "      <th>...</th>\n",
       "      <td>...</td>\n",
       "      <td>...</td>\n",
       "      <td>...</td>\n",
       "      <td>...</td>\n",
       "      <td>...</td>\n",
       "      <td>...</td>\n",
       "      <td>...</td>\n",
       "      <td>...</td>\n",
       "      <td>...</td>\n",
       "      <td>...</td>\n",
       "      <td>...</td>\n",
       "      <td>...</td>\n",
       "      <td>...</td>\n",
       "    </tr>\n",
       "    <tr>\n",
       "      <th>512082</th>\n",
       "      <td>548023</td>\n",
       "      <td>878</td>\n",
       "      <td>600</td>\n",
       "      <td>Software Marketing</td>\n",
       "      <td>Program</td>\n",
       "      <td>0</td>\n",
       "      <td>0</td>\n",
       "      <td>1</td>\n",
       "      <td>8904</td>\n",
       "      <td>0.070</td>\n",
       "      <td>114</td>\n",
       "      <td>22.0</td>\n",
       "      <td>3.0</td>\n",
       "    </tr>\n",
       "    <tr>\n",
       "      <th>512083</th>\n",
       "      <td>548024</td>\n",
       "      <td>879</td>\n",
       "      <td>600</td>\n",
       "      <td>Software Marketing</td>\n",
       "      <td>Program</td>\n",
       "      <td>0</td>\n",
       "      <td>0</td>\n",
       "      <td>1</td>\n",
       "      <td>10542</td>\n",
       "      <td>0.070</td>\n",
       "      <td>145</td>\n",
       "      <td>22.0</td>\n",
       "      <td>3.0</td>\n",
       "    </tr>\n",
       "    <tr>\n",
       "      <th>512084</th>\n",
       "      <td>548025</td>\n",
       "      <td>880</td>\n",
       "      <td>600</td>\n",
       "      <td>Software Marketing</td>\n",
       "      <td>Program</td>\n",
       "      <td>0</td>\n",
       "      <td>0</td>\n",
       "      <td>1</td>\n",
       "      <td>13671</td>\n",
       "      <td>0.070</td>\n",
       "      <td>167</td>\n",
       "      <td>22.0</td>\n",
       "      <td>3.0</td>\n",
       "    </tr>\n",
       "    <tr>\n",
       "      <th>512085</th>\n",
       "      <td>548026</td>\n",
       "      <td>881</td>\n",
       "      <td>600</td>\n",
       "      <td>Software Marketing</td>\n",
       "      <td>Program</td>\n",
       "      <td>0</td>\n",
       "      <td>0</td>\n",
       "      <td>1</td>\n",
       "      <td>8904</td>\n",
       "      <td>0.070</td>\n",
       "      <td>107</td>\n",
       "      <td>22.0</td>\n",
       "      <td>3.0</td>\n",
       "    </tr>\n",
       "    <tr>\n",
       "      <th>512086</th>\n",
       "      <td>548027</td>\n",
       "      <td>882</td>\n",
       "      <td>600</td>\n",
       "      <td>Software Marketing</td>\n",
       "      <td>Program</td>\n",
       "      <td>1</td>\n",
       "      <td>0</td>\n",
       "      <td>1</td>\n",
       "      <td>11445</td>\n",
       "      <td>0.070</td>\n",
       "      <td>152</td>\n",
       "      <td>22.0</td>\n",
       "      <td>3.0</td>\n",
       "    </tr>\n",
       "  </tbody>\n",
       "</table>\n",
       "<p>512087 rows × 13 columns</p>\n",
       "</div>"
      ],
      "text/plain": [
       "            ID  Day_No  Course_ID       Course_Domain Course_Type  \\\n",
       "0            1       1          1         Development      Course   \n",
       "1            2       2          1         Development      Course   \n",
       "2            3       3          1         Development      Course   \n",
       "3            4       4          1         Development      Course   \n",
       "4            5       5          1         Development      Course   \n",
       "...        ...     ...        ...                 ...         ...   \n",
       "512082  548023     878        600  Software Marketing     Program   \n",
       "512083  548024     879        600  Software Marketing     Program   \n",
       "512084  548025     880        600  Software Marketing     Program   \n",
       "512085  548026     881        600  Software Marketing     Program   \n",
       "512086  548027     882        600  Software Marketing     Program   \n",
       "\n",
       "        Short_Promotion  Public_Holiday  Long_Promotion  User_Traffic  \\\n",
       "0                     0               1               1         11004   \n",
       "1                     0               0               1         13650   \n",
       "2                     0               0               1         11655   \n",
       "3                     0               0               1         12054   \n",
       "4                     0               0               1          6804   \n",
       "...                 ...             ...             ...           ...   \n",
       "512082                0               0               1          8904   \n",
       "512083                0               0               1         10542   \n",
       "512084                0               0               1         13671   \n",
       "512085                0               0               1          8904   \n",
       "512086                1               0               1         11445   \n",
       "\n",
       "        Competition_Metric  Sales  Week_No  Year_No  \n",
       "0                    0.007     81      1.0      1.0  \n",
       "1                    0.007     79      1.0      1.0  \n",
       "2                    0.007     75      1.0      1.0  \n",
       "3                    0.007     80      1.0      1.0  \n",
       "4                    0.007     41      1.0      1.0  \n",
       "...                    ...    ...      ...      ...  \n",
       "512082               0.070    114     22.0      3.0  \n",
       "512083               0.070    145     22.0      3.0  \n",
       "512084               0.070    167     22.0      3.0  \n",
       "512085               0.070    107     22.0      3.0  \n",
       "512086               0.070    152     22.0      3.0  \n",
       "\n",
       "[512087 rows x 13 columns]"
      ]
     },
     "execution_count": 102,
     "metadata": {},
     "output_type": "execute_result"
    }
   ],
   "source": [
    "new_train"
   ]
  },
  {
   "cell_type": "code",
   "execution_count": 103,
   "metadata": {},
   "outputs": [
    {
     "data": {
      "image/png": "[encoded data removed]",
      "text/plain": [
       "<Figure size 1008x504 with 1 Axes>"
      ]
     },
     "metadata": {
      "needs_background": "light"
     },
     "output_type": "display_data"
    }
   ],
   "source": [
    "new_train.groupby([\"Year_No\",\"Week_No\"])[\"Sales\"].mean().to_frame().plot(kind='line',figsize=(14,7))\n",
    "plt.show()"
   ]
  },
  {
   "cell_type": "code",
   "execution_count": null,
   "metadata": {},
   "outputs": [],
   "source": []
  }
 ],
 "metadata": {
  "kernelspec": {
   "display_name": "Python 3",
   "language": "python",
   "name": "python3"
  },
  "language_info": {
   "codemirror_mode": {
    "name": "ipython",
    "version": 3
   },
   "file_extension": ".py",
   "mimetype": "text/x-python",
   "name": "python",
   "nbconvert_exporter": "python",
   "pygments_lexer": "ipython3",
   "version": "3.7.6"
  }
 },
 "nbformat": 4,
 "nbformat_minor": 4
}
